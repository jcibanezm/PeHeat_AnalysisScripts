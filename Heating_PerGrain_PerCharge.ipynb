{
 "cells": [
  {
   "cell_type": "code",
   "execution_count": 1,
   "metadata": {
    "collapsed": false
   },
   "outputs": [
    {
     "name": "stdout",
     "output_type": "stream",
     "text": [
      "Loading the library to compute the charge distribution of dust grains.\n"
     ]
    },
    {
     "ename": "ImportError",
     "evalue": "No module named PeHeat_functions",
     "output_type": "error",
     "traceback": [
      "\u001b[0;31m---------------------------------------------------------------------------\u001b[0m",
      "\u001b[0;31mImportError\u001b[0m                               Traceback (most recent call last)",
      "\u001b[0;32m<ipython-input-1-0421231fbed9>\u001b[0m in \u001b[0;36m<module>\u001b[0;34m()\u001b[0m\n\u001b[1;32m      4\u001b[0m \u001b[0;32mimport\u001b[0m \u001b[0mscipy\u001b[0m\u001b[0;34m.\u001b[0m\u001b[0mintegrate\u001b[0m \u001b[0;32mas\u001b[0m \u001b[0mintegrate\u001b[0m\u001b[0;34m\u001b[0m\u001b[0m\n\u001b[1;32m      5\u001b[0m \u001b[0;34m\u001b[0m\u001b[0m\n\u001b[0;32m----> 6\u001b[0;31m \u001b[0;32mimport\u001b[0m \u001b[0mPeHeat_functions\u001b[0m \u001b[0;32mas\u001b[0m \u001b[0mPeH\u001b[0m\u001b[0;34m\u001b[0m\u001b[0m\n\u001b[0m\u001b[1;32m      7\u001b[0m \u001b[0;34m\u001b[0m\u001b[0m\n\u001b[1;32m      8\u001b[0m \u001b[0mget_ipython\u001b[0m\u001b[0;34m(\u001b[0m\u001b[0;34m)\u001b[0m\u001b[0;34m.\u001b[0m\u001b[0mmagic\u001b[0m\u001b[0;34m(\u001b[0m\u001b[0;34mu'matplotlib inline'\u001b[0m\u001b[0;34m)\u001b[0m\u001b[0;34m\u001b[0m\u001b[0m\n",
      "\u001b[0;31mImportError\u001b[0m: No module named PeHeat_functions"
     ]
    }
   ],
   "source": [
    "import compute_charge_dist as fz\n",
    "import numpy as np\n",
    "import matplotlib.pyplot as plt\n",
    "import scipy.integrate as integrate\n",
    "\n",
    "import PeHeat_functions as PeH\n",
    "\n",
    "%matplotlib inline\n",
    "\n",
    "microntocm    = 1.0e-4\n",
    "cmtomicron    = 1.0e4\n",
    "AAtocm        = 1.0e-8\n",
    "cmtoAA        = 1.0e8\n",
    "microntoAA    = 1.0e4\n",
    "AAtomicron    = 1.0e-4\n",
    "ergtoeV       = 6.242e11\n",
    "eVtoerg       = 1.602e-12\n",
    "\n",
    "hplanck       = 4.135667662e-15 # eV s\n",
    "clight        = 2.99792458e10   # cm s-1"
   ]
  },
  {
   "cell_type": "code",
   "execution_count": 45,
   "metadata": {
    "collapsed": true
   },
   "outputs": [],
   "source": [
    "asize = 10.\n",
    "Zhere = 0.\n",
    "grain_type=\"silicate\"\n",
    "Ntot = 0.0"
   ]
  },
  {
   "cell_type": "code",
   "execution_count": 46,
   "metadata": {
    "collapsed": true
   },
   "outputs": [],
   "source": [
    "Qabs = fz.get_QabsTable(grain_type, asize)"
   ]
  },
  {
   "cell_type": "code",
   "execution_count": 47,
   "metadata": {
    "collapsed": false
   },
   "outputs": [],
   "source": [
    "Gh = PeH.get_Gamma_pe_dotdot(asize, Zhere, grain_type, Ntot, Qabs, G0=1.7)"
   ]
  },
  {
   "cell_type": "code",
   "execution_count": 48,
   "metadata": {
    "collapsed": false
   },
   "outputs": [
    {
     "name": "stdout",
     "output_type": "stream",
     "text": [
      "9.23952820825e-20\n"
     ]
    }
   ],
   "source": [
    "print(Gh)"
   ]
  },
  {
   "cell_type": "markdown",
   "metadata": {},
   "source": [
    "Now that I have the heating rate for a given grain at a given charge. Now I can compute the heating rate for a range of charges (take them from the charge distribution).\n",
    "\n",
    "Once I have the array for heating rates, we sum over the grain charges times the probability distribution.\n",
    "\n"
   ]
  },
  {
   "cell_type": "markdown",
   "metadata": {},
   "source": [
    "Once I have the heating rate for a given grain size, I should integrate over the grain size distribution to get the photoelectric heating at a given cell?"
   ]
  },
  {
   "cell_type": "code",
   "execution_count": 49,
   "metadata": {
    "collapsed": true
   },
   "outputs": [],
   "source": [
    "# Compute the contribution from the photoemission of valence electrons"
   ]
  },
  {
   "cell_type": "markdown",
   "metadata": {},
   "source": [
    "# Panel Figure 1\n",
    "\n",
    "photoelectric heating rate as a function of the grain charge and the incident radiation field for various sizes."
   ]
  },
  {
   "cell_type": "code",
   "execution_count": 69,
   "metadata": {
    "collapsed": true
   },
   "outputs": [],
   "source": [
    "asize = 5.\n",
    "Zhere = 0.\n",
    "Ntot = 0.0"
   ]
  },
  {
   "cell_type": "code",
   "execution_count": 70,
   "metadata": {
    "collapsed": false
   },
   "outputs": [
    {
     "name": "stdout",
     "output_type": "stream",
     "text": [
      "I'm looking for a grain size smaller than 10 Angstrom. Outside the tabulated data!!!\n",
      "Using the absorption efficiency for a 10 AA grain\n"
     ]
    }
   ],
   "source": [
    "grain_type=\"silicate\"\n",
    "Qabs = fz.get_QabsTable(grain_type, asize)\n",
    "\n",
    "Zmin_sil, Zmax_sil = fz.get_Zmin(asize, grain_type), fz.get_Zmax(asize, grain_type)\n",
    "Znum_sil = int(Zmax_sil + abs(Zmin_sil) +1)\n",
    "ZZ_sil = np.linspace(Zmin_sil, Zmax_sil, num=Znum_sil)\n",
    "\n",
    "Gamma_dotdot_Z_sil = np.zeros_like(ZZ_sil)\n",
    "\n",
    "for i in range(Znum_sil):\n",
    "    Gamma_dotdot_Z_sil[i] = get_Gamma_pe_dotdot(asize, ZZ_sil[i], grain_type, Ntot, Qabs, G0=1.7)\n",
    "    \n",
    "ZZ_sil = np.concatenate(([Zmin_sil-1], ZZ_sil))\n",
    "Gamma_dotdot_Z_sil = np.concatenate(([Gamma_dotdot_Z_sil[0]], Gamma_dotdot_Z_sil))"
   ]
  },
  {
   "cell_type": "code",
   "execution_count": 71,
   "metadata": {
    "collapsed": false
   },
   "outputs": [
    {
     "name": "stdout",
     "output_type": "stream",
     "text": [
      "I'm looking for a grain size smaller than 10 Angstrom. Outside the tabulated data!!!\n",
      "Using the absorption efficiency for a 10 AA grain\n"
     ]
    }
   ],
   "source": [
    "grain_type=\"carbonaceous\"\n",
    "Qabs = fz.get_QabsTable(grain_type, asize)\n",
    "\n",
    "Zmin_carb, Zmax_carb = fz.get_Zmin(asize, grain_type), fz.get_Zmax(asize, grain_type)\n",
    "Znum_carb = int(Zmax_carb + abs(Zmin_carb) +1)\n",
    "ZZ_carb = np.linspace(Zmin_carb, Zmax_carb, num=Znum_carb)\n",
    "\n",
    "Gamma_dotdot_Z_carb = np.zeros_like(ZZ_carb)\n",
    "\n",
    "for i in range(Znum_carb):\n",
    "    Gamma_dotdot_Z_carb[i] = get_Gamma_pe_dotdot(asize, ZZ_carb[i], grain_type, Ntot, Qabs, G0=1.7)\n",
    "    \n",
    "ZZ_carb = np.concatenate(([Zmin_carb-1], ZZ_carb))\n",
    "Gamma_dotdot_Z_carb = np.concatenate(([Gamma_dotdot_Z_carb[0]], Gamma_dotdot_Z_carb))"
   ]
  },
  {
   "cell_type": "code",
   "execution_count": 76,
   "metadata": {
    "collapsed": false
   },
   "outputs": [
    {
     "data": {
      "image/png": "[encoded data removed]",
      "text/plain": [
       "<matplotlib.figure.Figure at 0x7f3646323210>"
      ]
     },
     "metadata": {},
     "output_type": "display_data"
    }
   ],
   "source": [
    "fig = plt.figure(figsize=(10,6))\n",
    "ax = fig.add_subplot(111)\n",
    "\n",
    "ax.plot(ZZ_sil+0.5, Gamma_dotdot_Z_sil*1.0e21, \"-r\", linewidth=2, linestyle=\"steps\", label=\"silicate\")\n",
    "ax.plot(ZZ_carb+0.5, Gamma_dotdot_Z_carb*1.0e21, \"-k\", linewidth=2, linestyle=\"steps\", label=\"carbonaceous\")\n",
    "\n",
    "ax.plot([Zmin_sil, Zmin_sil], [2.0e-3, 400], \"--r\", linewidth=0.5)\n",
    "ax.plot([Zmax_sil, Zmax_sil], [2.0e-3, 400], \"--r\", linewidth=0.5)\n",
    "\n",
    "ax.plot([Zmin_carb, Zmin_carb], [2.0e-3, 400], \"--k\", linewidth=0.5)\n",
    "ax.plot([Zmax_carb, Zmax_carb], [2.0e-3, 400], \"--k\", linewidth=0.5)\n",
    "\n",
    "\n",
    "ax.set_yscale(\"log\")\n",
    "\n",
    "ax.set_xlabel(\"Z\", fontsize=20)\n",
    "ax.set_ylabel(\"10$^{21} \\\\times$ $\\Gamma^{''}_{pe}(a, Z, G)$ [ergs]\", fontsize=18)\n",
    "\n",
    "ax.set_xlim(min(Zmin_sil, Zmin_carb)-1, max(Zmax_sil, Zmax_carb)+1)\n",
    "\n",
    "ax.set_ylim(2.0e-3, 200)\n",
    "\n",
    "#ax.text(3, 100, \"100 $\\\\AA$\", fontsize=18)\n",
    "\n",
    "ax.legend(loc=1, fontsize=18)\n",
    "\n",
    "ax.tick_params(axis='both', which='major', length=10, width=2,  labelsize=15, direction=\"in\")\n",
    "ax.tick_params(axis='both', which='minor', length=5, width=1.5, labelsize=15, direction=\"in\")\n",
    "\n",
    "ax.set_title(\"Heating Rate vs grain charge, a=%i $\\AA$, G=1.7G$_{0}$\"%asize, fontsize=18)\n",
    "\n",
    "fig.show()"
   ]
  },
  {
   "cell_type": "markdown",
   "metadata": {},
   "source": [
    "##### Make the new plot for a different size."
   ]
  },
  {
   "cell_type": "code",
   "execution_count": 74,
   "metadata": {
    "collapsed": false
   },
   "outputs": [
    {
     "data": {
      "image/png": "[encoded data removed]",
      "text/plain": [
       "<matplotlib.figure.Figure at 0x7f3646146290>"
      ]
     },
     "metadata": {},
     "output_type": "display_data"
    }
   ],
   "source": [
    "fig = plt.figure(figsize=(10,6))\n",
    "ax = fig.add_subplot(111)\n",
    "\n",
    "ax.plot(ZZ_sil+0.5, Gamma_dotdot_Z_sil*1.0e21, \"-r\", linewidth=2, linestyle=\"steps\", label=\"silicate\")\n",
    "ax.plot(ZZ_carb+0.5, Gamma_dotdot_Z_carb*1.0e21, \"-k\", linewidth=2, linestyle=\"steps\", label=\"carbonaceous\")\n",
    "\n",
    "ax.plot([Zmin_sil, Zmin_sil], [2.0e-1, 400], \"--r\", linewidth=0.5)\n",
    "ax.plot([Zmax_sil, Zmax_sil], [2.0e-1, 400], \"--r\", linewidth=0.5)\n",
    "\n",
    "ax.plot([Zmin_carb, Zmin_carb], [2.0e-1, 400], \"--k\", linewidth=0.5)\n",
    "ax.plot([Zmax_carb, Zmax_carb], [2.0e-1, 400], \"--k\", linewidth=0.5)\n",
    "\n",
    "\n",
    "ax.set_yscale(\"log\")\n",
    "\n",
    "ax.set_xlabel(\"Z\", fontsize=20)\n",
    "ax.set_ylabel(\"10$^{21} \\\\times$ $\\Gamma^{''}_{pe}(a, Z, G)$ [ergs]\", fontsize=18)\n",
    "\n",
    "ax.set_xlim(min(Zmin_sil, Zmin_carb)-1, max(Zmax_sil, Zmax_carb)+1)\n",
    "\n",
    "ax.set_ylim(1.0e-3, 1.0e2)\n",
    "\n",
    "#ax.text(3, 100, \"100 $\\\\AA$\", fontsize=18)\n",
    "\n",
    "#ax.legend(loc=0, fontsize=18)\n",
    "\n",
    "ax.tick_params(axis='both', which='major', length=10, width=2,  labelsize=15, direction=\"in\")\n",
    "ax.tick_params(axis='both', which='minor', length=5, width=1.5, labelsize=15, direction=\"in\")\n",
    "\n",
    "ax.set_title(\"Heating Rate vs grain charge, a=%i $\\AA$, G=1.7G$_{0}$\"%asize, fontsize=18)\n",
    "\n",
    "fig.show()"
   ]
  }
 ],
 "metadata": {
  "anaconda-cloud": {},
  "kernelspec": {
   "display_name": "Python [default]",
   "language": "python",
   "name": "python2"
  },
  "language_info": {
   "codemirror_mode": {
    "name": "ipython",
    "version": 2
   },
   "file_extension": ".py",
   "mimetype": "text/x-python",
   "name": "python",
   "nbconvert_exporter": "python",
   "pygments_lexer": "ipython2",
   "version": "2.7.13"
  }
 },
 "nbformat": 4,
 "nbformat_minor": 2
}
