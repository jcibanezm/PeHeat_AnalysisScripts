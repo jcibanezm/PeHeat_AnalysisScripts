{
 "cells": [
  {
   "cell_type": "code",
   "execution_count": 7,
   "metadata": {
    "collapsed": false
   },
   "outputs": [],
   "source": [
    "import numpy as np\n",
    "import matplotlib.pyplot as plt\n",
    "from scipy.special import erf\n",
    "\n",
    "%matplotlib inline\n",
    "\n",
    "microntoAA = 1.0e4\n",
    "AAtomicron = 1.0e-4\n",
    "AAtocm     = 1.0e-8\n",
    "cmtoAA     = 1.0e8\n",
    "\n",
    "#%load_ext fortranmagic  # activating magic"
   ]
  },
  {
   "cell_type": "code",
   "execution_count": null,
   "metadata": {
    "collapsed": true
   },
   "outputs": [],
   "source": [
    "# WD01 parameters:\n",
    "\n",
    "# power              alpha_g, alpha_s\n",
    "# curvature          beta_g, beta_s\n",
    "# transition size    a_t_g, a_t_s\n",
    "# upper cutoff       a_c_g, a_c_s\n",
    "# total volume per H Vtot_g, Vtot_s\n",
    "\n",
    "# Case A, they minimize chi^2 error.\n",
    "\n",
    "# I'll use Case A, Rv=3.1, and bC = 6.e-5"
   ]
  },
  {
   "cell_type": "code",
   "execution_count": 32,
   "metadata": {
    "collapsed": true
   },
   "outputs": [],
   "source": [
    "def Da(asize, bc):\n",
    "    \"\"\"\n",
    "    Equations 2 and 3 from Weingartner and Draine 2001, 548 : 296-309\n",
    "    \n",
    "    Return:\n",
    "        D(a) in units 1 / Angstrom.\n",
    "    \n",
    "    ...\n",
    "    \"\"\"\n",
    "    from scipy.special import erf\n",
    "\n",
    "    rho = 2.24 * (AAtocm)**3  # g cm-3 Density of graphite\n",
    "    mc  = 2.00844e-23         # g      Mass of a carbon atom = 12.*mH\n",
    "\n",
    "    sigma = 0.4\n",
    "\n",
    "    a0i = np.array([3.5, 30.])\n",
    "    bci = np.array([0.75*bc, 0.25*bc]) # is the total C abundance (per H nucleus) in the log-normal populations.\n",
    "    \n",
    "    B0 = 3./(2.*np.pi)**(1.5)*np.exp(-4.5*sigma**2) / (rho * a0i[0]**3 * sigma) * bci[0]*mc \\\n",
    "        / (1. + erf(3.*sigma/np.sqrt(2.) + np.log(a0i[0]/3.5)/sigma*np.sqrt(2)))\n",
    "\n",
    "    B1 = 3./(2.*np.pi)**(1.5)*np.exp(-4.5*sigma**2) / (rho * a0i[1]**3 * sigma) * bci[1]*mc \\\n",
    "        / (1. + erf(3.*sigma/np.sqrt(2.) + np.log(a0i[1]/3.5)/sigma*np.sqrt(2)))\n",
    "\n",
    "    Da = B0 / asize * np.exp(-0.5*(np.log(asize/a0i[0])/sigma)**2) + B1 / asize * np.exp(-0.5*(np.log(asize/a0i[1])/sigma)**2)\n",
    "    #Da = np.sum(Da)\n",
    "    return Da\n",
    "\n",
    "def FF(asize, beta, a_t):\n",
    "    \"\"\"\n",
    "    Equation 6 from Weingartner and Draine 2001, 548 : 296-309\n",
    "    ...\n",
    "    \"\"\"\n",
    "    if beta >= 0:\n",
    "        Fhere = 1.0 + beta*asize/a_t \n",
    "    else:\n",
    "        Fhere = 1./(1.0 - beta*asize/a_t)\n",
    "    return Fhere\n",
    "\n",
    "def exp_cutoff(asize, a_t, a_c):\n",
    "    \"\"\"\n",
    "    Exponential cutoff of the size distribution.\n",
    "    Last term in equations 4 and 5 Weingartner and Draine 2001, 548.\n",
    "    \"\"\"\n",
    "   \n",
    "    if asize < a_t:\n",
    "        ec = 1.0 \n",
    "    else:\n",
    "        ec = np.exp(-((asize-a_t)/a_c)**3)\n",
    "    return ec  \n",
    "\n",
    "def exp_cutoff_arr(asize, a_t, a_c):\n",
    "    \"\"\"\n",
    "    Exponential cutoff of the size distribution.\n",
    "    Last term in equations 4 and 5 Weingartner and Draine 2001, 548.\n",
    "    \"\"\"\n",
    "\n",
    "    to_cut = (asize >= a_t)\n",
    "    ones   = (asize <  a_t)\n",
    "    \n",
    "    ec = 1.0*ones + np.exp(-((asize-a_t)/a_c)**3)*to_cut\n",
    "    \n",
    "    return ec  "
   ]
  },
  {
   "cell_type": "code",
   "execution_count": 36,
   "metadata": {
    "collapsed": true
   },
   "outputs": [],
   "source": [
    "def get_size_dist(asize, grain_type):\n",
    "    \"\"\"\n",
    "    Calculate the dust size distribution.\n",
    "    \n",
    "    Returns:\n",
    "        1 / nH * dn / da in units of 1 / Angstrom\n",
    "    \n",
    "    \"\"\"\n",
    "\n",
    "    bc = 6.e-5     # Favoured distribution. See Figure 2 WD01. \n",
    "\n",
    "    if grain_type == \"carbonaceous\":\n",
    "    \n",
    "        # Carbonaceous grains:\n",
    "        # Adjustable parameters: bc, Cg, a_t_g, a_c_g, alpha_g, beta_g\n",
    "        Cg      = 9.99e-12\n",
    "        a_t_g   = 0.0107*microntoAA # micron\n",
    "        a_c_g   = 0.428*microntoAA # micron\n",
    "        alpha_g = -1.54\n",
    "        beta_g  = -0.165\n",
    "\n",
    "        dnda = Da(asize, bc) + Cg/asize * (asize / a_t_g)**(alpha_g) * FF(asize, beta_g, a_t_g) * exp_cutoff_arr(asize, a_t_g, a_c_g)\n",
    "    else:\n",
    "        \n",
    "        # silicate grains\n",
    "        # Adjustable parameters: Cs, a_t_s, a_c_s, alpha_s, beta_s\n",
    "        Cs      = 1.00e-13\n",
    "        a_t_s   = 0.164*microntoAA\n",
    "        a_c_s   = 0.1*microntoAA #microns ToDo: -> microntoAA\n",
    "        alpha_s = -2.21\n",
    "        beta_s  = 0.300\n",
    "\n",
    "        dnda = Cs/asize * (asize / a_t_s)**(alpha_s) * FF(asize, beta_s, a_t_s) * exp_cutoff_arr(asize, a_t_s, a_c_s)\n",
    "    \n",
    "    return dnda"
   ]
  },
  {
   "cell_type": "code",
   "execution_count": 37,
   "metadata": {
    "collapsed": true
   },
   "outputs": [],
   "source": [
    "asize = 100. #grain size in Angstroms\n",
    "\n",
    "dnda = get_size_dist(asize, \"carbonaceous\")\n",
    "\n",
    "result = 4.*np.pi / 3. * asize**4 * dnda * (AAtocm)**3"
   ]
  },
  {
   "cell_type": "code",
   "execution_count": 38,
   "metadata": {
    "collapsed": false
   },
   "outputs": [
    {
     "name": "stdout",
     "output_type": "stream",
     "text": [
      "6.631077420117471e-29\n"
     ]
    }
   ],
   "source": [
    "print(result)"
   ]
  },
  {
   "cell_type": "code",
   "execution_count": 59,
   "metadata": {
    "collapsed": false
   },
   "outputs": [],
   "source": [
    "# Size array in Angstroms.\n",
    "asize = np.logspace(np.log10(3.5), np.log10(10000.), num=100)\n",
    "\n",
    "dnda_c    = get_size_dist(asize, \"carbonaceous\")\n",
    "size_dist_c = 4.*np.pi / 3. * asize**4 * dnda_c * (AAtocm)**3\n",
    "\n",
    "dnda_s    = get_size_dist(asize, \"silicates\")\n",
    "size_dist_s = 4.*np.pi / 3. * asize**4 * dnda_s * (AAtocm)**3"
   ]
  },
  {
   "cell_type": "code",
   "execution_count": 66,
   "metadata": {
    "collapsed": false
   },
   "outputs": [
    {
     "data": {
      "image/png": "[encoded data removed]",
      "text/plain": [
       "<matplotlib.figure.Figure at 0x7fdc04a8bfd0>"
      ]
     },
     "metadata": {},
     "output_type": "display_data"
    }
   ],
   "source": [
    "fig = plt.figure(figsize=(10,8))\n",
    "\n",
    "ax = fig.add_subplot(111)\n",
    "\n",
    "ax.plot(asize*AAtomicron, size_dist_c, \"-r\", linewidth=2)\n",
    "ax.plot(asize*AAtomicron, size_dist_s, \"-k\", linewidth=2)\n",
    "\n",
    "ax.set_xscale(\"log\")\n",
    "ax.set_yscale(\"log\")\n",
    "\n",
    "ax.set_xlim(3.0e-4, 1.0)\n",
    "ax.set_ylim(3.0e-30, 4.0e-27)\n",
    "\n",
    "\n",
    "ax.tick_params(\n",
    "    axis='x',          # changes apply to the x-axis\n",
    "    which='both',      # both major and minor ticks are affected\n",
    "    bottom='on',      # ticks along the bottom edge are off\n",
    "    top='off',         # ticks along the top edge are off\n",
    "    labelbottom='on') # labels along the bottom edge are off\n",
    "\n",
    "ax.set_ylabel(\"$(4\\pi/3)$ a$^4$ dn/da [cm$^{3}$/H]\", fontsize=18)\n",
    "ax.set_xlabel(\"grain size [$\\mu$m]\", fontsize=18)\n",
    "\n",
    "ax.tick_params(axis='both', which='major', length=8, width=2, labelsize=16)\n",
    "ax.tick_params(axis='both', which='minor', length=4, width=1.5, labelsize=12)\n",
    "\n",
    "\n",
    "fig.show()"
   ]
  },
  {
   "cell_type": "code",
   "execution_count": null,
   "metadata": {
    "collapsed": true
   },
   "outputs": [],
   "source": []
  }
 ],
 "metadata": {
  "anaconda-cloud": {},
  "kernelspec": {
   "display_name": "Python [default]",
   "language": "python",
   "name": "python2"
  },
  "language_info": {
   "codemirror_mode": {
    "name": "ipython",
    "version": 2
   },
   "file_extension": ".py",
   "mimetype": "text/x-python",
   "name": "python",
   "nbconvert_exporter": "python",
   "pygments_lexer": "ipython2",
   "version": "2.7.13"
  }
 },
 "nbformat": 4,
 "nbformat_minor": 2
}
