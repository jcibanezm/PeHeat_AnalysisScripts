{
 "cells": [
  {
   "cell_type": "markdown",
   "metadata": {},
   "source": [
    "What does this notebook do:\n",
    "\n",
    "    - loads the charge distribution data.\n",
    "    - computes the net heating per grain, full calculation.\n",
    "    - takes the GTn parameter and computes the parametric net heating.\n",
    "    - compares both distributions and gives the percentiles."
   ]
  },
  {
   "cell_type": "code",
   "execution_count": 1,
   "metadata": {
    "collapsed": false
   },
   "outputs": [
    {
     "name": "stdout",
     "output_type": "stream",
     "text": [
      "Loading the library to compute the charge distribution of dust grains.\n"
     ]
    }
   ],
   "source": [
    "import numpy as np\n",
    "import matplotlib.pyplot as plt\n",
    "import scipy.integrate as integrate\n",
    "import pickle\n",
    "import numpy as np\n",
    "from   matplotlib.colors import LogNorm\n",
    "from scipy.optimize import curve_fit\n",
    "import time\n",
    "\n",
    "import compute_charge_dist as fz\n",
    "import PeHeat_Functions as peh\n",
    "import parametric_fz as fzpar\n",
    "import parametric_PeHeat as parPeH"
   ]
  },
  {
   "cell_type": "code",
   "execution_count": 2,
   "metadata": {
    "collapsed": true
   },
   "outputs": [],
   "source": [
    "def index_fz(npoints, zminmax, fdist):\n",
    "\n",
    "    ffz = []\n",
    "    cum = 0\n",
    "    for index in range(npoints):\n",
    "        zmin = zminmax[index*2]\n",
    "        zmax = zminmax[index*2+1]\n",
    "        znum = int(abs(zmin) + zmax + 1)\n",
    "        \n",
    "        #print(zmin, zmax)\n",
    "        #print(znum)\n",
    "        \n",
    "        ffz.append(0)\n",
    "        ffz[-1] = []\n",
    "        for j in range(znum):\n",
    "            fhere = fdist[cum+j]\n",
    "            ffz[-1].append(fhere)\n",
    "            #print(\"filling the array\", j)\n",
    "        #print(ffz[-1])\n",
    "        cum += znum\n",
    "    \n",
    "    return ffz"
   ]
  },
  {
   "cell_type": "markdown",
   "metadata": {},
   "source": [
    "---\n",
    "# Now for carbonaceous"
   ]
  },
  {
   "cell_type": "code",
   "execution_count": 3,
   "metadata": {
    "collapsed": false
   },
   "outputs": [
    {
     "name": "stdout",
     "output_type": "stream",
     "text": [
      "I'm looking for a grain size smaller than 10 Angstrom. Outside the tabulated data!!!\n",
      "Using the absorption efficiency for a 10 AA grain\n",
      "I'm looking for a grain size smaller than 10 Angstrom. Outside the tabulated data!!!\n",
      "Using the absorption efficiency for a 10 AA grain\n"
     ]
    }
   ],
   "source": [
    "#grain_type = \"silicate\"\n",
    "grain_type = \"carbonaceous\"\n",
    "\n",
    "########################################################################################\n",
    "pcent      = 1\n",
    "grain_size = 3\n",
    "\n",
    "save_dir = \"/home/jcibanezm/Dropbox/codes/run/ChargeStatisticsAnalysis/Daikaiju\"\n",
    "filename = \"fz_%.4iAA_%s_CR_True_%i_pcent.pkl\"%(grain_size, grain_type, pcent) \n",
    "\n",
    "pkl_file    = open(\"%s/%s\"%(save_dir, filename), \"rb\")\n",
    "cdist3 = pickle.load(pkl_file)\n",
    "pkl_file.close\n",
    "\n",
    "Qabs3 = fz.get_QabsTable(grain_type, grain_size)\n",
    "\n",
    "########################################################################################\n",
    "pcent      = 1\n",
    "grain_size = 5\n",
    "\n",
    "save_dir = \"/home/jcibanezm/Dropbox/codes/run/ChargeStatisticsAnalysis/Daikaiju\"\n",
    "filename = \"fz_%.4iAA_%s_CR_True_%i_pcent.pkl\"%(grain_size, grain_type, pcent) \n",
    "\n",
    "pkl_file    = open(\"%s/%s\"%(save_dir, filename), \"rb\")\n",
    "cdist5 = pickle.load(pkl_file)\n",
    "pkl_file.close\n",
    "\n",
    "Qabs5 = fz.get_QabsTable(grain_type, grain_size)\n",
    "\n",
    "########################################################################################\n",
    "pcent      = 1\n",
    "grain_size = 10\n",
    "\n",
    "save_dir = \"/home/jcibanezm/Dropbox/codes/run/ChargeStatisticsAnalysis/Daikaiju\"\n",
    "filename = \"fz_%.4iAA_%s_CR_True_%i_pcent.pkl\"%(grain_size, grain_type, pcent) \n",
    "\n",
    "pkl_file    = open(\"%s/%s\"%(save_dir, filename), \"rb\")\n",
    "cdist10 = pickle.load(pkl_file)\n",
    "pkl_file.close\n",
    "\n",
    "Qabs10 = fz.get_QabsTable(grain_type, grain_size)\n",
    "\n",
    "########################################################################################\n",
    "pcent      = 1\n",
    "grain_size = 50\n",
    "\n",
    "save_dir = \"/home/jcibanezm/Dropbox/codes/run/ChargeStatisticsAnalysis/Daikaiju\"\n",
    "filename = \"fz_%.4iAA_%s_CR_True_%i_pcent.pkl\"%(grain_size, grain_type, pcent) \n",
    "\n",
    "pkl_file    = open(\"%s/%s\"%(save_dir, filename), \"rb\")\n",
    "cdist50 = pickle.load(pkl_file)\n",
    "pkl_file.close\n",
    "\n",
    "Qabs50 = fz.get_QabsTable(grain_type, grain_size)\n",
    "\n",
    "########################################################################################\n",
    "pcent      = 1\n",
    "grain_size = 100\n",
    "\n",
    "save_dir = \"/home/jcibanezm/Dropbox/codes/run/ChargeStatisticsAnalysis/Daikaiju\"\n",
    "filename = \"fz_%.4iAA_%s_CR_True_%i_pcent.pkl\"%(grain_size, grain_type, pcent) \n",
    "\n",
    "pkl_file    = open(\"%s/%s\"%(save_dir, filename), \"rb\")\n",
    "cdist100 = pickle.load(pkl_file)\n",
    "pkl_file.close\n",
    "\n",
    "Qabs100 = fz.get_QabsTable(grain_type, grain_size)\n",
    "\n",
    "########################################################################################\n",
    "pcent      = 0.1\n",
    "grain_size = 500\n",
    "\n",
    "save_dir = \"/home/jcibanezm/Dropbox/codes/run/ChargeStatisticsAnalysis/Daikaiju\"\n",
    "filename = \"fz_%.4iAA_%s_CR_True_%i_pcent.pkl\"%(grain_size, grain_type, pcent) \n",
    "\n",
    "pkl_file    = open(\"%s/%s\"%(save_dir, filename), \"rb\")\n",
    "cdist500 = pickle.load(pkl_file)\n",
    "pkl_file.close\n",
    "\n",
    "Qabs500 = fz.get_QabsTable(grain_type, grain_size)\n",
    "\n",
    "########################################################################################\n",
    "pcent      = 0.1\n",
    "grain_size = 1000\n",
    "\n",
    "save_dir = \"/home/jcibanezm/Dropbox/codes/run/ChargeStatisticsAnalysis/Daikaiju\"\n",
    "filename = \"fz_%.4iAA_%s_CR_True_%i_pcent.pkl\"%(grain_size, grain_type, pcent) \n",
    "\n",
    "pkl_file    = open(\"%s/%s\"%(save_dir, filename), \"rb\")\n",
    "cdist1000 = pickle.load(pkl_file)\n",
    "pkl_file.close\n",
    "\n",
    "Qabs1000 = fz.get_QabsTable(grain_type, grain_size)"
   ]
  },
  {
   "cell_type": "code",
   "execution_count": 4,
   "metadata": {
    "collapsed": true
   },
   "outputs": [],
   "source": [
    "def Full_netHeating(grain_size, grain_type, nH, Gtot, temp, xe, zminmax, fdist, Qabs):\n",
    "    \"\"\"\n",
    "    Given the charge distribution, and some ISM parameters, compute the net heating by a single dust grain.\n",
    "    \"\"\"\n",
    "    Zmin_sil, Zmax_sil = fz.get_Zmin(grain_size, grain_type), fz.get_Zmax(grain_size, grain_type)\n",
    "    Znum_sil = int(Zmax_sil + abs(Zmin_sil) +1)\n",
    "    ZZ_sil = np.linspace(Zmin_sil, Zmax_sil, num=Znum_sil)\n",
    "\n",
    "    Gamma_dotdot_Z_sil = np.zeros_like(ZZ_sil, dtype=np.float)\n",
    "\n",
    "    for i in range(Znum_sil):\n",
    "        Gamma_dotdot_Z_sil[i] = peh.get_Gamma_pe_dotdot(grain_size, ZZ_sil[i], grain_type, 0.0, Qabs, G0=1.7)\n",
    "\n",
    "    Gamma_a = np.zeros_like(nH, dtype=np.float)\n",
    "    Cooling = np.zeros_like(nH, dtype=np.float)\n",
    "    cum = 0\n",
    "\n",
    "    #for index in range(10):\n",
    "    for index in range(len(Gamma_a)):\n",
    "\n",
    "        zmin = zminmax[index*2]\n",
    "        zmax = zminmax[index*2+1]\n",
    "        znum = int(abs(zmin) + zmax + 1)\n",
    "\n",
    "        Gamma_dotdot_Z_sil_scaled = Gamma_dotdot_Z_sil*(Gtot[index]/1.7)\n",
    "\n",
    "        ZZfz = np.arange(zmin, zmax+1, 1)\n",
    "        ffz  = fdist[index]\n",
    "        #print(ZZfz)\n",
    "        #print(ffz)\n",
    "\n",
    "        Gamma_a[index]= peh.Gamma_per_grain(ZZ_sil, Gamma_dotdot_Z_sil_scaled, ZZfz, ffz)\n",
    "        \n",
    "        #Cooling[index] = peh.Cool_per_Grain(grain_size, grain_type, ZZfz, ffz, nH[index], xe[index], temp[index])\n",
    "\n",
    "    netHeat = Gamma_a #- Cooling\n",
    "    \n",
    "    return netHeat"
   ]
  },
  {
   "cell_type": "code",
   "execution_count": 5,
   "metadata": {
    "collapsed": true
   },
   "outputs": [],
   "source": [
    "fdist3 = index_fz(len(cdist3[\"nH\"]), cdist3[\"zminmax\"], cdist3[\"fdist\"])\n",
    "fdist5 = index_fz(len(cdist5[\"nH\"]), cdist5[\"zminmax\"], cdist5[\"fdist\"])\n",
    "fdist10 = index_fz(len(cdist10[\"nH\"]), cdist10[\"zminmax\"], cdist10[\"fdist\"])"
   ]
  },
  {
   "cell_type": "code",
   "execution_count": 6,
   "metadata": {
    "collapsed": true
   },
   "outputs": [],
   "source": [
    "nH3, Gtot3, temp3, xe3, zminmax3, fdist3                   = cdist3[\"nH\"], cdist3[\"G\"]+cdist3[\"G_CR\"], cdist3[\"temp\"],cdist3[\"new_xe\"], cdist3[\"zminmax\"], fdist3\n",
    "nH5, Gtot5, temp5, xe5, zminmax5, fdist5                   = cdist5[\"nH\"], cdist5[\"G\"]+cdist5[\"G_CR\"], cdist5[\"temp\"],cdist5[\"new_xe\"], cdist5[\"zminmax\"], fdist5\n",
    "nH10, Gtot10, temp10, xe10, zminmax10, fdist10             = cdist10[\"nH\"], cdist10[\"G\"]+cdist10[\"G_CR\"], cdist10[\"temp\"],cdist10[\"new_xe\"], cdist10[\"zminmax\"], fdist10\n",
    "nH50, Gtot50, temp50, xe50, zminmax50, fdist50             = cdist50[\"nH\"], cdist50[\"G\"]+cdist50[\"G_CR\"], cdist50[\"temp\"],cdist50[\"new_xe\"], cdist50[\"zminmax\"], cdist50[\"fdist\"]\n",
    "nH100, Gtot100, temp100, xe100, zminmax100, fdist100       = cdist100[\"nH\"], cdist100[\"G\"]+cdist100[\"G_CR\"], cdist100[\"temp\"],cdist100[\"new_xe\"], cdist100[\"zminmax\"], cdist100[\"fdist\"]\n",
    "nH500, Gtot500, temp500, xe500, zminmax500, fdist500       = cdist500[\"nH\"], cdist500[\"G\"]+cdist500[\"G_CR\"], cdist500[\"temp\"],cdist500[\"new_xe\"], cdist500[\"zminmax\"], cdist500[\"fdist\"]\n",
    "nH1000, Gtot1000, temp1000, xe1000, zminmax1000, fdist1000 = cdist1000[\"nH\"], cdist1000[\"G\"]+cdist1000[\"G_CR\"], cdist1000[\"temp\"],cdist1000[\"new_xe\"], cdist1000[\"zminmax\"], cdist1000[\"fdist\"]"
   ]
  },
  {
   "cell_type": "code",
   "execution_count": 7,
   "metadata": {
    "collapsed": false
   },
   "outputs": [],
   "source": [
    "netHeat3 = Full_netHeating(3.5, grain_type, nH3, Gtot3, temp3, xe3, zminmax3, fdist3, Qabs3)\n",
    "netHeat5 = Full_netHeating(5., grain_type, nH5, Gtot5, temp5, xe5, zminmax5, fdist5, Qabs5)\n",
    "netHeat10 = Full_netHeating(10., grain_type, nH10, Gtot10, temp10, xe10, zminmax10, fdist10, Qabs10)\n",
    "netHeat50 = Full_netHeating(50., grain_type, nH50, Gtot50, temp50, xe50, zminmax50, fdist50, Qabs50)\n",
    "netHeat100 = Full_netHeating(100., grain_type, nH100, Gtot100, temp100, xe100, zminmax100, fdist100, Qabs100)\n",
    "netHeat500 = Full_netHeating(500., grain_type, nH500, Gtot500, temp500, xe500, zminmax500, fdist500, Qabs500)\n",
    "netHeat1000 = Full_netHeating(1000., grain_type, nH1000, Gtot1000, temp1000, xe1000, zminmax1000, fdist1000, Qabs1000)"
   ]
  },
  {
   "cell_type": "code",
   "execution_count": 8,
   "metadata": {
    "collapsed": false
   },
   "outputs": [],
   "source": [
    "netHeat3_par,netHeat5_par,netHeat10_par,netHeat50_par = np.zeros_like(Gtot3), np.zeros_like(Gtot3), np.zeros_like(Gtot3), np.zeros_like(Gtot3)\n",
    "netHeat100_par,netHeat500_par,netHeat1000_par = np.zeros_like(Gtot3), np.zeros_like(Gtot500), np.zeros_like(Gtot1000)\n",
    "\n",
    "for i in range(85943):\n",
    "    netHeat3_par[i]    = parPeH.get_Gamma_dot_par(Gtot3[i],    temp3[i],    nH3[i]*xe3[i],         3.5, grain_type)\n",
    "    netHeat5_par[i]    = parPeH.get_Gamma_dot_par(Gtot5[i],    temp5[i],    nH5[i]*xe5[i],          5., grain_type)\n",
    "    netHeat10_par[i]   = parPeH.get_Gamma_dot_par(Gtot10[i],   temp10[i],   nH10[i]*xe10[i],       10., grain_type)\n",
    "    netHeat50_par[i]   = parPeH.get_Gamma_dot_par(Gtot50[i],   temp50[i],   nH50[i]*xe50[i],       50., grain_type)\n",
    "    netHeat100_par[i]  = parPeH.get_Gamma_dot_par(Gtot100[i],  temp100[i],  nH100[i]*xe100[i],    100., grain_type)\n",
    "\n",
    "for i in range(len(Gtot500)):\n",
    "    netHeat500_par[i]  = parPeH.get_Gamma_dot_par(Gtot500[i],  temp500[i],  nH500[i]*xe500[i],    500., grain_type)\n",
    "for i in range(len(Gtot1000)):\n",
    "    netHeat1000_par[i] = parPeH.get_Gamma_dot_par(Gtot1000[i], temp1000[i], nH1000[i]*xe1000[i], 1000., grain_type)"
   ]
  },
  {
   "cell_type": "code",
   "execution_count": 9,
   "metadata": {
    "collapsed": true
   },
   "outputs": [],
   "source": [
    "netHeat3_par,netHeat5_par,netHeat10_par,netHeat50_par = np.zeros_like(Gtot3), np.zeros_like(Gtot3), np.zeros_like(Gtot3), np.zeros_like(Gtot3)\n",
    "netHeat100_par,netHeat500_par,netHeat1000_par = np.zeros_like(Gtot3), np.zeros_like(Gtot500), np.zeros_like(Gtot1000)\n",
    "\n",
    "for i in range(85943):\n",
    "    netHeat3_par[i]    = parPeH.get_Gamma_dot_par(Gtot3[i],    temp3[i],    nH3[i]*xe3[i],         3.5, grain_type)\n",
    "    netHeat5_par[i]    = parPeH.get_Gamma_dot_par(Gtot5[i],    temp5[i],    nH5[i]*xe5[i],          5., grain_type)\n",
    "    netHeat10_par[i]   = parPeH.get_Gamma_dot_par(Gtot10[i],   temp10[i],   nH10[i]*xe10[i],       10., grain_type)\n",
    "    netHeat50_par[i]   = parPeH.get_Gamma_dot_par(Gtot50[i],   temp50[i],   nH50[i]*xe50[i],       50., grain_type)\n",
    "    netHeat100_par[i]  = parPeH.get_Gamma_dot_par(Gtot100[i],  temp100[i],  nH100[i]*xe100[i],    100., grain_type)\n",
    "\n",
    "for i in range(len(Gtot500)):\n",
    "    netHeat500_par[i]  = parPeH.get_Gamma_dot_par(Gtot500[i],  temp500[i],  nH500[i]*xe500[i],    500., grain_type)\n",
    "for i in range(len(Gtot1000)):\n",
    "    netHeat1000_par[i] = parPeH.get_Gamma_dot_par(Gtot1000[i], temp1000[i], nH1000[i]*xe1000[i], 1000., grain_type)"
   ]
  },
  {
   "cell_type": "code",
   "execution_count": 10,
   "metadata": {
    "collapsed": true
   },
   "outputs": [],
   "source": [
    "differror3    = (netHeat3    - netHeat3_par)    / netHeat3\n",
    "differror5    = (netHeat5    - netHeat5_par)    / netHeat5\n",
    "differror10   = (netHeat10   - netHeat10_par)   / netHeat10\n",
    "differror50   = (netHeat50   - netHeat50_par)   / netHeat50\n",
    "differror100  = (netHeat100  - netHeat100_par)  / netHeat100\n",
    "differror500  = (netHeat500  - netHeat500_par)  / netHeat500\n",
    "differror1000 = (netHeat1000 - netHeat1000_par) / netHeat1000"
   ]
  },
  {
   "cell_type": "code",
   "execution_count": 11,
   "metadata": {
    "collapsed": true
   },
   "outputs": [],
   "source": [
    "# Compute relative error\n",
    "relerror3    = np.percentile((np.abs(netHeat3    - 1.2*netHeat3_par)    / netHeat3),    [25,50,75])*100\n",
    "relerror5    = np.percentile((np.abs(netHeat5    - 1.2*netHeat5_par)    / netHeat5),    [25,50,75])*100\n",
    "relerror10   = np.percentile((np.abs(netHeat10   - 1.2*netHeat10_par)   / netHeat10),   [25,50,75])*100\n",
    "relerror50   = np.percentile((np.abs(netHeat50   - 1.2*netHeat50_par)   / netHeat50),   [25,50,75])*100\n",
    "relerror100  = np.percentile((np.abs(netHeat100  - 1.2*netHeat100_par)  / netHeat100),  [25,50,75])*100\n",
    "relerror500  = np.percentile((np.abs(netHeat500  - 1.2*netHeat500_par)  / netHeat500),  [25,50,75])*100\n",
    "relerror1000 = np.percentile((np.abs(netHeat1000 - 1.2*netHeat1000_par) / netHeat1000), [25,50,75])*100"
   ]
  },
  {
   "cell_type": "code",
   "execution_count": 12,
   "metadata": {
    "collapsed": false
   },
   "outputs": [
    {
     "name": "stdout",
     "output_type": "stream",
     "text": [
      "\n",
      " Relative error table\n",
      "3.5 \t & 15.2 \t & 49.0 \t & 64.7\n",
      "5 \t & 8.3 \t & 17.7 \t & 26.4\n",
      "10 \t & 57.7 \t & 67.1 \t & 70.5\n",
      "50 \t & 19.9 \t & 31.7 \t & 38.8\n",
      "100 \t & 20.1 \t & 37.7 \t & 41.3\n",
      "500 \t & 7.1 \t & 17.9 \t & 19.8\n",
      "1000 \t & 14.3 \t & 24.0 \t & 25.4\n"
     ]
    }
   ],
   "source": [
    "# Print table\n",
    "print(\"\")\n",
    "print(\" Relative error table\")\n",
    "print(\"3.5 \\t & %.1f \\t & %.1f \\t & %.1f\"%(relerror3[0],     relerror3[1], relerror3[2]))\n",
    "print(\"5 \\t & %.1f \\t & %.1f \\t & %.1f\"%(  relerror5[0],     relerror5[1], relerror5[2]))\n",
    "print(\"10 \\t & %.1f \\t & %.1f \\t & %.1f\"%( relerror10[0],    relerror10[1], relerror10[2]))\n",
    "print(\"50 \\t & %.1f \\t & %.1f \\t & %.1f\"%( relerror50[0],    relerror50[1], relerror50[2]))\n",
    "print(\"100 \\t & %.1f \\t & %.1f \\t & %.1f\"%(relerror100[0],   relerror100[1], relerror100[2]))\n",
    "print(\"500 \\t & %.1f \\t & %.1f \\t & %.1f\"%(relerror500[0],   relerror500[1], relerror500[2]))\n",
    "print(\"1000 \\t & %.1f \\t & %.1f \\t & %.1f\"%(relerror1000[0], relerror1000[1], relerror1000[2]))"
   ]
  },
  {
   "cell_type": "code",
   "execution_count": 48,
   "metadata": {
    "collapsed": true
   },
   "outputs": [],
   "source": [
    "# Compute relative error\n",
    "relerror3    = np.percentile((np.abs(netHeat3    - 1.0*netHeat3_par)    / netHeat3),    [25,50,75])*100\n",
    "relerror5    = np.percentile((np.abs(netHeat5    - 1.2*netHeat5_par)    / netHeat5),    [25,50,75])*100\n",
    "relerror10   = np.percentile((np.abs(netHeat10   - 1.0*netHeat10_par)   / netHeat10),   [25,50,75])*100\n",
    "relerror50   = np.percentile((np.abs(netHeat50   - 1.3*netHeat50_par)   / netHeat50),   [25,50,75])*100\n",
    "relerror100  = np.percentile((np.abs(netHeat100  - 1.3*netHeat100_par)  / netHeat100),  [25,50,75])*100\n",
    "relerror500  = np.percentile((np.abs(netHeat500  - 1.0*netHeat500_par)  / netHeat500),  [25,50,75])*100\n",
    "relerror1000 = np.percentile((np.abs(netHeat1000 - 1.0*netHeat1000_par) / netHeat1000), [25,50,75])*100"
   ]
  },
  {
   "cell_type": "code",
   "execution_count": 49,
   "metadata": {
    "collapsed": false
   },
   "outputs": [
    {
     "name": "stdout",
     "output_type": "stream",
     "text": [
      "\n",
      " Relative error table\n",
      "3.5 \t & 4.0 \t & 12.2 \t & 37.9\n",
      "5 \t & 10.6 \t & 16.8 \t & 23.4\n",
      "10 \t & 0.7 \t & 2.0 \t & 7.1\n",
      "50 \t & 5.9 \t & 6.5 \t & 8.1\n",
      "100 \t & 6.0 \t & 8.3 \t & 14.7\n",
      "1000 \t & 3.9 \t & 4.9 \t & 12.4\n"
     ]
    }
   ],
   "source": [
    "# Print table\n",
    "\n",
    "print(\"\")\n",
    "print(\" Relative error table\")\n",
    "print(\"3.5 \\t & %.1f \\t & %.1f \\t & %.1f\"%(relerror3[0],     relerror3[1], relerror3[2]))\n",
    "print(\"5 \\t & %.1f \\t & %.1f \\t & %.1f\"%(  relerror5[0],     relerror5[1], relerror5[2]))\n",
    "print(\"10 \\t & %.1f \\t & %.1f \\t & %.1f\"%( relerror10[0],    relerror10[1], relerror10[2]))\n",
    "print(\"50 \\t & %.1f \\t & %.1f \\t & %.1f\"%( relerror50[0],    relerror50[1], relerror50[2]))\n",
    "print(\"100 \\t & %.1f \\t & %.1f \\t & %.1f\"%(relerror100[0],   relerror100[1], relerror100[2]))\n",
    "print(\"1000 \\t & %.1f \\t & %.1f \\t & %.1f\"%(relerror1000[0], relerror1000[1], relerror1000[2]))"
   ]
  },
  {
   "cell_type": "code",
   "execution_count": 17,
   "metadata": {
    "collapsed": true
   },
   "outputs": [],
   "source": [
    "%matplotlib inline"
   ]
  },
  {
   "cell_type": "code",
   "execution_count": 32,
   "metadata": {
    "collapsed": false
   },
   "outputs": [
    {
     "name": "stdout",
     "output_type": "stream",
     "text": [
      "(8579, 8579)\n"
     ]
    }
   ],
   "source": [
    "print(len(netHeat1000),len(netHeat1000_par))"
   ]
  },
  {
   "cell_type": "code",
   "execution_count": 35,
   "metadata": {
    "collapsed": false
   },
   "outputs": [
    {
     "data": {
      "image/png": "[encoded data removed]",
      "text/plain": [
       "<matplotlib.figure.Figure at 0x7f30dc2a1650>"
      ]
     },
     "metadata": {},
     "output_type": "display_data"
    }
   ],
   "source": [
    "fig = plt.figure(figsize=(8,8))\n",
    "ax = fig.add_axes([0.14, 0.11, 0.85, 0.84])\n",
    "from matplotlib.ticker import MaxNLocator\n",
    "def format_func(value, tick_number):\n",
    "    return \"10$^{%i}$\"%value\n",
    "\n",
    "ax.hist2d(np.log10(netHeat500), np.log10(netHeat500_par*1.0), bins=100, norm=LogNorm(), cmap=\"inferno\")\n",
    "ax.plot([-25, -15],[-25, -15], \"-k\", linewidth=2)\n",
    "#ax.set_ylabel(\"T [K]\", fontsize=25)\n",
    "#\n",
    "ax.tick_params(axis='both', which='major', length=10, width=2,  labelsize=20, direction=\"in\")\n",
    "ax.tick_params(axis='both', which='minor', length=5, width=1.5, labelsize=20, direction=\"in\")\n",
    "\n",
    "#ax.set_ylim(-0.9, 4.99)\n",
    "ax.set_ylabel(\"parametric\", fontsize=25)\n",
    "ax.set_xlabel(\"Full\", fontsize=25)\n",
    "\n",
    "ax.xaxis.set_major_locator(MaxNLocator(integer=True))\n",
    "ax.yaxis.set_major_locator(MaxNLocator(integer=True))\n",
    "ax.xaxis.set_major_formatter(plt.FuncFormatter(format_func))\n",
    "ax.yaxis.set_major_formatter(plt.FuncFormatter(format_func))\n",
    "\n",
    "#ax.set_yscale(\"log\")\n",
    "fig.show()\n"
   ]
  }
 ],
 "metadata": {
  "anaconda-cloud": {},
  "kernelspec": {
   "display_name": "Python [default]",
   "language": "python",
   "name": "python2"
  },
  "language_info": {
   "codemirror_mode": {
    "name": "ipython",
    "version": 2
   },
   "file_extension": ".py",
   "mimetype": "text/x-python",
   "name": "python",
   "nbconvert_exporter": "python",
   "pygments_lexer": "ipython2",
   "version": "2.7.15"
  }
 },
 "nbformat": 4,
 "nbformat_minor": 2
}
