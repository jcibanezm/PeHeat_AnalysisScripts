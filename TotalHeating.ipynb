{
 "cells": [
  {
   "cell_type": "code",
   "execution_count": 73,
   "metadata": {
    "collapsed": true
   },
   "outputs": [],
   "source": [
    "import compute_charge_dist as fz\n",
    "import numpy as np\n",
    "import matplotlib.pyplot as plt\n",
    "import scipy.integrate as integrate\n",
    "\n",
    "import PeHeat_Functions as peh\n",
    "import parametric_fz as fzpar\n",
    "import dust_size_dist as sizedist\n",
    "\n",
    "import yt\n",
    "from yt.units import pc, kpc, second, Kelvin, gram, erg, cm\n",
    "\n",
    "import MCMCFit as mcmc\n",
    "\n",
    "%matplotlib inline\n",
    "\n",
    "microntocm    = 1.0e-4\n",
    "cmtomicron    = 1.0e4\n",
    "AAtocm        = 1.0e-8\n",
    "cmtoAA        = 1.0e8\n",
    "microntoAA    = 1.0e4\n",
    "AAtomicron    = 1.0e-4\n",
    "ergtoeV       = 6.242e11\n",
    "eVtoerg       = 1.602e-12\n",
    "\n",
    "hplanck       = 4.135667662e-15 # eV s\n",
    "clight        = 2.99792458e10   # cm s-1"
   ]
  },
  {
   "cell_type": "code",
   "execution_count": 74,
   "metadata": {
    "collapsed": true
   },
   "outputs": [],
   "source": [
    "# Define some constant parameters to be used.\n",
    "mp      = 1.6726e-24  * gram # g\n",
    "mH      = 1.6733e-24  * gram\n",
    "mC      = 12.011*mH\n",
    "#mu      = 1.2924\n",
    "kb      = 1.3806e-16  *erg / Kelvin # erg K-1\n",
    "GNewton = 6.6743e-8   * cm**3 / (gram * second**2 )# cm3 g-1 s-2\n",
    "Msun    = 1.9884e33   * gram\n",
    "#mm      = mu*mp\n",
    "\n",
    "ppc = 3.0856776e18\n",
    "\n",
    "# -------------------------------------------------------------\n",
    "#              Create a lot of new derived fields\n",
    "# -------------------------------------------------------------\n",
    "\n",
    "# Create a derived field.\n",
    "# Hydrogen number density\n",
    "def numdensH(field, data): \n",
    "    nH = data[\"dens\"]*(data[\"ihp \"]+data[\"iha \"]+data[\"ih2 \"])/(1.4*mH)\n",
    "    return nH\n",
    "\n",
    "# Molecular Hydrogen number density\n",
    "def numdensH2(field, data): \n",
    "    nH2 = data[\"dens\"]*(data[\"ih2 \"])/(1.4*mH)\n",
    "    return nH2\n",
    "\n",
    "# Carbon number density\n",
    "def numdensC(field, data): \n",
    "    nC = data[\"dens\"]*(data[\"icp \"]+data[\"ico \"])/(1.4*mC)\n",
    "    return nC\n",
    "\n",
    "# electron number density\n",
    "def numdense(field, data): \n",
    "    ne = data[\"dens\"]*(data[\"ihp \"]/(1.4*mH) + data[\"icp \"]/(1.4*mC))\n",
    "    return ne\n",
    "\n",
    "# Ionized hydrogen fraction\n",
    "def xHp(field, data): \n",
    "    nH  = data[\"dens\"]*(data[\"ihp \"]+data[\"iha \"]+data[\"ih2 \"])/(1.4*mH)\n",
    "    xHp = data[\"dens\"]*data[\"ihp \"]/(1.4*mH)\n",
    "    xHp = xHp / nH\n",
    "    return xHp\n",
    "\n",
    "# Molecular hydrogen fraction\n",
    "def xH2(field, data): \n",
    "    nH  = data[\"dens\"]*(data[\"ihp \"]+data[\"iha \"]+data[\"ih2 \"])/(1.4*mH)\n",
    "    xH2 = data[\"dens\"]*data[\"ih2 \"]/(1.4*mH)\n",
    "    xH2 = xH2 / nH\n",
    "    return xH2\n",
    "\n",
    "# Ionized carbon fraction\n",
    "def xCp(field, data): \n",
    "    nC  = data[\"dens\"]*(data[\"icp \"]+data[\"ico \"])/(1.4*mC)\n",
    "    xCp = data[\"dens\"]*data[\"icp \"]/(1.4*mC) / nC\n",
    "    return xCp\n",
    "\n",
    "# electron fraction\n",
    "def xe(field, data): \n",
    "    nH = data[\"dens\"]*(data[\"ihp \"]+data[\"iha \"]+data[\"ih2 \"])/(1.4*mH)\n",
    "    nC = data[\"dens\"]*(data[\"icp \"]+data[\"ico \"])/(1.4*mC)\n",
    "    ne = data[\"dens\"]*(data[\"ihp \"]/(1.4*mH) + data[\"icp \"]/(1.4*mC))\n",
    "    xe = ne / (nH + nC)\n",
    "    return xe\n",
    "\n",
    "# electron fraction\n",
    "#def GG(field, data): \n",
    "#    G = fz.get_G(data[\"cdto\"], 1.68)\n",
    "#    return G\n",
    "\n",
    "\n",
    "yt.add_field('nH', function=numdensH,  units=\"1/cm**3\", force_override=True)\n",
    "yt.add_field('nH2',function=numdensH2, units=\"1/cm**3\", force_override=True)\n",
    "yt.add_field('nC', function=numdensC,  units=\"1/cm**3\", force_override=True)\n",
    "yt.add_field('ne', function=numdense,  units=\"1/cm**3\", force_override=True)\n",
    "yt.add_field('xHp', function=xHp,      units=\"dimensionless\", force_override=True)\n",
    "yt.add_field('xH2', function=xH2,      units=\"dimensionless\", force_override=True)\n",
    "yt.add_field('xCp', function=xCp,      units=\"dimensionless\", force_override=True)\n",
    "yt.add_field('xe', function=xe,        units=\"dimensionless\", force_override=True)\n",
    "#yt.add_field('G',  function=GG,        units=\"dimensionless\", force_override=True)"
   ]
  },
  {
   "cell_type": "code",
   "execution_count": 75,
   "metadata": {
    "collapsed": false
   },
   "outputs": [
    {
     "name": "stderr",
     "output_type": "stream",
     "text": [
      "yt : [INFO     ] 2018-10-15 19:36:21,829 Particle file found: NL99_R8_cf_hdf5_chk_0028\n",
      "yt : [INFO     ] 2018-10-15 19:36:21,842 integer runtime parameter checkpointfilenumber overwrites a simulation scalar of the same name\n",
      "yt : [INFO     ] 2018-10-15 19:36:21,843 integer runtime parameter forcedplotfilenumber overwrites a simulation scalar of the same name\n",
      "yt : [INFO     ] 2018-10-15 19:36:21,844 integer runtime parameter nbegin overwrites a simulation scalar of the same name\n",
      "yt : [INFO     ] 2018-10-15 19:36:21,845 integer runtime parameter plotfilenumber overwrites a simulation scalar of the same name\n",
      "yt : [INFO     ] 2018-10-15 19:36:21,862 Parameters: current_time              = 568049127341766.1\n",
      "yt : [INFO     ] 2018-10-15 19:36:21,863 Parameters: domain_dimensions         = [32  8  8]\n",
      "yt : [INFO     ] 2018-10-15 19:36:21,864 Parameters: domain_left_edge          = [-1.974784e+20 -4.936960e+19 -4.936960e+19]\n",
      "yt : [INFO     ] 2018-10-15 19:36:21,865 Parameters: domain_right_edge         = [1.974784e+20 4.936960e+19 4.936960e+19]\n",
      "yt : [INFO     ] 2018-10-15 19:36:21,866 Parameters: cosmological_simulation   = 0.0\n"
     ]
    }
   ],
   "source": [
    "# Input variables.\n",
    "data_dir   = \"/home/jcibanezm/codes/run/Silcc/CF_Prabesh\"\n",
    "#data_dir   = \"/Users/juan/codes/run/Silcc/CF_Prabesh\"\n",
    "filename   = data_dir + \"/NL99_R8_cf_hdf5_chk_0028\"\n",
    "\n",
    "pf = yt.load(\"%s\"%(filename))\n",
    "\n",
    "c  = [0,0,0]\n",
    "le = [-4.93696000e+19, -4.93696000e+19, -4.93696000e+19]\n",
    "re = [ 4.93696000e+19,  4.93696000e+19,  4.93696000e+19]\n",
    "\n",
    "box = pf.box(le, re)\n",
    "\n",
    "min_dens = np.min(box[\"density\"])\n",
    "max_dens = np.max(box[\"density\"])\n",
    "\n",
    "min_nh   = np.min(box[\"nH\"])\n",
    "max_nh   = np.max(box[\"nH\"])\n",
    "\n",
    "min_temp = np.min(box[\"temperature\"])\n",
    "max_temp = np.max(box[\"temperature\"])\n",
    "\n",
    "min_ne = np.min(box[\"ne\"])\n",
    "max_ne = np.max(box[\"ne\"])\n",
    "\n",
    "min_xe = np.min(box[\"xe\"])\n",
    "max_xe = np.max(box[\"xe\"])\n",
    "\n",
    "min_Av = np.min(box[\"cdto\"])\n",
    "max_Av = np.max(box[\"cdto\"])"
   ]
  },
  {
   "cell_type": "code",
   "execution_count": 77,
   "metadata": {
    "collapsed": false
   },
   "outputs": [
    {
     "data": {
      "text/plain": [
       "YTArray([0.63094444, 0.63039282, 0.63473658, ..., 0.41748944, 0.41727191,\n",
       "         0.41461533]) (dimensionless)"
      ]
     },
     "execution_count": 77,
     "metadata": {},
     "output_type": "execute_result"
    }
   ],
   "source": [
    "box[\"cdh2\"]"
   ]
  },
  {
   "cell_type": "code",
   "execution_count": null,
   "metadata": {
    "collapsed": false
   },
   "outputs": [
    {
     "name": "stderr",
     "output_type": "stream",
     "text": [
      "/home/jcibanezm/codes/libs/miniconda3/lib/python2.7/site-packages/pynverse/inverse.py:196: RuntimeWarning: Results obtained with less than 2 decimal digits of accuracy\n",
      "  % accuracy, RuntimeWarning)\n"
     ]
    }
   ],
   "source": [
    "NH2all = np.zeros_like(box[\"nH\"])\n",
    "G_CR = np.zeros_like(box[\"nH\"])\n",
    "for ii in range(len(box[\"nH\"])):\n",
    "    NH2all[ii] = fz.get_NH2(box[\"cdh2\"][ii].value, box[\"temp\"][ii].value)\n",
    "    G_CR[ii]   = fz.get_G_CR(NH2all[ii])"
   ]
  },
  {
   "cell_type": "code",
   "execution_count": 11,
   "metadata": {
    "collapsed": true
   },
   "outputs": [],
   "source": [
    "wnm = ((box[\"temperature\"].in_units(\"K\") > 6.0e3)&(box[\"temperature\"].in_units(\"K\") < 1.0e4)&(box[\"iha \"] > 0.6)&(box[\"nH\"] >= 0.75))\n",
    "cnm = ((box[\"temperature\"].in_units(\"K\") > 50)   &(box[\"temperature\"].in_units(\"K\") < 70)   &(box[\"iha \"] > 0.6))\n",
    "cmm = ((box[\"temperature\"].in_units(\"K\") < 50)   &(box[\"ih2 \"] > 0.6) &(box[\"nH\"] <3.0e4))\n",
    "\n",
    "wnmtrue = np.argwhere(wnm==True)\n",
    "cnmtrue = np.argwhere(cnm==True)\n",
    "cmmtrue = np.argwhere(cmm==True)\n",
    "\n",
    "wnmindex = wnmtrue[0]\n",
    "#wnmindex = [3626974]\n",
    "cnmindex = cnmtrue[0]\n",
    "#cmmindex = cmmtrue[3626974]\n",
    "cmmindex = [3479445]"
   ]
  },
  {
   "cell_type": "code",
   "execution_count": 14,
   "metadata": {
    "collapsed": true
   },
   "outputs": [],
   "source": [
    "indexarr = np.array([wnmindex, cnmindex, cmmindex])\n",
    "\n",
    "temp= np.array( box[\"temp\"][indexarr])\n",
    "dd  = np.array( box[\"dens\"][indexarr])\n",
    "nH  = np.array( box[\"nH\"]  [indexarr])\n",
    "nH2 = np.array( box[\"nH2\"]  [indexarr])\n",
    "nC  = np.array( box[\"nC\"]  [indexarr])\n",
    "ne  = np.array( box[\"ne\"]  [indexarr])\n",
    "xe  = np.array( box[\"xe\"]  [indexarr])\n",
    "xHp = np.array( box[\"xHp\"]  [indexarr])\n",
    "xH2 = np.array( box[\"xH2\"]  [indexarr])\n",
    "xCp = np.array( box[\"xCp\"]  [indexarr])\n",
    "Av  = np.array( box[\"cdto\"][indexarr])\n",
    "fH2shield  = np.array( box[\"cdh2\"][indexarr])\n",
    "G0 = 1.7\n",
    "Ntot =  Av * 1.8\n",
    "7e21\n",
    "\n",
    "GG = [fz.get_G(Ntot[0], G0=G0), fz.get_G(Ntot[1], G0=G0), fz.get_G(Ntot[2], G0=G0)]\n",
    "\n",
    "N2 = np.zeros_like(nH2)\n",
    "for i in range(3):\n",
    "    N2[i] = fz.get_f2shield(fH2shield[i], temp[i])\n",
    "\n",
    "zeta_cmm = fz.get_zeta(N2[2])\n",
    "xe_cmm    = fz.CR_xe(nH[2], xH2[2], zeta=zeta_cmm)\n",
    "\n",
    "xe[2] = xe_cmm\n",
    "ne[2] = nH[2]*xe_cmm\n",
    "\n",
    "for i in range(3):\n",
    "    G_CR = fz.get_G_CR(N2[i])\n",
    "    \n",
    "Gtot = GG + G_CR"
   ]
  },
  {
   "cell_type": "code",
   "execution_count": 64,
   "metadata": {
    "collapsed": true
   },
   "outputs": [],
   "source": [
    "def get_Gamma_dotdot_par(asize, G, Z, grain_type):\n",
    "    \"\"\"\n",
    "    Parametric equation of the energy per photoelectron as a function of the grain size, charge, strength of the incident radiation field and charge.\n",
    "    \n",
    "    Input parameters:\n",
    "        asize: Grain size in Angstroms\n",
    "        G: Scaling of the radiation field in units of Habing field.\n",
    "        Z: Charge, in units of proton charge.\n",
    "        grain_type: 'silicate' or 'carbonaceous'\n",
    "        \n",
    "    return:\n",
    "        Gamma_pe^{''} in erg s-1\n",
    "    \"\"\"\n",
    "    \n",
    "    if grain_type == \"silicate\":\n",
    "        Gamma0 = 2.3e-20\n",
    "        alpha  = 2.39\n",
    "        zeta   = 2.953042 * (asize / 5.0)**(-1.03848) \n",
    "    else:\n",
    "        \n",
    "        Gamma0 = 4.06768782673e-20\n",
    "        alpha  = 2.16393168\n",
    "        zeta   = 0.9935858817946079 * (asize / 5.0)**(-1.04665779) \n",
    "    \n",
    "    gamma_dotdot_pe = Gamma0 * (asize / 5.0)**(alpha) * (G / 1.7) * np.exp(- zeta * Z)\n",
    "    \n",
    "    return gamma_dotdot_pe"
   ]
  },
  {
   "cell_type": "markdown",
   "metadata": {},
   "source": [
    "$$ \\Gamma^{''}_{\\mathrm{pe}}(a, Z, G) = \\Gamma_0 \\mathrm{\\; erg \\; s^{-1}} \\left( \\frac{G}{1.7} \\right) \\left( \\frac{a}{5 A} \\right)^{\\alpha} \\mathrm{exp}(-\\zeta Z) $$\n",
    "\n",
    "Silicates\n",
    "$$ \\zeta(a) = 2.95 \\, \\left(\\frac{a}{5 A}\\right)^{-1.04}$$\n",
    "\n",
    "$$ \\Gamma_0 = 2.3 \\times 10^{-20} $$\n",
    "\n",
    "Carbonaceous\n",
    "$$ \\Gamma_0 = 4.07 \\times 10^{-20} $$\n",
    "\n",
    "$$ f(Z) = \\frac{1}{\\sqrt{2\\pi \\sigma_{Z}^{2}}} \\; \\mathrm{exp}\\left( - \\frac{(Z - \\langle Z \\rangle)^{2}}{2\\sigma_{Z}^{2}} \\right)$$\n"
   ]
  },
  {
   "cell_type": "code",
   "execution_count": null,
   "metadata": {
    "collapsed": true
   },
   "outputs": [],
   "source": []
  },
  {
   "cell_type": "code",
   "execution_count": null,
   "metadata": {
    "collapsed": true
   },
   "outputs": [],
   "source": []
  },
  {
   "cell_type": "code",
   "execution_count": 65,
   "metadata": {
    "collapsed": true
   },
   "outputs": [],
   "source": [
    "def get_Gamma_dot(Gtot, T, ne, grain_size, grain_type):\n",
    "    # get ffz par\n",
    "    zcent = fzpar.get_zcent(Gtot, T, ne, grain_type, grain_size)\n",
    "    zwidth = fzpar.get_zwidth(grain_size, grain_type, zcent)\n",
    "    \n",
    "    zmin = np.floor(zcent - 5*zwidth)\n",
    "    zmax = np.ceil(zcent + 5*zwidth)\n",
    "    \n",
    "    ZZ = np.arange(zmin, zmax+1)\n",
    "    \n",
    "    # Assume a Gaussian distribution for the shape of the charge distribution.\n",
    "    ffz = np.zeros_like(ZZ)\n",
    "    ffz = 1.0 / (np.sqrt(2.*np.pi*zwidth**2)) * np.exp(-(ZZ - zcent)*(ZZ - zcent)/(2*zwidth**2))\n",
    "    \n",
    "    # get Gamma_dotdot\n",
    "    Gamma_dotdot_a_Z = get_Gamma_dotdot_par(grain_size, Gtot, ZZ, grain_type)\n",
    "    \n",
    "    Gammadot = np.sum(ffz*Gamma_dotdot_a_Z)\n",
    "    \n",
    "    return Gammadot"
   ]
  },
  {
   "cell_type": "code",
   "execution_count": 69,
   "metadata": {
    "collapsed": true
   },
   "outputs": [],
   "source": [
    "def get_Gamma_tot(Gtot, T, ne):\n",
    "    \"\"\"\n",
    "    Get the total heating rape per hydrogem atom.\n",
    "    \"\"\"\n",
    "    from scipy import integrate\n",
    "    \n",
    "    amin, amax = 3.5, 2500\n",
    "    fheat = lambda grain_size, Gtot, T, ne, grain_type: get_Gamma_dot(Gtot, T, ne, grain_size, grain_type)*sizedist.dnda(grain_size, grain_type)\n",
    "    \n",
    "    Gamma_pe_sil, err = integrate.quad(fheat, amin, amax, args=(Gtot, T, ne, \"silicate\"))\n",
    "    Gamma_pe_carb, err = integrate.quad(fheat, amin, amax, args=(Gtot, T, ne, \"carbonaceous\"))\n",
    "        \n",
    "    return Gamma_pe_sil + Gamma_pe_carb"
   ]
  },
  {
   "cell_type": "code",
   "execution_count": 70,
   "metadata": {
    "collapsed": true
   },
   "outputs": [],
   "source": [
    "Gammatot = np.zeros(3)\n",
    "GTn = np.zeros(3)\n",
    "for i in range(3):\n",
    "    Gammatot[i]= get_Gamma_tot(Gtot[i], temp[i], ne[i])*nH[i]\n",
    "    GTn[i] = Gtot[i]*np.sqrt(temp[i])/ne[i]"
   ]
  },
  {
   "cell_type": "code",
   "execution_count": 71,
   "metadata": {
    "collapsed": false
   },
   "outputs": [
    {
     "name": "stdout",
     "output_type": "stream",
     "text": [
      "[1.88802041e-26 1.33069783e-24 1.43248236e-21]\n"
     ]
    }
   ],
   "source": [
    "print(Gammatot)"
   ]
  },
  {
   "cell_type": "code",
   "execution_count": 72,
   "metadata": {
    "collapsed": false
   },
   "outputs": [
    {
     "data": {
      "image/png": "[encoded data removed]",
      "text/plain": [
       "<matplotlib.figure.Figure at 0x7f303888d890>"
      ]
     },
     "metadata": {},
     "output_type": "display_data"
    }
   ],
   "source": [
    "fig = plt.figure(figsize=(14,6))\n",
    "ax = fig.add_subplot(111)\n",
    "\n",
    "ax.scatter(GTn, Gammatot)\n",
    "\n",
    "ax.set_yscale(\"log\")\n",
    "ax.set_xscale(\"log\")\n",
    "#\n",
    "ax.set_xlabel(\"$G\\sqrt{T}n_{\\mathrm{e}}^{-1}$\", fontsize=15)\n",
    "ax.set_ylabel(\"$\\Gamma_{pe}$ [ergs]\", fontsize=15)\n",
    "\n",
    "ax.tick_params(axis='both', which='major', length=10, width=2,  labelsize=15, direction=\"in\")\n",
    "ax.tick_params(axis='both', which='minor', length=5, width=1.5, labelsize=15, direction=\"in\")\n",
    "\n",
    "ax.set_ylim(min(Gammatot)/10., max(Gammatot)*10.)\n",
    "\n",
    "fig.show()\n"
   ]
  }
 ],
 "metadata": {
  "kernelspec": {
   "display_name": "Python [default]",
   "language": "python",
   "name": "python2"
  },
  "language_info": {
   "codemirror_mode": {
    "name": "ipython",
    "version": 2
   },
   "file_extension": ".py",
   "mimetype": "text/x-python",
   "name": "python",
   "nbconvert_exporter": "python",
   "pygments_lexer": "ipython2",
   "version": "2.7.13"
  }
 },
 "nbformat": 4,
 "nbformat_minor": 2
}
