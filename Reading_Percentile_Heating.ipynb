{
 "cells": [
  {
   "cell_type": "code",
   "execution_count": 2,
   "metadata": {},
   "outputs": [
    {
     "name": "stdout",
     "output_type": "stream",
     "text": [
      "Loading the library to compute the charge distribution of dust grains.\n"
     ]
    }
   ],
   "source": [
    "import compute_charge_dist as fz\n",
    "import numpy as np\n",
    "import matplotlib.pyplot as plt\n",
    "import scipy.integrate as integrate\n",
    "\n",
    "import PeHeat_Functions as peh\n",
    "import parametric_fz as fzpar\n",
    "import dust_size_dist as sizedist\n",
    "\n",
    "from matplotlib.colors import LogNorm\n",
    "from matplotlib.ticker import MaxNLocator\n",
    "import matplotlib.ticker as ticker\n",
    "\n",
    "import pickle\n",
    "\n",
    "import yt\n",
    "from yt.units import pc, kpc, second, Kelvin, gram, erg, cm\n",
    "\n",
    "import MCMCFit as mcmc\n",
    "\n",
    "%matplotlib inline"
   ]
  },
  {
   "cell_type": "code",
   "execution_count": 65,
   "metadata": {},
   "outputs": [
    {
     "data": {
      "text/plain": [
       "<function close>"
      ]
     },
     "execution_count": 65,
     "metadata": {},
     "output_type": "execute_result"
    }
   ],
   "source": [
    "filename = \"Percentiles_0pcent.pkl\"\n",
    "data_dir = \"/Users/juan/codes/run/PeHeating\"\n",
    "pkl_file = open(\"%s/%s\"%(data_dir, filename), \"rb\")\n",
    "percdict = pickle.load(pkl_file)\n",
    "pkl_file.close"
   ]
  },
  {
   "cell_type": "code",
   "execution_count": 6,
   "metadata": {},
   "outputs": [
    {
     "data": {
      "text/plain": [
       "<function close>"
      ]
     },
     "execution_count": 6,
     "metadata": {},
     "output_type": "execute_result"
    }
   ],
   "source": [
    "filename = \"TotaHeating_parametric_0pcent.pkl\"\n",
    "#data_dir = \"/home/jcibanezm/codes/run/PeHeat/ParametricHeating/\" #DustBox\n",
    "data_dir = \"/Users/juan/codes/run/PeHeating/\" #Laptop\n",
    "\n",
    "pkl_file = open(\"%s%s\"%(data_dir, filename))\n",
    "heatDict = pickle.load(pkl_file)\n",
    "pkl_file.close"
   ]
  },
  {
   "cell_type": "code",
   "execution_count": 66,
   "metadata": {},
   "outputs": [
    {
     "data": {
      "image/png": "[encoded data removed]",
      "text/plain": [
       "<Figure size 432x288 with 2 Axes>"
      ]
     },
     "metadata": {},
     "output_type": "display_data"
    }
   ],
   "source": [
    "fig = plt.figure()\n",
    "ax = fig.add_subplot(121)\n",
    "ax.hist(percdict[\"size50\"], range=[3.5,10], bins=15)\n",
    "ax.set_yscale(\"log\")\n",
    "fig.show()\n",
    "\n",
    "ax = fig.add_subplot(122)\n",
    "ax.hist(percdict[\"size95\"], bins=20)\n",
    "ax.set_yscale(\"log\")\n",
    "fig.show()"
   ]
  },
  {
   "cell_type": "code",
   "execution_count": 67,
   "metadata": {},
   "outputs": [
    {
     "name": "stdout",
     "output_type": "stream",
     "text": [
      "92052\n"
     ]
    }
   ],
   "source": [
    "print(len(percdict[\"size50\"]))"
   ]
  },
  {
   "cell_type": "code",
   "execution_count": 68,
   "metadata": {},
   "outputs": [],
   "source": [
    "# Separate the percentiles by phase"
   ]
  },
  {
   "cell_type": "code",
   "execution_count": 73,
   "metadata": {},
   "outputs": [],
   "source": [
    "wnm = (heatDict[\"temp\"]  > 300)\n",
    "cnm = ((heatDict[\"temp\"] > 30)&(heatDict[\"temp\"] < 300))\n",
    "cmm = (heatDict[\"temp\"] <= 30)\n",
    "\n",
    "wnmtrue = np.argwhere(wnm==True)[:,0]\n",
    "cnmtrue = np.argwhere(cnm==True)[:,0]\n",
    "cmmtrue = np.argwhere(cmm==True)[:,0]"
   ]
  },
  {
   "cell_type": "code",
   "execution_count": 69,
   "metadata": {},
   "outputs": [],
   "source": [
    "temp = np.array(heatDict[\"temp\"][0:len(percdict[\"size50\"])])\n",
    "Gtot = np.array(heatDict[\"Gtot\"][0:len(percdict[\"size50\"])])\n",
    "ne   = np.array(heatDict[\"new_ne\"][0:len(percdict[\"size50\"])])"
   ]
  },
  {
   "cell_type": "code",
   "execution_count": 70,
   "metadata": {},
   "outputs": [],
   "source": [
    "wnm = (temp  > 300)\n",
    "cnm = ((temp > 30)&(temp < 300))\n",
    "cmm = (temp <= 30)\n",
    "\n",
    "wnmtrue = np.argwhere(wnm==True)[:,0]\n",
    "cnmtrue = np.argwhere(cnm==True)[:,0]\n",
    "cmmtrue = np.argwhere(cmm==True)[:,0]"
   ]
  },
  {
   "cell_type": "code",
   "execution_count": 74,
   "metadata": {},
   "outputs": [],
   "source": [
    "#GTn = heatDict[\"Gtot\"]*np.sqrt(heatDict[\"temp\"])/heatDict[\"new_ne\"]\n",
    "GTn = Gtot*np.sqrt(temp)/ne"
   ]
  },
  {
   "cell_type": "code",
   "execution_count": 113,
   "metadata": {},
   "outputs": [
    {
     "name": "stdout",
     "output_type": "stream",
     "text": [
      "6.79732350416\n"
     ]
    }
   ],
   "source": [
    "print(np.max(percdict[\"size50\"]))"
   ]
  },
  {
   "cell_type": "code",
   "execution_count": 144,
   "metadata": {},
   "outputs": [
    {
     "data": {
      "image/png": "[encoded data removed]",
      "text/plain": [
       "<Figure size 396x360 with 1 Axes>"
      ]
     },
     "metadata": {},
     "output_type": "display_data"
    }
   ],
   "source": [
    "rangehere = [4.5, 8.5]\n",
    "\n",
    "fig = plt.figure(figsize=(5.5,5))\n",
    "\n",
    "ax = fig.add_axes([0.19, 0.13, 0.80, 0.80])\n",
    "\n",
    "#ax.hist(percdict[\"size50\"][wnmtrue], range=[4,8], bins=4, color=\"red\", alpha=0.8, density=True, histtype='step', linewidth=2)\n",
    "ax.hist(percdict[\"size50\"][wnmtrue], range=rangehere, bins=4, color=\"red\", alpha=0.8, density=True, histtype='step', linewidth=2)\n",
    "ax.set_yscale(\"log\")\n",
    "\n",
    "ax.hist(percdict[\"size50\"][cnmtrue], range=rangehere, bins=4, color=\"blue\", alpha=0.8, density=True, histtype='step', linewidth=2)\n",
    "ax.set_yscale(\"log\")\n",
    "\n",
    "ax.hist(percdict[\"size50\"][cmmtrue], range=rangehere, bins=4, color=\"black\", alpha=0.8, density=True, histtype='step', linewidth=2)\n",
    "ax.set_yscale(\"log\")\n",
    "\n",
    "fig.show()\n",
    "\n",
    "ax.tick_params(axis='x', which='both', bottom='on', labelbottom='on', labelsize=15)\n",
    "ax.tick_params(axis='x', which='both', bottom='on', top='off', direction= 'inout',labelbottom='on') # labels along the bottom edge are off\n",
    "\n",
    "ax.set_xlabel(\"size [$\\\\AA$]\", fontsize=16)\n",
    "ax.set_ylabel(\"P(N)\", fontsize=16)\n",
    "\n",
    "ax.tick_params(axis='y', left=\"on\", which='major', length=6, width=2, labelsize=15)\n",
    "ax.tick_params(axis='y', left=\"on\", which='minor', length=3, width=1.5, labelsize=15)\n",
    "\n",
    "ax.plot([7.8, 8.3],[0.8, 0.8], \"-r\", linewidth=2)\n",
    "ax.text(7.25, 0.75, \"WNM\", fontsize=14)\n",
    "\n",
    "ax.plot([7.8, 8.3],[0.65, 0.65], \"-b\", linewidth=2)\n",
    "ax.text(7.25, 0.61, \"CNM\", fontsize=14)\n",
    "\n",
    "\n",
    "ax.plot([7.8, 8.3],[0.52, 0.52], \"-k\", linewidth=2)\n",
    "ax.text(7.25, 0.50, \"CMM\", fontsize=14)\n",
    "\n",
    "ax.set_title(\"50th percentile\", fontsize=17)\n",
    "\n",
    "fig.show()\n",
    "\n",
    "fig.savefig(\"/Users/juan/Dropbox/Projects/Papers/In_Progress/PeHeat_dust/Figures/HeatingPercentile_50.pdf\", format=\"pdf\")"
   ]
  },
  {
   "cell_type": "code",
   "execution_count": null,
   "metadata": {},
   "outputs": [],
   "source": []
  },
  {
   "cell_type": "code",
   "execution_count": 169,
   "metadata": {},
   "outputs": [
    {
     "data": {
      "text/plain": [
       "1258.9254117941675"
      ]
     },
     "execution_count": 169,
     "metadata": {},
     "output_type": "execute_result"
    }
   ],
   "source": [
    "10**(3.1)"
   ]
  },
  {
   "cell_type": "code",
   "execution_count": 172,
   "metadata": {},
   "outputs": [
    {
     "data": {
      "text/plain": [
       "2.5907843015911354"
      ]
     },
     "execution_count": 172,
     "metadata": {},
     "output_type": "execute_result"
    }
   ],
   "source": [
    "np.log10(np.min(percdict[\"size95\"]))"
   ]
  },
  {
   "cell_type": "code",
   "execution_count": 183,
   "metadata": {},
   "outputs": [
    {
     "data": {
      "image/png": "[encoded data removed]",
      "text/plain": [
       "<Figure size 396x360 with 1 Axes>"
      ]
     },
     "metadata": {},
     "output_type": "display_data"
    }
   ],
   "source": [
    "nbins = 4\n",
    "rangehere = [2.5, 3.09]\n",
    "\n",
    "# Formatting tick labels in log scale.\n",
    "def format_func(value, tick_number):\n",
    "    # find number of multiples of pi/2\n",
    "    return \"%i\"%10**value\n",
    "\n",
    "fig = plt.figure(figsize=(5.5,5))\n",
    "\n",
    "ax = fig.add_axes([0.125, 0.13, 0.87, 0.80])\n",
    "\n",
    "ax.hist(np.log10(percdict[\"size95\"][wnmtrue]), range=rangehere, bins=nbins, color=\"red\", alpha=0.8, density=True, histtype='step', linewidth=2)\n",
    "ax.set_yscale(\"log\")\n",
    "fig.show()\n",
    "\n",
    "ax.hist(np.log10(percdict[\"size95\"][cnmtrue]), range=rangehere, bins=nbins, color=\"blue\", alpha=0.8, density=True, histtype='step', linewidth=2)\n",
    "ax.set_yscale(\"log\")\n",
    "fig.show()\n",
    "\n",
    "ax.hist(np.log10(percdict[\"size95\"][cmmtrue]), range=rangehere, bins=nbins, color=\"black\", alpha=0.8, density=True, histtype='step', linewidth=2)\n",
    "ax.set_yscale(\"log\")\n",
    "fig.show()\n",
    "\n",
    "ax.tick_params(axis='x', which='both', bottom='on', labelbottom='on', labelsize=15)\n",
    "ax.tick_params(axis='x', which='both', bottom='on', top='off', direction= 'inout',labelbottom='on') # labels along the bottom edge are off\n",
    "\n",
    "ax.set_xlabel(\"size [$\\\\AA$]\", fontsize=16)\n",
    "ax.set_ylabel(\"P(N)\", fontsize=16, labelpad=-5)\n",
    "\n",
    "\n",
    "ax.tick_params(axis='y', left=\"on\", which='major', length=6, width=2, labelsize=15)\n",
    "ax.tick_params(axis='y', left=\"on\", which='minor', length=3, width=1.5, labelsize=15)\n",
    "\n",
    "\n",
    "majors = np.log10([350.1, 500.1, 700.1, 1000.1])\n",
    "#majors = np.log10([400.1, 600.1, 770.1, 1000, 1500])\n",
    "ax.xaxis.set_major_locator(ticker.FixedLocator(majors))\n",
    "#ax.xaxis.set_major_locator(MaxNLocator(integer=True))\n",
    "ax.xaxis.set_major_formatter(plt.FuncFormatter(format_func))\n",
    "\n",
    "ax.set_title(\"95th percentile\", fontsize=17)\n",
    "\n",
    "fig.show()\n",
    "\n",
    "fig.savefig(\"/Users/juan/Dropbox/Projects/Papers/In_Progress/PeHeat_dust/Figures/HeatingPercentile_95.pdf\", format=\"pdf\")"
   ]
  },
  {
   "cell_type": "code",
   "execution_count": 197,
   "metadata": {},
   "outputs": [
    {
     "data": {
      "image/png": "[encoded data removed]",
      "text/plain": [
       "<Figure size 396x360 with 1 Axes>"
      ]
     },
     "metadata": {},
     "output_type": "display_data"
    }
   ],
   "source": [
    "nbins = 5\n",
    "rangehere = [300, 1300]\n",
    "\n",
    "# Formatting tick labels in log scale.\n",
    "def format_func(value, tick_number):\n",
    "    # find number of multiples of pi/2\n",
    "    return \"%i\"%10**value\n",
    "\n",
    "fig = plt.figure(figsize=(5.5,5))\n",
    "\n",
    "ax = fig.add_axes([0.155, 0.13, 0.84, 0.80])\n",
    "\n",
    "ax.hist((percdict[\"size95\"][wnmtrue]), range=rangehere, bins=nbins, color=\"red\", alpha=0.8, density=True, histtype='step', linewidth=2)\n",
    "ax.set_yscale(\"log\")\n",
    "fig.show()\n",
    "\n",
    "ax.hist((percdict[\"size95\"][cnmtrue]), range=rangehere, bins=nbins, color=\"blue\", alpha=0.8, density=True, histtype='step', linewidth=2)\n",
    "ax.set_yscale(\"log\")\n",
    "fig.show()\n",
    "\n",
    "ax.hist((percdict[\"size95\"][cmmtrue]), range=rangehere, bins=nbins, color=\"black\", alpha=0.8, density=True, histtype='step', linewidth=2)\n",
    "ax.set_yscale(\"log\")\n",
    "fig.show()\n",
    "\n",
    "ax.tick_params(axis='x', which='both', bottom='on', labelbottom='on', labelsize=15)\n",
    "ax.tick_params(axis='x', which='both', bottom='on', top='off', direction= 'inout',labelbottom='on') # labels along the bottom edge are off\n",
    "\n",
    "ax.set_xlabel(\"size [$\\\\AA$]\", fontsize=16)\n",
    "ax.set_ylabel(\"P(N)\", fontsize=16, labelpad=-2)\n",
    "\n",
    "\n",
    "ax.tick_params(axis='y', left=\"on\", which='major', length=6, width=2, labelsize=15)\n",
    "ax.tick_params(axis='y', left=\"on\", which='minor', length=3, width=1.5, labelsize=15)\n",
    "\n",
    "\n",
    "#majors = np.log10([350.1, 500.1, 700.1, 1000.1])\n",
    "#majors = np.log10([400.1, 600.1, 770.1, 1000, 1500])\n",
    "#ax.xaxis.set_major_locator(ticker.FixedLocator(majors))\n",
    "#ax.xaxis.set_major_locator(MaxNLocator(integer=True))\n",
    "#ax.xaxis.set_major_formatter(plt.FuncFormatter(format_func))\n",
    "\n",
    "ax.set_title(\"95th percentile\", fontsize=17)\n",
    "\n",
    "fig.show()\n",
    "\n",
    "fig.savefig(\"/Users/juan/Dropbox/Projects/Papers/In_Progress/PeHeat_dust/Figures/HeatingPercentile_95.pdf\", format=\"pdf\")"
   ]
  }
 ],
 "metadata": {
  "kernelspec": {
   "display_name": "Python 2",
   "language": "python",
   "name": "python2"
  },
  "language_info": {
   "codemirror_mode": {
    "name": "ipython",
    "version": 2
   },
   "file_extension": ".py",
   "mimetype": "text/x-python",
   "name": "python",
   "nbconvert_exporter": "python",
   "pygments_lexer": "ipython2",
   "version": "2.7.15"
  }
 },
 "nbformat": 4,
 "nbformat_minor": 2
}
