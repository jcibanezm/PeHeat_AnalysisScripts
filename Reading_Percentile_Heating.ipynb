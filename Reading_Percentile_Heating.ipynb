{
 "cells": [
  {
   "cell_type": "code",
   "execution_count": 1,
   "metadata": {
    "collapsed": false
   },
   "outputs": [
    {
     "name": "stdout",
     "output_type": "stream",
     "text": [
      "Loading the library to compute the charge distribution of dust grains.\n"
     ]
    }
   ],
   "source": [
    "import compute_charge_dist as fz\n",
    "import numpy as np\n",
    "import matplotlib.pyplot as plt\n",
    "import scipy.integrate as integrate\n",
    "\n",
    "import PeHeat_Functions as peh\n",
    "import parametric_fz as fzpar\n",
    "import dust_size_dist as sizedist\n",
    "\n",
    "from matplotlib.colors import LogNorm\n",
    "from matplotlib.ticker import MaxNLocator\n",
    "import matplotlib.ticker as ticker\n",
    "\n",
    "import pickle\n",
    "\n",
    "import yt\n",
    "from yt.units import pc, kpc, second, Kelvin, gram, erg, cm\n",
    "\n",
    "import MCMCFit as mcmc\n",
    "\n",
    "%matplotlib inline"
   ]
  },
  {
   "cell_type": "code",
   "execution_count": 7,
   "metadata": {
    "collapsed": false
   },
   "outputs": [
    {
     "data": {
      "text/plain": [
       "<function close>"
      ]
     },
     "execution_count": 7,
     "metadata": {},
     "output_type": "execute_result"
    }
   ],
   "source": [
    "filename = \"Percentiles_50pcent.pkl\"\n",
    "#data_dir = \"/Users/juan/codes/run/PeHeating\"\n",
    "data_dit = \"/home/jcibanezm/codes/run/PeHeat/ParametricHeating\"\n",
    "pkl_file = open(\"%s\"%(filename), \"rb\")\n",
    "#pkl_file = open(\"%s/%s\"%(data_dir, filename), \"rb\")\n",
    "percdict = pickle.load(pkl_file)\n",
    "pkl_file.close"
   ]
  },
  {
   "cell_type": "code",
   "execution_count": 9,
   "metadata": {
    "collapsed": true
   },
   "outputs": [],
   "source": [
    "# Trim the very large data.\n",
    "too_high = np.where(percdict[\"nH\"] > 1.0e6)\n",
    "\n",
    "for key in percdict.keys():\n",
    "    #arrs.append(0)\n",
    "    if key!=\"info\":\n",
    "        #print(key)\n",
    "        percdict[key] = np.delete(percdict[key], too_high)\n"
   ]
  },
  {
   "cell_type": "code",
   "execution_count": 10,
   "metadata": {
    "collapsed": false
   },
   "outputs": [
    {
     "name": "stderr",
     "output_type": "stream",
     "text": [
      "/home/jcibanezm/codes/libs/miniconda3/lib/python2.7/site-packages/matplotlib/figure.py:397: UserWarning: matplotlib is currently using a non-GUI backend, so cannot show the figure\n",
      "  \"matplotlib is currently using a non-GUI backend, \"\n"
     ]
    },
    {
     "data": {
      "image/png": "[encoded data removed]",
      "text/plain": [
       "<matplotlib.figure.Figure at 0x7f1acf3ab910>"
      ]
     },
     "metadata": {},
     "output_type": "display_data"
    }
   ],
   "source": [
    "fig = plt.figure()\n",
    "ax = fig.add_subplot(121)\n",
    "ax.hist(percdict[\"size50\"], range=[3.5,10], bins=15)\n",
    "ax.set_yscale(\"log\")\n",
    "fig.show()\n",
    "\n",
    "ax = fig.add_subplot(122)\n",
    "ax.hist(percdict[\"size95\"], bins=20)\n",
    "ax.set_yscale(\"log\")\n",
    "fig.show()"
   ]
  },
  {
   "cell_type": "code",
   "execution_count": 11,
   "metadata": {
    "collapsed": false
   },
   "outputs": [
    {
     "name": "stdout",
     "output_type": "stream",
     "text": [
      "9205440\n"
     ]
    }
   ],
   "source": [
    "print(len(percdict[\"size50\"]))"
   ]
  },
  {
   "cell_type": "code",
   "execution_count": 12,
   "metadata": {
    "collapsed": true
   },
   "outputs": [],
   "source": [
    "# Separate the percentiles by phase"
   ]
  },
  {
   "cell_type": "code",
   "execution_count": 15,
   "metadata": {
    "collapsed": false
   },
   "outputs": [],
   "source": [
    "wnm = (percdict[\"temp\"]  > 300)\n",
    "cnm = ((percdict[\"temp\"] > 30)&(percdict[\"temp\"] < 300))\n",
    "cmm = (percdict[\"temp\"] <= 30)\n",
    "\n",
    "wnmtrue = np.argwhere(wnm==True)[:,0]\n",
    "cnmtrue = np.argwhere(cnm==True)[:,0]\n",
    "cmmtrue = np.argwhere(cmm==True)[:,0]"
   ]
  },
  {
   "cell_type": "code",
   "execution_count": 16,
   "metadata": {
    "collapsed": true
   },
   "outputs": [],
   "source": [
    "#GTn = heatDict[\"Gtot\"]*np.sqrt(heatDict[\"temp\"])/heatDict[\"new_ne\"]\n",
    "GTn = percdict[\"Gtot\"]*np.sqrt(percdict[\"temp\"])/percdict[\"new_ne\"]"
   ]
  },
  {
   "cell_type": "code",
   "execution_count": null,
   "metadata": {
    "collapsed": true
   },
   "outputs": [],
   "source": [
    "# Mass weighted!!!!"
   ]
  },
  {
   "cell_type": "code",
   "execution_count": 72,
   "metadata": {
    "collapsed": false
   },
   "outputs": [],
   "source": [
    "rangehere = [4.5, 9.5]\n",
    "rangeplot = np.arange(np.ceil(rangehere[0]), np.ceil(rangehere[1]), 1)\n",
    "hstwnm = np.histogram(percdict[\"size50\"][wnmtrue], range=rangehere, bins=5, normed=True)\n",
    "hstcnm = np.histogram(percdict[\"size50\"][cnmtrue], range=rangehere, bins=5, normed=True)\n",
    "hstcmm = np.histogram(percdict[\"size50\"][cmmtrue], range=rangehere, bins=5, normed=True)"
   ]
  },
  {
   "cell_type": "code",
   "execution_count": 94,
   "metadata": {
    "collapsed": false
   },
   "outputs": [
    {
     "data": {
      "image/png": "[encoded data removed]",
      "text/plain": [
       "<matplotlib.figure.Figure at 0x7f1a88159fd0>"
      ]
     },
     "metadata": {},
     "output_type": "display_data"
    }
   ],
   "source": [
    "rangehere = [4.5, 8.5]\n",
    "\n",
    "fig = plt.figure(figsize=(5.5,5))\n",
    "\n",
    "ax = fig.add_axes([0.19, 0.13, 0.80, 0.80])\n",
    "\n",
    "#ax.hist(percdict[\"size50\"][wnmtrue], range=[4,8], bins=4, color=\"red\", alpha=0.8, density=True, histtype='step', linewidth=2)\n",
    "ax.plot(rangeplot+0.5, hstwnm[0], \"-r\", linestyle=\"steps\", linewidth=2)\n",
    "ax.set_yscale(\"log\")\n",
    "\n",
    "ax.plot(rangeplot+0.5, hstcnm[0], \"-b\", linestyle=\"steps\", linewidth=2)\n",
    "ax.set_yscale(\"log\")\n",
    "\n",
    "ax.plot(rangeplot+0.5, hstcmm[0], \"-k\",linestyle=\"steps\", linewidth=2)\n",
    "ax.set_yscale(\"log\")\n",
    "\n",
    "#ax.hist(percdict[\"size50\"][wnmtrue], range=rangehere, bins=4, color=\"red\", alpha=0.8, density=True, histtype='step', linewidth=2)\n",
    "#ax.set_yscale(\"log\")\n",
    "\n",
    "#ax.hist(percdict[\"size50\"][cnmtrue], range=rangehere, bins=4, color=\"blue\", alpha=0.8, density=True, histtype='step', linewidth=2)\n",
    "#ax.set_yscale(\"log\")\n",
    "\n",
    "#ax.hist(percdict[\"size50\"][cmmtrue], range=rangehere, bins=4, color=\"black\", alpha=0.8, density=True, histtype='step', linewidth=2)\n",
    "#ax.set_yscale(\"log\")\n",
    "\n",
    "fig.show()\n",
    "\n",
    "ax.tick_params(axis='x', which='both', bottom='on', labelbottom='on', labelsize=15)\n",
    "ax.tick_params(axis='x', which='both', bottom='on', top='off', direction= 'inout',labelbottom='on') # labels along the bottom edge are off\n",
    "\n",
    "ax.set_xlabel(\"size [$\\\\AA$]\", fontsize=16)\n",
    "ax.set_ylabel(\"P(N)\", fontsize=16)\n",
    "\n",
    "ax.tick_params(axis='y', left=\"on\", which='major', length=6, width=2, labelsize=15)\n",
    "ax.tick_params(axis='y', left=\"on\", which='minor', length=3, width=1.5, labelsize=15)\n",
    "\n",
    "ax.plot([9.2, 8.7],[0.72, 0.72], \"-r\", linewidth=2)\n",
    "ax.text(9.3, 0.65, \"WNM\", fontsize=15)\n",
    "\n",
    "ax.plot([9.2, 8.7],[0.47, 0.47], \"-b\", linewidth=2)\n",
    "ax.text(9.3, 0.41, \"CNM\", fontsize=15)\n",
    "\n",
    "ax.plot([9.2, 8.7],[0.29, 0.29], \"-k\", linewidth=2)\n",
    "ax.text(9.3, 0.25, \"CMM\", fontsize=15)\n",
    "\n",
    "ax.set_title(\"50th percentile\", fontsize=17)\n",
    "\n",
    "ax.set_xlim(5, 10)\n",
    "\n",
    "fig.show()\n",
    "\n",
    "#fig.savefig(\"/Users/juan/Dropbox/Projects/Papers/In_Progress/PeHeat_dust/Figures/HeatingPercentile_50.pdf\", format=\"pdf\")"
   ]
  },
  {
   "cell_type": "code",
   "execution_count": null,
   "metadata": {
    "collapsed": true
   },
   "outputs": [],
   "source": []
  },
  {
   "cell_type": "code",
   "execution_count": 169,
   "metadata": {
    "collapsed": false
   },
   "outputs": [
    {
     "data": {
      "text/plain": [
       "1258.9254117941675"
      ]
     },
     "execution_count": 169,
     "metadata": {},
     "output_type": "execute_result"
    }
   ],
   "source": [
    "10**(3.1)"
   ]
  },
  {
   "cell_type": "code",
   "execution_count": 172,
   "metadata": {
    "collapsed": false
   },
   "outputs": [
    {
     "data": {
      "text/plain": [
       "2.5907843015911354"
      ]
     },
     "execution_count": 172,
     "metadata": {},
     "output_type": "execute_result"
    }
   ],
   "source": [
    "np.log10(np.min(percdict[\"size95\"]))"
   ]
  },
  {
   "cell_type": "code",
   "execution_count": 183,
   "metadata": {
    "collapsed": false
   },
   "outputs": [
    {
     "data": {
      "image/png": "[encoded data removed]",
      "text/plain": [
       "<Figure size 396x360 with 1 Axes>"
      ]
     },
     "metadata": {},
     "output_type": "display_data"
    }
   ],
   "source": [
    "nbins = 4\n",
    "rangehere = [2.5, 3.09]\n",
    "\n",
    "# Formatting tick labels in log scale.\n",
    "def format_func(value, tick_number):\n",
    "    # find number of multiples of pi/2\n",
    "    return \"%i\"%10**value\n",
    "\n",
    "fig = plt.figure(figsize=(5.5,5))\n",
    "\n",
    "ax = fig.add_axes([0.125, 0.13, 0.87, 0.80])\n",
    "\n",
    "ax.hist(np.log10(percdict[\"size95\"][wnmtrue]), range=rangehere, bins=nbins, color=\"red\", alpha=0.8, density=True, histtype='step', linewidth=2)\n",
    "ax.set_yscale(\"log\")\n",
    "fig.show()\n",
    "\n",
    "ax.hist(np.log10(percdict[\"size95\"][cnmtrue]), range=rangehere, bins=nbins, color=\"blue\", alpha=0.8, density=True, histtype='step', linewidth=2)\n",
    "ax.set_yscale(\"log\")\n",
    "fig.show()\n",
    "\n",
    "ax.hist(np.log10(percdict[\"size95\"][cmmtrue]), range=rangehere, bins=nbins, color=\"black\", alpha=0.8, density=True, histtype='step', linewidth=2)\n",
    "ax.set_yscale(\"log\")\n",
    "fig.show()\n",
    "\n",
    "ax.tick_params(axis='x', which='both', bottom='on', labelbottom='on', labelsize=15)\n",
    "ax.tick_params(axis='x', which='both', bottom='on', top='off', direction= 'inout',labelbottom='on') # labels along the bottom edge are off\n",
    "\n",
    "ax.set_xlabel(\"size [$\\\\AA$]\", fontsize=16)\n",
    "ax.set_ylabel(\"P(N)\", fontsize=16, labelpad=-5)\n",
    "\n",
    "\n",
    "ax.tick_params(axis='y', left=\"on\", which='major', length=6, width=2, labelsize=15)\n",
    "ax.tick_params(axis='y', left=\"on\", which='minor', length=3, width=1.5, labelsize=15)\n",
    "\n",
    "\n",
    "majors = np.log10([350.1, 500.1, 700.1, 1000.1])\n",
    "#majors = np.log10([400.1, 600.1, 770.1, 1000, 1500])\n",
    "ax.xaxis.set_major_locator(ticker.FixedLocator(majors))\n",
    "#ax.xaxis.set_major_locator(MaxNLocator(integer=True))\n",
    "ax.xaxis.set_major_formatter(plt.FuncFormatter(format_func))\n",
    "\n",
    "ax.set_title(\"95th percentile\", fontsize=17)\n",
    "\n",
    "fig.show()\n",
    "\n",
    "fig.savefig(\"/Users/juan/Dropbox/Projects/Papers/In_Progress/PeHeat_dust/Figures/HeatingPercentile_95.pdf\", format=\"pdf\")"
   ]
  },
  {
   "cell_type": "code",
   "execution_count": 197,
   "metadata": {
    "collapsed": false
   },
   "outputs": [
    {
     "data": {
      "image/png": "[encoded data removed]",
      "text/plain": [
       "<Figure size 396x360 with 1 Axes>"
      ]
     },
     "metadata": {},
     "output_type": "display_data"
    }
   ],
   "source": [
    "nbins = 5\n",
    "rangehere = [300, 1300]\n",
    "\n",
    "# Formatting tick labels in log scale.\n",
    "def format_func(value, tick_number):\n",
    "    # find number of multiples of pi/2\n",
    "    return \"%i\"%10**value\n",
    "\n",
    "fig = plt.figure(figsize=(5.5,5))\n",
    "\n",
    "ax = fig.add_axes([0.155, 0.13, 0.84, 0.80])\n",
    "\n",
    "ax.hist((percdict[\"size95\"][wnmtrue]), range=rangehere, bins=nbins, color=\"red\", alpha=0.8, density=True, histtype='step', linewidth=2)\n",
    "ax.set_yscale(\"log\")\n",
    "fig.show()\n",
    "\n",
    "ax.hist((percdict[\"size95\"][cnmtrue]), range=rangehere, bins=nbins, color=\"blue\", alpha=0.8, density=True, histtype='step', linewidth=2)\n",
    "ax.set_yscale(\"log\")\n",
    "fig.show()\n",
    "\n",
    "ax.hist((percdict[\"size95\"][cmmtrue]), range=rangehere, bins=nbins, color=\"black\", alpha=0.8, density=True, histtype='step', linewidth=2)\n",
    "ax.set_yscale(\"log\")\n",
    "fig.show()\n",
    "\n",
    "ax.tick_params(axis='x', which='both', bottom='on', labelbottom='on', labelsize=15)\n",
    "ax.tick_params(axis='x', which='both', bottom='on', top='off', direction= 'inout',labelbottom='on') # labels along the bottom edge are off\n",
    "\n",
    "ax.set_xlabel(\"size [$\\\\AA$]\", fontsize=16)\n",
    "ax.set_ylabel(\"P(N)\", fontsize=16, labelpad=-2)\n",
    "\n",
    "\n",
    "ax.tick_params(axis='y', left=\"on\", which='major', length=6, width=2, labelsize=15)\n",
    "ax.tick_params(axis='y', left=\"on\", which='minor', length=3, width=1.5, labelsize=15)\n",
    "\n",
    "\n",
    "#majors = np.log10([350.1, 500.1, 700.1, 1000.1])\n",
    "#majors = np.log10([400.1, 600.1, 770.1, 1000, 1500])\n",
    "#ax.xaxis.set_major_locator(ticker.FixedLocator(majors))\n",
    "#ax.xaxis.set_major_locator(MaxNLocator(integer=True))\n",
    "#ax.xaxis.set_major_formatter(plt.FuncFormatter(format_func))\n",
    "\n",
    "ax.set_title(\"95th percentile\", fontsize=17)\n",
    "\n",
    "fig.show()\n",
    "\n",
    "fig.savefig(\"/Users/juan/Dropbox/Projects/Papers/In_Progress/PeHeat_dust/Figures/HeatingPercentile_95.pdf\", format=\"pdf\")"
   ]
  }
 ],
 "metadata": {
  "anaconda-cloud": {},
  "kernelspec": {
   "display_name": "Python [default]",
   "language": "python",
   "name": "python2"
  },
  "language_info": {
   "codemirror_mode": {
    "name": "ipython",
    "version": 2
   },
   "file_extension": ".py",
   "mimetype": "text/x-python",
   "name": "python",
   "nbconvert_exporter": "python",
   "pygments_lexer": "ipython2",
   "version": "2.7.15"
  }
 },
 "nbformat": 4,
 "nbformat_minor": 2
}
