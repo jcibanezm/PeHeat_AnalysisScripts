{
 "cells": [
  {
   "cell_type": "code",
   "execution_count": 1,
   "metadata": {
    "collapsed": false
   },
   "outputs": [
    {
     "name": "stdout",
     "output_type": "stream",
     "text": [
      "Loading the library to compute the charge distribution of dust grains.\n"
     ]
    }
   ],
   "source": [
    "import compute_charge_dist as fz\n",
    "import numpy as np\n",
    "import matplotlib.pyplot as plt\n",
    "import scipy.integrate as integrate\n",
    "\n",
    "%matplotlib inline\n",
    "\n",
    "microntocm    = 1.0e-4\n",
    "cmtomicron    = 1.0e4\n",
    "AAtocm        = 1.0e-8\n",
    "cmtoAA        = 1.0e8\n",
    "microntoAA    = 1.0e4\n",
    "AAtomicron    = 1.0e-4\n",
    "ergtoeV       = 6.242e11\n",
    "eVtoerg       = 1.602e-12\n",
    "\n",
    "hplanck       = 4.135667662e-15 # eV s\n",
    "clight        = 2.99792458e10   # cm s-1"
   ]
  },
  {
   "cell_type": "code",
   "execution_count": 33,
   "metadata": {
    "collapsed": false
   },
   "outputs": [
    {
     "data": {
      "text/plain": [
       "<function close>"
      ]
     },
     "execution_count": 33,
     "metadata": {},
     "output_type": "execute_result"
    }
   ],
   "source": [
    "import pickle\n",
    "import numpy as np\n",
    "import matplotlib.pyplot as plt\n",
    "from   matplotlib.colors import LogNorm\n",
    "\n",
    "from scipy.optimize import curve_fit\n",
    "\n",
    "import time\n",
    "\n",
    "%matplotlib inline\n",
    "\n",
    "\n",
    "grain_type = \"silicate\"\n",
    "#grain_type = \"carbonaceous\"\n",
    "pcent      = 1\n",
    "\n",
    "########################################################################################\n",
    "\n",
    "grain_size = 5\n",
    "\n",
    "save_dir = \"/home/jcibanezm/codes/run/ChargeStatisticsAnalysis/Daikaiju\"\n",
    "filename = \"fz_%.4iAA_%s_CR_True_%i_pcent.pkl\"%(grain_size, grain_type, pcent) \n",
    "#filename = \"CompletenessCopy_0005AA_sil_CR.pkl\"\n",
    "\n",
    "pkl_file    = open(\"%s/%s\"%(save_dir, filename), \"rb\")\n",
    "cdist = pickle.load(pkl_file)\n",
    "pkl_file.close"
   ]
  },
  {
   "cell_type": "code",
   "execution_count": 34,
   "metadata": {
    "collapsed": false
   },
   "outputs": [],
   "source": [
    "#too_high = np.where(cdist[\"nH\"] > 2.0e4)\n",
    "\n",
    "#arrs = []\n",
    "\n",
    "#ii = 0\n",
    "#for key in cdist.keys():\n",
    "    #arrs.append(0)\n",
    "#    if key!=\"Qabs_mean\" and key!=\"grain_size\" and key!=\"grain_type\" and key!=\"MPI\" and key!=\"fdist\" and key!=\"info\" and key!=\"zminmax\":\n",
    "        #print(key)\n",
    "#        cdist[key] = np.delete(cdist[key], too_high)\n",
    "\n",
    "#cell_mass  = np.delete(cell_mass, too_high)"
   ]
  },
  {
   "cell_type": "code",
   "execution_count": 35,
   "metadata": {
    "collapsed": false
   },
   "outputs": [
    {
     "data": {
      "text/plain": [
       "array([-0.13611121,  0.00341209, -0.19253396, ..., -0.02796377,\n",
       "        0.03549214,  0.03818272])"
      ]
     },
     "execution_count": 35,
     "metadata": {},
     "output_type": "execute_result"
    }
   ],
   "source": [
    "cdist[\"zmean\"]"
   ]
  },
  {
   "cell_type": "markdown",
   "metadata": {},
   "source": [
    "## Heating per grain:\n",
    "\n",
    "$$ \\Gamma^{'}_{pe}(a) = \\sum_{Z}f_{Z}(Z)\\Gamma^{''}_{pe}(a,Z,G)$$"
   ]
  },
  {
   "cell_type": "code",
   "execution_count": 36,
   "metadata": {
    "collapsed": true
   },
   "outputs": [],
   "source": [
    "# Need to separate fZ for each grain."
   ]
  },
  {
   "cell_type": "code",
   "execution_count": 37,
   "metadata": {
    "collapsed": true
   },
   "outputs": [],
   "source": [
    "#I could just compute Gamma_pe_a_Z for all possible Z's, and just give it to the function.\n",
    "# Because if I have to loop over each grain and have to compute Gamma_pe_a_Z every time, it will take longer..."
   ]
  },
  {
   "cell_type": "code",
   "execution_count": 39,
   "metadata": {
    "collapsed": true
   },
   "outputs": [],
   "source": [
    "def Gamma_per_grain(ZZall, Gamma_a_Z, ZZ_fz, fz, GG):\n",
    "    \"\"\"\n",
    "    Computes the heating rate per grain. Equation 38 in Weingartner and Draine 2001.\n",
    "    This function requires the charge distribution function of the grain. \n",
    "    Internally computes the heating rate of the grain at each charge in the distribution.\n",
    "    Then sums over the product of the charge PDF times heating(Z).\n",
    "    \n",
    "    input:\n",
    "        asize: grain size in Angstroms.\n",
    "        grain_type: carbonaceous or silicate\n",
    "        ZZ: charge array\n",
    "        fz: charge distribution function.\n",
    "        GG: scaling of the radiation field\n",
    "        \n",
    "    return:\n",
    "        Gamma_pe_a: Heating rate per grain, in units erg/s\n",
    "    \"\"\"\n",
    "    \n",
    "    # index in the ZZall array for the charges in ZZ_fz\n",
    "    zi_down = np.where(ZZall == ZZ_fz[0])[0][0]# find the index of the ZZ_fz[0] in ZZall \n",
    "    zi_up   = np.where(ZZall == ZZ_fz[-1])[0][0]# find the index of the ZZ_fz[-1] in ZZall\n",
    "    \n",
    "    Gamma_pe_a = np.sum(fz*Gamma_a_Z[zi_down:zi_up+1])\n",
    "    \n",
    "    return Gamma_pe_a"
   ]
  },
  {
   "cell_type": "code",
   "execution_count": 52,
   "metadata": {
    "collapsed": false
   },
   "outputs": [],
   "source": [
    "index = 0\n",
    "\n",
    "zmin = cdist[\"zminmax\"][index]\n",
    "zmax = cdist[\"zminmax\"][index+1]\n",
    "znum = int(abs(zmin) + zmax + 1)\n",
    "\n",
    "GG = cdist[\"G\"][index]\n",
    "\n",
    "Ndust = cdist[\"Av\"][index]*1.87e21\n",
    "\n",
    "ZZfz = np.arange(zmin, zmax+1, 1)\n",
    "\n",
    "ffz = cdist[\"fdist\"][index:index+znum]"
   ]
  },
  {
   "cell_type": "code",
   "execution_count": 53,
   "metadata": {
    "collapsed": false
   },
   "outputs": [
    {
     "name": "stdout",
     "output_type": "stream",
     "text": [
      "I'm looking for a grain size smaller than 10 Angstrom. Outside the tabulated data!!!\n",
      "Using the absorption efficiency for a 10 AA grain\n"
     ]
    }
   ],
   "source": [
    "grain_type=\"silicate\"\n",
    "Qabs = fz.get_QabsTable(grain_type, grain_size)\n",
    "\n",
    "Zmin_sil, Zmax_sil = fz.get_Zmin(grain_size, grain_type), fz.get_Zmax(grain_size, grain_type)\n",
    "Znum_sil = int(Zmax_sil + abs(Zmin_sil) +1)\n",
    "ZZ_sil = np.linspace(Zmin_sil, Zmax_sil, num=Znum_sil)\n",
    "\n",
    "Gamma_dotdot_Z_sil = np.zeros_like(ZZ_sil)\n",
    "\n",
    "for i in range(Znum_sil):\n",
    "    Gamma_dotdot_Z_sil[i] = get_Gamma_pe_dotdot(grain_size, ZZ_sil[i], grain_type, Ndust, Qabs, G0=1.7)\n",
    "    \n",
    "#ZZ_sil = np.concatenate(([Zmin_sil-1], ZZ_sil))\n",
    "#Gamma_dotdot_Z_sil = np.concatenate(([Gamma_dotdot_Z_sil[0]], Gamma_dotdot_Z_sil))"
   ]
  },
  {
   "cell_type": "code",
   "execution_count": 54,
   "metadata": {
    "collapsed": false
   },
   "outputs": [
    {
     "name": "stdout",
     "output_type": "stream",
     "text": [
      "[7.38968381e-21 1.06843565e-21 7.18403095e-24 0.00000000e+00]\n"
     ]
    }
   ],
   "source": [
    "print(Gamma_dotdot_Z_sil)"
   ]
  },
  {
   "cell_type": "markdown",
   "metadata": {},
   "source": [
    "I need to make this a function, that takes the grain size and composition, because I have to integrate this distribution."
   ]
  },
  {
   "cell_type": "markdown",
   "metadata": {},
   "source": [
    "I actually need to make the full function of the charging parameter where I give all the parameters:\n",
    "    -nH\n",
    "    -T\n",
    "    -ne\n",
    "    -Ntot\n",
    "    -NH2"
   ]
  },
  {
   "cell_type": "code",
   "execution_count": 211,
   "metadata": {
    "collapsed": false
   },
   "outputs": [],
   "source": [
    "Gamma_a = np.zeros_like(cdist[\"zmean\"])\n",
    "zmean = np.zeros_like(Gamma_a)\n",
    "cum = 0\n",
    "\n",
    "#for index in range(100):\n",
    "for index in range(len(Gamma_a)):\n",
    "    \n",
    "    zmin = cdist[\"zminmax\"][index*2]\n",
    "    zmax = cdist[\"zminmax\"][index*2+1]\n",
    "    znum = int(abs(zmin) + zmax + 1)\n",
    "\n",
    "    GG = cdist[\"G\"][index]\n",
    "    \n",
    "    Ndust = cdist[\"Av\"][index]*1.87e21\n",
    "\n",
    "    ZZfz = np.arange(zmin, zmax+1, 1)\n",
    "\n",
    "    ffz = cdist[\"fdist\"][cum:cum+znum]\n",
    "    cum += znum\n",
    "    \n",
    "    zmean = np.sum(ZZfz*ffz)\n",
    "    \n",
    "    Gamma_a[index]= Gamma_per_grain(ZZ_sil, Gamma_dotdot_Z_sil, ZZfz, ffz, GG)\n",
    "    #print(Gamma_a[index])"
   ]
  },
  {
   "cell_type": "code",
   "execution_count": 215,
   "metadata": {
    "collapsed": false
   },
   "outputs": [
    {
     "data": {
      "image/png": "[encoded data removed]",
      "text/plain": [
       "<matplotlib.figure.Figure at 0x7fb34116ed90>"
      ]
     },
     "metadata": {},
     "output_type": "display_data"
    }
   ],
   "source": [
    "fig = plt.figure(figsize=(8,6))\n",
    "ax = fig.add_subplot(111)\n",
    "\n",
    "#ax.plot(cdist[\"nH\"][0:len(Gamma_a)], Gamma_a*1.0e21, \"-r\", linewidth=3, label=\"silicate, Z=0\")\n",
    "#ax.scatter(cdist[\"nH\"][0:len(Gamma_a)], Gamma_a*1.0e21)\n",
    "#ax.hist2d(np.log10(cdist[\"nH\"][0:len(Gamma_a)]), np.log10(Gamma_a), bins=50, norm=LogNorm(), cmap=\"viridis\")\n",
    "ax.hist2d(np.log10(cdist[\"nH\"]),cdist[\"zmean\"], bins=50, norm=LogNorm(), cmap=\"viridis\", range=[[-1, 4.3],[-0.6, 0.7]])\n",
    "\n",
    "#ax.set_yscale(\"log\")\n",
    "#ax.set_xscale(\"log\")\n",
    "\n",
    "#ax.set_xlabel(\"a [$\\AA$]\", fontsize=20)\n",
    "ax.set_ylabel(\"$\\\\langle Z \\\\rangle$\", fontsize=18)\n",
    "\n",
    "#ax.legend(loc=0, fontsize=18)\n",
    "\n",
    "ax.tick_params(axis='both', which='major', length=10, width=2,  labelsize=15, direction=\"in\")\n",
    "ax.tick_params(axis='both', which='minor', length=5, width=1.5, labelsize=15, direction=\"in\")\n",
    "\n",
    "\n",
    "#ax.set_title(\"Heating Rate vs grain size, Z=0, G=1.7\"%asize, fontsize=18)\n",
    "\n",
    "fig.show()"
   ]
  },
  {
   "cell_type": "code",
   "execution_count": 226,
   "metadata": {
    "collapsed": false
   },
   "outputs": [
    {
     "data": {
      "image/png": "[encoded data removed]",
      "text/plain": [
       "<matplotlib.figure.Figure at 0x7fb340c43a10>"
      ]
     },
     "metadata": {},
     "output_type": "display_data"
    }
   ],
   "source": [
    "fig = plt.figure(figsize=(8,6))\n",
    "ax = fig.add_subplot(111)\n",
    "\n",
    "#ax.plot(cdist[\"nH\"][0:len(Gamma_a)], Gamma_a*1.0e21, \"-r\", linewidth=3, label=\"silicate, Z=0\")\n",
    "#ax.scatter(cdist[\"nH\"][0:len(Gamma_a)], Gamma_a*1.0e21)\n",
    "#ax.hist2d(np.log10(cdist[\"nH\"][0:len(Gamma_a)]), np.log10(Gamma_a), bins=50, norm=LogNorm(), cmap=\"viridis\")\n",
    "ax.hist2d(np.log10(cdist[\"nH\"]),Gamma_a*1.0e21, bins=50, norm=LogNorm(), cmap=\"inferno\", range=[[-1, 4.3],[5, 40]])\n",
    "\n",
    "#ax.set_yscale(\"log\")\n",
    "#ax.set_xscale(\"log\")\n",
    "\n",
    "ax.set_xlabel(\"log$_{10}$(n$_{\\mathrm{H}}$) [cm$^{-3}$]\", fontsize=20)\n",
    "ax.set_ylabel(\"10$^{21} \\\\times$ $\\Gamma^{'}_{a, pe}$ [ergs]\", fontsize=18)\n",
    "\n",
    "#ax.legend(loc=0, fontsize=18)\n",
    "\n",
    "ax.tick_params(axis='both', which='major', length=10, width=2,  labelsize=15, direction=\"in\")\n",
    "ax.tick_params(axis='both', which='minor', length=5, width=1.5, labelsize=15, direction=\"in\")\n",
    "\n",
    "\n",
    "#ax.set_title(\"Heating Rate vs grain size, Z=0, G=1.7\"%asize, fontsize=18)\n",
    "\n",
    "fig.show()"
   ]
  },
  {
   "cell_type": "code",
   "execution_count": 270,
   "metadata": {
    "collapsed": false
   },
   "outputs": [
    {
     "data": {
      "image/png": "[encoded data removed]",
      "text/plain": [
       "<matplotlib.figure.Figure at 0x7fb33e9e6f90>"
      ]
     },
     "metadata": {},
     "output_type": "display_data"
    }
   ],
   "source": [
    "xsize = 16\n",
    "ysize = 4.3\n",
    "\n",
    "nfigs_x = 4\n",
    "nfigs_y = 1\n",
    "\n",
    "fig = plt.figure(figsize=(xsize, ysize))\n",
    "\n",
    "hpad = 0.09\n",
    "wpad = 0.057\n",
    "wwpad = 0.01\n",
    "\n",
    "xs_panel = 0.84 / nfigs_x \n",
    "ys_panel = 0.82 / nfigs_y \n",
    "\n",
    "#total_mass = np.sum(cell_mass_int)\n",
    "\n",
    "############################################################################################################\n",
    "############################             n          #######################################\n",
    "############################################################################################################\n",
    "\n",
    "ax = fig.add_axes([0, 0, 1, 1])\n",
    "\n",
    "#ax.plot([0,1], [0,1], visible=False)\n",
    "ax.set_xlim(0,1)\n",
    "ax.set_ylim(0,1)\n",
    "\n",
    "#ax.text(0.18, 0.955, \"5 AA\", fontsize=20, horizontalalignment='center')\n",
    "\n",
    "#plt.axis('off')\n",
    "\n",
    "#------------------------------------------------------------------------------------------------\n",
    "# From bottom left, to upper right.\n",
    "ii = 0\n",
    "jj = 0\n",
    "\n",
    "\n",
    "ax = fig.add_axes([wpad + ii*xs_panel, hpad + jj*ys_panel, xs_panel, ys_panel])\n",
    "\n",
    "cax = ax.hist2d(np.log10(cdist[\"nH\"]), Gamma_a*1.0e21, bins=50, norm=LogNorm(), cmap=\"inferno\", range=[[-1, 4.3],[5, 40]])\n",
    "#ax.tick_params(axis='both', which='major', length=10, width=2,  labelsize=15, direction=\"in\")\n",
    "#ax.tick_params(axis='both', which='minor', length=5, width=1.5, labelsize=15, direction=\"in\")\n",
    "\n",
    "ax.grid(\"on\")\n",
    "\n",
    "ax.tick_params(\n",
    "    axis='x',          # changes apply to the x-axis\n",
    "    which='both',      # both major and minor ticks are affected\n",
    "    bottom='on',      # ticks along the bottom edge are off\n",
    "    top='off',         # ticks along the top edge are off\n",
    "    direction= 'inout',\n",
    "    labelbottom='on') # labels along the bottom edge are off\n",
    "\n",
    "ax.set_ylabel(\"$10^{21} \\\\times \\Gamma^{'}_{pe}(a)$\", fontsize=20)\n",
    "ax.set_xlabel(\"log$_{10}$(n$_{H}$) [cm$^{-3}$]\", fontsize=16)\n",
    "\n",
    "ax.tick_params(axis='x', which='both', bottom='on', labelbottom='on')\n",
    "ax.tick_params(axis='both', which='major', length=6, width=2, labelsize=15)\n",
    "\n",
    "\n",
    "############################################################################################################\n",
    "############################                T          #######################################\n",
    "############################################################################################################\n",
    "\n",
    "#------------------------------------------------------------------------------------------------\n",
    "# From bottom left, to upper right.\n",
    "ii = 1\n",
    "jj = 0\n",
    "\n",
    "ax = fig.add_axes([wpad + ii*(xs_panel+wwpad), hpad + jj*ys_panel, xs_panel, ys_panel])\n",
    "\n",
    "ax.hist2d(np.log10(cdist[\"temp\"]), Gamma_a*1.0e21, bins=50, norm=LogNorm(), cmap=\"inferno\", range=[[1, 4.0],[5, 40]])\n",
    "\n",
    "#ax.hist2d(np.log10(cdist[\"temp\"][0:len(cell_mass)]), cdist[\"zstd\"][0:len(cell_mass)], bins=50, norm=LogNorm(), cmap=\"magma\", weights=cell_mass/total_mass, vmin=1.0e-6, vmax=1.0e-1)\n",
    "#ax.tick_params(axis='both', which='major', length=10, width=2,  labelsize=15, direction=\"in\")\n",
    "#ax.tick_params(axis='both', which='minor', length=5, width=1.5, labelsize=15, direction=\"in\")\n",
    "\n",
    "ax.grid(\"on\")\n",
    "\n",
    "ax.tick_params(\n",
    "    axis='both',          # changes apply to the x-axis\n",
    "    which='both',      # both major and minor ticks are affected\n",
    "    bottom='on',      # ticks along the bottom edge are off\n",
    "    top='off',         # ticks along the top edge are off\n",
    "    direction= 'inout',\n",
    "    labelbottom='on', labelleft='off') # labels along the bottom edge are off\n",
    "\n",
    "\n",
    "ax.set_xlabel(\"log$_{10}$(T) [K]\", fontsize=16)\n",
    "\n",
    "ax.set_xlim([np.max(np.log10(cdist[\"temp\"])),np.min(np.log10(cdist[\"temp\"]))])\n",
    "\n",
    "ax.tick_params(axis='both', which='major', length=6, width=2, labelsize=15)\n",
    "\n",
    "\n",
    "\n",
    "\n",
    "############################################################################################################\n",
    "############################               G            #######################################\n",
    "############################################################################################################\n",
    "\n",
    "#------------------------------------------------------------------------------------------------\n",
    "# From bottom left, to upper right.\n",
    "ii = 2\n",
    "jj = 0\n",
    "\n",
    "\n",
    "ax = fig.add_axes([wpad + ii*(xs_panel+wwpad), hpad + jj*ys_panel, xs_panel, ys_panel])\n",
    "\n",
    "# Missing G_CR\n",
    "ax.hist2d(np.log10(cdist[\"G\"]), Gamma_a*1.0e21, bins=50, norm=LogNorm(), cmap=\"inferno\", range=[[-1.4, np.log10(1.7)],[5, 40]])\n",
    "\n",
    "#cax = ax.hist2d(np.log10(cdist[\"G\"][0:len(cell_mass)]+G_CR[0:len(cell_mass)]), cdist[\"zstd\"][0:len(cell_mass)], bins=50, norm=LogNorm(), cmap=\"magma\", weights=cell_mass/total_mass, vmin=1.0e-6, vmax=1.0e-1)\n",
    "#ax.tick_params(axis='both', which='major', length=10, width=2,  labelsize=15, direction=\"in\")\n",
    "#ax.tick_params(axis='both', which='minor', length=5, width=1.5, labelsize=15, direction=\"in\")\n",
    "\n",
    "ax.grid(\"on\")\n",
    "\n",
    "\n",
    "ax.tick_params(\n",
    "    axis='both',          # changes apply to the x-axis\n",
    "    which='both',      # both major and minor ticks are affected\n",
    "    bottom='on',      # ticks along the bottom edge are off\n",
    "    top='off',         # ticks along the top edge are off\n",
    "    direction= 'inout',\n",
    "    labelbottom='on', labelleft='off') # labels along the bottom edge are off\n",
    "\n",
    "\n",
    "ax.set_xlabel(\"log$_{10}$ (G$_{\\\\mathrm{tot}}$)\", fontsize=16)\n",
    "\n",
    "#ax.set_xlim([np.log10(1.7),np.min(np.log10(cdist[\"G\"]))])\n",
    "ax.set_xlim(np.log10(1.7),-1.4)\n",
    "\n",
    "ax.tick_params(axis='both', which='major', length=6, width=2, labelsize=15)\n",
    "\n",
    "\n",
    "############################################################################################################\n",
    "############################               ne            #######################################\n",
    "############################################################################################################\n",
    "\n",
    "#------------------------------------------------------------------------------------------------\n",
    "# From bottom left, to upper right.\n",
    "ii = 3\n",
    "jj = 0\n",
    "\n",
    "\n",
    "ax = fig.add_axes([wpad + ii*(xs_panel+wwpad), hpad + jj*ys_panel, xs_panel, ys_panel])\n",
    "\n",
    "ax.hist2d(np.log10(cdist[\"ne\"]), Gamma_a*1.0e21, bins=50, norm=LogNorm(), cmap=\"inferno\", range=[[-3, -0.5],[5, 40]])\n",
    "\n",
    "#Gamma_a*1.0e21, bins=50, norm=LogNorm(), cmap=\"\", weights=cell_mass/total_mass, vmin=1.0e-6, vmax=1.0e-1)\n",
    "#ax.tick_params(axis='both', which='major', length=10, width=2,  labelsize=15, direction=\"in\")\n",
    "#ax.tick_params(axis='both', which='minor', length=5, width=1.5, labelsize=15, direction=\"in\")\n",
    "\n",
    "ax.grid(\"on\")\n",
    "\n",
    "ax.tick_params(\n",
    "    axis='both',          # changes apply to the x-axis\n",
    "    which='both',      # both major and minor ticks are affected\n",
    "    bottom='on',      # ticks along the bottom edge are off\n",
    "    top='off',         # ticks along the top edge are off\n",
    "    direction= 'inout',\n",
    "    labelbottom='on', labelleft='off') # labels along the bottom edge are off\n",
    "\n",
    "ax.set_xlabel(\"log$_{10}$(n$_{e}$) [cm$^{-3}$]\", fontsize=16)\n",
    "\n",
    "\n",
    "ax.tick_params(axis='both', which='major', length=6, width=2, labelsize=15)\n",
    "\n",
    "\n",
    "\n",
    "#################################################################################################\n",
    "# Add colorbar.\n",
    "cbar_ax = fig.add_axes([0.93, 0.09, 0.02, 0.82])\n",
    "cbar    = fig.colorbar(cax[3], cax=cbar_ax, orientation=\"vertical\")\n",
    "\n",
    "cbar.set_label(\"$M/M_{tot}$\", fontsize=18, labelpad=5)\n",
    "cbar.ax.tick_params(labelsize=15)\n",
    "\n",
    "fig.suptitle(\"%i $\\\\AA$\"%(cdist[\"grain_size\"]), fontsize=20, y=0.99)\n",
    "\n",
    "fig.show()"
   ]
  },
  {
   "cell_type": "markdown",
   "metadata": {},
   "source": [
    "## Now, integrate over the size distribution\n",
    "\n",
    "$$ \\frac{\\Gamma_{tot}}{G n_{\\mathrm{H}}} = \\sum_{c,s} \\int_{a_{min}}^{a_{max}} \\frac{\\Gamma^{'}_{pe} - \\Lambda^{'}_{gr}}{G} \\frac{1}{n_{\\mathrm{H}}} \\frac{dn_{gr}}{da} da $$"
   ]
  },
  {
   "cell_type": "code",
   "execution_count": null,
   "metadata": {
    "collapsed": true
   },
   "outputs": [],
   "source": []
  }
 ],
 "metadata": {
  "anaconda-cloud": {},
  "kernelspec": {
   "display_name": "Python [default]",
   "language": "python",
   "name": "python2"
  },
  "language_info": {
   "codemirror_mode": {
    "name": "ipython",
    "version": 2
   },
   "file_extension": ".py",
   "mimetype": "text/x-python",
   "name": "python",
   "nbconvert_exporter": "python",
   "pygments_lexer": "ipython2",
   "version": "2.7.15"
  }
 },
 "nbformat": 4,
 "nbformat_minor": 2
}
