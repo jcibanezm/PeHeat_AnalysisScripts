{
 "cells": [
  {
   "cell_type": "markdown",
   "metadata": {},
   "source": [
    "This notebook contains the derivation and implementantion of the parametric heating rate. It builds up on several other notebooks that have the individual derivations of energy of photoelectrons as a function of the strength of the radiation field, G, charge, Z, and size, a."
   ]
  },
  {
   "cell_type": "code",
   "execution_count": 1,
   "metadata": {},
   "outputs": [
    {
     "name": "stdout",
     "output_type": "stream",
     "text": [
      "Loading the library to compute the charge distribution of dust grains.\n"
     ]
    }
   ],
   "source": [
    "import compute_charge_dist as fz\n",
    "import numpy as np\n",
    "import matplotlib.pyplot as plt\n",
    "import scipy.integrate as integrate\n",
    "\n",
    "import PeHeat_Functions as peh\n",
    "import parametric_fz as fzpar\n",
    "\n",
    "import MCMCFit as mcmc\n",
    "\n",
    "%matplotlib inline\n",
    "\n",
    "microntocm    = 1.0e-4\n",
    "cmtomicron    = 1.0e4\n",
    "AAtocm        = 1.0e-8\n",
    "cmtoAA        = 1.0e8\n",
    "microntoAA    = 1.0e4\n",
    "AAtomicron    = 1.0e-4\n",
    "ergtoeV       = 6.242e11\n",
    "eVtoerg       = 1.602e-12\n",
    "\n",
    "hplanck       = 4.135667662e-15 # eV s\n",
    "clight        = 2.99792458e10   # cm s-1"
   ]
  },
  {
   "cell_type": "markdown",
   "metadata": {},
   "source": [
    "# Parameters for Silicate grains only !!\n",
    "\n",
    "We describe the energy per photoelectron by\n",
    "\n",
    "$$ \\Gamma_{\\mathrm{pe}}^{''}(a, G, Z) = 2.3 \\times 10^{-20} \\left( \\frac{a}{5 \\mathrm{\\AA}} \\right)^{2.39} \\left( \\frac{G}{1.7} \\right) \\mathrm{exp}(-\\zeta Z)$$\n",
    "\n",
    "where the parameter $\\zeta(a)$ is size dependent, and is given by:\n",
    "\n",
    "$$ \\zeta(a) = 2.953042 \\, \\left(\\frac{a}{5 \\mathrm{\\AA}}\\right)^{-1.03848}$$"
   ]
  },
  {
   "cell_type": "code",
   "execution_count": 2,
   "metadata": {
    "collapsed": true
   },
   "outputs": [],
   "source": [
    "def get_Gamma_dotdot_par(asize, G, Z, grain_type):\n",
    "    \"\"\"\n",
    "    Parametric equation of the energy per photoelectron as a function of the grain size, charge, strength of the incident radiation field and charge.\n",
    "    \n",
    "    Input parameters:\n",
    "        asize: Grain size in Angstroms\n",
    "        G: Scaling of the radiation field in units of Habing field.\n",
    "        Z: Charge, in units of proton charge.\n",
    "        grain_type: 'silicate' or 'carbonaceous'\n",
    "        \n",
    "    return:\n",
    "        Gamma_pe^{''} in erg s-1\n",
    "    \"\"\"\n",
    "    \n",
    "    if grain_type == \"silicate\":\n",
    "        Gamma0 = 2.3e-20\n",
    "        alpha  = 2.39\n",
    "        zeta   = 2.953042 * (asize / 5.0)**(-1.03848) \n",
    "    else:\n",
    "        print(\"Not supporting carbonaceous grains yet.\")\n",
    "    \n",
    "    gamma_dotdot_pe = Gamma0 * (asize / 5.0)**(alpha) * (G / 1.7) * np.exp(- zeta * Z)\n",
    "    \n",
    "    return gamma_dotdot_pe"
   ]
  },
  {
   "cell_type": "markdown",
   "metadata": {},
   "source": [
    "Now, I should call parametric fz, and full fz.\n",
    "\n",
    "Compare parametric fz* parametric Gamma_pe with full fz * full Gamma_pe."
   ]
  },
  {
   "cell_type": "markdown",
   "metadata": {},
   "source": [
    "I should then continue to make the function to integrate over the dust grain population"
   ]
  },
  {
   "cell_type": "markdown",
   "metadata": {},
   "source": [
    "---"
   ]
  },
  {
   "cell_type": "code",
   "execution_count": 27,
   "metadata": {},
   "outputs": [],
   "source": [
    "import pickle\n",
    "import numpy as np\n",
    "import matplotlib.pyplot as plt\n",
    "from   matplotlib.colors import LogNorm\n",
    "\n",
    "from scipy.optimize import curve_fit\n",
    "\n",
    "import time\n",
    "\n",
    "%matplotlib inline\n",
    "\n",
    "\n",
    "grain_type = \"silicate\"\n",
    "#grain_type = \"carbonaceous\"\n",
    "pcent      = 1\n",
    "\n",
    "########################################################################################\n",
    "\n",
    "grain_size = 10\n",
    "\n",
    "save_dir = \"/home/jcibanezm/codes/run/ChargeStatisticsAnalysis/Daikaiju\"\n",
    "filename = \"fz_%.4iAA_%s_CR_True_%i_pcent.pkl\"%(grain_size, grain_type, pcent) \n",
    "#filename = \"CompletenessCopy_0005AA_sil_CR.pkl\"\n",
    "\n",
    "pkl_file    = open(\"%s/%s\"%(save_dir, filename), \"rb\")\n",
    "cdist = pickle.load(pkl_file)\n",
    "pkl_file.close\n",
    "\n",
    "# Load Qabs.\n",
    "Qabs = fz.get_QabsTable(grain_type, grain_size)"
   ]
  },
  {
   "cell_type": "code",
   "execution_count": 28,
   "metadata": {},
   "outputs": [],
   "source": [
    "NH2all = np.zeros_like(cdist[\"zmean\"])\n",
    "G_CR   = np.zeros_like(cdist[\"zmean\"])\n",
    "for ii in range(len(cdist[\"zmean\"])):\n",
    "    NH2all[ii] = fz.get_NH2(cdist[\"fH2shield\"][ii], cdist[\"temp\"][ii])\n",
    "    G_CR[ii]   = fz.get_G_CR(NH2all[ii])"
   ]
  },
  {
   "cell_type": "code",
   "execution_count": null,
   "metadata": {
    "collapsed": true
   },
   "outputs": [],
   "source": [
    "def Cooling_perGrain()"
   ]
  },
  {
   "cell_type": "code",
   "execution_count": 18,
   "metadata": {},
   "outputs": [],
   "source": [
    "Gamma_a_par_fz_par   = np.zeros_like(cdist[\"zmean\"])\n",
    "Gamma_a_par_fz_full  = np.zeros_like(cdist[\"zmean\"])\n",
    "Gamma_a_full_fz_par  = np.zeros_like(cdist[\"zmean\"])\n",
    "Gamma_a_full_fz_full = np.zeros_like(cdist[\"zmean\"])\n",
    "\n",
    "zmean   = np.zeros_like(cdist[\"zmean\"])\n",
    "cum = 0\n",
    "\n",
    "\n",
    "Zmin_sil, Zmax_sil = fz.get_Zmin(grain_size, grain_type), fz.get_Zmax(grain_size, grain_type)\n",
    "Znum_sil = int(Zmax_sil + abs(Zmin_sil) +1)\n",
    "ZZ_sil = np.arange(Zmin_sil, Zmax_sil+1)\n",
    "\n",
    "Gamma_dotdot_Z_sil = np.zeros_like(ZZ_sil)\n",
    "\n",
    "# Compute the energy per photoelectron for a given size and incident radiation field as a function of charge. \n",
    "for i in range(Znum_sil):\n",
    "    Gamma_dotdot_Z_sil[i] = peh.get_Gamma_pe_dotdot(grain_size, ZZ_sil[i], grain_type, 0.0, Qabs, G0=1.7)\n",
    "\n",
    "\n",
    "GG    = cdist[\"G\"]\n",
    "Gtot  = GG + G_CR\n",
    "Ndust = cdist[\"Av\"]*1.87e21\n",
    "    \n",
    "#for index in range(100):\n",
    "for index in range(len(cdist[\"zmean\"])):\n",
    "    \n",
    "    zmin = cdist[\"zminmax\"][index*2]\n",
    "    zmax = cdist[\"zminmax\"][index*2+1]\n",
    "    znum = int(zmax - zmin + 1)\n",
    "\n",
    "    ZZfz = np.arange(zmin, zmax+1, 1)\n",
    "\n",
    "    ffz = cdist[\"fdist\"][cum:cum+znum]\n",
    "    cum += znum\n",
    "    \n",
    "    zi_down = np.where(ZZ_sil == ZZfz[0])[0][0]# find the index of the ZZ_fz[0] in ZZall \n",
    "    zi_up   = np.where(ZZ_sil == ZZfz[-1])[0][0]# find the index of the ZZ_fz[-1] in ZZall\n",
    "    \n",
    "    #print(\"Zi_down\", zi_down, \"zi_up\", zi_up)\n",
    "    #print(ZZ_sil[zi_down], ZZ_sil[zi_up])\n",
    "    #print(len(Gamma_dotdot_Z_sil[zi_down:zi_up+1]))\n",
    "    \n",
    "    # Scale the energy of photoelectrons with the local strength of the radiation field.\n",
    "    Gamma_a_Z = Gamma_dotdot_Z_sil * (Gtot[index] / 1.7)\n",
    "    Gamma_a_full_fz_full[index] = np.sum(ffz*Gamma_a_Z[zi_down:zi_up+1])\n",
    "    \n",
    "    #Gamma_a_full_fz_full[index]= np.sum(ffz * Gamma_dotdot_a_Z) \n",
    "\n",
    "    \n",
    "    # Now do the parametric calculation. Again\n",
    "    ZZpar, ffzpar = fzpar.get_fz(ntot=cdist[\"nH\"][index], T=cdist[\"temp\"][index], xe=cdist[\"xe\"][index], Ntot=Ndust[index],\n",
    "                                 NH2=NH2all[index], grain_type=grain_type, grain_size=grain_size, xH2=cdist[\"xH2\"][index],\n",
    "                                 G0=1.7, correct_edens=True)\n",
    "    \n",
    "    Gamma_a_Z_par = get_Gamma_dotdot_par(grain_size, Gtot[index], ZZpar, grain_type)\n",
    "    \n",
    "    Gamma_a_par_fz_par[index] = np.sum(ffzpar*Gamma_a_Z_par)"
   ]
  },
  {
   "cell_type": "code",
   "execution_count": 26,
   "metadata": {},
   "outputs": [
    {
     "data": {
      "image/png": "[encoded data removed]",
      "text/plain": [
       "<matplotlib.figure.Figure at 0x7f97b86b9810>"
      ]
     },
     "metadata": {},
     "output_type": "display_data"
    }
   ],
   "source": [
    "fig = plt.figure(figsize=(14,6))\n",
    "ax = fig.add_subplot(121)\n",
    "\n",
    "#ax.hist2d(np.log10(cdist[\"nH\"]),Gamma_a_full_fz_full*1.0e21, bins=50, norm=LogNorm(), cmap=\"inferno\", range=[[-1, 4.3],[0, 150]])\n",
    "ax.hist2d(np.log10(cdist[\"nH\"]),Gamma_a_full_fz_full*1.0e21, bins=50, norm=LogNorm(), cmap=\"inferno\")\n",
    "#\n",
    "ax.set_xlabel(\"log$_{10}$(n$_{\\mathrm{H}}$ [cm$^{-3}$])\", fontsize=15)\n",
    "ax.set_ylabel(\"10$^{21} \\\\times$ $\\Gamma^{'}_{pe}(5 \\\\AA)$ [ergs]\", fontsize=15)\n",
    "\n",
    "#ax.set_yscale(\"log\")\n",
    "\n",
    "ax.tick_params(axis='both', which='major', length=10, width=2,  labelsize=15, direction=\"in\")\n",
    "ax.tick_params(axis='both', which='minor', length=5, width=1.5, labelsize=15, direction=\"in\")\n",
    "\n",
    "\n",
    "\n",
    "ax = fig.add_subplot(122)\n",
    "#ax.hist2d(np.log10(cdist[\"nH\"]),Gamma_a_par_fz_par*1.0e21, bins=50, norm=LogNorm(), cmap=\"inferno\", range=[[-1, 4.3],[0, 150]])\n",
    "ax.hist2d(np.log10(cdist[\"nH\"]),Gamma_a_par_fz_par*1.0e21, bins=50, norm=LogNorm(), cmap=\"inferno\")\n",
    "#\n",
    "ax.set_xlabel(\"log$_{10}$(n$_{\\mathrm{H}}$ [cm$^{-3}$])\", fontsize=15)\n",
    "ax.set_ylabel(\"10$^{21} \\\\times$ $\\Gamma^{'}_{pe}(5 \\\\AA)$ [ergs]\", fontsize=15)\n",
    "\n",
    "#ax.set_yscale(\"log\")\n",
    "\n",
    "ax.tick_params(axis='both', which='major', length=10, width=2,  labelsize=15, direction=\"in\")\n",
    "ax.tick_params(axis='both', which='minor', length=5, width=1.5, labelsize=15, direction=\"in\")\n",
    "\n",
    "fig.show()\n",
    "\n",
    "#fig.savefig(\"/home/jcibanezm/Dropbox/Projects/Papers/In_Progress/PeHeat_dust/Figures/Appendix/HeatingPerGrain_fullvspar_%iAA.pdf\"%grain_size, format=\"pdf\")"
   ]
  },
  {
   "cell_type": "code",
   "execution_count": 19,
   "metadata": {},
   "outputs": [
    {
     "name": "stderr",
     "output_type": "stream",
     "text": [
      "/home/jcibanezm/codes/libs/miniconda3/lib/python2.7/site-packages/matplotlib/colors.py:932: RuntimeWarning: divide by zero encountered in log\n",
      "  resdat -= np.log(vmin)\n",
      "/home/jcibanezm/codes/libs/miniconda3/lib/python2.7/site-packages/matplotlib/colors.py:933: RuntimeWarning: divide by zero encountered in log\n",
      "  resdat /= (np.log(vmax) - np.log(vmin))\n"
     ]
    },
    {
     "data": {
      "image/png": "[encoded data removed]",
      "text/plain": [
       "<matplotlib.figure.Figure at 0x7f97b8bc4ed0>"
      ]
     },
     "metadata": {},
     "output_type": "display_data"
    }
   ],
   "source": [
    "fig = plt.figure(figsize=(14,6))\n",
    "ax = fig.add_subplot(121)\n",
    "\n",
    "ax.hist2d(np.log10(cdist[\"nH\"]),Gamma_a_full_fz_full*1.0e21, bins=50, norm=LogNorm(), cmap=\"inferno\", range=[[-1, 4.3],[0, 150]])\n",
    "#\n",
    "ax.set_xlabel(\"log$_{10}$(n$_{\\mathrm{H}}$) [cm$^{-3}$]\", fontsize=15)\n",
    "ax.set_ylabel(\"10$^{21} \\\\times$ $\\Gamma^{'}_{pe}(5 \\\\AA)$ [ergs]\", fontsize=15)\n",
    "\n",
    "ax.tick_params(axis='both', which='major', length=10, width=2,  labelsize=15, direction=\"in\")\n",
    "ax.tick_params(axis='both', which='minor', length=5, width=1.5, labelsize=15, direction=\"in\")\n",
    "\n",
    "\n",
    "ax = fig.add_subplot(122)\n",
    "ax.hist2d(np.log10(cdist[\"nH\"]),Gamma_a_par_fz_par*1.0e21/1.5, bins=50, norm=LogNorm(), cmap=\"inferno\", range=[[-1, 4.3],[0, 150]])\n",
    "#\n",
    "ax.set_xlabel(\"log$_{10}$(n$_{\\mathrm{H}}$) [cm$^{-3}$]\", fontsize=15)\n",
    "ax.set_ylabel(\"10$^{21} \\\\times$ $\\Gamma^{'}_{pe}(5 \\\\AA)$ [ergs]\", fontsize=15)\n",
    "\n",
    "ax.tick_params(axis='both', which='major', length=10, width=2,  labelsize=15, direction=\"in\")\n",
    "ax.tick_params(axis='both', which='minor', length=5, width=1.5, labelsize=15, direction=\"in\")\n",
    "\n",
    "fig.show()\n",
    "\n",
    "#fig.savefig(\"/home/jcibanezm/Dropbox/Projects/Papers/In_Progress/PeHeat_dust/Figures/Appendix/HeatingPerGrain_fullvspar_%iAA_scaled.pdf\"%grain_size, format=\"pdf\")"
   ]
  },
  {
   "cell_type": "code",
   "execution_count": null,
   "metadata": {
    "collapsed": true
   },
   "outputs": [],
   "source": []
  }
 ],
 "metadata": {
  "kernelspec": {
   "display_name": "Python 2",
   "language": "python",
   "name": "python2"
  },
  "language_info": {
   "codemirror_mode": {
    "name": "ipython",
    "version": 2
   },
   "file_extension": ".py",
   "mimetype": "text/x-python",
   "name": "python",
   "nbconvert_exporter": "python",
   "pygments_lexer": "ipython2",
   "version": "2.7.15"
  }
 },
 "nbformat": 4,
 "nbformat_minor": 2
}
