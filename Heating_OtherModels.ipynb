{
 "cells": [
  {
   "cell_type": "code",
   "execution_count": 3,
   "metadata": {},
   "outputs": [
    {
     "name": "stdout",
     "output_type": "stream",
     "text": [
      "Loading the library to compute the charge distribution of dust grains.\n"
     ]
    }
   ],
   "source": [
    "import compute_charge_dist as fz\n",
    "import numpy as np\n",
    "import matplotlib.pyplot as plt\n",
    "import scipy.integrate as integrate\n",
    "\n",
    "import PeHeat_Functions as peh\n",
    "import parametric_fz as fzpar\n",
    "import dust_size_dist as sizedist\n",
    "\n",
    "from matplotlib.colors import LogNorm\n",
    "\n",
    "import yt\n",
    "from yt.units import pc, kpc, second, Kelvin, gram, erg, cm\n",
    "\n",
    "import MCMCFit as mcmc\n",
    "\n",
    "%matplotlib inline\n",
    "\n",
    "microntocm    = 1.0e-4\n",
    "cmtomicron    = 1.0e4\n",
    "AAtocm        = 1.0e-8\n",
    "cmtoAA        = 1.0e8\n",
    "microntoAA    = 1.0e4\n",
    "AAtomicron    = 1.0e-4\n",
    "ergtoeV       = 6.242e11\n",
    "eVtoerg       = 1.602e-12\n",
    "\n",
    "hplanck       = 4.135667662e-15 # eV s\n",
    "clight        = 2.99792458e10   # cm s-1"
   ]
  },
  {
   "cell_type": "code",
   "execution_count": 4,
   "metadata": {},
   "outputs": [
    {
     "name": "stderr",
     "output_type": "stream",
     "text": [
      "/Users/juan/anaconda/lib/python2.7/site-packages/yt/fields/local_fields.py:46: UserWarning: Because 'sampling_type' not specified, yt will assume a cell 'sampling_type'\n",
      "  warnings.warn(\"Because 'sampling_type' not specified, yt will \"\n"
     ]
    }
   ],
   "source": [
    "# Define some constant parameters to be used.\n",
    "mp      = 1.6726e-24  * gram # g\n",
    "mH      = 1.6733e-24  * gram\n",
    "mC      = 12.011*mH\n",
    "#mu      = 1.2924\n",
    "kb      = 1.3806e-16  *erg / Kelvin # erg K-1\n",
    "GNewton = 6.6743e-8   * cm**3 / (gram * second**2 )# cm3 g-1 s-2\n",
    "Msun    = 1.9884e33   * gram\n",
    "#mm      = mu*mp\n",
    "\n",
    "ppc = 3.0856776e18\n",
    "\n",
    "# -------------------------------------------------------------\n",
    "#              Create a lot of new derived fields\n",
    "# -------------------------------------------------------------\n",
    "\n",
    "# Create a derived field.\n",
    "# Hydrogen number density\n",
    "def numdensH(field, data): \n",
    "    nH = data[\"dens\"]*(data[\"ihp \"]+data[\"iha \"]+data[\"ih2 \"])/(1.4*mH)\n",
    "    return nH\n",
    "\n",
    "# Molecular Hydrogen number density\n",
    "def numdensH2(field, data): \n",
    "    nH2 = data[\"dens\"]*(data[\"ih2 \"])/(1.4*mH)\n",
    "    return nH2\n",
    "\n",
    "# Carbon number density\n",
    "def numdensC(field, data): \n",
    "    nC = data[\"dens\"]*(data[\"icp \"]+data[\"ico \"])/(1.4*mC)\n",
    "    return nC\n",
    "\n",
    "# electron number density\n",
    "def numdense(field, data): \n",
    "    ne = data[\"dens\"]*(data[\"ihp \"]/(1.4*mH) + data[\"icp \"]/(1.4*mC))\n",
    "    return ne\n",
    "\n",
    "# Ionized hydrogen fraction\n",
    "def xHp(field, data): \n",
    "    nH  = data[\"dens\"]*(data[\"ihp \"]+data[\"iha \"]+data[\"ih2 \"])/(1.4*mH)\n",
    "    xHp = data[\"dens\"]*data[\"ihp \"]/(1.4*mH)\n",
    "    xHp = xHp / nH\n",
    "    return xHp\n",
    "\n",
    "# Molecular hydrogen fraction\n",
    "def xH2(field, data): \n",
    "    nH  = data[\"dens\"]*(data[\"ihp \"]+data[\"iha \"]+data[\"ih2 \"])/(1.4*mH)\n",
    "    xH2 = data[\"dens\"]*data[\"ih2 \"]/(1.4*mH)\n",
    "    xH2 = xH2 / nH\n",
    "    return xH2\n",
    "\n",
    "# Ionized carbon fraction\n",
    "def xCp(field, data): \n",
    "    nC  = data[\"dens\"]*(data[\"icp \"]+data[\"ico \"])/(1.4*mC)\n",
    "    xCp = data[\"dens\"]*data[\"icp \"]/(1.4*mC) / nC\n",
    "    return xCp\n",
    "\n",
    "# electron fraction\n",
    "def xe(field, data): \n",
    "    nH = data[\"dens\"]*(data[\"ihp \"]+data[\"iha \"]+data[\"ih2 \"])/(1.4*mH)\n",
    "    nC = data[\"dens\"]*(data[\"icp \"]+data[\"ico \"])/(1.4*mC)\n",
    "    ne = data[\"dens\"]*(data[\"ihp \"]/(1.4*mH) + data[\"icp \"]/(1.4*mC))\n",
    "    xe = ne / (nH + nC)\n",
    "    return xe\n",
    "\n",
    "# electron fraction\n",
    "#def GG(field, data): \n",
    "#    G = fz.get_G(data[\"cdto\"], 1.68)\n",
    "#    return G\n",
    "\n",
    "\n",
    "yt.add_field('nH', function=numdensH,  units=\"1/cm**3\", force_override=True)\n",
    "yt.add_field('nH2',function=numdensH2, units=\"1/cm**3\", force_override=True)\n",
    "yt.add_field('nC', function=numdensC,  units=\"1/cm**3\", force_override=True)\n",
    "yt.add_field('ne', function=numdense,  units=\"1/cm**3\", force_override=True)\n",
    "yt.add_field('xHp', function=xHp,      units=\"dimensionless\", force_override=True)\n",
    "yt.add_field('xH2', function=xH2,      units=\"dimensionless\", force_override=True)\n",
    "yt.add_field('xCp', function=xCp,      units=\"dimensionless\", force_override=True)\n",
    "yt.add_field('xe', function=xe,        units=\"dimensionless\", force_override=True)\n",
    "#yt.add_field('G',  function=GG,        units=\"dimensionless\", force_override=True)"
   ]
  },
  {
   "cell_type": "code",
   "execution_count": 5,
   "metadata": {},
   "outputs": [
    {
     "name": "stderr",
     "output_type": "stream",
     "text": [
      "yt : [INFO     ] 2018-10-23 12:20:28,396 Particle file found: NL99_R8_cf_hdf5_chk_0028\n",
      "yt : [INFO     ] 2018-10-23 12:20:28,420 integer runtime parameter checkpointfilenumber overwrites a simulation scalar of the same name\n",
      "yt : [INFO     ] 2018-10-23 12:20:28,421 integer runtime parameter forcedplotfilenumber overwrites a simulation scalar of the same name\n",
      "yt : [INFO     ] 2018-10-23 12:20:28,423 integer runtime parameter nbegin overwrites a simulation scalar of the same name\n",
      "yt : [INFO     ] 2018-10-23 12:20:28,425 integer runtime parameter plotfilenumber overwrites a simulation scalar of the same name\n",
      "yt : [INFO     ] 2018-10-23 12:20:28,493 Parameters: current_time              = 5.68049127342e+14\n",
      "yt : [INFO     ] 2018-10-23 12:20:28,495 Parameters: domain_dimensions         = [32  8  8]\n",
      "yt : [INFO     ] 2018-10-23 12:20:28,502 Parameters: domain_left_edge          = [ -1.97478400e+20  -4.93696000e+19  -4.93696000e+19]\n",
      "yt : [INFO     ] 2018-10-23 12:20:28,505 Parameters: domain_right_edge         = [  1.97478400e+20   4.93696000e+19   4.93696000e+19]\n",
      "yt : [INFO     ] 2018-10-23 12:20:28,507 Parameters: cosmological_simulation   = 0.0\n"
     ]
    }
   ],
   "source": [
    "# Input variables.\n",
    "#data_dir   = \"/home/jcibanezm/codes/run/Silcc/CF_Prabesh\"\n",
    "data_dir   = \"/Users/juan/codes/run/Silcc/CF_Prabesh\"\n",
    "filename   = data_dir + \"/NL99_R8_cf_hdf5_chk_0028\"\n",
    "\n",
    "pf = yt.load(\"%s\"%(filename))\n",
    "\n",
    "c  = [0,0,0]\n",
    "le = [-4.93696000e+19, -4.93696000e+19, -4.93696000e+19]\n",
    "re = [ 4.93696000e+19,  4.93696000e+19,  4.93696000e+19]\n",
    "\n",
    "box = pf.box(le, re)\n",
    "\n",
    "Geff = 1.7 * np.exp(-2.5*box[\"cdto\"])"
   ]
  },
  {
   "cell_type": "code",
   "execution_count": 20,
   "metadata": {},
   "outputs": [],
   "source": [
    "np.random.seed(1)\n",
    "#np.random.seed(2)\n",
    "ncells = len(box[\"nH\"])\n",
    "percent = 100.0\n",
    "ncells         = len(box[\"nH\"])\n",
    "n5             = np.int(ncells * percent/100.)\n",
    "rand_index     = np.random.randint(0, ncells, n5)"
   ]
  },
  {
   "cell_type": "code",
   "execution_count": 21,
   "metadata": {},
   "outputs": [],
   "source": [
    "temp = np.array(box[\"temp\"][rand_index])\n",
    "dd   = np.array(box[\"dens\"][rand_index])\n",
    "nH   = np.array(box[\"nH\"]  [rand_index])\n",
    "nH2  = np.array(box[\"nH2\"] [rand_index])\n",
    "nC   = np.array(box[\"nC\"]  [rand_index])\n",
    "ne   = np.array(box[\"ne\"]  [rand_index])\n",
    "xe   = np.array(box[\"xe\"]  [rand_index])\n",
    "xHp  = np.array(box[\"xHp\"] [rand_index])\n",
    "xH2  = np.array(box[\"xH2\"] [rand_index])\n",
    "xCp  = np.array(box[\"xCp\"] [rand_index])\n",
    "Av   = np.array(box[\"cdto\"][rand_index])\n",
    "fH2shield = np.array(box[\"cdh2\"][rand_index])\n",
    "\n",
    "Ntot = Av * 1.87e21\n",
    "Geff = 1.7 * np.exp(-2.5*Av)"
   ]
  },
  {
   "cell_type": "code",
   "execution_count": 22,
   "metadata": {},
   "outputs": [],
   "source": [
    "NH2 = np.zeros_like(Av)\n",
    "G_CR = np.zeros_like(Av)\n",
    "\n",
    "for ii in range(len(Av)):\n",
    "    NH2[ii]   = fz.get_NH2(fH2shield[ii], temp[ii])\n",
    "    G_CR[ii]  = fz.get_G_CR(NH2[ii])"
   ]
  },
  {
   "cell_type": "code",
   "execution_count": 23,
   "metadata": {},
   "outputs": [],
   "source": [
    "zeta = np.zeros_like(NH2)\n",
    "new_ne = np.zeros_like(NH2)\n",
    "new_xe = np.zeros_like(NH2)\n",
    "for i in range(len(zeta)):\n",
    "    zeta[i]  = fz.get_zeta(NH2[i])\n",
    "    new_ne[i], new_xe[i] = fz.compute_new_xe([nH[i], 0.], [xe[i],0], xH2[i], zeta[i])"
   ]
  },
  {
   "cell_type": "code",
   "execution_count": 28,
   "metadata": {},
   "outputs": [],
   "source": [
    "Gtot = Geff + G_CR"
   ]
  },
  {
   "cell_type": "code",
   "execution_count": 29,
   "metadata": {},
   "outputs": [],
   "source": [
    "def get_epsilon(psi, temp):\n",
    "    ephere = 0.049 / (1. + (psi/963.)**(0.73)) + 0.037*(temp/1.0e4)/(1.+(psi/2500.))\n",
    "    return ephere\n",
    "\n",
    "def Gamma_BT94(ntot, Geff, temp, ne):\n",
    "    psi     = Geff * np.sqrt(temp) / ne\n",
    "    epsilon = get_epsilon(psi, temp)\n",
    "    Gammahere = 1.3e-24 * epsilon * Geff * ntot\n",
    "    return Gammahere"
   ]
  },
  {
   "cell_type": "code",
   "execution_count": 30,
   "metadata": {},
   "outputs": [],
   "source": [
    "Heat_BT94 = Gamma_BT94(nH, Geff, temp, ne)\n",
    "Heat_BT94Upd = Gamma_BT94(nH, Gtot, temp, new_ne)"
   ]
  },
  {
   "cell_type": "code",
   "execution_count": 32,
   "metadata": {},
   "outputs": [
    {
     "name": "stderr",
     "output_type": "stream",
     "text": [
      "/Users/juan/anaconda/lib/python2.7/site-packages/ipykernel_launcher.py:75: RuntimeWarning: divide by zero encountered in log10\n",
      "/Users/juan/anaconda/lib/python2.7/site-packages/ipykernel_launcher.py:92: RuntimeWarning: divide by zero encountered in log10\n"
     ]
    },
    {
     "data": {
      "image/png": "[encoded data removed]",
      "text/plain": [
       "<Figure size 576x619.2 with 5 Axes>"
      ]
     },
     "metadata": {},
     "output_type": "display_data"
    }
   ],
   "source": [
    "xsize = 8\n",
    "ysize = 8.6\n",
    "\n",
    "nfigs_x = 2\n",
    "nfigs_y = 2\n",
    "\n",
    "fig = plt.figure(figsize=(xsize, ysize))\n",
    "\n",
    "hpad = 0.15\n",
    "wpad = 0.13\n",
    "wwpad = 0.01\n",
    "\n",
    "xs_panel = 0.84 / nfigs_x \n",
    "ys_panel = 0.82 / nfigs_y \n",
    "\n",
    "##########################################################################################################\n",
    "############################             n          #######################################\n",
    "############################################################################################################\n",
    "\n",
    "ax = fig.add_axes([0, 0, 1, 1])\n",
    "\n",
    "#ax.plot([0,1], [0,1], visible=False)\n",
    "ax.set_xlim(0,1)\n",
    "ax.set_ylim(0,1)\n",
    "\n",
    "#ax.text(0.18, 0.955, \"5 AA\", fontsize=20, horizontalalignment='center')\n",
    "\n",
    "plt.axis('off')\n",
    "\n",
    "#------------------------------------------------------------------------------------------------\n",
    "# From bottom left, to upper right.\n",
    "ii = 0\n",
    "jj = 0\n",
    "\n",
    "ax = fig.add_axes([wpad + ii*xs_panel, hpad + jj*ys_panel, xs_panel, ys_panel])\n",
    "\n",
    "cax = ax.hist2d(np.log10(nH), np.log10(Heat_BT94Upd), bins=50, norm=LogNorm(), cmap=\"inferno\", range=[[-1, 5.0],[-28, -22]])\n",
    "\n",
    "ax.grid(\"on\")\n",
    "ax.tick_params(axis='x', which='both', bottom='on', top='off', direction= 'inout',labelbottom='on') # labels along the bottom edge are off\n",
    "ax.set_ylabel(\"log$_{10} (\\Gamma_{pe}[\\mathrm{erg \\, s}^{-1} \\mathrm{cm}^{-3}])$\", fontsize=16)\n",
    "ax.set_xlabel(\"log$_{10}$(n$_{H}$ [cm$^{-3}$])\", fontsize=16)\n",
    "ax.tick_params(axis='x', which='both', bottom='on', labelbottom='on')\n",
    "ax.tick_params(axis='both', which='major', length=6, width=2, labelsize=15)\n",
    "\n",
    "\n",
    "#------------------------------------------------------------------------------------------------\n",
    "# From bottom left, to upper right.\n",
    "ii = 1\n",
    "jj = 0\n",
    "\n",
    "ax = fig.add_axes([wpad + ii*(xs_panel+wwpad), hpad + jj*ys_panel, xs_panel, ys_panel])\n",
    "\n",
    "cax = ax.hist2d(np.log10(temp), np.log10(Heat_BT94Upd), bins=50, norm=LogNorm(), cmap=\"inferno\", range=[[1, 4.0],[-28, -22]])\n",
    "\n",
    "ax.grid(\"on\")\n",
    "\n",
    "ax.tick_params(axis='x', which='both', bottom='on', labelbottom='on', labelsize=15)\n",
    "#ax.tick_params(axis='both', which='major', length=6, width=2, labelsize=15)\n",
    "\n",
    "ax.tick_params(axis='x', which='both', bottom='on', top='off', direction= 'inout',labelbottom='on') # labels along the bottom edge are off\n",
    "\n",
    "ax.set_xlabel(\"log$_{10}$(T[K])\", fontsize=16)\n",
    "\n",
    "ax.tick_params(axis='y', left=\"off\", which='major', length=6, width=2, labelsize=0)\n",
    "\n",
    "\n",
    "#------------------------------------------------------------------------------------------------\n",
    "# From bottom left, to upper right.\n",
    "ii = 0\n",
    "jj = 1\n",
    "\n",
    "ax = fig.add_axes([wpad + ii*xs_panel, hpad + jj*ys_panel, xs_panel, ys_panel])\n",
    "\n",
    "cax = ax.hist2d(np.log10(nH), np.log10(Heat_BT94), bins=50, norm=LogNorm(), cmap=\"inferno\", range=[[-1, 5.0],[-28, -22]])\n",
    "\n",
    "ax.grid(\"on\")\n",
    "ax.tick_params(axis='x', which='both', bottom='on', top='off', direction= 'inout',labelbottom='on') # labels along the bottom edge are off\n",
    "ax.set_ylabel(\"log$_{10} (\\Gamma_{pe}[\\mathrm{erg \\, s}^{-1} \\mathrm{cm}^{-3}])$\", fontsize=16)\n",
    "ax.set_xlabel(\"log$_{10}$(n$_{H}$ [cm$^{-3}$])\", fontsize=0)\n",
    "ax.tick_params(axis='x', which='both', bottom='on', labelbottom='off')\n",
    "ax.tick_params(axis='both', which='major', length=6, width=2, labelsize=15)\n",
    "\n",
    "\n",
    "#------------------------------------------------------------------------------------------------\n",
    "# From bottom left, to upper right.\n",
    "ii = 1\n",
    "jj = 1\n",
    "\n",
    "ax = fig.add_axes([wpad + ii*(xs_panel+wwpad), hpad + jj*ys_panel, xs_panel, ys_panel])\n",
    "\n",
    "cax = ax.hist2d(np.log10(temp), np.log10(Heat_BT94), bins=50, norm=LogNorm(), cmap=\"inferno\", range=[[1, 4.0],[-28, -22]])\n",
    "\n",
    "ax.grid(\"on\")\n",
    "\n",
    "ax.tick_params(axis='x', which='both', bottom='on', labelbottom='off', labelsize=15)\n",
    "ax.tick_params(axis='x', which='both', bottom='off', top='off', direction= 'inout',labelbottom='off') # labels along the bottom edge are off\n",
    "ax.set_xlabel(\"log$_{10}$(T[K])\", fontsize=0)\n",
    "ax.tick_params(axis='y', left=\"off\", which='major', length=6, width=2, labelsize=0)\n",
    "\n",
    "fig.savefig(\"/Users/juan/Dropbox/Talks/Conf, Workshops & Schools/2018/Group Meeting/BT94_heating_UpdatedGtotne.pdf\", format=\"pdf\")\n",
    "\n",
    "fig.show()\n"
   ]
  },
  {
   "cell_type": "markdown",
   "metadata": {},
   "source": [
    "---"
   ]
  },
  {
   "cell_type": "code",
   "execution_count": 30,
   "metadata": {
    "collapsed": true
   },
   "outputs": [],
   "source": [
    "#zeta = np.zeros_like(NH2)\n",
    "#new_ne = np.zeros_like(NH2)\n",
    "#new_xe = np.zeros_like(NH2)\n",
    "#for i in range(len(zeta)):\n",
    "#    zeta[i]  = fz.get_zeta(NH2[i])\n",
    "#    new_ne[i], new_xe[i] = fz.compute_new_xe([nH[i], 0.], [xe[i],0], xH2[i], zeta[i])"
   ]
  },
  {
   "cell_type": "code",
   "execution_count": 33,
   "metadata": {
    "collapsed": true
   },
   "outputs": [],
   "source": [
    "#Gtot = Geff + G_CR"
   ]
  },
  {
   "cell_type": "code",
   "execution_count": 58,
   "metadata": {},
   "outputs": [],
   "source": [
    "def get_Gamma_dotdot_par_old(asize, G, Z, grain_type):\n",
    "    \"\"\"\n",
    "    Parametric equation of the energy per photoelectron as a function of the grain size, charge, strength of the incident radiation field and charge.\n",
    "    \n",
    "    Input parameters:\n",
    "        asize: Grain size in Angstroms\n",
    "        G: Scaling of the radiation field in units of Habing field.\n",
    "        Z: Charge, in units of proton charge.\n",
    "        grain_type: 'silicate' or 'carbonaceous'\n",
    "        \n",
    "    return:\n",
    "        Gamma_pe^{''} in erg s-1\n",
    "    \"\"\"\n",
    "    \n",
    "    if grain_type == \"silicate\":\n",
    "        Gamma0 = 2.3e-20\n",
    "        alpha  = 2.39\n",
    "        zeta   = 2.953042 * (asize / 5.0)**(-1.03848) \n",
    "    else:\n",
    "        \n",
    "        Gamma0 = 4.06768782673e-20\n",
    "        alpha  = 2.16393168\n",
    "        zeta   = 0.9935858817946079 * (asize / 5.0)**(-1.04665779) \n",
    "    \n",
    "    gamma_dotdot_pe = Gamma0 * (asize / 5.0)**(alpha) * (G / 1.7) * np.exp(- zeta * Z)\n",
    "    \n",
    "    return gamma_dotdot_pe\n",
    "\n",
    "def pwse_size(x, x0, y0, k1, k2):\n",
    "    piecewisehere = np.piecewise(x, [x < x0, x >= x0], [lambda x:k1*x + y0, lambda x:k2*x + y0-k2*x0+k1*x0])\n",
    "    return 10**(piecewisehere)\n",
    "\n",
    "def get_Gamma_dotdot_par(asize, G, Z, grain_type):\n",
    "    \"\"\"\n",
    "    Parametric equation of the energy per photoelectron as a function of the grain size, charge, strength of the incident radiation field and charge.\n",
    "    \n",
    "    Input parameters:\n",
    "        asize: Grain size in Angstroms\n",
    "        G: Scaling of the radiation field in units of Habing field.\n",
    "        Z: Charge, in units of proton charge.\n",
    "        grain_type: 'silicate' or 'carbonaceous'\n",
    "        \n",
    "    return:\n",
    "        Gamma_pe^{''} in erg s-1\n",
    "    \"\"\"\n",
    "        \n",
    "    if grain_type == \"silicate\":\n",
    "        Gamma0  = 7.19e-21\n",
    "        alpha1  = 3.2\n",
    "        alpha2  = 1.7\n",
    "        abreak  = np.log10(79.)\n",
    "        zeta    = 2.95 * (asize / 5.0)**(-1.04) \n",
    "    else:\n",
    "        \n",
    "        Gamma0  = 1.98e-20\n",
    "        alpha1  = 2.6\n",
    "        alpha2  = 1.6\n",
    "        abreak  = np.log10(159.)\n",
    "        zeta    = 0.99 * (asize / 5.0)**(-1.05) \n",
    "    \n",
    "    l5 = np.log10(5.0)\n",
    "    lG0 = np.log10(Gamma0)\n",
    "    \n",
    "    gamma_dotdot_pe = pwse_size(np.log10(asize)-l5,abreak-l5, lG0, alpha1, alpha2) * (G / 1.7) * np.exp(- zeta * Z)\n",
    "    #gamma_dotdot_pe = Gamma0 * (asize / 5.0)**(alpha) * (G / 1.7) * np.exp(- zeta * Z)\n",
    "    \n",
    "    return gamma_dotdot_pe\n",
    "\n",
    "\n",
    "def get_Gamma_dot(Gtot, T, ne, grain_size, grain_type, dotdotcalc=\"new\"):\n",
    "    \"\"\"\n",
    "    Get Gamma'_{pe} for a given grain size, composition and Gtot, T and ne.\n",
    "    \"\"\"\n",
    "    zcent = fzpar.get_zcent(Gtot, T, ne, grain_type, grain_size)\n",
    "    zwidth = fzpar.get_zwidth(grain_size, grain_type, zcent)\n",
    "    \n",
    "    zmin = np.floor(zcent - 5*zwidth)\n",
    "    zmax = np.ceil(zcent + 5*zwidth)\n",
    "    \n",
    "    ZZ = np.arange(zmin, zmax+1)\n",
    "    \n",
    "    # Assume a Gaussian distribution for the shape of the charge distribution.\n",
    "    ffz = np.zeros_like(ZZ)\n",
    "    ffz = 1.0 / (np.sqrt(2.*np.pi*zwidth**2)) * np.exp(-(ZZ - zcent)*(ZZ - zcent)/(2*zwidth**2))\n",
    "    \n",
    "    # get Gamma_dotdot\n",
    "    if dotdotcalc == \"new\":\n",
    "        Gamma_dotdot_a_Z = get_Gamma_dotdot_par(grain_size, Gtot, ZZ, grain_type)\n",
    "    else:\n",
    "        Gamma_dotdot_a_Z = get_Gamma_dotdot_par_old(grain_size, Gtot, ZZ, grain_type)\n",
    "\n",
    "    Gammadot = np.sum(ffz*Gamma_dotdot_a_Z)\n",
    "    \n",
    "    Cooldot = Cooling_par(grain_size, Gtot, T, ne)\n",
    "    \n",
    "    Gammanet = Gammadot - Cooldot\n",
    "    \n",
    "    return Gammadot\n",
    "\n",
    "def Cooling_par(asize, Gtot, T, ne):\n",
    "    \"\"\"\n",
    "    Parametric cooling function.\n",
    "    \n",
    "    returns cooling rate in:\n",
    "        erg s-1\n",
    "    \"\"\"\n",
    "    import numpy as np\n",
    "    \n",
    "    Lambda0 = 5.04746112272e-22 * (asize/5.0)**(2.45132252)\n",
    "    psi     = ne * np.sqrt(T) * (Gtot*np.sqrt(T)/ne)**(0.2)\n",
    "    \n",
    "    coolhere = Lambda0 * psi**(1.17747369697)\n",
    "    \n",
    "    return coolhere\n",
    "\n",
    "def get_Gamma_tot(Gtot, T, ne, dotdotcalc=\"new\"):\n",
    "    \"\"\"\n",
    "    Get the total heating rate per hydrogem atom.\n",
    "    \"\"\"\n",
    "    from scipy import integrate\n",
    "    \n",
    "    amin, amax = 3.5, 2500\n",
    "    fheat = lambda grain_size, Gtot, T, ne, grain_type: get_Gamma_dot(Gtot, T, ne, grain_size, grain_type, dotdotcalc=dotdotcalc)*sizedist.dnda(grain_size, grain_type)\n",
    "    \n",
    "    Gamma_pe_sil, err = integrate.quad(fheat, amin, amax, args=(Gtot, T, ne, \"silicate\"))\n",
    "    Gamma_pe_carb, err = integrate.quad(fheat, amin, amax, args=(Gtot, T, ne, \"carbonaceous\"))\n",
    "        \n",
    "    return Gamma_pe_sil + Gamma_pe_carb"
   ]
  },
  {
   "cell_type": "code",
   "execution_count": 74,
   "metadata": {},
   "outputs": [],
   "source": [
    "import time"
   ]
  },
  {
   "cell_type": "code",
   "execution_count": 59,
   "metadata": {},
   "outputs": [],
   "source": [
    "HH18 = np.zeros_like(nH[0:200], dtype=np.float)\n",
    "HH18old = np.zeros_like(nH[0:200], dtype=np.float)\n",
    "for i in range(200):\n",
    "    HH18[i] = nH[i]*get_Gamma_tot(Gtot[i], temp[i], new_ne[i])\n",
    "    HH18old[i] = nH[i]*get_Gamma_tot(Gtot[i], temp[i], new_ne[i], dotdotcalc=\"old\")"
   ]
  },
  {
   "cell_type": "code",
   "execution_count": null,
   "metadata": {},
   "outputs": [],
   "source": []
  },
  {
   "cell_type": "code",
   "execution_count": 69,
   "metadata": {},
   "outputs": [],
   "source": [
    "diff = HH18/HH18old"
   ]
  },
  {
   "cell_type": "code",
   "execution_count": 67,
   "metadata": {},
   "outputs": [
    {
     "data": {
      "image/png": "[encoded data removed]",
      "text/plain": [
       "<Figure size 576x309.6 with 3 Axes>"
      ]
     },
     "metadata": {},
     "output_type": "display_data"
    }
   ],
   "source": [
    "xsize = 8\n",
    "ysize = 4.3\n",
    "\n",
    "nfigs_x = 2\n",
    "nfigs_y = 1\n",
    "\n",
    "fig = plt.figure(figsize=(xsize, ysize))\n",
    "\n",
    "hpad = 0.15\n",
    "wpad = 0.13\n",
    "wwpad = 0.01\n",
    "\n",
    "xs_panel = 0.84 / nfigs_x \n",
    "ys_panel = 0.82 / nfigs_y \n",
    "\n",
    "##########################################################################################################\n",
    "############################             n          #######################################\n",
    "############################################################################################################\n",
    "\n",
    "ax = fig.add_axes([0, 0, 1, 1])\n",
    "\n",
    "#ax.plot([0,1], [0,1], visible=False)\n",
    "ax.set_xlim(0,1)\n",
    "ax.set_ylim(0,1)\n",
    "\n",
    "#ax.text(0.18, 0.955, \"5 AA\", fontsize=20, horizontalalignment='center')\n",
    "\n",
    "plt.axis('off')\n",
    "\n",
    "#------------------------------------------------------------------------------------------------\n",
    "# From bottom left, to upper right.\n",
    "ii = 0\n",
    "jj = 0\n",
    "\n",
    "ax = fig.add_axes([wpad + ii*xs_panel, hpad + jj*ys_panel, xs_panel, ys_panel])\n",
    "\n",
    "cax = ax.hist2d(np.log10(nH[0:200]), np.log10(HH18), bins=50, norm=LogNorm(), cmap=\"inferno\", range=[[-1, 5.0],[-28, -22]])\n",
    "\n",
    "ax.grid(\"on\")\n",
    "ax.tick_params(axis='x', which='both', bottom='on', top='off', direction= 'inout',labelbottom='on') # labels along the bottom edge are off\n",
    "ax.set_ylabel(\"log$_{10} (\\Gamma_{pe}[\\mathrm{erg \\, s}^{-1} \\mathrm{cm}^{-3}])$\", fontsize=16)\n",
    "ax.set_xlabel(\"log$_{10}$(n$_{H}$ [cm$^{-3}$])\", fontsize=16)\n",
    "ax.tick_params(axis='x', which='both', bottom='on', labelbottom='on')\n",
    "ax.tick_params(axis='both', which='major', length=6, width=2, labelsize=15)\n",
    "\n",
    "\n",
    "#------------------------------------------------------------------------------------------------\n",
    "# From bottom left, to upper right.\n",
    "ii = 1\n",
    "jj = 0\n",
    "\n",
    "ax = fig.add_axes([wpad + ii*(xs_panel+wwpad), hpad + jj*ys_panel, xs_panel, ys_panel])\n",
    "\n",
    "cax = ax.hist2d(np.log10(temp[0:200]), np.log10(HH18), bins=50, norm=LogNorm(), cmap=\"inferno\", range=[[1, 4.0],[-28, -22]])\n",
    "\n",
    "ax.grid(\"on\")\n",
    "\n",
    "ax.tick_params(axis='x', which='both', bottom='on', labelbottom='on', labelsize=15)\n",
    "#ax.tick_params(axis='both', which='major', length=6, width=2, labelsize=15)\n",
    "\n",
    "ax.tick_params(axis='x', which='both', bottom='on', top='off', direction= 'inout',labelbottom='on') # labels along the bottom edge are off\n",
    "\n",
    "ax.set_xlabel(\"log$_{10}$(T[K])\", fontsize=16)\n",
    "\n",
    "ax.tick_params(axis='y', left=\"off\", which='major', length=6, width=2, labelsize=0)\n",
    "\n",
    "fig.savefig(\"/Users/juan/Dropbox/Talks/Conf, Workshops & Schools/2018/Group Meeting/IM18_piecewise.pdf\", format=\"pdf\")\n",
    "\n",
    "fig.show()\n",
    "\n",
    "\n"
   ]
  },
  {
   "cell_type": "code",
   "execution_count": 68,
   "metadata": {},
   "outputs": [
    {
     "data": {
      "image/png": "[encoded data removed]",
      "text/plain": [
       "<Figure size 576x309.6 with 3 Axes>"
      ]
     },
     "metadata": {},
     "output_type": "display_data"
    }
   ],
   "source": [
    "xsize = 8\n",
    "ysize = 4.3\n",
    "\n",
    "nfigs_x = 2\n",
    "nfigs_y = 1\n",
    "\n",
    "fig = plt.figure(figsize=(xsize, ysize))\n",
    "\n",
    "hpad = 0.15\n",
    "wpad = 0.13\n",
    "wwpad = 0.01\n",
    "\n",
    "xs_panel = 0.84 / nfigs_x \n",
    "ys_panel = 0.82 / nfigs_y \n",
    "\n",
    "##########################################################################################################\n",
    "############################             n          #######################################\n",
    "############################################################################################################\n",
    "\n",
    "ax = fig.add_axes([0, 0, 1, 1])\n",
    "\n",
    "#ax.plot([0,1], [0,1], visible=False)\n",
    "ax.set_xlim(0,1)\n",
    "ax.set_ylim(0,1)\n",
    "\n",
    "#ax.text(0.18, 0.955, \"5 AA\", fontsize=20, horizontalalignment='center')\n",
    "\n",
    "plt.axis('off')\n",
    "\n",
    "#------------------------------------------------------------------------------------------------\n",
    "# From bottom left, to upper right.\n",
    "ii = 0\n",
    "jj = 0\n",
    "\n",
    "ax = fig.add_axes([wpad + ii*xs_panel, hpad + jj*ys_panel, xs_panel, ys_panel])\n",
    "\n",
    "cax = ax.hist2d(np.log10(nH[0:200]), np.log10(HH18old), bins=50, norm=LogNorm(), cmap=\"inferno\", range=[[-1, 5.0],[-28, -22]])\n",
    "\n",
    "ax.grid(\"on\")\n",
    "ax.tick_params(axis='x', which='both', bottom='on', top='off', direction= 'inout',labelbottom='on') # labels along the bottom edge are off\n",
    "ax.set_ylabel(\"log$_{10} (\\Gamma_{pe}[\\mathrm{erg \\, s}^{-1} \\mathrm{cm}^{-3}])$\", fontsize=16)\n",
    "ax.set_xlabel(\"log$_{10}$(n$_{H}$ [cm$^{-3}$])\", fontsize=16)\n",
    "ax.tick_params(axis='x', which='both', bottom='on', labelbottom='on')\n",
    "ax.tick_params(axis='both', which='major', length=6, width=2, labelsize=15)\n",
    "\n",
    "\n",
    "#------------------------------------------------------------------------------------------------\n",
    "# From bottom left, to upper right.\n",
    "ii = 1\n",
    "jj = 0\n",
    "\n",
    "ax = fig.add_axes([wpad + ii*(xs_panel+wwpad), hpad + jj*ys_panel, xs_panel, ys_panel])\n",
    "\n",
    "cax = ax.hist2d(np.log10(temp[0:200]), np.log10(HH18old), bins=50, norm=LogNorm(), cmap=\"inferno\", range=[[1, 4.0],[-28, -22]])\n",
    "\n",
    "ax.grid(\"on\")\n",
    "\n",
    "ax.tick_params(axis='x', which='both', bottom='on', labelbottom='on', labelsize=15)\n",
    "#ax.tick_params(axis='both', which='major', length=6, width=2, labelsize=15)\n",
    "\n",
    "ax.tick_params(axis='x', which='both', bottom='on', top='off', direction= 'inout',labelbottom='on') # labels along the bottom edge are off\n",
    "\n",
    "ax.set_xlabel(\"log$_{10}$(T[K])\", fontsize=16)\n",
    "\n",
    "ax.tick_params(axis='y', left=\"off\", which='major', length=6, width=2, labelsize=0)\n",
    "\n",
    "fig.savefig(\"/Users/juan/Dropbox/Talks/Conf, Workshops & Schools/2018/Group Meeting/IM18_old.pdf\", format=\"pdf\")\n",
    "\n",
    "fig.show()\n",
    "\n",
    "\n"
   ]
  },
  {
   "cell_type": "code",
   "execution_count": 73,
   "metadata": {},
   "outputs": [
    {
     "data": {
      "image/png": "[encoded data removed]",
      "text/plain": [
       "<Figure size 576x309.6 with 3 Axes>"
      ]
     },
     "metadata": {},
     "output_type": "display_data"
    }
   ],
   "source": [
    "xsize = 8\n",
    "ysize = 4.3\n",
    "\n",
    "nfigs_x = 2\n",
    "nfigs_y = 1\n",
    "\n",
    "fig = plt.figure(figsize=(xsize, ysize))\n",
    "\n",
    "hpad = 0.15\n",
    "wpad = 0.13\n",
    "wwpad = 0.01\n",
    "\n",
    "xs_panel = 0.84 / nfigs_x \n",
    "ys_panel = 0.82 / nfigs_y \n",
    "\n",
    "##########################################################################################################\n",
    "############################             n          #######################################\n",
    "############################################################################################################\n",
    "\n",
    "ax = fig.add_axes([0, 0, 1, 1])\n",
    "\n",
    "#ax.plot([0,1], [0,1], visible=False)\n",
    "ax.set_xlim(0,1)\n",
    "ax.set_ylim(0,1)\n",
    "\n",
    "#ax.text(0.18, 0.955, \"5 AA\", fontsize=20, horizontalalignment='center')\n",
    "\n",
    "plt.axis('off')\n",
    "\n",
    "#------------------------------------------------------------------------------------------------\n",
    "# From bottom left, to upper right.\n",
    "ii = 0\n",
    "jj = 0\n",
    "\n",
    "ax = fig.add_axes([wpad + ii*xs_panel, hpad + jj*ys_panel, xs_panel, ys_panel])\n",
    "\n",
    "cax = ax.hist2d(np.log10(nH[0:200]), diff, bins=50, norm=LogNorm(), cmap=\"inferno\", range=[[-1, 5.0],[np.min(diff), np.max(diff)]])\n",
    "\n",
    "ax.grid(\"on\")\n",
    "ax.tick_params(axis='x', which='both', bottom='on', top='off', direction= 'inout',labelbottom='on') # labels along the bottom edge are off\n",
    "ax.set_ylabel(\"log$_{10} (\\Gamma_{pe}[\\mathrm{erg \\, s}^{-1} \\mathrm{cm}^{-3}])$\", fontsize=16)\n",
    "ax.set_xlabel(\"log$_{10}$(n$_{H}$ [cm$^{-3}$])\", fontsize=16)\n",
    "ax.tick_params(axis='x', which='both', bottom='on', labelbottom='on')\n",
    "ax.tick_params(axis='both', which='major', length=6, width=2, labelsize=15)\n",
    "\n",
    "\n",
    "#------------------------------------------------------------------------------------------------\n",
    "# From bottom left, to upper right.\n",
    "ii = 1\n",
    "jj = 0\n",
    "\n",
    "ax = fig.add_axes([wpad + ii*(xs_panel+wwpad), hpad + jj*ys_panel, xs_panel, ys_panel])\n",
    "\n",
    "cax = ax.hist2d(np.log10(temp[0:200]), diff, bins=50, norm=LogNorm(), cmap=\"inferno\", range=[[1, 4.0],[np.min(diff), np.max(diff)]])\n",
    "\n",
    "ax.grid(\"on\")\n",
    "\n",
    "ax.tick_params(axis='x', which='both', bottom='on', labelbottom='on', labelsize=15)\n",
    "#ax.tick_params(axis='both', which='major', length=6, width=2, labelsize=15)\n",
    "\n",
    "ax.tick_params(axis='x', which='both', bottom='on', top='off', direction= 'inout',labelbottom='on') # labels along the bottom edge are off\n",
    "\n",
    "ax.set_xlabel(\"log$_{10}$(T[K])\", fontsize=16)\n",
    "\n",
    "ax.tick_params(axis='y', left=\"off\", which='major', length=6, width=2, labelsize=0)\n",
    "\n",
    "fig.savefig(\"/Users/juan/Dropbox/Talks/Conf, Workshops & Schools/2018/Group Meeting/IM18_ratio.pdf\", format=\"pdf\")\n",
    "\n",
    "fig.show()\n",
    "\n",
    "\n",
    "\n"
   ]
  },
  {
   "cell_type": "code",
   "execution_count": 2,
   "metadata": {},
   "outputs": [
    {
     "ename": "NameError",
     "evalue": "name 'np' is not defined",
     "output_type": "error",
     "traceback": [
      "\u001b[0;31m---------------------------------------------------------------------------\u001b[0m",
      "\u001b[0;31mNameError\u001b[0m                                 Traceback (most recent call last)",
      "\u001b[0;32m<ipython-input-2-1a8e85572812>\u001b[0m in \u001b[0;36m<module>\u001b[0;34m()\u001b[0m\n\u001b[0;32m----> 1\u001b[0;31m \u001b[0mHeat_IM18\u001b[0m \u001b[0;34m=\u001b[0m \u001b[0mnp\u001b[0m\u001b[0;34m.\u001b[0m\u001b[0mzeros_like\u001b[0m\u001b[0;34m(\u001b[0m\u001b[0mnH\u001b[0m\u001b[0;34m)\u001b[0m\u001b[0;34m\u001b[0m\u001b[0m\n\u001b[0m\u001b[1;32m      2\u001b[0m \u001b[0;32mfor\u001b[0m \u001b[0mi\u001b[0m \u001b[0;32min\u001b[0m \u001b[0mrange\u001b[0m\u001b[0;34m(\u001b[0m\u001b[0;36m10\u001b[0m\u001b[0;34m)\u001b[0m\u001b[0;34m:\u001b[0m\u001b[0;34m\u001b[0m\u001b[0m\n\u001b[1;32m      3\u001b[0m     \u001b[0mHeat_IM18\u001b[0m\u001b[0;34m[\u001b[0m\u001b[0mi\u001b[0m\u001b[0;34m]\u001b[0m \u001b[0;34m=\u001b[0m \u001b[0mget_Gamma_tot\u001b[0m\u001b[0;34m(\u001b[0m\u001b[0mGtot\u001b[0m\u001b[0;34m[\u001b[0m\u001b[0mi\u001b[0m\u001b[0;34m]\u001b[0m\u001b[0;34m,\u001b[0m \u001b[0mtemp\u001b[0m\u001b[0;34m[\u001b[0m\u001b[0mi\u001b[0m\u001b[0;34m]\u001b[0m\u001b[0;34m,\u001b[0m \u001b[0mnew_ne\u001b[0m\u001b[0;34m[\u001b[0m\u001b[0mi\u001b[0m\u001b[0;34m]\u001b[0m\u001b[0;34m)\u001b[0m\u001b[0;34m\u001b[0m\u001b[0m\n",
      "\u001b[0;31mNameError\u001b[0m: name 'np' is not defined"
     ]
    }
   ],
   "source": [
    "Heat_IM18 = np.zeros_like(nH)\n",
    "for i in range(10):\n",
    "    Heat_IM18[i] = get_Gamma_tot(Gtot[i], temp[i], new_ne[i])"
   ]
  },
  {
   "cell_type": "code",
   "execution_count": 39,
   "metadata": {
    "collapsed": true
   },
   "outputs": [],
   "source": [
    "Heat_IM18 = np.zeros_like(nH)\n",
    "for i in range(len(nH)):\n",
    "    Heat_IM18[i] = get_Gamma_tot(Gtot[i], temp[i], new_ne[i])"
   ]
  },
  {
   "cell_type": "code",
   "execution_count": null,
   "metadata": {
    "collapsed": true
   },
   "outputs": [],
   "source": []
  },
  {
   "cell_type": "code",
   "execution_count": 40,
   "metadata": {
    "collapsed": true
   },
   "outputs": [],
   "source": [
    "HH18 = Heat_IM18*nH"
   ]
  },
  {
   "cell_type": "code",
   "execution_count": 55,
   "metadata": {},
   "outputs": [
    {
     "data": {
      "image/png": "[encoded data removed]",
      "text/plain": [
       "<Figure size 576x309.6 with 3 Axes>"
      ]
     },
     "metadata": {},
     "output_type": "display_data"
    }
   ],
   "source": [
    "xsize = 8\n",
    "ysize = 4.3\n",
    "\n",
    "nfigs_x = 2\n",
    "nfigs_y = 1\n",
    "\n",
    "fig = plt.figure(figsize=(xsize, ysize))\n",
    "\n",
    "hpad = 0.15\n",
    "wpad = 0.13\n",
    "wwpad = 0.01\n",
    "\n",
    "xs_panel = 0.84 / nfigs_x \n",
    "ys_panel = 0.82 / nfigs_y \n",
    "\n",
    "##########################################################################################################\n",
    "############################             n          #######################################\n",
    "############################################################################################################\n",
    "\n",
    "ax = fig.add_axes([0, 0, 1, 1])\n",
    "\n",
    "#ax.plot([0,1], [0,1], visible=False)\n",
    "ax.set_xlim(0,1)\n",
    "ax.set_ylim(0,1)\n",
    "\n",
    "#ax.text(0.18, 0.955, \"5 AA\", fontsize=20, horizontalalignment='center')\n",
    "\n",
    "plt.axis('off')\n",
    "\n",
    "#------------------------------------------------------------------------------------------------\n",
    "# From bottom left, to upper right.\n",
    "ii = 0\n",
    "jj = 0\n",
    "\n",
    "ax = fig.add_axes([wpad + ii*xs_panel, hpad + jj*ys_panel, xs_panel, ys_panel])\n",
    "\n",
    "cax = ax.hist2d(np.log10(nH), np.log10(HH18), bins=50, norm=LogNorm(), cmap=\"inferno\", range=[[-1, 5.0],[-28, -22]])\n",
    "\n",
    "ax.grid(\"on\")\n",
    "ax.tick_params(axis='x', which='both', bottom='on', top='off', direction= 'inout',labelbottom='on') # labels along the bottom edge are off\n",
    "ax.set_ylabel(\"log$_{10} (\\Gamma_{pe}[\\mathrm{erg \\, s}^{-1} \\mathrm{cm}^{-3}])$\", fontsize=16)\n",
    "ax.set_xlabel(\"log$_{10}$(n$_{H}$ [cm$^{-3}$])\", fontsize=16)\n",
    "ax.tick_params(axis='x', which='both', bottom='on', labelbottom='on')\n",
    "ax.tick_params(axis='both', which='major', length=6, width=2, labelsize=15)\n",
    "\n",
    "\n",
    "#------------------------------------------------------------------------------------------------\n",
    "# From bottom left, to upper right.\n",
    "ii = 1\n",
    "jj = 0\n",
    "\n",
    "ax = fig.add_axes([wpad + ii*(xs_panel+wwpad), hpad + jj*ys_panel, xs_panel, ys_panel])\n",
    "\n",
    "cax = ax.hist2d(np.log10(temp), np.log10(HH18), bins=50, norm=LogNorm(), cmap=\"inferno\", range=[[1, 4.0],[-28, -22]])\n",
    "\n",
    "ax.grid(\"on\")\n",
    "\n",
    "ax.tick_params(axis='x', which='both', bottom='on', labelbottom='on', labelsize=15)\n",
    "#ax.tick_params(axis='both', which='major', length=6, width=2, labelsize=15)\n",
    "\n",
    "ax.tick_params(axis='x', which='both', bottom='on', top='off', direction= 'inout',labelbottom='on') # labels along the bottom edge are off\n",
    "\n",
    "ax.set_xlabel(\"log$_{10}$(T[K])\", fontsize=16)\n",
    "\n",
    "ax.tick_params(axis='y', left=\"off\", which='major', length=6, width=2, labelsize=0)\n",
    "\n",
    "fig.savefig(\"/Users/juan/Dropbox/Talks/Conf, Workshops & Schools/2018/Group Meeting/IM18_heating.pdf\", format=\"pdf\")\n",
    "\n",
    "fig.show()\n",
    "\n"
   ]
  },
  {
   "cell_type": "code",
   "execution_count": 56,
   "metadata": {},
   "outputs": [
    {
     "data": {
      "image/png": "[encoded data removed]",
      "text/plain": [
       "<Figure size 576x309.6 with 3 Axes>"
      ]
     },
     "metadata": {},
     "output_type": "display_data"
    }
   ],
   "source": [
    "xsize = 8\n",
    "ysize = 4.3\n",
    "\n",
    "nfigs_x = 2\n",
    "nfigs_y = 1\n",
    "\n",
    "fig = plt.figure(figsize=(xsize, ysize))\n",
    "\n",
    "hpad = 0.15\n",
    "wpad = 0.13\n",
    "wwpad = 0.01\n",
    "\n",
    "xs_panel = 0.84 / nfigs_x \n",
    "ys_panel = 0.82 / nfigs_y \n",
    "\n",
    "##########################################################################################################\n",
    "############################             n          #######################################\n",
    "############################################################################################################\n",
    "\n",
    "ax = fig.add_axes([0, 0, 1, 1])\n",
    "\n",
    "#ax.plot([0,1], [0,1], visible=False)\n",
    "ax.set_xlim(0,1)\n",
    "ax.set_ylim(0,1)\n",
    "\n",
    "#ax.text(0.18, 0.955, \"5 AA\", fontsize=20, horizontalalignment='center')\n",
    "\n",
    "plt.axis('off')\n",
    "\n",
    "#------------------------------------------------------------------------------------------------\n",
    "# From bottom left, to upper right.\n",
    "ii = 0\n",
    "jj = 0\n",
    "\n",
    "ax = fig.add_axes([wpad + ii*xs_panel, hpad + jj*ys_panel, xs_panel, ys_panel])\n",
    "\n",
    "#cax = ax.hist2d(np.log10(nH), np.log10(HH18/Heat_BT94), bins=50, norm=LogNorm(), cmap=\"inferno\", range=[[-1, 5.0],[-28, -22]])\n",
    "cax = ax.hist2d(np.log10(nH), np.log10(HH18/Heat_BT94), bins=50, norm=LogNorm(), cmap=\"inferno\",range=[[-1, 5.0],[-0.5, 0.5]])\n",
    "\n",
    "ax.grid(\"on\")\n",
    "ax.tick_params(axis='x', which='both', bottom='on', top='off', direction= 'inout',labelbottom='on') # labels along the bottom edge are off\n",
    "ax.set_ylabel(\"log$_{10} (\\Gamma_{IM18} / \\Gamma_{BT94})$\", fontsize=16)\n",
    "ax.set_xlabel(\"log$_{10}$(n$_{H}$ [cm$^{-3}$])\", fontsize=16)\n",
    "ax.tick_params(axis='x', which='both', bottom='on', labelbottom='on')\n",
    "ax.tick_params(axis='both', which='major', length=6, width=2, labelsize=15)\n",
    "\n",
    "\n",
    "#------------------------------------------------------------------------------------------------\n",
    "# From bottom left, to upper right.\n",
    "ii = 1\n",
    "jj = 0\n",
    "\n",
    "ax = fig.add_axes([wpad + ii*(xs_panel+wwpad), hpad + jj*ys_panel, xs_panel, ys_panel])\n",
    "\n",
    "cax = ax.hist2d(np.log10(temp), np.log10(HH18/Heat_BT94), bins=50, norm=LogNorm(), cmap=\"inferno\", range=[[1, 4.0],[-0.5, 0.5]])\n",
    "#cax = ax.hist2d(np.log10(temp), np.log10(HH18/Heat_BT94), bins=50, norm=LogNorm(), cmap=\"inferno\")\n",
    "\n",
    "ax.grid(\"on\")\n",
    "\n",
    "ax.tick_params(axis='x', which='both', bottom='on', labelbottom='on', labelsize=15)\n",
    "#ax.tick_params(axis='both', which='major', length=6, width=2, labelsize=15)\n",
    "\n",
    "ax.tick_params(axis='x', which='both', bottom='on', top='off', direction= 'inout',labelbottom='on') # labels along the bottom edge are off\n",
    "\n",
    "ax.set_xlabel(\"log$_{10}$(T[K])\", fontsize=16)\n",
    "\n",
    "ax.tick_params(axis='y', left=\"off\", which='major', length=6, width=2, labelsize=0)\n",
    "\n",
    "fig.savefig(\"/Users/juan/Dropbox/Talks/Conf, Workshops & Schools/2018/Group Meeting/heating_ratios.pdf\", format=\"pdf\")\n",
    "\n",
    "fig.show()\n",
    "\n",
    "\n"
   ]
  },
  {
   "cell_type": "code",
   "execution_count": 110,
   "metadata": {
    "collapsed": true
   },
   "outputs": [],
   "source": [
    "cmm = ((box[\"nH\"] >1.0e3)&(box[\"nH\"] <1.0e5))"
   ]
  },
  {
   "cell_type": "code",
   "execution_count": 111,
   "metadata": {
    "collapsed": true
   },
   "outputs": [],
   "source": [
    "cmmtrue = np.argwhere(cmm==True)"
   ]
  },
  {
   "cell_type": "code",
   "execution_count": 123,
   "metadata": {
    "collapsed": true
   },
   "outputs": [],
   "source": [
    "np.random.seed(1)\n",
    "#np.random.seed(2)\n",
    "ncells = len(cmmtrue)\n",
    "percent = 2.0\n",
    "\n",
    "n5             = np.int(ncells * percent/100.)\n",
    "rand_indexCMM  = np.random.randint(0, ncells, n5)"
   ]
  },
  {
   "cell_type": "code",
   "execution_count": 124,
   "metadata": {
    "collapsed": true
   },
   "outputs": [],
   "source": [
    "tempCMM = np.array(box[\"temp\"][cmmtrue[rand_indexCMM]])\n",
    "nHCMM   = np.array(box[\"nH\"]  [cmmtrue[rand_indexCMM]])\n",
    "neCMM   = np.array(box[\"ne\"]  [cmmtrue[rand_indexCMM]])\n",
    "xeCMM   = np.array(box[\"xe\"]  [cmmtrue[rand_indexCMM]])\n",
    "xH2CMM  = np.array(box[\"xH2\"] [cmmtrue[rand_indexCMM]])\n",
    "AvCMM   = np.array(box[\"cdto\"][cmmtrue[rand_indexCMM]])\n",
    "fH2shieldCMM = np.array(box[\"cdh2\"][cmmtrue[rand_indexCMM]])\n",
    "\n",
    "GeffCMM = 1.7 * np.exp(-2.5*AvCMM)"
   ]
  },
  {
   "cell_type": "code",
   "execution_count": 125,
   "metadata": {
    "collapsed": true
   },
   "outputs": [],
   "source": [
    "NH2CMM = np.zeros_like(AvCMM)\n",
    "G_CRCMM = np.zeros_like(AvCMM)\n",
    "\n",
    "for ii in range(len(AvCMM)):\n",
    "    NH2CMM[ii]   = fz.get_NH2(fH2shieldCMM[ii], tempCMM[ii])\n",
    "    G_CRCMM[ii]  = fz.get_G_CR(NH2CMM[ii])"
   ]
  },
  {
   "cell_type": "code",
   "execution_count": 126,
   "metadata": {
    "collapsed": true
   },
   "outputs": [],
   "source": [
    "zetaCMM = np.zeros_like(NH2CMM)\n",
    "new_neCMM = np.zeros_like(NH2CMM)\n",
    "new_xeCMM = np.zeros_like(NH2CMM)\n",
    "for i in range(len(zetaCMM)):\n",
    "    zetaCMM[i]  = fz.get_zeta(NH2CMM[i])\n",
    "    new_neCMM[i], new_xeCMM[i] = fz.compute_new_xe([nHCMM[i], 0.], [xeCMM[i],0], xH2CMM[i], zetaCMM[i])"
   ]
  },
  {
   "cell_type": "code",
   "execution_count": 127,
   "metadata": {
    "collapsed": true
   },
   "outputs": [],
   "source": [
    "GtotCMM = GeffCMM + G_CRCMM"
   ]
  },
  {
   "cell_type": "code",
   "execution_count": 122,
   "metadata": {},
   "outputs": [
    {
     "data": {
      "text/plain": [
       "36196"
      ]
     },
     "execution_count": 122,
     "metadata": {},
     "output_type": "execute_result"
    }
   ],
   "source": [
    "len(GtotCMM)"
   ]
  },
  {
   "cell_type": "code",
   "execution_count": 128,
   "metadata": {},
   "outputs": [
    {
     "name": "stdout",
     "output_type": "stream",
     "text": [
      "Progress = 100 \n"
     ]
    }
   ],
   "source": [
    "#Heat_IM18CMM = np.zeros_like(nHCMM)\n",
    "progress = 0\n",
    "ncells = len(nHCMM)\n",
    "#ncells = 100\n",
    "\n",
    "for i in range(ncells):\n",
    "    if ((i+1.)/ncells*100. % 10 == 0):\n",
    "        print(\"Progress = %i \"%((i+1.)/ncells*100.))\n",
    "    Heat_IM18CMM[i] = get_Gamma_tot(GtotCMM[i], tempCMM[i], new_neCMM[i])"
   ]
  },
  {
   "cell_type": "code",
   "execution_count": 129,
   "metadata": {
    "collapsed": true
   },
   "outputs": [],
   "source": [
    "HIM18CMM = Heat_IM18CMM*nHCMM"
   ]
  },
  {
   "cell_type": "code",
   "execution_count": 139,
   "metadata": {},
   "outputs": [
    {
     "data": {
      "text/plain": [
       "(3619,)"
      ]
     },
     "execution_count": 139,
     "metadata": {},
     "output_type": "execute_result"
    }
   ],
   "source": [
    "np.shape(tempCMM[:,0])"
   ]
  },
  {
   "cell_type": "code",
   "execution_count": 136,
   "metadata": {},
   "outputs": [
    {
     "data": {
      "text/plain": [
       "array([ 32.07401654,  31.22668022,  13.49056655, ...,  12.01991769,\n",
       "        27.90409323,  11.96731082])"
      ]
     },
     "execution_count": 136,
     "metadata": {},
     "output_type": "execute_result"
    }
   ],
   "source": [
    "tempCMM[:,0]"
   ]
  },
  {
   "cell_type": "code",
   "execution_count": 132,
   "metadata": {},
   "outputs": [
    {
     "data": {
      "text/plain": [
       "(3619, 1)"
      ]
     },
     "execution_count": 132,
     "metadata": {},
     "output_type": "execute_result"
    }
   ],
   "source": [
    "np.shape(nHCMM)"
   ]
  },
  {
   "cell_type": "code",
   "execution_count": 140,
   "metadata": {
    "collapsed": true
   },
   "outputs": [],
   "source": [
    "ntot = np.concatenate([nH, nHCMM[:,0]])"
   ]
  },
  {
   "cell_type": "code",
   "execution_count": 142,
   "metadata": {
    "collapsed": true
   },
   "outputs": [],
   "source": [
    "ntot = np.concatenate([nH, nHCMM[:,0]])\n",
    "Ttot = np.concatenate([temp, tempCMM[:,0]])\n",
    "HIM18 = np.concatenate([HH18, HIM18CMM[:,0]])"
   ]
  },
  {
   "cell_type": "code",
   "execution_count": 144,
   "metadata": {},
   "outputs": [
    {
     "data": {
      "image/png": "[encoded data removed]",
      "text/plain": [
       "<Figure size 576x309.6 with 3 Axes>"
      ]
     },
     "metadata": {},
     "output_type": "display_data"
    }
   ],
   "source": [
    "xsize = 8\n",
    "ysize = 4.3\n",
    "\n",
    "nfigs_x = 2\n",
    "nfigs_y = 1\n",
    "\n",
    "fig = plt.figure(figsize=(xsize, ysize))\n",
    "\n",
    "hpad = 0.15\n",
    "wpad = 0.13\n",
    "wwpad = 0.01\n",
    "\n",
    "xs_panel = 0.84 / nfigs_x \n",
    "ys_panel = 0.82 / nfigs_y \n",
    "\n",
    "##########################################################################################################\n",
    "############################             n          #######################################\n",
    "############################################################################################################\n",
    "\n",
    "ax = fig.add_axes([0, 0, 1, 1])\n",
    "\n",
    "#ax.plot([0,1], [0,1], visible=False)\n",
    "ax.set_xlim(0,1)\n",
    "ax.set_ylim(0,1)\n",
    "\n",
    "#ax.text(0.18, 0.955, \"5 AA\", fontsize=20, horizontalalignment='center')\n",
    "\n",
    "plt.axis('off')\n",
    "\n",
    "#------------------------------------------------------------------------------------------------\n",
    "# From bottom left, to upper right.\n",
    "ii = 0\n",
    "jj = 0\n",
    "\n",
    "ax = fig.add_axes([wpad + ii*xs_panel, hpad + jj*ys_panel, xs_panel, ys_panel])\n",
    "\n",
    "cax = ax.hist2d(np.log10(ntot), np.log10(HIM18), bins=50, norm=LogNorm(), cmap=\"inferno\", range=[[-1, 5.0],[-28, -21]])\n",
    "\n",
    "ax.grid(\"on\")\n",
    "ax.tick_params(axis='x', which='both', bottom='on', top='off', direction= 'inout',labelbottom='on') # labels along the bottom edge are off\n",
    "ax.set_ylabel(\"log$_{10} (\\Gamma_{pe}[\\mathrm{erg \\, s}^{-1} \\mathrm{cm}^{-3}])$\", fontsize=16)\n",
    "ax.set_xlabel(\"log$_{10}$(n$_{H}$ [cm$^{-3}$])\", fontsize=16)\n",
    "ax.tick_params(axis='x', which='both', bottom='on', labelbottom='on')\n",
    "ax.tick_params(axis='both', which='major', length=6, width=2, labelsize=15)\n",
    "\n",
    "\n",
    "#------------------------------------------------------------------------------------------------\n",
    "# From bottom left, to upper right.\n",
    "ii = 1\n",
    "jj = 0\n",
    "\n",
    "ax = fig.add_axes([wpad + ii*(xs_panel+wwpad), hpad + jj*ys_panel, xs_panel, ys_panel])\n",
    "\n",
    "cax = ax.hist2d(np.log10(Ttot), np.log10(HIM18), bins=50, norm=LogNorm(), cmap=\"inferno\", range=[[0.5, 4.0],[-28, -21]])\n",
    "\n",
    "ax.grid(\"on\")\n",
    "\n",
    "ax.tick_params(axis='x', which='both', bottom='on', labelbottom='on', labelsize=15)\n",
    "#ax.tick_params(axis='both', which='major', length=6, width=2, labelsize=15)\n",
    "\n",
    "ax.tick_params(axis='x', which='both', bottom='on', top='off', direction= 'inout',labelbottom='on') # labels along the bottom edge are off\n",
    "\n",
    "ax.set_xlabel(\"log$_{10}$(T[K])\", fontsize=16)\n",
    "\n",
    "ax.tick_params(axis='y', left=\"off\", which='major', length=6, width=2, labelsize=0)\n",
    "\n",
    "#fig.savefig(\"/Users/juan/Dropbox/Talks/Conf, Workshops & Schools/2018/Group Meeting/IM18_heating.pdf\", format=\"pdf\")\n",
    "\n",
    "fig.show()"
   ]
  }
 ],
 "metadata": {
  "anaconda-cloud": {},
  "kernelspec": {
   "display_name": "Python 2",
   "language": "python",
   "name": "python2"
  },
  "language_info": {
   "codemirror_mode": {
    "name": "ipython",
    "version": 2
   },
   "file_extension": ".py",
   "mimetype": "text/x-python",
   "name": "python",
   "nbconvert_exporter": "python",
   "pygments_lexer": "ipython2",
   "version": "2.7.15"
  }
 },
 "nbformat": 4,
 "nbformat_minor": 2
}
