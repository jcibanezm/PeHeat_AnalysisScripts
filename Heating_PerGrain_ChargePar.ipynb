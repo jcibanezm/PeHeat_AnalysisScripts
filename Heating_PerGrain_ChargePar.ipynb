{
 "cells": [
  {
   "cell_type": "markdown",
   "metadata": {},
   "source": [
    "# Photoelectric heating rate per grain as a funciton of charge.\n",
    "\n",
    "Panel Figure 1. Pe_heat as a function of charge for three grain sizes."
   ]
  },
  {
   "cell_type": "code",
   "execution_count": 1,
   "metadata": {},
   "outputs": [
    {
     "name": "stdout",
     "output_type": "stream",
     "text": [
      "Loading the library to compute the charge distribution of dust grains.\n"
     ]
    }
   ],
   "source": [
    "import compute_charge_dist as fz\n",
    "import numpy as np\n",
    "import matplotlib.pyplot as plt\n",
    "import scipy.integrate as integrate\n",
    "\n",
    "import PeHeat_Functions as peh\n",
    "\n",
    "import MCMCFit as mcmc\n",
    "\n",
    "%matplotlib inline\n",
    "\n",
    "microntocm    = 1.0e-4\n",
    "cmtomicron    = 1.0e4\n",
    "AAtocm        = 1.0e-8\n",
    "cmtoAA        = 1.0e8\n",
    "microntoAA    = 1.0e4\n",
    "AAtomicron    = 1.0e-4\n",
    "ergtoeV       = 6.242e11\n",
    "eVtoerg       = 1.602e-12\n",
    "\n",
    "hplanck       = 4.135667662e-15 # eV s\n",
    "clight        = 2.99792458e10   # cm s-1"
   ]
  },
  {
   "cell_type": "markdown",
   "metadata": {},
   "source": [
    "# Panel Figure 1\n",
    "\n",
    "photoelectric heating rate as a function of the grain charge and the incident radiation field for various sizes."
   ]
  },
  {
   "cell_type": "code",
   "execution_count": 2,
   "metadata": {},
   "outputs": [
    {
     "name": "stdout",
     "output_type": "stream",
     "text": [
      "I'm looking for a grain size smaller than 10 Angstrom. Outside the tabulated data!!!\n",
      "Using the absorption efficiency for a 10 AA grain\n"
     ]
    }
   ],
   "source": [
    "grain_type=\"silicate\"\n",
    "\n",
    "asize = 5.\n",
    "Ntot = 0.0\n",
    "\n",
    "Qabs = fz.get_QabsTable(grain_type, asize)\n",
    "\n",
    "Zmin_sil, Zmax_sil = fz.get_Zmin(asize, grain_type), fz.get_Zmax(asize, grain_type)\n",
    "Znum_sil = int(Zmax_sil + abs(Zmin_sil) +1)\n",
    "ZZ_sil = np.linspace(Zmin_sil, Zmax_sil, num=Znum_sil)\n",
    "\n",
    "Gamma_dotdot_Z_sil = np.zeros_like(ZZ_sil)\n",
    "\n",
    "for i in range(Znum_sil):\n",
    "    Gamma_dotdot_Z_sil[i] = peh.get_Gamma_pe_dotdot(asize, ZZ_sil[i], grain_type, Ntot, Qabs, G0=1.7)\n",
    "    \n",
    "ZZ_sil_5AA             = np.concatenate(([Zmin_sil-1], ZZ_sil))\n",
    "Gamma_dotdot_Z_sil_5AA = np.concatenate(([Gamma_dotdot_Z_sil[0]], Gamma_dotdot_Z_sil))"
   ]
  },
  {
   "cell_type": "code",
   "execution_count": 3,
   "metadata": {
    "collapsed": true
   },
   "outputs": [],
   "source": [
    "asize = 10.\n",
    "Ntot = 0.0\n",
    "\n",
    "Qabs = fz.get_QabsTable(grain_type, asize)\n",
    "\n",
    "Zmin_sil, Zmax_sil = fz.get_Zmin(asize, grain_type), fz.get_Zmax(asize, grain_type)\n",
    "Znum_sil = int(Zmax_sil + abs(Zmin_sil) +1)\n",
    "ZZ_sil = np.linspace(Zmin_sil, Zmax_sil, num=Znum_sil)\n",
    "\n",
    "Gamma_dotdot_Z_sil = np.zeros_like(ZZ_sil)\n",
    "\n",
    "for i in range(Znum_sil):\n",
    "    Gamma_dotdot_Z_sil[i] = peh.get_Gamma_pe_dotdot(asize, ZZ_sil[i], grain_type, Ntot, Qabs, G0=1.7)\n",
    "    \n",
    "ZZ_sil_10AA             = np.concatenate(([Zmin_sil-1], ZZ_sil))\n",
    "Gamma_dotdot_Z_sil_10AA = np.concatenate(([Gamma_dotdot_Z_sil[0]], Gamma_dotdot_Z_sil))"
   ]
  },
  {
   "cell_type": "code",
   "execution_count": 4,
   "metadata": {
    "collapsed": true
   },
   "outputs": [],
   "source": [
    "asize = 50.\n",
    "Ntot = 0.0\n",
    "\n",
    "Qabs = fz.get_QabsTable(grain_type, asize)\n",
    "\n",
    "Zmin_sil, Zmax_sil = fz.get_Zmin(asize, grain_type), fz.get_Zmax(asize, grain_type)\n",
    "Znum_sil = int(Zmax_sil + abs(Zmin_sil) +1)\n",
    "ZZ_sil = np.linspace(Zmin_sil, Zmax_sil, num=Znum_sil)\n",
    "\n",
    "Gamma_dotdot_Z_sil = np.zeros_like(ZZ_sil)\n",
    "\n",
    "for i in range(Znum_sil):\n",
    "    Gamma_dotdot_Z_sil[i] = peh.get_Gamma_pe_dotdot(asize, ZZ_sil[i], grain_type, Ntot, Qabs, G0=1.7)\n",
    "    \n",
    "ZZ_sil_50AA             = np.concatenate(([Zmin_sil-1], ZZ_sil))\n",
    "Gamma_dotdot_Z_sil_50AA = np.concatenate(([Gamma_dotdot_Z_sil[0]], Gamma_dotdot_Z_sil))"
   ]
  },
  {
   "cell_type": "code",
   "execution_count": 5,
   "metadata": {
    "collapsed": true
   },
   "outputs": [],
   "source": [
    "asize = 100.\n",
    "Ntot = 0.0\n",
    "\n",
    "Qabs = fz.get_QabsTable(grain_type, asize)\n",
    "\n",
    "Zmin_sil, Zmax_sil = fz.get_Zmin(asize, grain_type), fz.get_Zmax(asize, grain_type)\n",
    "Znum_sil = int(Zmax_sil + abs(Zmin_sil) +1)\n",
    "ZZ_sil = np.linspace(Zmin_sil, Zmax_sil, num=Znum_sil)\n",
    "\n",
    "Gamma_dotdot_Z_sil = np.zeros_like(ZZ_sil)\n",
    "\n",
    "for i in range(Znum_sil):\n",
    "    Gamma_dotdot_Z_sil[i] = peh.get_Gamma_pe_dotdot(asize, ZZ_sil[i], grain_type, Ntot, Qabs, G0=1.7)\n",
    "    \n",
    "ZZ_sil_100AA             = np.concatenate(([Zmin_sil-1], ZZ_sil))\n",
    "Gamma_dotdot_Z_sil_100AA = np.concatenate(([Gamma_dotdot_Z_sil[0]], Gamma_dotdot_Z_sil))"
   ]
  },
  {
   "cell_type": "code",
   "execution_count": 6,
   "metadata": {
    "collapsed": true
   },
   "outputs": [],
   "source": [
    "asize = 500.\n",
    "Ntot = 0.0\n",
    "\n",
    "Qabs = fz.get_QabsTable(grain_type, asize)\n",
    "\n",
    "Zmin_sil, Zmax_sil = fz.get_Zmin(asize, grain_type), fz.get_Zmax(asize, grain_type)\n",
    "Znum_sil = int(Zmax_sil + abs(Zmin_sil) +1)\n",
    "ZZ_sil = np.linspace(Zmin_sil, Zmax_sil, num=Znum_sil)\n",
    "\n",
    "Gamma_dotdot_Z_sil = np.zeros_like(ZZ_sil)\n",
    "\n",
    "for i in range(Znum_sil):\n",
    "    Gamma_dotdot_Z_sil[i] = peh.get_Gamma_pe_dotdot(asize, ZZ_sil[i], grain_type, Ntot, Qabs, G0=1.7)\n",
    "    \n",
    "ZZ_sil_500AA             = np.concatenate(([Zmin_sil-1], ZZ_sil))\n",
    "Gamma_dotdot_Z_sil_500AA = np.concatenate(([Gamma_dotdot_Z_sil[0]], Gamma_dotdot_Z_sil))"
   ]
  },
  {
   "cell_type": "code",
   "execution_count": 7,
   "metadata": {
    "collapsed": true
   },
   "outputs": [],
   "source": [
    "asize = 1000.\n",
    "Ntot = 0.0\n",
    "\n",
    "Qabs = fz.get_QabsTable(grain_type, asize)\n",
    "\n",
    "Zmin_sil, Zmax_sil = fz.get_Zmin(asize, grain_type), fz.get_Zmax(asize, grain_type)\n",
    "Znum_sil = int(Zmax_sil + abs(Zmin_sil) +1)\n",
    "ZZ_sil = np.linspace(Zmin_sil, Zmax_sil, num=Znum_sil)\n",
    "\n",
    "Gamma_dotdot_Z_sil = np.zeros_like(ZZ_sil)\n",
    "\n",
    "for i in range(Znum_sil):\n",
    "    Gamma_dotdot_Z_sil[i] = peh.get_Gamma_pe_dotdot(asize, ZZ_sil[i], grain_type, Ntot, Qabs, G0=1.7)\n",
    "    \n",
    "ZZ_sil_1000AA             = np.concatenate(([Zmin_sil-1], ZZ_sil))\n",
    "Gamma_dotdot_Z_sil_1000AA = np.concatenate(([Gamma_dotdot_Z_sil[0]], Gamma_dotdot_Z_sil))"
   ]
  },
  {
   "cell_type": "code",
   "execution_count": 10,
   "metadata": {},
   "outputs": [
    {
     "name": "stdout",
     "output_type": "stream",
     "text": [
      "Done\n"
     ]
    }
   ],
   "source": [
    "print(\"Done\")"
   ]
  },
  {
   "cell_type": "markdown",
   "metadata": {},
   "source": [
    "---"
   ]
  },
  {
   "cell_type": "markdown",
   "metadata": {},
   "source": [
    "##### Make the panels"
   ]
  },
  {
   "cell_type": "code",
   "execution_count": 11,
   "metadata": {},
   "outputs": [
    {
     "data": {
      "image/png": "[encoded data removed]",
      "text/plain": [
       "<matplotlib.figure.Figure at 0x7f60d3328cd0>"
      ]
     },
     "metadata": {},
     "output_type": "display_data"
    }
   ],
   "source": [
    "xsize = 14\n",
    "ysize = 4\n",
    "\n",
    "nfigs_x = 3\n",
    "nfigs_y = 1\n",
    "\n",
    "fig = plt.figure(figsize=(xsize, ysize))\n",
    "\n",
    "hpad = 0.14\n",
    "wpad = 0.075\n",
    "\n",
    "xs_panel = 0.75 / nfigs_x \n",
    "ys_panel = 0.78 / nfigs_y \n",
    "\n",
    "############################################################################################################\n",
    "############################               5 Angstroms             #######################################\n",
    "############################################################################################################\n",
    "\n",
    "ax = fig.add_axes([0, 0, 1, 1])\n",
    "\n",
    "#ax.plot([0,1], [0,1], visible=False)\n",
    "ax.set_xlim(0,1)\n",
    "ax.set_ylim(0,1)\n",
    "\n",
    "ax.text(0.2, 0.93, \"5 $\\AA$\", fontsize=20, horizontalalignment='center')\n",
    "ax.text(0.53, 0.93, \"100 $\\AA$\", fontsize=20, horizontalalignment='center')\n",
    "ax.text(0.87, 0.93, \"1000 $\\AA$\", fontsize=20, horizontalalignment='center')\n",
    "\n",
    "plt.axis('off')\n",
    "\n",
    "#------------------------------------------------------------------------------------------------\n",
    "# From bottom left, to upper right.\n",
    "ii = 0\n",
    "jj = 0\n",
    "\n",
    "\n",
    "ax = fig.add_axes([wpad + ii*xs_panel+ii*wpad, hpad + jj*ys_panel, xs_panel, ys_panel])\n",
    "\n",
    "ax.plot(ZZ_sil_5AA+0.5, Gamma_dotdot_Z_sil_5AA*1.0e21, \"-k\", linewidth=2, linestyle=\"steps\", label=\"silicate\")\n",
    "#ax.plot(ZZ_carb_5AA+0.5, Gamma_dotdot_Z_carb_5AA*1.0e21, \"-r\", linewidth=2, linestyle=\"steps\", label=\"carbonaceous\")\n",
    "\n",
    "ax.legend(loc=0, fontsize=12, frameon=False)\n",
    "\n",
    "ax.set_yscale(\"log\")\n",
    "\n",
    "ax.set_xlabel(\"Z\", fontsize=20)\n",
    "ax.set_ylabel(\"10$^{21} \\\\times$ $\\Gamma^{''}_{pe}(a, Z)$ [erg s$^{-1}$]\", fontsize=18)\n",
    "\n",
    "ax.set_ylim(1.0e-3, 5.0e2)\n",
    "\n",
    "ax.tick_params(axis='both', which='major', length=10, width=2,  labelsize=15, direction=\"in\")\n",
    "ax.tick_params(axis='both', which='minor', length=5, width=1.5, labelsize=15, direction=\"in\")\n",
    "\n",
    "\n",
    "#------------------------------------------------------------------------------------------------\n",
    "# From bottom left, to upper right.\n",
    "ii = 1\n",
    "jj = 0\n",
    "\n",
    "ax = fig.add_axes([wpad + ii*xs_panel+ii*wpad+0.01, hpad + jj*ys_panel, xs_panel, ys_panel])\n",
    "\n",
    "ax.plot(ZZ_sil_100AA+0.5, Gamma_dotdot_Z_sil_100AA*1.0e21, \"-k\", linewidth=2, linestyle=\"steps\", label=\"silicate\")\n",
    "#ax.plot(ZZ_carb_100AA+0.5, Gamma_dotdot_Z_carb_100AA*1.0e21, \"-r\", linewidth=2, linestyle=\"steps\", label=\"carbonaceous\")\n",
    "\n",
    "ax.set_yscale(\"log\")\n",
    "\n",
    "ax.set_xlabel(\"Z\", fontsize=20)\n",
    "ax.set_ylabel(\"10$^{21} \\\\times$ $\\Gamma^{''}_{pe}(a, Z)$ [erg s$^{-1}$]\", fontsize=18)\n",
    "\n",
    "ax.set_xlim(-22, 70)\n",
    "\n",
    "ax.set_ylim(1.0e-2, 1.0e6)\n",
    "\n",
    "ax.tick_params(axis='both', which='major', length=10, width=2,  labelsize=15, direction=\"in\")\n",
    "ax.tick_params(axis='both', which='minor', length=5, width=1.5, labelsize=15, direction=\"in\")\n",
    "\n",
    "#------------------------------------------------------------------------------------------------\n",
    "# From bottom left, to upper right.\n",
    "ii = 2\n",
    "jj = 0\n",
    "\n",
    "ax = fig.add_axes([wpad + ii*xs_panel+ii*wpad+0.02, hpad + jj*ys_panel, xs_panel, ys_panel])\n",
    "\n",
    "\n",
    "ax.plot(ZZ_sil_1000AA+0.5, Gamma_dotdot_Z_sil_1000AA*1.0e21, \"-k\", linewidth=2, linestyle=\"steps\", label=\"silicate\")\n",
    "#ax.plot(ZZ_carb_1000AA+0.5, Gamma_dotdot_Z_carb_1000AA*1.0e21, \"-r\", linewidth=2, linestyle=\"steps\", label=\"carbonaceous\")\n",
    "\n",
    "ax.set_yscale(\"log\")\n",
    "\n",
    "ax.set_xlabel(\"Z\", fontsize=20)\n",
    "ax.set_ylabel(\"10$^{21} \\\\times$ $\\Gamma^{''}_{pe}(a, Z)$ [erg s$^{-1}$]\", fontsize=18)\n",
    "\n",
    "ax.set_xlim(-220, 750)\n",
    "ax.set_ylim(1.0e-2, 1.0e10)\n",
    "\n",
    "ax.tick_params(axis='both', which='major', length=10, width=2,  labelsize=15, direction=\"in\")\n",
    "ax.tick_params(axis='both', which='minor', length=5, width=1.5, labelsize=15, direction=\"in\")\n",
    "\n",
    "fig.show()\n",
    "\n",
    "#fig.savefig(\"/home/jcibanezm/Dropbox/Projects/Papers/In_Progress/PeHeat_dust/Figures/Figure_2_Gamma_dotdot.pdf\", format=\"pdf\")\n"
   ]
  },
  {
   "cell_type": "markdown",
   "metadata": {},
   "source": [
    "---\n",
    "\n",
    "## Do the fits\n",
    "\n",
    "### Linear fits"
   ]
  },
  {
   "cell_type": "code",
   "execution_count": 29,
   "metadata": {
    "collapsed": true
   },
   "outputs": [],
   "source": [
    "ilow5 = np.where(ZZ_sil_5AA == -1)[0][0]\n",
    "iup5  = np.where(ZZ_sil_5AA == 2)[0][0]\n",
    "x5 = ZZ_sil_5AA[ilow5:iup5]\n",
    "y5 = np.log(Gamma_dotdot_Z_sil_5AA[ilow5:iup5])\n",
    "\n",
    "ilow10 = np.where(ZZ_sil_10AA == 0)[0][0]\n",
    "iup10  = np.where(ZZ_sil_10AA == 3)[0][0]\n",
    "x10 = ZZ_sil_10AA[ilow10:iup10]\n",
    "y10 = np.log(Gamma_dotdot_Z_sil_10AA[ilow10:iup10])\n",
    "\n",
    "ilow50 = np.where(ZZ_sil_50AA == 0)[0][0]\n",
    "iup50  = np.where(ZZ_sil_50AA == 10)[0][0]\n",
    "x50 = ZZ_sil_50AA[ilow50:iup50]\n",
    "y50 = np.log(Gamma_dotdot_Z_sil_50AA[ilow50:iup50])\n",
    "\n",
    "ilow100 = np.where(ZZ_sil_100AA == 0)[0][0]\n",
    "iup100  = np.where(ZZ_sil_100AA == 20)[0][0]\n",
    "x100 = ZZ_sil_100AA[ilow100:iup100]\n",
    "y100 = np.log(Gamma_dotdot_Z_sil_100AA[ilow100:iup100])\n",
    "\n",
    "ilow500 = np.where(ZZ_sil_500AA == 0)[0][0]\n",
    "iup500  = np.where(ZZ_sil_500AA == 100)[0][0]\n",
    "x500 = ZZ_sil_500AA[ilow500:iup500]\n",
    "y500 = np.log(Gamma_dotdot_Z_sil_500AA[ilow500:iup500])\n",
    "\n",
    "ilow1000 = np.where(ZZ_sil_1000AA == 0)[0][0]\n",
    "iup1000  = np.where(ZZ_sil_1000AA == 200)[0][0]\n",
    "x1000 = ZZ_sil_1000AA[ilow1000:iup1000]\n",
    "y1000 = np.log(Gamma_dotdot_Z_sil_1000AA[ilow1000:iup1000])"
   ]
  },
  {
   "cell_type": "code",
   "execution_count": 30,
   "metadata": {
    "collapsed": true
   },
   "outputs": [],
   "source": [
    "medianlin5, samplerlin5, thetalin5          = mcmc.LinearMCMC(x5, y5)\n",
    "medianlin10, samplerlin10, thetalin10       = mcmc.LinearMCMC(x10, y10)\n",
    "medianlin50, samplerlin50, thetalin50       = mcmc.LinearMCMC(x50, y50)\n",
    "medianlin100, samplerlin100, thetalin100    = mcmc.LinearMCMC(x100, y100)\n",
    "medianlin500, samplerlin500, thetalin500    = mcmc.LinearMCMC(x500, y500)\n",
    "medianlin1000, samplerlin1000, thetalin1000 = mcmc.LinearMCMC(x1000, y1000)"
   ]
  },
  {
   "cell_type": "code",
   "execution_count": 31,
   "metadata": {
    "collapsed": true
   },
   "outputs": [],
   "source": [
    "medianquad5, samplerquad5, thetaquad5          = mcmc.QuadMCMC(x5, y5)\n",
    "medianquad10, samplerquad10, thetaquad10       = mcmc.QuadMCMC(x10, y10)\n",
    "medianquad50, samplerquad50, thetaquad50       = mcmc.QuadMCMC(x50, y50)\n",
    "medianquad100, samplerquad100, thetaquad100    = mcmc.QuadMCMC(x100, y100)\n",
    "medianquad500, samplerquad500, thetaquad500    = mcmc.QuadMCMC(x500, y500)\n",
    "medianquad1000, samplerquad1000, thetaquad1000 = mcmc.QuadMCMC(x1000, y1000)"
   ]
  },
  {
   "cell_type": "code",
   "execution_count": null,
   "metadata": {
    "collapsed": true
   },
   "outputs": [],
   "source": []
  },
  {
   "cell_type": "code",
   "execution_count": 292,
   "metadata": {},
   "outputs": [
    {
     "data": {
      "image/png": "[encoded data removed]",
      "text/plain": [
       "<matplotlib.figure.Figure at 0x7f60c8029c50>"
      ]
     },
     "metadata": {},
     "output_type": "display_data"
    }
   ],
   "source": [
    "xsize = 14\n",
    "ysize = 6.5\n",
    "\n",
    "nfigs_x = 3\n",
    "nfigs_y = 2\n",
    "\n",
    "fig = plt.figure(figsize=(xsize, ysize))\n",
    "\n",
    "hpad = 0.085\n",
    "wpad = 0.075\n",
    "\n",
    "xs_panel = 0.65 / nfigs_x \n",
    "ys_panel = 0.86 / nfigs_y \n",
    "\n",
    "############################################################################################################\n",
    "############################               5 Angstroms             #######################################\n",
    "############################################################################################################\n",
    "\n",
    "ax = fig.add_axes([0, 0, 1, 1])\n",
    "\n",
    "#ax.plot([0,1], [0,1], visible=False)\n",
    "ax.set_xlim(0,1)\n",
    "ax.set_ylim(0,1)\n",
    "\n",
    "ax.text(0.18, 0.96, \"5 $\\AA$\", fontsize=20, horizontalalignment='center')\n",
    "ax.text(0.5, 0.96, \"100 $\\AA$\", fontsize=20, horizontalalignment='center')\n",
    "ax.text(0.80, 0.96, \"1000 $\\AA$\", fontsize=20, horizontalalignment='center')\n",
    "\n",
    "ax.text(0.95, 0.30, \"Quadratic fit\", fontsize=15, horizontalalignment='center')\n",
    "ax.text(0.95, 0.76, \"Linear fit\", fontsize=15, horizontalalignment='center')\n",
    "\n",
    "\n",
    "plt.axis('off')\n",
    "\n",
    "#------------------------------------------------------------------------------------------------\n",
    "# From bottom left, to upper right.\n",
    "ii = 0\n",
    "jj = 1\n",
    "\n",
    "\n",
    "ax = fig.add_axes([wpad + ii*xs_panel+ii*wpad, hpad + jj*ys_panel, xs_panel, ys_panel])\n",
    "\n",
    "x5new = np.concatenate(([x5[0]-1], x5))\n",
    "y5new = np.concatenate(([y5[0]], y5))\n",
    "\n",
    "ax.plot(x5new+0.5, np.exp(y5new), \"-k\", linewidth=2, linestyle=\"steps\", label=\"silicate\")\n",
    "\n",
    "y5mcmc = mcmc.lin_model(medianlin5,x5)\n",
    "\n",
    "ax.plot(x5new+0.5, np.exp(np.concatenate(([y5mcmc[0]],y5mcmc))), 'r-', lw=2, alpha=1, linestyle=\"steps\")\n",
    "\n",
    "#ax.plot(x5new, mcmc.lin_model(medianlin5,x5new), 'r-', lw=2, alpha=1, linestyle=\"steps\")\n",
    "\n",
    "ax.legend(loc=0, fontsize=12, frameon=False)\n",
    "\n",
    "ax.set_yscale(\"log\")\n",
    "\n",
    "ax.set_xlabel(\"Z\", fontsize=20)\n",
    "ax.set_ylabel(\"$\\Gamma^{''}_{pe}(a, Z)$ [erg s$^{-1}$]\", fontsize=18)\n",
    "\n",
    "#ax.set_ylim(1.0e-3, 5.0e2)\n",
    "\n",
    "ax.tick_params(axis='both', which='major', length=10, width=2,  labelsize=15, direction=\"in\")\n",
    "ax.tick_params(axis='both', which='minor', length=5, width=1.5, labelsize=15, direction=\"in\")\n",
    "\n",
    "\n",
    "#------------------------------------------------------------------------------------------------\n",
    "# From bottom left, to upper right.\n",
    "ii = 1\n",
    "jj = 1\n",
    "\n",
    "ax = fig.add_axes([wpad + ii*xs_panel+ii*wpad+0.01, hpad + jj*ys_panel, xs_panel, ys_panel])\n",
    "\n",
    "ax.plot(x100+0.5, np.exp(y100), \"-k\", linewidth=2, linestyle=\"steps\", label=\"silicate\")\n",
    "#ax.plot(ZZ_carb_100AA+0.5, Gamma_dotdot_Z_carb_100AA*1.0e21, \"-r\", linewidth=2, linestyle=\"steps\", label=\"carbonaceous\")\n",
    "\n",
    "ax.plot(x100+0.5, np.exp(mcmc.lin_model(medianlin100,x100)), 'r-', lw=2, alpha=1, linestyle=\"steps\")\n",
    "\n",
    "ax.set_yscale(\"log\")\n",
    "\n",
    "ax.set_xlabel(\"Z\", fontsize=20)\n",
    "ax.set_ylabel(\"$\\Gamma^{''}_{pe}(a, Z)$ [erg s$^{-1}$]\", fontsize=18)\n",
    "\n",
    "ax.tick_params(axis='both', which='major', length=10, width=2,  labelsize=15, direction=\"in\")\n",
    "ax.tick_params(axis='both', which='minor', length=5, width=1.5, labelsize=15, direction=\"in\")\n",
    "\n",
    "#------------------------------------------------------------------------------------------------\n",
    "# From bottom left, to upper right.\n",
    "ii = 2\n",
    "jj = 1\n",
    "\n",
    "ax = fig.add_axes([wpad + ii*xs_panel+ii*wpad+0.02, hpad + jj*ys_panel, xs_panel, ys_panel])\n",
    "\n",
    "ax.plot(x1000+0.5, np.exp(y1000), \"-k\", linewidth=2, linestyle=\"steps\", label=\"silicate\")\n",
    "\n",
    "ax.plot(x1000+0.5, np.exp(mcmc.lin_model(medianlin1000,x1000)), 'r-', lw=2, alpha=1, linestyle=\"steps\")\n",
    "\n",
    "ax.set_yscale(\"log\")\n",
    "\n",
    "ax.set_xlabel(\"Z\", fontsize=20)\n",
    "ax.set_ylabel(\"$\\Gamma^{''}_{pe}(a, Z)$ [erg s$^{-1}$]\", fontsize=18)\n",
    "\n",
    "ax.tick_params(axis='both', which='major', length=10, width=2,  labelsize=15, direction=\"in\")\n",
    "ax.tick_params(axis='both', which='minor', length=5, width=1.5, labelsize=15, direction=\"in\")\n",
    "\n",
    "\n",
    "#------------------------------------------------------------------------------------------------\n",
    "# From bottom left, to upper right.\n",
    "ii = 0\n",
    "jj = 0\n",
    "\n",
    "\n",
    "ax = fig.add_axes([wpad + ii*xs_panel+ii*wpad, hpad + jj*ys_panel, xs_panel, ys_panel])\n",
    "\n",
    "x5new = np.concatenate(([x5[0]-1], x5))\n",
    "y5new = np.concatenate(([y5[0]], y5))\n",
    "\n",
    "ax.plot(x5new+0.5, np.exp(y5new), \"-k\", linewidth=2, linestyle=\"steps\", label=\"silicate\")\n",
    "\n",
    "y5mcmc = mcmc.quad_model(medianquad5,x5)\n",
    "\n",
    "ax.plot(x5new+0.5, np.exp(np.concatenate(([y5mcmc[0]],y5mcmc))), 'r-', lw=2, alpha=1, linestyle=\"steps\")\n",
    "\n",
    "ax.legend(loc=0, fontsize=12, frameon=False)\n",
    "\n",
    "ax.set_yscale(\"log\")\n",
    "\n",
    "ax.set_xlabel(\"Z\", fontsize=20)\n",
    "ax.set_ylabel(\"$\\Gamma^{''}_{pe}(a, Z)$ [erg s$^{-1}$]\", fontsize=18)\n",
    "\n",
    "ax.tick_params(axis='both', which='major', length=10, width=2,  labelsize=15, direction=\"in\")\n",
    "ax.tick_params(axis='both', which='minor', length=5, width=1.5, labelsize=15, direction=\"in\")\n",
    "\n",
    "\n",
    "#------------------------------------------------------------------------------------------------\n",
    "# From bottom left, to upper right.\n",
    "ii = 1\n",
    "jj = 0\n",
    "\n",
    "ax = fig.add_axes([wpad + ii*xs_panel+ii*wpad+0.01, hpad + jj*ys_panel, xs_panel, ys_panel])\n",
    "\n",
    "ax.plot(x100+0.5, np.exp(y100), \"-k\", linewidth=2, linestyle=\"steps\", label=\"silicate\")\n",
    "\n",
    "ax.plot(x100+0.5, np.exp(mcmc.quad_model(medianquad100,x100)), 'r-', lw=2, alpha=1, linestyle=\"steps\")\n",
    "ax.set_yscale(\"log\")\n",
    "\n",
    "ax.set_xlabel(\"Z\", fontsize=20)\n",
    "ax.set_ylabel(\"$\\Gamma^{''}_{pe}(a, Z)$ [erg s$^{-1}$]\", fontsize=18)\n",
    "\n",
    "ax.tick_params(axis='both', which='major', length=10, width=2,  labelsize=15, direction=\"in\")\n",
    "ax.tick_params(axis='both', which='minor', length=5, width=1.5, labelsize=15, direction=\"in\")\n",
    "\n",
    "#------------------------------------------------------------------------------------------------\n",
    "# From bottom left, to upper right.\n",
    "ii = 2\n",
    "jj = 0\n",
    "\n",
    "ax = fig.add_axes([wpad + ii*xs_panel+ii*wpad+0.02, hpad + jj*ys_panel, xs_panel, ys_panel])\n",
    "\n",
    "\n",
    "ax.plot(x1000+0.5, np.exp(y1000), \"-k\", linewidth=2, linestyle=\"steps\", label=\"silicate\")\n",
    "\n",
    "ax.plot(x1000+0.5, np.exp(mcmc.quad_model(medianquad1000,x1000)), 'r-', lw=2, alpha=1, linestyle=\"steps\")\n",
    "\n",
    "ax.set_yscale(\"log\")\n",
    "\n",
    "ax.set_xlabel(\"Z\", fontsize=20)\n",
    "ax.set_ylabel(\"10$^{21} \\\\times$ $\\Gamma^{''}_{pe}(a, Z)$ [erg s$^{-1}$]\", fontsize=18)\n",
    "\n",
    "\n",
    "ax.tick_params(axis='both', which='major', length=10, width=2,  labelsize=15, direction=\"in\")\n",
    "ax.tick_params(axis='both', which='minor', length=5, width=1.5, labelsize=15, direction=\"in\")\n",
    "\n",
    "\n",
    "fig.show()\n",
    "\n",
    "fig.savefig(\"/home/jcibanezm/Dropbox/Projects/Papers/In_Progress/PeHeat_dust/Figures/Appendix/Linear_Quad_Fits_Gammadotdot_sil.pdf\", format=\"pdf\")\n"
   ]
  },
  {
   "cell_type": "code",
   "execution_count": 347,
   "metadata": {
    "collapsed": true
   },
   "outputs": [],
   "source": [
    "medianlin = np.array([medianlin5, medianlin10, medianlin50,medianlin100,medianlin500, medianlin1000])\n",
    "medianquad =  np.array([medianquad5, medianquad10, medianquad50, medianquad100, medianquad500, medianquad1000])\n",
    "\n",
    "asize = np.array([5, 10, 50, 100, 500, 1000])"
   ]
  },
  {
   "cell_type": "code",
   "execution_count": 348,
   "metadata": {},
   "outputs": [
    {
     "name": "stdout",
     "output_type": "stream",
     "text": [
      "[-1.03661594  1.20042384]\n"
     ]
    }
   ],
   "source": [
    "x = np.log10(asize)\n",
    "y = np.log10(abs(medianlin[:,0]))\n",
    "\n",
    "medianlin_slope, samplerlin_slope, thetalin_slope     = mcmc.LinearMCMC(x, y)\n",
    "\n",
    "print(medianlin_slope)"
   ]
  },
  {
   "cell_type": "code",
   "execution_count": 358,
   "metadata": {},
   "outputs": [
    {
     "name": "stdout",
     "output_type": "stream",
     "text": [
      "[-0.06064204  1.71356194]\n"
     ]
    }
   ],
   "source": [
    "yint = np.log10(abs(medianlin[:,1]))\n",
    "\n",
    "medianlin_int, samplerlin_int, thetalin_int     = mcmc.LinearMCMC(x, yint)\n",
    "\n",
    "print(medianlin_int)"
   ]
  },
  {
   "cell_type": "code",
   "execution_count": 350,
   "metadata": {},
   "outputs": [
    {
     "name": "stdout",
     "output_type": "stream",
     "text": [
      "46.95837927819659\n"
     ]
    }
   ],
   "source": [
    "print(10**(medianlin_int[1])*(5)**(medianlin_int[0]))"
   ]
  },
  {
   "cell_type": "code",
   "execution_count": 351,
   "metadata": {},
   "outputs": [
    {
     "name": "stdout",
     "output_type": "stream",
     "text": [
      "2.991302901976783\n"
     ]
    }
   ],
   "source": [
    "print(10**(mcmc.lin_model(medianlin_slope, x[0])))"
   ]
  },
  {
   "cell_type": "code",
   "execution_count": 356,
   "metadata": {},
   "outputs": [
    {
     "data": {
      "image/png": "[encoded data removed]",
      "text/plain": [
       "<matplotlib.figure.Figure at 0x7f60d1fd7210>"
      ]
     },
     "metadata": {},
     "output_type": "display_data"
    }
   ],
   "source": [
    "xsize = 14\n",
    "ysize = 4.5\n",
    "\n",
    "nfigs_x = 2\n",
    "nfigs_y = 1\n",
    "\n",
    "fig = plt.figure(figsize=(xsize, ysize))\n",
    "\n",
    "hpad = 0.13\n",
    "wpad = 0.075\n",
    "\n",
    "xs_panel = 0.65 / nfigs_x \n",
    "ys_panel = 0.80 / nfigs_y \n",
    "\n",
    "###################################################\n",
    "ax = fig.add_axes([0, 0, 1, 1])\n",
    "\n",
    "#ax.plot([0,1], [0,1], visible=False)\n",
    "ax.set_xlim(0,1)\n",
    "ax.set_ylim(0,1)\n",
    "\n",
    "\n",
    "ax.text(0.9, 0.60, \"Linear fit \", fontsize=15, horizontalalignment='center')\n",
    "\n",
    "ax.text(0.9, 0.50, \"$\\Gamma_{pe}^{''}=\\Gamma_{pe,0}^{''} \\,\\mathrm{exp}(-\\zeta \\, Z)$\", fontsize=15, horizontalalignment='center')\n",
    "\n",
    "ax.text(0.9, 0.40, \"$\\zeta (a) =  2.95 \\, (a/5 \\AA)^{-1.04} $\", fontsize=15, horizontalalignment='center')\n",
    "#ax.text(0.9, 0.60, \"$\\zeta (a) = 2.953042 \\, \\left(\\frac{a}{5 \\AA}\\right)^{-1.03848}$\", fontsize=15, horizontalalignment='center')\n",
    "\n",
    "\n",
    "plt.axis('off')\n",
    "\n",
    "###################################################\n",
    "\n",
    "# From bottom left, to upper right.\n",
    "ii = 0\n",
    "jj = 0\n",
    "\n",
    "ax = fig.add_axes([wpad + ii*xs_panel+ii*wpad, hpad + jj*ys_panel, xs_panel, ys_panel])\n",
    "\n",
    "ax.plot(asize, np.abs(medianlin[:,0]), \"-k\", linewidth=2)\n",
    "ax.plot(10**(x), 10**(mcmc.lin_model(medianlin_slope, x)), \"-r\")\n",
    "#ax.plot(asize, 2.953042*(asize/5.)**(-1.03848), \"--b\")\n",
    "\n",
    "ax.set_xscale(\"log\")\n",
    "ax.set_yscale(\"log\")\n",
    "\n",
    "ax.set_xlabel(\"a [$\\AA$]\", fontsize=15)\n",
    "ax.set_ylabel(\"$\\zeta (a)$\", fontsize=15)\n",
    "\n",
    "ax.tick_params(axis='both', which='major', length=10, width=2,  labelsize=12, direction=\"in\")\n",
    "ax.tick_params(axis='both', which='minor', length=5, width=1.5, labelsize=12, direction=\"in\")\n",
    "\n",
    "ax.set_title(\"Slope\", fontsize=20)\n",
    "\n",
    "#------------------------------------------------------------------------------\n",
    "# From bottom left, to upper right.\n",
    "ii = 1\n",
    "jj = 0\n",
    "\n",
    "ax = fig.add_axes([wpad + ii*xs_panel+ii*wpad, hpad + jj*ys_panel, xs_panel, ys_panel])\n",
    "\n",
    "ax.plot(asize, np.abs(medianlin[:,1]), \"-k\", linewidth=2)\n",
    "ax.plot(10**(x), 46.6*(asize/5.0)**(-0.0658))\n",
    "\n",
    "ax.set_xscale(\"log\")\n",
    "#ax.set_yscale(\"log\")\n",
    "\n",
    "ax.set_xlabel(\"a [$\\AA$]\", fontsize=15)\n",
    "ax.set_ylabel(\"b\", fontsize=15)\n",
    "\n",
    "ax.tick_params(axis='both', which='major', length=10, width=2,  labelsize=12, direction=\"in\")\n",
    "ax.tick_params(axis='both', which='minor', length=5, width=1.5, labelsize=12, direction=\"in\")\n",
    "\n",
    "ax.set_title(\"intercept\", fontsize=20)\n",
    "\n",
    "#fig.suptitle(\"Parameters for the linear fit\", fontsize=18)\n",
    "\n",
    "fig.show()\n",
    "\n",
    "fig.savefig(\"/home/jcibanezm/Dropbox/Projects/Papers/In_Progress/PeHeat_dust/Figures/Appendix/SizeDependentSlope_linmodel_Gammadotdot_sil.pdf\", format=\"pdf\")\n"
   ]
  },
  {
   "cell_type": "markdown",
   "metadata": {},
   "source": [
    "Linear Fit:\n",
    "\n",
    "$$ log_{10}(\\Gamma_{pe}^{''}(a, G, Z)) = m Z + b $$\n",
    "\n",
    "\n",
    "This means that the heating rate as a function of charge behaves like:\n",
    "\n",
    "$$ \\Gamma_{pe}^{''}(a, G, Z) = \\Gamma_{pe}^{''}(a, G, 0) \\,\\mathrm{exp}(-\\zeta Z - b) $$\n",
    "\n",
    "where $\\zeta(a)$ and $b(a)$ are a grain size dependent parameter as:\n",
    "\n",
    "$$ \\zeta(a) = 2.953042 \\, \\left(\\frac{a}{5 \\AA}\\right)^{-1.03848}$$\n",
    "\n",
    "$$ b(a) = 46.6 \\left( \\frac{a}{5 AA} \\right)^{-0.0658}$$\n",
    "\n",
    "Something like:\n",
    "\n",
    "$$ \\Gamma_{pe}^{''}(a, G, Z) = \\Gamma_{pe}^{''}(a, G, 0) \\,\\mathrm{exp}(-\\zeta Z) exp(-b) $$\n"
   ]
  },
  {
   "cell_type": "code",
   "execution_count": 389,
   "metadata": {},
   "outputs": [
    {
     "name": "stdout",
     "output_type": "stream",
     "text": [
      "[46.6        44.52235652 40.04846886 38.26292293 34.4180227  32.8835081 ]\n"
     ]
    }
   ],
   "source": [
    "print(approx)"
   ]
  },
  {
   "cell_type": "code",
   "execution_count": 402,
   "metadata": {
    "collapsed": true
   },
   "outputs": [],
   "source": [
    "Gammahere = 2.3e-20 * (asize /5.0)**(2.37932796)"
   ]
  },
  {
   "cell_type": "code",
   "execution_count": 398,
   "metadata": {
    "collapsed": true
   },
   "outputs": [],
   "source": [
    "total = np.exp(-46.6*(asize/5.)**(-0.0658))\n",
    "#approx = 46.6*(asize/5.)**(-0.0658) "
   ]
  },
  {
   "cell_type": "code",
   "execution_count": 403,
   "metadata": {},
   "outputs": [
    {
     "data": {
      "text/plain": [
       "[<matplotlib.lines.Line2D at 0x7f60c81c2610>]"
      ]
     },
     "execution_count": 403,
     "metadata": {},
     "output_type": "execute_result"
    },
    {
     "data": {
      "image/png": "[encoded data removed]",
      "text/plain": [
       "<matplotlib.figure.Figure at 0x7f60c81c2690>"
      ]
     },
     "metadata": {},
     "output_type": "display_data"
    }
   ],
   "source": [
    "plt.plot(np.log10(asize), np.log10(total), \"-k\")\n",
    "plt.plot(np.log10(asize), np.log10(Gammahere), \"-r\")"
   ]
  },
  {
   "cell_type": "code",
   "execution_count": 372,
   "metadata": {},
   "outputs": [
    {
     "ename": "SyntaxError",
     "evalue": "invalid syntax (<ipython-input-372-dd56746acf28>, line 1)",
     "output_type": "error",
     "traceback": [
      "\u001b[0;36m  File \u001b[0;32m\"<ipython-input-372-dd56746acf28>\"\u001b[0;36m, line \u001b[0;32m1\u001b[0m\n\u001b[0;31m    expansion of\u001b[0m\n\u001b[0m               ^\u001b[0m\n\u001b[0;31mSyntaxError\u001b[0m\u001b[0;31m:\u001b[0m invalid syntax\n"
     ]
    }
   ],
   "source": [
    "expansion of"
   ]
  },
  {
   "cell_type": "code",
   "execution_count": null,
   "metadata": {
    "collapsed": true
   },
   "outputs": [],
   "source": []
  },
  {
   "cell_type": "markdown",
   "metadata": {},
   "source": [
    "---"
   ]
  },
  {
   "cell_type": "code",
   "execution_count": 64,
   "metadata": {
    "collapsed": true
   },
   "outputs": [],
   "source": [
    "x = np.log10(asize)\n",
    "\n",
    "yqterm= np.log10(abs(medianquad[:,0]))\n",
    "medianquad_qterm, samplerquad_qterm, thetaquad_qterm     = mcmc.LinearMCMC(x, yqterm)\n",
    "\n",
    "yslope = np.log10(abs(medianquad[:,1]))\n",
    "medianquad_slope, samplerquad_slope, thetaquad_slope     = mcmc.LinearMCMC(x, yslope)"
   ]
  },
  {
   "cell_type": "code",
   "execution_count": 334,
   "metadata": {},
   "outputs": [
    {
     "data": {
      "image/png": "[encoded data removed]",
      "text/plain": [
       "<matplotlib.figure.Figure at 0x7f60c3ecd710>"
      ]
     },
     "metadata": {},
     "output_type": "display_data"
    }
   ],
   "source": [
    "xsize = 14\n",
    "ysize = 4.\n",
    "\n",
    "nfigs_x = 3\n",
    "nfigs_y = 1\n",
    "\n",
    "fig = plt.figure(figsize=(xsize, ysize))\n",
    "\n",
    "hpad = 0.13\n",
    "wpad = 0.049\n",
    "\n",
    "xs_panel = 0.66 / nfigs_x \n",
    "ys_panel = 0.80 / nfigs_y \n",
    "\n",
    "###################################################\n",
    "ax = fig.add_axes([0, 0, 1, 1])\n",
    "\n",
    "#ax.plot([0,1], [0,1], visible=False)\n",
    "ax.set_xlim(0,1)\n",
    "ax.set_ylim(0,1)\n",
    "\n",
    "\n",
    "ax.text(0.91, 0.70, \"Quadratic fit\", fontsize=15, horizontalalignment='center')\n",
    "\n",
    "ax.text(0.91, 0.60, \"$\\Gamma_{pe}^{''}=\\Gamma_{pe,0}^{''} \\,\\mathrm{exp}(\\\\xi \\, Z^{2} -\\zeta \\, Z)$\", fontsize=15, horizontalalignment='center')\n",
    "\n",
    "ax.text(0.91, 0.50, \"$\\\\xi (a) = 1.56 \\, (a/5 \\AA)^{-2.09} $\", fontsize=15, horizontalalignment='center')\n",
    "ax.text(0.91, 0.40, \"$\\zeta (a) =  2.07 \\, (a/5 \\AA)^{-1.08} $\", fontsize=15, horizontalalignment='center')\n",
    "#ax.text(0.9, 0.60, \"$\\zeta (a) = 2.953042 \\, \\left(\\frac{a}{5 \\AA}\\right)^{-1.03848}$\", fontsize=15, horizontalalignment='center')\n",
    "\n",
    "\n",
    "plt.axis('off')\n",
    "\n",
    "\n",
    "############################################################################################################\n",
    "# From bottom left, to upper right.\n",
    "ii = 0\n",
    "jj = 0\n",
    "\n",
    "ax = fig.add_axes([wpad + ii*xs_panel+ii*wpad, hpad + jj*ys_panel, xs_panel, ys_panel])\n",
    "ax.plot(asize, np.abs(medianquad[:,0]), \"-k\", linewidth=2)\n",
    "\n",
    "ax.plot(10**(x), 10**(mcmc.lin_model(medianquad_qterm, x)), \"-r\")\n",
    "#ax.plot(asize, 1.5580937*(asize/5.)**(-2.089611), \"--b\")\n",
    "\n",
    "ax.set_xscale(\"log\")\n",
    "ax.set_yscale(\"log\")\n",
    "\n",
    "ax.set_xlabel(\"grain size [$\\AA$]\", fontsize=15)\n",
    "ax.set_ylabel(\"$\\\\xi$\", fontsize=15, labelpad=-1)\n",
    "\n",
    "ax.tick_params(axis='both', which='major', length=10, width=2,  labelsize=12, direction=\"in\")\n",
    "ax.tick_params(axis='both', which='minor', length=5, width=1.5, labelsize=12, direction=\"in\")\n",
    "\n",
    "ax.set_title(\"quad term\")\n",
    "\n",
    "############################################################################################################\n",
    "# From bottom left, to upper right.\n",
    "ii = 1\n",
    "jj = 0\n",
    "\n",
    "ax = fig.add_axes([wpad + ii*xs_panel+ii*wpad, hpad + jj*ys_panel, xs_panel, ys_panel])\n",
    "\n",
    "ax.plot(asize, np.abs(medianquad[:,1]), \"-k\", linewidth=2)\n",
    "\n",
    "ax.plot(10**(x), 10**(mcmc.lin_model(medianquad_slope, x)), \"-r\")\n",
    "#ax.plot(asize, 2.075925*(asize/5.)**(-1.079736), \"--b\")\n",
    "\n",
    "ax.set_xscale(\"log\")\n",
    "ax.set_yscale(\"log\")\n",
    "\n",
    "ax.set_xlabel(\"grain size [$\\AA$]\", fontsize=15)\n",
    "ax.set_ylabel(\"$\\zeta$\", fontsize=15, labelpad=-1)\n",
    "\n",
    "ax.tick_params(axis='both', which='major', length=10, width=2,  labelsize=12, direction=\"in\")\n",
    "ax.tick_params(axis='both', which='minor', length=5, width=1.5, labelsize=12, direction=\"in\")\n",
    "\n",
    "ax.set_title(\"slope\")\n",
    "\n",
    "############################################################################################################\n",
    "# From bottom left, to upper right.\n",
    "ii = 2\n",
    "jj = 0\n",
    "\n",
    "ax = fig.add_axes([wpad + ii*xs_panel+ii*wpad, hpad + jj*ys_panel, xs_panel, ys_panel])\n",
    "\n",
    "ax.plot(asize, 10**(np.abs(medianquad[:,2])), \"-k\", linewidth=2)\n",
    "\n",
    "ax.set_xscale(\"log\")\n",
    "ax.set_yscale(\"log\")\n",
    "\n",
    "ax.set_xlabel(\"grain size [$\\AA$]\", fontsize=15)\n",
    "ax.set_ylabel(\"b\", fontsize=15)\n",
    "\n",
    "ax.tick_params(axis='both', which='major', length=10, width=2,  labelsize=12, direction=\"in\")\n",
    "ax.tick_params(axis='both', which='minor', length=5, width=1.5, labelsize=12, direction=\"in\")\n",
    "\n",
    "ax.set_title(\"intercept\")\n",
    "\n",
    "fig.show()\n",
    "\n",
    "fig.savefig(\"/home/jcibanezm/Dropbox/Projects/Papers/In_Progress/PeHeat_dust/Figures/Appendix/SizeDependentSlope_quadmodel_Gammadotdot_sil.pdf\", format=\"pdf\")\n"
   ]
  },
  {
   "cell_type": "code",
   "execution_count": 99,
   "metadata": {},
   "outputs": [
    {
     "name": "stdout",
     "output_type": "stream",
     "text": [
      "1.5580937048296537\n",
      "-2.0896110695584307\n"
     ]
    }
   ],
   "source": [
    "print(10**(mcmc.lin_model(medianquad_qterm, x[0])))\n",
    "print(medianquad_qterm[0])"
   ]
  },
  {
   "cell_type": "code",
   "execution_count": 100,
   "metadata": {},
   "outputs": [
    {
     "name": "stdout",
     "output_type": "stream",
     "text": [
      "2.0759257457578366\n",
      "-1.0797361879688945\n"
     ]
    }
   ],
   "source": [
    "print(10**(mcmc.lin_model(medianquad_slope, x[0])))\n",
    "print(medianquad_slope[0])"
   ]
  },
  {
   "cell_type": "markdown",
   "metadata": {},
   "source": [
    "This means that the heating rate as a function of charge behaves like:\n",
    "\n",
    "$$ \\Gamma_{pe}^{''}(a, G, Z) = \\Gamma_{pe}^{''}(a, G, 0) \\,\\mathrm{exp}(-\\xi(a) Z^{2} - \\zeta(a) Z) $$\n",
    "\n",
    "where $\\xi(a)$ is a grain size dependent parameter as:\n",
    "\n",
    "$$ \\xi(a) = 1.558094\\, \\left(\\frac{a}{5 \\AA}\\right)^{-2.08961}$$\n",
    "\n",
    "where $\\zeta(a)$ is a grain size dependent parameter as:\n",
    "\n",
    "$$ \\zeta(a) = 2.075925 \\, \\left(\\frac{a}{5 \\AA}\\right)^{-1.07974}$$"
   ]
  },
  {
   "cell_type": "markdown",
   "metadata": {},
   "source": [
    "$$ \\alpha = 2.39 $$\n",
    "\n",
    "$$ \\alpha = 2.16 $$"
   ]
  },
  {
   "cell_type": "markdown",
   "metadata": {},
   "source": [
    "---"
   ]
  },
  {
   "cell_type": "code",
   "execution_count": 271,
   "metadata": {
    "collapsed": true
   },
   "outputs": [],
   "source": [
    "def Gamma_param_charge_lin(asize, Z, Gamma_0):\n",
    "    \"\"\"\n",
    "    Parametric equation of the energy of photoelectrons as a function of charge.\n",
    "    \"\"\"\n",
    "    zeta = 2.953042*(asize/5.0)**(-1.03848)\n",
    "    Gammahere = Gamma_0 * np.exp(-zeta*Z)\n",
    "    return Gammahere"
   ]
  },
  {
   "cell_type": "code",
   "execution_count": 283,
   "metadata": {},
   "outputs": [
    {
     "name": "stdout",
     "output_type": "stream",
     "text": [
      "2\n"
     ]
    }
   ],
   "source": [
    "print(i0_5)"
   ]
  },
  {
   "cell_type": "code",
   "execution_count": 288,
   "metadata": {
    "collapsed": true
   },
   "outputs": [],
   "source": [
    "i0_5 = np.where(ZZ_sil_5AA == 0)[0][0]\n",
    "Gamma_0_5 = np.exp(y5[i0_5-1])\n",
    "Gparam_5 = Gamma_param_charge_lin(5., x5, Gamma_0_5)\n",
    "\n",
    "Gamma_0_100 = np.exp(y100[0])\n",
    "Gparam_100 = Gamma_param_charge_lin(100., x100, Gamma_0_100)\n",
    "\n",
    "Gamma_0_1000 = np.exp(y1000[0])\n",
    "Gparam_1000 = Gamma_param_charge_lin(1000., x1000, Gamma_0_1000)"
   ]
  },
  {
   "cell_type": "code",
   "execution_count": 291,
   "metadata": {},
   "outputs": [
    {
     "data": {
      "image/png": "[encoded data removed]",
      "text/plain": [
       "<matplotlib.figure.Figure at 0x7f60d26b9750>"
      ]
     },
     "metadata": {},
     "output_type": "display_data"
    }
   ],
   "source": [
    "xsize = 14\n",
    "ysize = 4.\n",
    "\n",
    "nfigs_x = 3\n",
    "nfigs_y = 1\n",
    "\n",
    "fig = plt.figure(figsize=(xsize, ysize))\n",
    "\n",
    "hpad = 0.14\n",
    "wpad = 0.08\n",
    "\n",
    "xs_panel = 0.73 / nfigs_x \n",
    "ys_panel = 0.76 / nfigs_y \n",
    "\n",
    "###################################################\n",
    "ax = fig.add_axes([0, 0, 1, 1])\n",
    "\n",
    "#ax.plot([0,1], [0,1], visible=False)\n",
    "ax.set_xlim(0,1)\n",
    "ax.set_ylim(0,1)\n",
    "\n",
    "\n",
    "#ax.text(0.91, 0.70, \"Quadratic fit\", fontsize=15, horizontalalignment='center')\n",
    "\n",
    "#ax.text(0.91, 0.60, \"$\\Gamma_{pe}^{''}=\\Gamma_{pe,0}^{''} \\,\\mathrm{exp}(\\\\xi \\, Z^{2} -\\zeta \\, Z)$\", fontsize=15, horizontalalignment='center')\n",
    "\n",
    "#ax.text(0.91, 0.50, \"$\\\\xi (a) = 1.56 \\, (a/5 \\AA)^{-2.09} $\", fontsize=15, horizontalalignment='center')\n",
    "#ax.text(0.91, 0.40, \"$\\zeta (a) =  2.07 \\, (a/5 \\AA)^{-1.08} $\", fontsize=15, horizontalalignment='center')\n",
    "#ax.text(0.9, 0.60, \"$\\zeta (a) = 2.953042 \\, \\left(\\frac{a}{5 \\AA}\\right)^{-1.03848}$\", fontsize=15, horizontalalignment='center')\n",
    "\n",
    "\n",
    "plt.axis('off')\n",
    "\n",
    "\n",
    "############################################################################################################\n",
    "# From bottom left, to upper right.\n",
    "ii = 0\n",
    "jj = 0\n",
    "\n",
    "ax = fig.add_axes([wpad + ii*xs_panel+ii*wpad, hpad + jj*ys_panel, xs_panel, ys_panel])\n",
    "\n",
    "x5new = np.concatenate(([x5[0]-1], x5))\n",
    "y5new = np.concatenate(([y5[0]], y5))\n",
    "\n",
    "ax.plot(x5new+0.5, np.exp(y5new), \"-k\", linewidth=2, linestyle=\"steps\", label=\"silicate\")\n",
    "\n",
    "#y5mcmc = mcmc.lin_model(medianlin5,x5)\n",
    "#ax.plot(x5new, np.exp(np.concatenate(([y5mcmc[0]],y5mcmc))), 'r-', lw=2, alpha=1, linestyle=\"steps\")\n",
    "\n",
    "ax.plot(x5new+0.5, np.concatenate(([Gparam_5[0]], Gparam_5)), \"-b\", linestyle=\"steps\")\n",
    "\n",
    "ax.set_yscale(\"log\")\n",
    "\n",
    "ax.set_xlabel(\"Z\", fontsize=20)\n",
    "ax.set_ylabel(\"$\\Gamma^{''}_{pe}(a, Z)$ [erg s$^{-1}$]\", fontsize=18)\n",
    "\n",
    "ax.tick_params(axis='both', which='major', length=10, width=2,  labelsize=15, direction=\"in\")\n",
    "ax.tick_params(axis='both', which='minor', length=5, width=1.5, labelsize=15, direction=\"in\")\n",
    "\n",
    "ax.set_title(\"5 $\\AA$\", fontsize=20)\n",
    "\n",
    "############################################################################################################\n",
    "# From bottom left, to upper right.\n",
    "ii = 1\n",
    "jj = 0\n",
    "\n",
    "ax = fig.add_axes([wpad + ii*xs_panel+ii*wpad, hpad + jj*ys_panel, xs_panel, ys_panel])\n",
    "\n",
    "ax.plot(x100+0.5, np.exp(y100), \"-k\", linewidth=2, linestyle=\"steps\", label=\"silicate\")\n",
    "\n",
    "ax.plot(x100+0.5, Gparam_100, \"-b\", linestyle=\"steps\")\n",
    "\n",
    "ax.set_yscale(\"log\")\n",
    "\n",
    "ax.set_xlabel(\"Z\", fontsize=20)\n",
    "ax.set_ylabel(\"$\\Gamma^{''}_{pe}(a, Z)$ [erg s$^{-1}$]\", fontsize=18)\n",
    "\n",
    "ax.tick_params(axis='both', which='major', length=10, width=2,  labelsize=15, direction=\"in\")\n",
    "ax.tick_params(axis='both', which='minor', length=5, width=1.5, labelsize=15, direction=\"in\")\n",
    "\n",
    "ax.set_title(\"100 $\\AA$\", fontsize=20)\n",
    "\n",
    "############################################################################################################\n",
    "# From bottom left, to upper right.\n",
    "ii = 2\n",
    "jj = 0\n",
    "\n",
    "ax = fig.add_axes([wpad + ii*xs_panel+ii*wpad, hpad + jj*ys_panel, xs_panel, ys_panel])\n",
    "\n",
    "ax.plot(x1000+0.5, np.exp(y1000), \"-k\", linewidth=2, linestyle=\"steps\", label=\"silicate\")\n",
    "ax.plot(x1000+0.5, Gparam_1000, \"-b\", linestyle=\"steps\")\n",
    "\n",
    "ax.set_yscale(\"log\")\n",
    "\n",
    "ax.set_xlabel(\"Z\", fontsize=20)\n",
    "ax.set_ylabel(\"$\\Gamma^{''}_{pe}(a, Z)$ [erg s$^{-1}$]\", fontsize=18)\n",
    "\n",
    "ax.tick_params(axis='both', which='major', length=10, width=2,  labelsize=15, direction=\"in\")\n",
    "ax.tick_params(axis='both', which='minor', length=5, width=1.5, labelsize=15, direction=\"in\")\n",
    "\n",
    "ax.set_title(\"1000 $\\AA$\", fontsize=20)\n",
    "\n",
    "fig.show()\n",
    "\n",
    "fig.savefig(\"/home/jcibanezm/Dropbox/Projects/Papers/In_Progress/PeHeat_dust/Figures/Appendix/GammaPar_linmodel_Gammadotdot_sil.pdf\", format=\"pdf\")\n"
   ]
  },
  {
   "cell_type": "code",
   "execution_count": 325,
   "metadata": {
    "collapsed": true
   },
   "outputs": [],
   "source": [
    "def Gamma_param_charge_quad(asize, Z, Gamma_0):\n",
    "    \"\"\"\n",
    "    Parametric equation of the energy of photoelectrons as a function of charge.\n",
    "    \"\"\"\n",
    "    xi   = 1.558094*(asize/5.0)**(-2.08961)\n",
    "    zeta = 2.075925*(asize/5.0)**(-1.07974)\n",
    "    Gammahere = Gamma_0 * np.exp(-xi*Z**2-zeta*Z)\n",
    "    return Gammahere"
   ]
  },
  {
   "cell_type": "code",
   "execution_count": 332,
   "metadata": {
    "collapsed": true
   },
   "outputs": [],
   "source": [
    "i0_5 = np.where(ZZ_sil_5AA == 0)[0][0]\n",
    "Gamma_0_5 = np.exp(y5[i0_5-1])\n",
    "Gparam_5_quad = Gamma_param_charge_quad(5., x5, Gamma_0_5)\n",
    "\n",
    "Gamma_0_100 = np.exp(y100[0])\n",
    "Gparam_100_quad = Gamma_param_charge_quad(100., x100, Gamma_0_100)\n",
    "\n",
    "Gamma_0_1000 = np.exp(y1000[0])\n",
    "Gparam_1000_quad = Gamma_param_charge_quad(1000., x1000, Gamma_0_1000)"
   ]
  },
  {
   "cell_type": "code",
   "execution_count": 333,
   "metadata": {},
   "outputs": [
    {
     "data": {
      "image/png": "[encoded data removed]",
      "text/plain": [
       "<matplotlib.figure.Figure at 0x7f60d27f4150>"
      ]
     },
     "metadata": {},
     "output_type": "display_data"
    }
   ],
   "source": [
    "xsize = 14\n",
    "ysize = 4.\n",
    "\n",
    "nfigs_x = 3\n",
    "nfigs_y = 1\n",
    "\n",
    "fig = plt.figure(figsize=(xsize, ysize))\n",
    "\n",
    "hpad = 0.14\n",
    "wpad = 0.08\n",
    "\n",
    "xs_panel = 0.73 / nfigs_x \n",
    "ys_panel = 0.76 / nfigs_y \n",
    "\n",
    "###################################################\n",
    "ax = fig.add_axes([0, 0, 1, 1])\n",
    "\n",
    "#ax.plot([0,1], [0,1], visible=False)\n",
    "ax.set_xlim(0,1)\n",
    "ax.set_ylim(0,1)\n",
    "\n",
    "\n",
    "#ax.text(0.91, 0.70, \"Quadratic fit\", fontsize=15, horizontalalignment='center')\n",
    "\n",
    "#ax.text(0.91, 0.60, \"$\\Gamma_{pe}^{''}=\\Gamma_{pe,0}^{''} \\,\\mathrm{exp}(\\\\xi \\, Z^{2} -\\zeta \\, Z)$\", fontsize=15, horizontalalignment='center')\n",
    "\n",
    "#ax.text(0.91, 0.50, \"$\\\\xi (a) = 1.56 \\, (a/5 \\AA)^{-2.09} $\", fontsize=15, horizontalalignment='center')\n",
    "#ax.text(0.91, 0.40, \"$\\zeta (a) =  2.07 \\, (a/5 \\AA)^{-1.08} $\", fontsize=15, horizontalalignment='center')\n",
    "#ax.text(0.9, 0.60, \"$\\zeta (a) = 2.953042 \\, \\left(\\frac{a}{5 \\AA}\\right)^{-1.03848}$\", fontsize=15, horizontalalignment='center')\n",
    "\n",
    "\n",
    "plt.axis('off')\n",
    "\n",
    "\n",
    "############################################################################################################\n",
    "# From bottom left, to upper right.\n",
    "ii = 0\n",
    "jj = 0\n",
    "\n",
    "ax = fig.add_axes([wpad + ii*xs_panel+ii*wpad, hpad + jj*ys_panel, xs_panel, ys_panel])\n",
    "\n",
    "x5new = np.concatenate(([x5[0]-1], x5))\n",
    "y5new = np.concatenate(([y5[0]], y5))\n",
    "\n",
    "ax.plot(x5new+0.5, np.exp(y5new), \"-k\", linewidth=2, linestyle=\"steps\", label=\"silicate\")\n",
    "\n",
    "#y5mcmc = mcmc.lin_model(medianlin5,x5)\n",
    "#ax.plot(x5new, np.exp(np.concatenate(([y5mcmc[0]],y5mcmc))), 'r-', lw=2, alpha=1, linestyle=\"steps\")\n",
    "\n",
    "ax.plot(x5new+0.5, np.concatenate(([Gparam_5_quad[0]], Gparam_5_quad)), \"-r\", linestyle=\"steps\")\n",
    "\n",
    "ax.set_yscale(\"log\")\n",
    "\n",
    "ax.set_xlabel(\"Z\", fontsize=20)\n",
    "ax.set_ylabel(\"$\\Gamma^{''}_{pe}(a, Z)$ [erg s$^{-1}$]\", fontsize=18)\n",
    "\n",
    "ax.tick_params(axis='both', which='major', length=10, width=2,  labelsize=15, direction=\"in\")\n",
    "ax.tick_params(axis='both', which='minor', length=5, width=1.5, labelsize=15, direction=\"in\")\n",
    "\n",
    "ax.set_title(\"5 $\\AA$\", fontsize=20)\n",
    "\n",
    "############################################################################################################\n",
    "# From bottom left, to upper right.\n",
    "ii = 1\n",
    "jj = 0\n",
    "\n",
    "ax = fig.add_axes([wpad + ii*xs_panel+ii*wpad, hpad + jj*ys_panel, xs_panel, ys_panel])\n",
    "\n",
    "ax.plot(x100+0.5, np.exp(y100), \"-k\", linewidth=2, linestyle=\"steps\", label=\"silicate\")\n",
    "\n",
    "ax.plot(x100+0.5, Gparam_100_quad, \"-r\", linestyle=\"steps\")\n",
    "\n",
    "ax.set_yscale(\"log\")\n",
    "\n",
    "ax.set_xlabel(\"Z\", fontsize=20)\n",
    "ax.set_ylabel(\"$\\Gamma^{''}_{pe}(a, Z)$ [erg s$^{-1}$]\", fontsize=18)\n",
    "\n",
    "ax.tick_params(axis='both', which='major', length=10, width=2,  labelsize=15, direction=\"in\")\n",
    "ax.tick_params(axis='both', which='minor', length=5, width=1.5, labelsize=15, direction=\"in\")\n",
    "\n",
    "ax.set_title(\"100 $\\AA$\", fontsize=20)\n",
    "\n",
    "############################################################################################################\n",
    "# From bottom left, to upper right.\n",
    "ii = 2\n",
    "jj = 0\n",
    "\n",
    "ax = fig.add_axes([wpad + ii*xs_panel+ii*wpad, hpad + jj*ys_panel, xs_panel, ys_panel])\n",
    "\n",
    "ax.plot(x1000+0.5, np.exp(y1000), \"-k\", linewidth=2, linestyle=\"steps\", label=\"silicate\")\n",
    "ax.plot(x1000+0.5, Gparam_1000_quad, \"-r\", linestyle=\"steps\")\n",
    "\n",
    "ax.set_yscale(\"log\")\n",
    "\n",
    "ax.set_xlabel(\"Z\", fontsize=20)\n",
    "ax.set_ylabel(\"$\\Gamma^{''}_{pe}(a, Z)$ [erg s$^{-1}$]\", fontsize=18)\n",
    "\n",
    "ax.tick_params(axis='both', which='major', length=10, width=2,  labelsize=15, direction=\"in\")\n",
    "ax.tick_params(axis='both', which='minor', length=5, width=1.5, labelsize=15, direction=\"in\")\n",
    "\n",
    "ax.set_title(\"1000 $\\AA$\", fontsize=20)\n",
    "\n",
    "fig.show()\n",
    "\n",
    "fig.savefig(\"/home/jcibanezm/Dropbox/Projects/Papers/In_Progress/PeHeat_dust/Figures/Appendix/GammaPar_quadmodel_Gammadotdot_sil.pdf\", format=\"pdf\")\n"
   ]
  },
  {
   "cell_type": "markdown",
   "metadata": {},
   "source": [
    "---\n",
    "# Now for carbonaceous grains."
   ]
  },
  {
   "cell_type": "code",
   "execution_count": 404,
   "metadata": {},
   "outputs": [
    {
     "name": "stdout",
     "output_type": "stream",
     "text": [
      "I'm looking for a grain size smaller than 10 Angstrom. Outside the tabulated data!!!\n",
      "Using the absorption efficiency for a 10 AA grain\n"
     ]
    }
   ],
   "source": [
    "grain_type=\"carbonaceous\"\n",
    "\n",
    "asize = 5.\n",
    "Ntot = 0.0\n",
    "\n",
    "Qabs = fz.get_QabsTable(grain_type, asize)\n",
    "\n",
    "Zmin_carb, Zmax_carb = fz.get_Zmin(asize, grain_type), fz.get_Zmax(asize, grain_type)\n",
    "Znum_carb = int(Zmax_carb + abs(Zmin_carb) +1)\n",
    "ZZ_carb = np.linspace(Zmin_carb, Zmax_carb, num=Znum_carb)\n",
    "\n",
    "Gamma_dotdot_Z_carb = np.zeros_like(ZZ_carb)\n",
    "\n",
    "for i in range(Znum_carb):\n",
    "    Gamma_dotdot_Z_carb[i] = peh.get_Gamma_pe_dotdot(asize, ZZ_carb[i], grain_type, Ntot, Qabs, G0=1.7)\n",
    "    \n",
    "ZZ_carb_5AA             = np.concatenate(([Zmin_carb-1], ZZ_carb))\n",
    "Gamma_dotdot_Z_carb_5AA = np.concatenate(([Gamma_dotdot_Z_carb[0]], Gamma_dotdot_Z_carb))\n",
    "\n",
    "#####################################################################################################################\n",
    "\n",
    "asize = 10.\n",
    "Ntot = 0.0\n",
    "\n",
    "Qabs = fz.get_QabsTable(grain_type, asize)\n",
    "\n",
    "Zmin_carb, Zmax_carb = fz.get_Zmin(asize, grain_type), fz.get_Zmax(asize, grain_type)\n",
    "Znum_carb = int(Zmax_carb + abs(Zmin_carb) +1)\n",
    "ZZ_carb = np.linspace(Zmin_carb, Zmax_carb, num=Znum_carb)\n",
    "\n",
    "Gamma_dotdot_Z_carb = np.zeros_like(ZZ_carb)\n",
    "\n",
    "for i in range(Znum_carb):\n",
    "    Gamma_dotdot_Z_carb[i] = peh.get_Gamma_pe_dotdot(asize, ZZ_carb[i], grain_type, Ntot, Qabs, G0=1.7)\n",
    "    \n",
    "ZZ_carb_10AA             = np.concatenate(([Zmin_carb-1], ZZ_carb))\n",
    "Gamma_dotdot_Z_carb_10AA = np.concatenate(([Gamma_dotdot_Z_carb[0]], Gamma_dotdot_Z_carb))\n",
    "\n",
    "#####################################################################################################################\n",
    "\n",
    "asize = 50.\n",
    "Ntot = 0.0\n",
    "\n",
    "Qabs = fz.get_QabsTable(grain_type, asize)\n",
    "\n",
    "Zmin_carb, Zmax_carb = fz.get_Zmin(asize, grain_type), fz.get_Zmax(asize, grain_type)\n",
    "Znum_carb = int(Zmax_carb + abs(Zmin_carb) +1)\n",
    "ZZ_carb = np.linspace(Zmin_carb, Zmax_carb, num=Znum_carb)\n",
    "\n",
    "Gamma_dotdot_Z_carb = np.zeros_like(ZZ_carb)\n",
    "\n",
    "for i in range(Znum_carb):\n",
    "    Gamma_dotdot_Z_carb[i] = peh.get_Gamma_pe_dotdot(asize, ZZ_carb[i], grain_type, Ntot, Qabs, G0=1.7)\n",
    "    \n",
    "ZZ_carb_50AA             = np.concatenate(([Zmin_carb-1], ZZ_carb))\n",
    "Gamma_dotdot_Z_carb_50AA = np.concatenate(([Gamma_dotdot_Z_carb[0]], Gamma_dotdot_Z_carb))\n",
    "\n",
    "#####################################################################################################################\n",
    "\n",
    "asize = 100.\n",
    "Ntot = 0.0\n",
    "\n",
    "Qabs = fz.get_QabsTable(grain_type, asize)\n",
    "\n",
    "Zmin_carb, Zmax_carb = fz.get_Zmin(asize, grain_type), fz.get_Zmax(asize, grain_type)\n",
    "Znum_carb = int(Zmax_carb + abs(Zmin_carb) +1)\n",
    "ZZ_carb = np.linspace(Zmin_carb, Zmax_carb, num=Znum_carb)\n",
    "\n",
    "Gamma_dotdot_Z_carb = np.zeros_like(ZZ_carb)\n",
    "\n",
    "for i in range(Znum_carb):\n",
    "    Gamma_dotdot_Z_carb[i] = peh.get_Gamma_pe_dotdot(asize, ZZ_carb[i], grain_type, Ntot, Qabs, G0=1.7)\n",
    "    \n",
    "ZZ_carb_100AA             = np.concatenate(([Zmin_carb-1], ZZ_carb))\n",
    "Gamma_dotdot_Z_carb_100AA = np.concatenate(([Gamma_dotdot_Z_carb[0]], Gamma_dotdot_Z_carb))\n",
    "\n",
    "#####################################################################################################################\n",
    "\n",
    "asize = 1000.\n",
    "Ntot = 0.0\n",
    "\n",
    "Qabs = fz.get_QabsTable(grain_type, asize)\n",
    "\n",
    "Zmin_carb, Zmax_carb = fz.get_Zmin(asize, grain_type), fz.get_Zmax(asize, grain_type)\n",
    "Znum_carb = int(Zmax_carb + abs(Zmin_carb) +1)\n",
    "ZZ_carb = np.linspace(Zmin_carb, Zmax_carb, num=Znum_carb)\n",
    "\n",
    "Gamma_dotdot_Z_carb = np.zeros_like(ZZ_carb)\n",
    "\n",
    "for i in range(Znum_carb):\n",
    "    Gamma_dotdot_Z_carb[i] = peh.get_Gamma_pe_dotdot(asize, ZZ_carb[i], grain_type, Ntot, Qabs, G0=1.7)\n",
    "    \n",
    "ZZ_carb_1000AA             = np.concatenate(([Zmin_carb-1], ZZ_carb))\n",
    "Gamma_dotdot_Z_carb_1000AA = np.concatenate(([Gamma_dotdot_Z_carb[0]], Gamma_dotdot_Z_carb))"
   ]
  },
  {
   "cell_type": "code",
   "execution_count": 406,
   "metadata": {},
   "outputs": [
    {
     "name": "stdout",
     "output_type": "stream",
     "text": [
      "Done\n",
      "Done\n"
     ]
    }
   ],
   "source": [
    "print(\"Done\")\n",
    "print(\"Done\")"
   ]
  },
  {
   "cell_type": "code",
   "execution_count": 407,
   "metadata": {
    "collapsed": true
   },
   "outputs": [],
   "source": [
    "ilow5 = np.where(ZZ_carb_5AA == -1)[0][0]\n",
    "iup5  = np.where(ZZ_carb_5AA == 2)[0][0]\n",
    "x5 = ZZ_carb_5AA[ilow5:iup5]\n",
    "y5 = np.log(Gamma_dotdot_Z_carb_5AA[ilow5:iup5])\n",
    "\n",
    "ilow10 = np.where(ZZ_carb_10AA == 0)[0][0]\n",
    "iup10  = np.where(ZZ_carb_10AA == 4)[0][0]\n",
    "x10 = ZZ_carb_10AA[ilow10:iup10]\n",
    "y10 = np.log(Gamma_dotdot_Z_carb_10AA[ilow10:iup10])\n",
    "\n",
    "ilow50 = np.where(ZZ_carb_50AA == 0)[0][0]\n",
    "iup50  = np.where(ZZ_carb_50AA == 15)[0][0]\n",
    "x50 = ZZ_carb_50AA[ilow50:iup50]\n",
    "y50 = np.log(Gamma_dotdot_Z_carb_50AA[ilow50:iup50])\n",
    "\n",
    "ilow100 = np.where(ZZ_carb_100AA == 0)[0][0]\n",
    "iup100  = np.where(ZZ_carb_100AA == 40)[0][0]\n",
    "x100 = ZZ_carb_100AA[ilow100:iup100]\n",
    "y100 = np.log(Gamma_dotdot_Z_carb_100AA[ilow100:iup100])\n",
    "\n",
    "ilow1000 = np.where(ZZ_carb_1000AA == 0)[0][0]\n",
    "iup1000  = np.where(ZZ_carb_1000AA == 300)[0][0]\n",
    "x1000 = ZZ_carb_1000AA[ilow1000:iup1000]\n",
    "y1000 = np.log(Gamma_dotdot_Z_carb_1000AA[ilow1000:iup1000])"
   ]
  },
  {
   "cell_type": "code",
   "execution_count": 408,
   "metadata": {
    "collapsed": true
   },
   "outputs": [],
   "source": [
    "medianlin5_carb, samplerlin5_carb, thetalin5_carb          = mcmc.LinearMCMC(x5, y5)\n",
    "medianlin10_carb, samplerlin10_carb, thetalin10_carb       = mcmc.LinearMCMC(x10, y10)\n",
    "medianlin50_carb, samplerlin50_carb, thetalin50_carb       = mcmc.LinearMCMC(x50, y50)\n",
    "medianlin100_carb, samplerlin100_carb, thetalin100_carb    = mcmc.LinearMCMC(x100, y100)\n",
    "medianlin1000_carb, samplerlin1000_carb, thetalin1000_carb = mcmc.LinearMCMC(x1000, y1000)"
   ]
  },
  {
   "cell_type": "code",
   "execution_count": 409,
   "metadata": {
    "collapsed": true
   },
   "outputs": [],
   "source": [
    "medianlin_carb = np.array([medianlin5_carb, medianlin10_carb, medianlin50_carb,medianlin100_carb,medianlin1000_carb])\n",
    "\n",
    "asize_carb = np.array([5, 10, 50, 100, 1000])"
   ]
  },
  {
   "cell_type": "code",
   "execution_count": 410,
   "metadata": {},
   "outputs": [
    {
     "name": "stdout",
     "output_type": "stream",
     "text": [
      "[-1.04665779  0.72878781]\n"
     ]
    }
   ],
   "source": [
    "x = np.log10(asize_carb)\n",
    "y = np.log10(abs(medianlin_carb[:,0]))\n",
    "\n",
    "medianlin_slope_carb, samplerlin_slope_carb, thetalin_slope_carb     = mcmc.LinearMCMC(x, y)\n",
    "\n",
    "print(medianlin_slope_carb)"
   ]
  },
  {
   "cell_type": "code",
   "execution_count": 411,
   "metadata": {},
   "outputs": [
    {
     "name": "stdout",
     "output_type": "stream",
     "text": [
      "0.9935858817946079\n"
     ]
    }
   ],
   "source": [
    "print(10**(mcmc.lin_model(medianlin_slope_carb, x[0])))"
   ]
  },
  {
   "cell_type": "markdown",
   "metadata": {},
   "source": [
    "$$ \\zeta(a) = 0.99 \\, \\left(\\frac{a}{5 A}\\right)^{-1.05}$$"
   ]
  },
  {
   "cell_type": "code",
   "execution_count": 413,
   "metadata": {},
   "outputs": [
    {
     "data": {
      "image/png": "[encoded data removed]",
      "text/plain": [
       "<matplotlib.figure.Figure at 0x7f60e0cf6ed0>"
      ]
     },
     "metadata": {},
     "output_type": "display_data"
    }
   ],
   "source": [
    "xsize = 14\n",
    "ysize = 4.5\n",
    "\n",
    "nfigs_x = 2\n",
    "nfigs_y = 1\n",
    "\n",
    "fig = plt.figure(figsize=(xsize, ysize))\n",
    "\n",
    "hpad = 0.13\n",
    "wpad = 0.075\n",
    "\n",
    "xs_panel = 0.65 / nfigs_x \n",
    "ys_panel = 0.80 / nfigs_y \n",
    "\n",
    "###################################################\n",
    "ax = fig.add_axes([0, 0, 1, 1])\n",
    "\n",
    "#ax.plot([0,1], [0,1], visible=False)\n",
    "ax.set_xlim(0,1)\n",
    "ax.set_ylim(0,1)\n",
    "\n",
    "\n",
    "ax.text(0.9, 0.60, \"Linear fit \", fontsize=15, horizontalalignment='center')\n",
    "\n",
    "#ax.text(0.9, 0.50, \"$\\Gamma_{pe}^{''}=\\Gamma_{pe,0}^{''} \\,\\mathrm{exp}(-\\zeta \\, Z)$\", fontsize=15, horizontalalignment='center')\n",
    "\n",
    "#ax.text(0.9, 0.40, \"$\\zeta (a) =  2.95 \\, (a/5 \\AA)^{-1.04} $\", fontsize=15, horizontalalignment='center')\n",
    "#ax.text(0.9, 0.60, \"$\\zeta (a) = 2.953042 \\, \\left(\\frac{a}{5 \\AA}\\right)^{-1.03848}$\", fontsize=15, horizontalalignment='center')\n",
    "\n",
    "\n",
    "plt.axis('off')\n",
    "\n",
    "###################################################\n",
    "\n",
    "# From bottom left, to upper right.\n",
    "ii = 0\n",
    "jj = 0\n",
    "\n",
    "ax = fig.add_axes([wpad + ii*xs_panel+ii*wpad, hpad + jj*ys_panel, xs_panel, ys_panel])\n",
    "\n",
    "ax.plot(asize_carb, np.abs(medianlin_carb[:,0]), \"-k\", linewidth=2)\n",
    "ax.plot(10**(x), 10**(mcmc.lin_model(medianlin_slope_carb, x)), \"-r\")\n",
    "#ax.plot(asize, 2.953042*(asize/5.)**(-1.03848), \"--b\")\n",
    "\n",
    "ax.set_xscale(\"log\")\n",
    "ax.set_yscale(\"log\")\n",
    "\n",
    "ax.set_xlabel(\"a [$\\AA$]\", fontsize=15)\n",
    "ax.set_ylabel(\"$\\zeta (a)$\", fontsize=15)\n",
    "\n",
    "ax.tick_params(axis='both', which='major', length=10, width=2,  labelsize=12, direction=\"in\")\n",
    "ax.tick_params(axis='both', which='minor', length=5, width=1.5, labelsize=12, direction=\"in\")\n",
    "\n",
    "ax.set_title(\"Slope\", fontsize=20)\n",
    "\n",
    "#------------------------------------------------------------------------------\n",
    "# From bottom left, to upper right.\n",
    "ii = 1\n",
    "jj = 0\n",
    "\n",
    "ax = fig.add_axes([wpad + ii*xs_panel+ii*wpad, hpad + jj*ys_panel, xs_panel, ys_panel])\n",
    "\n",
    "ax.plot(asize_carb, np.abs(medianlin_carb[:,1]), \"-k\", linewidth=2)\n",
    "#ax.plot(10**(x), 46.6*(asize/5.0)**(-0.0658))\n",
    "\n",
    "ax.set_xscale(\"log\")\n",
    "#ax.set_yscale(\"log\")\n",
    "\n",
    "ax.set_xlabel(\"a [$\\AA$]\", fontsize=15)\n",
    "ax.set_ylabel(\"b\", fontsize=15)\n",
    "\n",
    "ax.tick_params(axis='both', which='major', length=10, width=2,  labelsize=12, direction=\"in\")\n",
    "ax.tick_params(axis='both', which='minor', length=5, width=1.5, labelsize=12, direction=\"in\")\n",
    "\n",
    "ax.set_title(\"intercept\", fontsize=20)\n",
    "\n",
    "#fig.suptitle(\"Parameters for the linear fit\", fontsize=18)\n",
    "\n",
    "fig.show()\n",
    "\n",
    "#fig.savefig(\"/home/jcibanezm/Dropbox/Projects/Papers/In_Progress/PeHeat_dust/Figures/Appendix/SizeDependentSlope_linmodel_Gammadotdot_carb.pdf\", format=\"pdf\")\n"
   ]
  }
 ],
 "metadata": {
  "anaconda-cloud": {},
  "kernelspec": {
   "display_name": "Python 2",
   "language": "python",
   "name": "python2"
  },
  "language_info": {
   "codemirror_mode": {
    "name": "ipython",
    "version": 2
   },
   "file_extension": ".py",
   "mimetype": "text/x-python",
   "name": "python",
   "nbconvert_exporter": "python",
   "pygments_lexer": "ipython2",
   "version": "2.7.15"
  }
 },
 "nbformat": 4,
 "nbformat_minor": 2
}
