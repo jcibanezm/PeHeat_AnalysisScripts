{
 "cells": [
  {
   "cell_type": "code",
   "execution_count": 1,
   "metadata": {
    "collapsed": false
   },
   "outputs": [
    {
     "name": "stdout",
     "output_type": "stream",
     "text": [
      "Loading the library to compute the charge distribution of dust grains.\n"
     ]
    }
   ],
   "source": [
    "import compute_charge_dist as fz\n",
    "import numpy as np\n",
    "import matplotlib.pyplot as plt\n",
    "import scipy.integrate as integrate\n",
    "\n",
    "import PeHeat_Functions as peh\n",
    "import parametric_fz as fzpar\n",
    "import dust_size_dist as sizedist\n",
    "\n",
    "from matplotlib.colors import LogNorm\n",
    "\n",
    "import yt\n",
    "from yt.units import pc, kpc, second, Kelvin, gram, erg, cm\n",
    "\n",
    "import MCMCFit as mcmc\n",
    "\n",
    "%matplotlib inline\n",
    "\n",
    "microntocm    = 1.0e-4\n",
    "cmtomicron    = 1.0e4\n",
    "AAtocm        = 1.0e-8\n",
    "cmtoAA        = 1.0e8\n",
    "microntoAA    = 1.0e4\n",
    "AAtomicron    = 1.0e-4\n",
    "ergtoeV       = 6.242e11\n",
    "eVtoerg       = 1.602e-12\n",
    "\n",
    "hplanck       = 4.135667662e-15 # eV s\n",
    "clight        = 2.99792458e10   # cm s-1"
   ]
  },
  {
   "cell_type": "code",
   "execution_count": 2,
   "metadata": {
    "collapsed": false
   },
   "outputs": [
    {
     "name": "stderr",
     "output_type": "stream",
     "text": [
      "/home/jcibanezm/codes/libs/miniconda3/lib/python2.7/site-packages/yt/fields/local_fields.py:46: UserWarning: Because 'sampling_type' not specified, yt will assume a cell 'sampling_type'\n",
      "  warnings.warn(\"Because 'sampling_type' not specified, yt will \"\n"
     ]
    }
   ],
   "source": [
    "# Define some constant parameters to be used.\n",
    "mp      = 1.6726e-24  * gram # g\n",
    "mH      = 1.6733e-24  * gram\n",
    "mC      = 12.011*mH\n",
    "#mu      = 1.2924\n",
    "kb      = 1.3806e-16  *erg / Kelvin # erg K-1\n",
    "GNewton = 6.6743e-8   * cm**3 / (gram * second**2 )# cm3 g-1 s-2\n",
    "Msun    = 1.9884e33   * gram\n",
    "#mm      = mu*mp\n",
    "\n",
    "ppc = 3.0856776e18\n",
    "\n",
    "# -------------------------------------------------------------\n",
    "#              Create a lot of new derived fields\n",
    "# -------------------------------------------------------------\n",
    "\n",
    "# Create a derived field.\n",
    "# Hydrogen number density\n",
    "def numdensH(field, data): \n",
    "    nH = data[\"dens\"]*(data[\"ihp \"]+data[\"iha \"]+data[\"ih2 \"])/(1.4*mH)\n",
    "    return nH\n",
    "\n",
    "# Molecular Hydrogen number density\n",
    "def numdensH2(field, data): \n",
    "    nH2 = data[\"dens\"]*(data[\"ih2 \"])/(1.4*mH)\n",
    "    return nH2\n",
    "\n",
    "# Carbon number density\n",
    "def numdensC(field, data): \n",
    "    nC = data[\"dens\"]*(data[\"icp \"]+data[\"ico \"])/(1.4*mC)\n",
    "    return nC\n",
    "\n",
    "# electron number density\n",
    "def numdense(field, data): \n",
    "    ne = data[\"dens\"]*(data[\"ihp \"]/(1.4*mH) + data[\"icp \"]/(1.4*mC))\n",
    "    return ne\n",
    "\n",
    "# Ionized hydrogen fraction\n",
    "def xHp(field, data): \n",
    "    nH  = data[\"dens\"]*(data[\"ihp \"]+data[\"iha \"]+data[\"ih2 \"])/(1.4*mH)\n",
    "    xHp = data[\"dens\"]*data[\"ihp \"]/(1.4*mH)\n",
    "    xHp = xHp / nH\n",
    "    return xHp\n",
    "\n",
    "# Molecular hydrogen fraction\n",
    "def xH2(field, data): \n",
    "    nH  = data[\"dens\"]*(data[\"ihp \"]+data[\"iha \"]+data[\"ih2 \"])/(1.4*mH)\n",
    "    xH2 = data[\"dens\"]*data[\"ih2 \"]/(1.4*mH)\n",
    "    xH2 = xH2 / nH\n",
    "    return xH2\n",
    "\n",
    "# Ionized carbon fraction\n",
    "def xCp(field, data): \n",
    "    nC  = data[\"dens\"]*(data[\"icp \"]+data[\"ico \"])/(1.4*mC)\n",
    "    xCp = data[\"dens\"]*data[\"icp \"]/(1.4*mC) / nC\n",
    "    return xCp\n",
    "\n",
    "# electron fraction\n",
    "def xe(field, data): \n",
    "    nH = data[\"dens\"]*(data[\"ihp \"]+data[\"iha \"]+data[\"ih2 \"])/(1.4*mH)\n",
    "    nC = data[\"dens\"]*(data[\"icp \"]+data[\"ico \"])/(1.4*mC)\n",
    "    ne = data[\"dens\"]*(data[\"ihp \"]/(1.4*mH) + data[\"icp \"]/(1.4*mC))\n",
    "    xe = ne / (nH + nC)\n",
    "    return xe\n",
    "\n",
    "# electron fraction\n",
    "#def GG(field, data): \n",
    "#    G = fz.get_G(data[\"cdto\"], 1.68)\n",
    "#    return G\n",
    "\n",
    "\n",
    "yt.add_field('nH', function=numdensH,  units=\"1/cm**3\", force_override=True)\n",
    "yt.add_field('nH2',function=numdensH2, units=\"1/cm**3\", force_override=True)\n",
    "yt.add_field('nC', function=numdensC,  units=\"1/cm**3\", force_override=True)\n",
    "yt.add_field('ne', function=numdense,  units=\"1/cm**3\", force_override=True)\n",
    "yt.add_field('xHp', function=xHp,      units=\"dimensionless\", force_override=True)\n",
    "yt.add_field('xH2', function=xH2,      units=\"dimensionless\", force_override=True)\n",
    "yt.add_field('xCp', function=xCp,      units=\"dimensionless\", force_override=True)\n",
    "yt.add_field('xe', function=xe,        units=\"dimensionless\", force_override=True)\n",
    "#yt.add_field('G',  function=GG,        units=\"dimensionless\", force_override=True)"
   ]
  },
  {
   "cell_type": "code",
   "execution_count": 3,
   "metadata": {
    "collapsed": false
   },
   "outputs": [
    {
     "name": "stderr",
     "output_type": "stream",
     "text": [
      "yt : [INFO     ] 2018-12-10 14:27:46,878 Particle file found: NL99_R8_cf_hdf5_chk_0028\n",
      "yt : [INFO     ] 2018-12-10 14:27:46,884 integer runtime parameter checkpointfilenumber overwrites a simulation scalar of the same name\n",
      "yt : [INFO     ] 2018-12-10 14:27:46,885 integer runtime parameter forcedplotfilenumber overwrites a simulation scalar of the same name\n",
      "yt : [INFO     ] 2018-12-10 14:27:46,886 integer runtime parameter nbegin overwrites a simulation scalar of the same name\n",
      "yt : [INFO     ] 2018-12-10 14:27:46,887 integer runtime parameter plotfilenumber overwrites a simulation scalar of the same name\n",
      "yt : [INFO     ] 2018-12-10 14:27:46,907 Parameters: current_time              = 5.68049127342e+14\n",
      "yt : [INFO     ] 2018-12-10 14:27:46,908 Parameters: domain_dimensions         = [32  8  8]\n",
      "yt : [INFO     ] 2018-12-10 14:27:46,909 Parameters: domain_left_edge          = [ -1.97478400e+20  -4.93696000e+19  -4.93696000e+19]\n",
      "yt : [INFO     ] 2018-12-10 14:27:46,910 Parameters: domain_right_edge         = [  1.97478400e+20   4.93696000e+19   4.93696000e+19]\n",
      "yt : [INFO     ] 2018-12-10 14:27:46,910 Parameters: cosmological_simulation   = 0.0\n"
     ]
    }
   ],
   "source": [
    "# Input variables.\n",
    "data_dir   = \"/home/jcibanezm/codes/run/Silcc/CF_Prabesh\"\n",
    "#data_dir   = \"/Users/juan/codes/run/Silcc/CF_Prabesh\"\n",
    "filename   = data_dir + \"/NL99_R8_cf_hdf5_chk_0028\"\n",
    "\n",
    "pf = yt.load(\"%s\"%(filename))\n",
    "\n",
    "c  = [0,0,0]\n",
    "le = [-4.93696000e+19, -4.93696000e+19, -4.93696000e+19]\n",
    "re = [ 4.93696000e+19,  4.93696000e+19,  4.93696000e+19]\n",
    "\n",
    "box = pf.box(le, re)\n",
    "\n",
    "Geff = 1.7 * np.exp(-2.5*box[\"cdto\"])"
   ]
  },
  {
   "cell_type": "code",
   "execution_count": 4,
   "metadata": {
    "collapsed": true
   },
   "outputs": [],
   "source": [
    "np.random.seed(1)\n",
    "#np.random.seed(2)\n",
    "ncells = len(box[\"nH\"])\n",
    "percent = 100.0\n",
    "ncells         = len(box[\"nH\"])\n",
    "n5             = np.int(ncells * percent/100.)\n",
    "rand_index     = np.random.randint(0, ncells, n5)"
   ]
  },
  {
   "cell_type": "code",
   "execution_count": 5,
   "metadata": {
    "collapsed": true
   },
   "outputs": [],
   "source": [
    "temp = np.array(box[\"temp\"][rand_index])\n",
    "dd   = np.array(box[\"dens\"][rand_index])\n",
    "nH   = np.array(box[\"nH\"]  [rand_index])\n",
    "nH2  = np.array(box[\"nH2\"] [rand_index])\n",
    "nC   = np.array(box[\"nC\"]  [rand_index])\n",
    "ne   = np.array(box[\"ne\"]  [rand_index])\n",
    "xe   = np.array(box[\"xe\"]  [rand_index])\n",
    "xHp  = np.array(box[\"xHp\"] [rand_index])\n",
    "xH2  = np.array(box[\"xH2\"] [rand_index])\n",
    "xCp  = np.array(box[\"xCp\"] [rand_index])\n",
    "Av   = np.array(box[\"cdto\"][rand_index])\n",
    "fH2shield = np.array(box[\"cdh2\"][rand_index])\n",
    "\n",
    "Ntot = Av * 1.87e21\n",
    "Geff = 1.7 * np.exp(-2.5*Av)"
   ]
  },
  {
   "cell_type": "code",
   "execution_count": 6,
   "metadata": {
    "collapsed": false
   },
   "outputs": [
    {
     "name": "stderr",
     "output_type": "stream",
     "text": [
      "/home/jcibanezm/codes/libs/miniconda3/lib/python2.7/site-packages/pynverse/inverse.py:196: RuntimeWarning: Results obtained with less than 2 decimal digits of accuracy\n",
      "  % accuracy, RuntimeWarning)\n"
     ]
    }
   ],
   "source": [
    "NH2 = np.zeros_like(Av)\n",
    "G_CR = np.zeros_like(Av)\n",
    "\n",
    "for ii in range(len(Av)):\n",
    "    NH2[ii]   = fz.get_NH2(fH2shield[ii], temp[ii])\n",
    "    G_CR[ii]  = fz.get_G_CR(NH2[ii])"
   ]
  },
  {
   "cell_type": "code",
   "execution_count": 7,
   "metadata": {
    "collapsed": true
   },
   "outputs": [],
   "source": [
    "zeta = np.zeros_like(NH2)\n",
    "new_ne = np.zeros_like(NH2)\n",
    "new_xe = np.zeros_like(NH2)\n",
    "for i in range(len(zeta)):\n",
    "    zeta[i]  = fz.get_zeta(NH2[i])\n",
    "    new_ne[i], new_xe[i] = fz.compute_new_xe([nH[i], 0.], [xe[i],0], xH2[i], zeta[i])"
   ]
  },
  {
   "cell_type": "code",
   "execution_count": 8,
   "metadata": {
    "collapsed": true
   },
   "outputs": [],
   "source": [
    "Gtot = Geff + G_CR"
   ]
  },
  {
   "cell_type": "code",
   "execution_count": 9,
   "metadata": {
    "collapsed": true
   },
   "outputs": [],
   "source": [
    "def get_epsilon(psi, temp):\n",
    "    ephere = 0.049 / (1. + (psi/963.)**(0.73)) + 0.037*(temp/1.0e4)/(1.+(psi/2500.))\n",
    "    return ephere\n",
    "\n",
    "def Gamma_BT94(ntot, Geff, temp, ne):\n",
    "    psi     = Geff * np.sqrt(temp) / ne\n",
    "    epsilon = get_epsilon(psi, temp)\n",
    "    Gammahere = 1.3e-24 * epsilon * Geff * ntot\n",
    "    return Gammahere"
   ]
  },
  {
   "cell_type": "code",
   "execution_count": 10,
   "metadata": {
    "collapsed": true
   },
   "outputs": [],
   "source": [
    "Heat_BT94 = Gamma_BT94(nH, Geff, temp, ne)\n",
    "Heat_BT94Upd = Gamma_BT94(nH, Gtot, temp, new_ne)"
   ]
  },
  {
   "cell_type": "code",
   "execution_count": 11,
   "metadata": {
    "collapsed": false
   },
   "outputs": [
    {
     "name": "stderr",
     "output_type": "stream",
     "text": [
      "/home/jcibanezm/codes/libs/miniconda3/lib/python2.7/site-packages/ipykernel/__main__.py:75: RuntimeWarning: divide by zero encountered in log10\n",
      "/home/jcibanezm/codes/libs/miniconda3/lib/python2.7/site-packages/ipykernel/__main__.py:92: RuntimeWarning: divide by zero encountered in log10\n",
      "/home/jcibanezm/codes/libs/miniconda3/lib/python2.7/site-packages/matplotlib/figure.py:397: UserWarning: matplotlib is currently using a non-GUI backend, so cannot show the figure\n",
      "  \"matplotlib is currently using a non-GUI backend, \"\n"
     ]
    },
    {
     "data": {
      "image/png": "[encoded data removed]",
      "text/plain": [
       "<matplotlib.figure.Figure at 0x7fcf81751c50>"
      ]
     },
     "metadata": {},
     "output_type": "display_data"
    }
   ],
   "source": [
    "xsize = 8\n",
    "ysize = 8.6\n",
    "\n",
    "nfigs_x = 2\n",
    "nfigs_y = 2\n",
    "\n",
    "fig = plt.figure(figsize=(xsize, ysize))\n",
    "\n",
    "hpad = 0.15\n",
    "wpad = 0.13\n",
    "wwpad = 0.01\n",
    "\n",
    "xs_panel = 0.84 / nfigs_x \n",
    "ys_panel = 0.82 / nfigs_y \n",
    "\n",
    "##########################################################################################################\n",
    "############################             n          #######################################\n",
    "############################################################################################################\n",
    "\n",
    "ax = fig.add_axes([0, 0, 1, 1])\n",
    "\n",
    "#ax.plot([0,1], [0,1], visible=False)\n",
    "ax.set_xlim(0,1)\n",
    "ax.set_ylim(0,1)\n",
    "\n",
    "#ax.text(0.18, 0.955, \"5 AA\", fontsize=20, horizontalalignment='center')\n",
    "\n",
    "plt.axis('off')\n",
    "\n",
    "#------------------------------------------------------------------------------------------------\n",
    "# From bottom left, to upper right.\n",
    "ii = 0\n",
    "jj = 0\n",
    "\n",
    "ax = fig.add_axes([wpad + ii*xs_panel, hpad + jj*ys_panel, xs_panel, ys_panel])\n",
    "\n",
    "cax = ax.hist2d(np.log10(nH), np.log10(Heat_BT94Upd), bins=50, norm=LogNorm(), cmap=\"inferno\", range=[[-1, 5.0],[-28, -22]])\n",
    "\n",
    "ax.grid(\"on\")\n",
    "ax.tick_params(axis='x', which='both', bottom='on', top='off', direction= 'inout',labelbottom='on') # labels along the bottom edge are off\n",
    "ax.set_ylabel(\"log$_{10} (\\Gamma_{pe}[\\mathrm{erg \\, s}^{-1} \\mathrm{cm}^{-3}])$\", fontsize=16)\n",
    "ax.set_xlabel(\"log$_{10}$(n$_{H}$ [cm$^{-3}$])\", fontsize=16)\n",
    "ax.tick_params(axis='x', which='both', bottom='on', labelbottom='on')\n",
    "ax.tick_params(axis='both', which='major', length=6, width=2, labelsize=15)\n",
    "\n",
    "\n",
    "#------------------------------------------------------------------------------------------------\n",
    "# From bottom left, to upper right.\n",
    "ii = 1\n",
    "jj = 0\n",
    "\n",
    "ax = fig.add_axes([wpad + ii*(xs_panel+wwpad), hpad + jj*ys_panel, xs_panel, ys_panel])\n",
    "\n",
    "cax = ax.hist2d(np.log10(temp), np.log10(Heat_BT94Upd), bins=50, norm=LogNorm(), cmap=\"inferno\", range=[[1, 4.0],[-28, -22]])\n",
    "\n",
    "ax.grid(\"on\")\n",
    "\n",
    "ax.tick_params(axis='x', which='both', bottom='on', labelbottom='on', labelsize=15)\n",
    "#ax.tick_params(axis='both', which='major', length=6, width=2, labelsize=15)\n",
    "\n",
    "ax.tick_params(axis='x', which='both', bottom='on', top='off', direction= 'inout',labelbottom='on') # labels along the bottom edge are off\n",
    "\n",
    "ax.set_xlabel(\"log$_{10}$(T[K])\", fontsize=16)\n",
    "\n",
    "ax.tick_params(axis='y', left=\"off\", which='major', length=6, width=2, labelsize=0)\n",
    "\n",
    "\n",
    "#------------------------------------------------------------------------------------------------\n",
    "# From bottom left, to upper right.\n",
    "ii = 0\n",
    "jj = 1\n",
    "\n",
    "ax = fig.add_axes([wpad + ii*xs_panel, hpad + jj*ys_panel, xs_panel, ys_panel])\n",
    "\n",
    "cax = ax.hist2d(np.log10(nH), np.log10(Heat_BT94), bins=50, norm=LogNorm(), cmap=\"inferno\", range=[[-1, 5.0],[-28, -22]])\n",
    "\n",
    "ax.grid(\"on\")\n",
    "ax.tick_params(axis='x', which='both', bottom='on', top='off', direction= 'inout',labelbottom='on') # labels along the bottom edge are off\n",
    "ax.set_ylabel(\"log$_{10} (\\Gamma_{pe}[\\mathrm{erg \\, s}^{-1} \\mathrm{cm}^{-3}])$\", fontsize=16)\n",
    "ax.set_xlabel(\"log$_{10}$(n$_{H}$ [cm$^{-3}$])\", fontsize=0)\n",
    "ax.tick_params(axis='x', which='both', bottom='on', labelbottom='off')\n",
    "ax.tick_params(axis='both', which='major', length=6, width=2, labelsize=15)\n",
    "\n",
    "\n",
    "#------------------------------------------------------------------------------------------------\n",
    "# From bottom left, to upper right.\n",
    "ii = 1\n",
    "jj = 1\n",
    "\n",
    "ax = fig.add_axes([wpad + ii*(xs_panel+wwpad), hpad + jj*ys_panel, xs_panel, ys_panel])\n",
    "\n",
    "cax = ax.hist2d(np.log10(temp), np.log10(Heat_BT94), bins=50, norm=LogNorm(), cmap=\"inferno\", range=[[1, 4.0],[-28, -22]])\n",
    "\n",
    "ax.grid(\"on\")\n",
    "\n",
    "ax.tick_params(axis='x', which='both', bottom='on', labelbottom='off', labelsize=15)\n",
    "ax.tick_params(axis='x', which='both', bottom='off', top='off', direction= 'inout',labelbottom='off') # labels along the bottom edge are off\n",
    "ax.set_xlabel(\"log$_{10}$(T[K])\", fontsize=0)\n",
    "ax.tick_params(axis='y', left=\"off\", which='major', length=6, width=2, labelsize=0)\n",
    "\n",
    "#fig.savefig(\"/Users/juan/Dropbox/Talks/Conf, Workshops & Schools/2018/Group Meeting/BT94_heating_UpdatedGtotne.pdf\", format=\"pdf\")\n",
    "\n",
    "fig.show()\n"
   ]
  },
  {
   "cell_type": "code",
   "execution_count": 12,
   "metadata": {
    "collapsed": false
   },
   "outputs": [
    {
     "data": {
      "image/png": "[encoded data removed]",
      "text/plain": [
       "<matplotlib.figure.Figure at 0x7fcf85ddd690>"
      ]
     },
     "metadata": {},
     "output_type": "display_data"
    }
   ],
   "source": [
    "fig = plt.figure(figsize=(8,8))\n",
    "\n",
    "ax = fig.add_axes([0.14, 0.11, 0.85, 0.84])\n",
    "\n",
    "from matplotlib.ticker import MaxNLocator\n",
    "def format_func(value, tick_number):\n",
    "    return \"10$^{%i}$\"%value\n",
    "\n",
    "\n",
    "GTn = (Gtot)*np.sqrt(temp)/new_ne\n",
    "\n",
    "ax.hist2d(np.log10(GTn), np.log10(Heat_BT94Upd), bins=50, norm=LogNorm(), cmap=\"inferno\")\n",
    "\n",
    "#ax.set_ylabel(\"T [K]\", fontsize=25)\n",
    "#\n",
    "ax.tick_params(axis='both', which='major', length=10, width=2,  labelsize=20, direction=\"in\")\n",
    "ax.tick_params(axis='both', which='minor', length=5, width=1.5, labelsize=20, direction=\"in\")\n",
    "\n",
    "\n",
    "#ax.set_ylim(-0.9, 4.99)\n",
    "ax.set_ylabel(\"\\Gamma^_{\\\\mathrm{tot}}$ erg s$^{-1}$\", fontsize=25)\n",
    "ax.set_xlabel(\"$G_{\\mathrm{tot}}T^{0.5} n_{\\\\mathrm{e}}^{-1}$ [K$^{1/2}$ cm$^{3}$]\", fontsize=25)\n",
    "\n",
    "ax.xaxis.set_major_locator(MaxNLocator(integer=True))\n",
    "ax.yaxis.set_major_locator(MaxNLocator(integer=True))\n",
    "ax.xaxis.set_major_formatter(plt.FuncFormatter(format_func))\n",
    "ax.yaxis.set_major_formatter(plt.FuncFormatter(format_func))\n",
    "\n",
    "#ax.set_yscale(\"log\")\n",
    "\n",
    "#ax.set_xlim(np.log10(np.min(cdist[\"nH\"])), 4.5)\n",
    "#fig.savefig(\"/home/jcibanezm/Dropbox/Projects/Papers/In_Progress/PeHeat_dust/Figures/Figure_6_TotalHeating_GTn.pdf\", format=\"pdf\")\n",
    "\n",
    "\n",
    "fig.show()"
   ]
  },
  {
   "cell_type": "markdown",
   "metadata": {},
   "source": [
    "---"
   ]
  },
  {
   "cell_type": "code",
   "execution_count": 13,
   "metadata": {
    "collapsed": true
   },
   "outputs": [],
   "source": [
    "#zeta = np.zeros_like(NH2)\n",
    "#new_ne = np.zeros_like(NH2)\n",
    "#new_xe = np.zeros_like(NH2)\n",
    "#for i in range(len(zeta)):\n",
    "#    zeta[i]  = fz.get_zeta(NH2[i])\n",
    "#    new_ne[i], new_xe[i] = fz.compute_new_xe([nH[i], 0.], [xe[i],0], xH2[i], zeta[i])"
   ]
  },
  {
   "cell_type": "code",
   "execution_count": 14,
   "metadata": {
    "collapsed": true
   },
   "outputs": [],
   "source": [
    "#Gtot = Geff + G_CR"
   ]
  },
  {
   "cell_type": "code",
   "execution_count": null,
   "metadata": {
    "collapsed": true
   },
   "outputs": [],
   "source": [
    "import parametric_PeHeat as parPeH"
   ]
  },
  {
   "cell_type": "code",
   "execution_count": null,
   "metadata": {
    "collapsed": true
   },
   "outputs": [],
   "source": [
    "HH18 = np.zeros_like(nH, dtype=np.float)\n",
    "for i in range(len(nH)):\n",
    "    HH18[i] = nH[i]*parPeH.get_Gamma_tot(Gtot[i], temp[i], new_ne[i])"
   ]
  },
  {
   "cell_type": "code",
   "execution_count": null,
   "metadata": {
    "collapsed": true
   },
   "outputs": [],
   "source": []
  },
  {
   "cell_type": "code",
   "execution_count": null,
   "metadata": {
    "collapsed": true
   },
   "outputs": [],
   "source": [
    "diff = HH18/Heat_BT94"
   ]
  },
  {
   "cell_type": "code",
   "execution_count": null,
   "metadata": {
    "collapsed": true
   },
   "outputs": [],
   "source": [
    "diffUpd = HH18/Heat_BT94Upd"
   ]
  },
  {
   "cell_type": "code",
   "execution_count": null,
   "metadata": {
    "collapsed": false
   },
   "outputs": [],
   "source": [
    "xsize = 8\n",
    "ysize = 4.3\n",
    "\n",
    "nfigs_x = 2\n",
    "nfigs_y = 1\n",
    "\n",
    "fig = plt.figure(figsize=(xsize, ysize))\n",
    "\n",
    "hpad = 0.15\n",
    "wpad = 0.13\n",
    "wwpad = 0.01\n",
    "\n",
    "xs_panel = 0.84 / nfigs_x \n",
    "ys_panel = 0.82 / nfigs_y \n",
    "\n",
    "##########################################################################################################\n",
    "############################             n          #######################################\n",
    "############################################################################################################\n",
    "\n",
    "ax = fig.add_axes([0, 0, 1, 1])\n",
    "\n",
    "#ax.plot([0,1], [0,1], visible=False)\n",
    "ax.set_xlim(0,1)\n",
    "ax.set_ylim(0,1)\n",
    "\n",
    "#ax.text(0.18, 0.955, \"5 AA\", fontsize=20, horizontalalignment='center')\n",
    "\n",
    "plt.axis('off')\n",
    "\n",
    "#------------------------------------------------------------------------------------------------\n",
    "# From bottom left, to upper right.\n",
    "ii = 0\n",
    "jj = 0\n",
    "\n",
    "ax = fig.add_axes([wpad + ii*xs_panel, hpad + jj*ys_panel, xs_panel, ys_panel])\n",
    "\n",
    "cax = ax.hist2d(np.log10(nH), np.log10(HH18), bins=100, norm=LogNorm(), cmap=\"inferno\", range=[[-1, 5.0],[-28, -22]])\n",
    "\n",
    "ax.grid(\"on\")\n",
    "ax.tick_params(axis='x', which='both', bottom='on', top='off', direction= 'inout',labelbottom='on') # labels along the bottom edge are off\n",
    "ax.set_ylabel(\"log$_{10} (\\Gamma_{pe}[\\mathrm{erg \\, s}^{-1} \\mathrm{cm}^{-3}])$\", fontsize=16)\n",
    "ax.set_xlabel(\"log$_{10}$(n$_{H}$ [cm$^{-3}$])\", fontsize=16)\n",
    "ax.tick_params(axis='x', which='both', bottom='on', labelbottom='on')\n",
    "ax.tick_params(axis='both', which='major', length=6, width=2, labelsize=15)\n",
    "\n",
    "\n",
    "#------------------------------------------------------------------------------------------------\n",
    "# From bottom left, to upper right.\n",
    "ii = 1\n",
    "jj = 0\n",
    "\n",
    "ax = fig.add_axes([wpad + ii*(xs_panel+wwpad), hpad + jj*ys_panel, xs_panel, ys_panel])\n",
    "\n",
    "cax = ax.hist2d(np.log10(temp), np.log10(HH18), bins=100, norm=LogNorm(), cmap=\"inferno\", range=[[0.75, 4.0],[-28, -22]])\n",
    "\n",
    "ax.grid(\"on\")\n",
    "\n",
    "ax.tick_params(axis='x', which='both', bottom='on', labelbottom='on', labelsize=15)\n",
    "#ax.tick_params(axis='both', which='major', length=6, width=2, labelsize=15)\n",
    "\n",
    "ax.tick_params(axis='x', which='both', bottom='on', top='off', direction= 'inout',labelbottom='on') # labels along the bottom edge are off\n",
    "\n",
    "ax.set_xlabel(\"log$_{10}$(T[K])\", fontsize=16)\n",
    "\n",
    "ax.tick_params(axis='y', left=\"off\", which='major', length=6, width=2, labelsize=0)\n",
    "\n",
    "#fig.savefig(\"/Users/juan/Dropbox/Talks/Conf, Workshops & Schools/2018/Group Meeting/IM18_piecewise.pdf\", format=\"pdf\")\n",
    "\n",
    "fig.show()\n",
    "\n",
    "\n"
   ]
  },
  {
   "cell_type": "code",
   "execution_count": null,
   "metadata": {
    "collapsed": false
   },
   "outputs": [],
   "source": [
    "xsize = 8\n",
    "ysize = 4.3\n",
    "\n",
    "nfigs_x = 2\n",
    "nfigs_y = 1\n",
    "\n",
    "fig = plt.figure(figsize=(xsize, ysize))\n",
    "\n",
    "hpad = 0.15\n",
    "wpad = 0.13\n",
    "wwpad = 0.01\n",
    "\n",
    "xs_panel = 0.84 / nfigs_x \n",
    "ys_panel = 0.82 / nfigs_y \n",
    "\n",
    "##########################################################################################################\n",
    "############################             n          #######################################\n",
    "############################################################################################################\n",
    "\n",
    "ax = fig.add_axes([0, 0, 1, 1])\n",
    "\n",
    "#ax.plot([0,1], [0,1], visible=False)\n",
    "ax.set_xlim(0,1)\n",
    "ax.set_ylim(0,1)\n",
    "\n",
    "#ax.text(0.18, 0.955, \"5 AA\", fontsize=20, horizontalalignment='center')\n",
    "\n",
    "plt.axis('off')\n",
    "\n",
    "#------------------------------------------------------------------------------------------------\n",
    "# From bottom left, to upper right.\n",
    "ii = 0\n",
    "jj = 0\n",
    "\n",
    "ax = fig.add_axes([wpad + ii*xs_panel, hpad + jj*ys_panel, xs_panel, ys_panel])\n",
    "\n",
    "cax = ax.hist2d(np.log10(nH), diff, bins=50, norm=LogNorm(), cmap=\"inferno\", range=[[-1, 5.0],[np.min(diff), np.max(diff)]])\n",
    "\n",
    "ax.grid(\"on\")\n",
    "ax.tick_params(axis='x', which='both', bottom='on', top='off', direction= 'inout',labelbottom='on') # labels along the bottom edge are off\n",
    "ax.set_ylabel(\"log$_{10} (\\Gamma_{pe}[\\mathrm{erg \\, s}^{-1} \\mathrm{cm}^{-3}])$\", fontsize=16)\n",
    "ax.set_xlabel(\"log$_{10}$(n$_{H}$ [cm$^{-3}$])\", fontsize=16)\n",
    "ax.tick_params(axis='x', which='both', bottom='on', labelbottom='on')\n",
    "ax.tick_params(axis='both', which='major', length=6, width=2, labelsize=15)\n",
    "\n",
    "\n",
    "#------------------------------------------------------------------------------------------------\n",
    "# From bottom left, to upper right.\n",
    "ii = 1\n",
    "jj = 0\n",
    "\n",
    "ax = fig.add_axes([wpad + ii*(xs_panel+wwpad), hpad + jj*ys_panel, xs_panel, ys_panel])\n",
    "\n",
    "cax = ax.hist2d(np.log10(temp), diff, bins=50, norm=LogNorm(), cmap=\"inferno\", range=[[1, 4.0],[np.min(diff), np.max(diff)]])\n",
    "\n",
    "ax.grid(\"on\")\n",
    "\n",
    "ax.tick_params(axis='x', which='both', bottom='on', labelbottom='on', labelsize=15)\n",
    "#ax.tick_params(axis='both', which='major', length=6, width=2, labelsize=15)\n",
    "\n",
    "ax.tick_params(axis='x', which='both', bottom='on', top='off', direction= 'inout',labelbottom='on') # labels along the bottom edge are off\n",
    "\n",
    "ax.set_xlabel(\"log$_{10}$(T[K])\", fontsize=16)\n",
    "\n",
    "ax.tick_params(axis='y', left=\"off\", which='major', length=6, width=2, labelsize=0)\n",
    "\n",
    "#fig.savefig(\"/Users/juan/Dropbox/Talks/Conf, Workshops & Schools/2018/Group Meeting/IM18_ratio.pdf\", format=\"pdf\")\n",
    "\n",
    "fig.show()\n",
    "\n",
    "\n",
    "\n"
   ]
  },
  {
   "cell_type": "markdown",
   "metadata": {},
   "source": [
    "---"
   ]
  }
 ],
 "metadata": {
  "anaconda-cloud": {},
  "kernelspec": {
   "display_name": "Python [default]",
   "language": "python",
   "name": "python2"
  },
  "language_info": {
   "codemirror_mode": {
    "name": "ipython",
    "version": 2
   },
   "file_extension": ".py",
   "mimetype": "text/x-python",
   "name": "python",
   "nbconvert_exporter": "python",
   "pygments_lexer": "ipython2",
   "version": "2.7.15"
  }
 },
 "nbformat": 4,
 "nbformat_minor": 2
}
