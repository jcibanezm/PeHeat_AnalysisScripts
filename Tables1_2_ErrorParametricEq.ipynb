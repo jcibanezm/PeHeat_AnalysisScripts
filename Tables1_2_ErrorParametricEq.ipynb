{
 "cells": [
  {
   "cell_type": "markdown",
   "metadata": {},
   "source": [
    "What does this notebook do:\n",
    "\n",
    "    - loads the charge distribution data.\n",
    "    - computes the net heating per grain, full calculation.\n",
    "    - takes the GTn parameter and computes the parametric net heating.\n",
    "    - compares both distributions and gives the percentiles."
   ]
  },
  {
   "cell_type": "code",
   "execution_count": 2,
   "metadata": {
    "collapsed": false
   },
   "outputs": [
    {
     "name": "stdout",
     "output_type": "stream",
     "text": [
      "Loading the library to compute the charge distribution of dust grains.\n"
     ]
    }
   ],
   "source": [
    "import numpy as np\n",
    "import matplotlib.pyplot as plt\n",
    "import scipy.integrate as integrate\n",
    "import pickle\n",
    "import numpy as np\n",
    "from   matplotlib.colors import LogNorm\n",
    "from scipy.optimize import curve_fit\n",
    "import time\n",
    "\n",
    "import compute_charge_dist as fz\n",
    "import PeHeat_Functions as peh\n",
    "import parametric_fz as parfz\n",
    "import parametric_PeHeat as parPeH"
   ]
  },
  {
   "cell_type": "code",
   "execution_count": 73,
   "metadata": {
    "collapsed": true
   },
   "outputs": [],
   "source": [
    "def index_fz(npoints, zminmax, fdist):\n",
    "\n",
    "    ffz = []\n",
    "    cum = 0\n",
    "    for index in range(npoints):\n",
    "        zmin = zminmax[index*2]\n",
    "        zmax = zminmax[index*2+1]\n",
    "        znum = int(abs(zmin) + zmax + 1)\n",
    "        \n",
    "        #print(zmin, zmax)\n",
    "        #print(znum)\n",
    "        \n",
    "        ffz.append(0)\n",
    "        ffz[-1] = []\n",
    "        for j in range(znum):\n",
    "            fhere = fdist[cum+j]\n",
    "            ffz[-1].append(fhere)\n",
    "            #print(\"filling the array\", j)\n",
    "        #print(ffz[-1])\n",
    "        cum += znum\n",
    "    \n",
    "    return ffz"
   ]
  },
  {
   "cell_type": "code",
   "execution_count": 72,
   "metadata": {
    "collapsed": false
   },
   "outputs": [
    {
     "name": "stdout",
     "output_type": "stream",
     "text": [
      "I'm looking for a grain size smaller than 10 Angstrom. Outside the tabulated data!!!\n",
      "Using the absorption efficiency for a 10 AA grain\n",
      "I'm looking for a grain size smaller than 10 Angstrom. Outside the tabulated data!!!\n",
      "Using the absorption efficiency for a 10 AA grain\n"
     ]
    }
   ],
   "source": [
    "grain_type = \"silicate\"\n",
    "#grain_type = \"carbonaceous\"\n",
    "\n",
    "########################################################################################\n",
    "pcent      = 1\n",
    "grain_size = 3\n",
    "\n",
    "save_dir = \"/home/jcibanezm/Dropbox/codes/run/ChargeStatisticsAnalysis/Daikaiju\"\n",
    "filename = \"fz_%.4iAA_%s_CR_True_%i_pcent.pkl\"%(grain_size, grain_type, pcent) \n",
    "\n",
    "pkl_file    = open(\"%s/%s\"%(save_dir, filename), \"rb\")\n",
    "cdist3 = pickle.load(pkl_file)\n",
    "pkl_file.close\n",
    "\n",
    "Qabs3 = fz.get_QabsTable(grain_type, grain_size)\n",
    "\n",
    "########################################################################################\n",
    "pcent      = 1\n",
    "grain_size = 5\n",
    "\n",
    "save_dir = \"/home/jcibanezm/Dropbox/codes/run/ChargeStatisticsAnalysis/Daikaiju\"\n",
    "filename = \"fz_%.4iAA_%s_CR_True_%i_pcent.pkl\"%(grain_size, grain_type, pcent) \n",
    "\n",
    "pkl_file    = open(\"%s/%s\"%(save_dir, filename), \"rb\")\n",
    "cdist5 = pickle.load(pkl_file)\n",
    "pkl_file.close\n",
    "\n",
    "Qabs5 = fz.get_QabsTable(grain_type, grain_size)\n",
    "\n",
    "########################################################################################\n",
    "pcent      = 1\n",
    "grain_size = 10\n",
    "\n",
    "save_dir = \"/home/jcibanezm/Dropbox/codes/run/ChargeStatisticsAnalysis/Daikaiju\"\n",
    "filename = \"fz_%.4iAA_%s_CR_True_%i_pcent.pkl\"%(grain_size, grain_type, pcent) \n",
    "\n",
    "pkl_file    = open(\"%s/%s\"%(save_dir, filename), \"rb\")\n",
    "cdist10 = pickle.load(pkl_file)\n",
    "pkl_file.close\n",
    "\n",
    "Qabs10 = fz.get_QabsTable(grain_type, grain_size)\n",
    "\n",
    "########################################################################################\n",
    "pcent      = 1\n",
    "grain_size = 50\n",
    "\n",
    "save_dir = \"/home/jcibanezm/Dropbox/codes/run/ChargeStatisticsAnalysis/Daikaiju\"\n",
    "filename = \"fz_%.4iAA_%s_CR_True_%i_pcent.pkl\"%(grain_size, grain_type, pcent) \n",
    "\n",
    "pkl_file    = open(\"%s/%s\"%(save_dir, filename), \"rb\")\n",
    "cdist50 = pickle.load(pkl_file)\n",
    "pkl_file.close\n",
    "\n",
    "Qabs50 = fz.get_QabsTable(grain_type, grain_size)\n",
    "\n",
    "########################################################################################\n",
    "pcent      = 1\n",
    "grain_size = 100\n",
    "\n",
    "save_dir = \"/home/jcibanezm/Dropbox/codes/run/ChargeStatisticsAnalysis/Daikaiju\"\n",
    "filename = \"fz_%.4iAA_%s_CR_True_%i_pcent.pkl\"%(grain_size, grain_type, pcent) \n",
    "\n",
    "pkl_file    = open(\"%s/%s\"%(save_dir, filename), \"rb\")\n",
    "cdist100 = pickle.load(pkl_file)\n",
    "pkl_file.close\n",
    "\n",
    "Qabs100 = fz.get_QabsTable(grain_type, grain_size)\n",
    "\n",
    "########################################################################################\n",
    "pcent      = 0.1\n",
    "grain_size = 500\n",
    "\n",
    "save_dir = \"/home/jcibanezm/Dropbox/codes/run/ChargeStatisticsAnalysis/Daikaiju\"\n",
    "filename = \"fz_%.4iAA_%s_CR_True_%i_pcent.pkl\"%(grain_size, grain_type, pcent) \n",
    "\n",
    "pkl_file    = open(\"%s/%s\"%(save_dir, filename), \"rb\")\n",
    "cdist500 = pickle.load(pkl_file)\n",
    "pkl_file.close\n",
    "\n",
    "Qabs500 = fz.get_QabsTable(grain_type, grain_size)\n",
    "\n",
    "########################################################################################\n",
    "pcent      = 0.1\n",
    "grain_size = 1000\n",
    "\n",
    "save_dir = \"/home/jcibanezm/Dropbox/codes/run/ChargeStatisticsAnalysis/Daikaiju\"\n",
    "filename = \"fz_%.4iAA_%s_CR_True_%i_pcent.pkl\"%(grain_size, grain_type, pcent) \n",
    "\n",
    "pkl_file    = open(\"%s/%s\"%(save_dir, filename), \"rb\")\n",
    "cdist1000 = pickle.load(pkl_file)\n",
    "pkl_file.close\n",
    "\n",
    "Qabs1000 = fz.get_QabsTable(grain_type, grain_size)"
   ]
  },
  {
   "cell_type": "code",
   "execution_count": 74,
   "metadata": {
    "collapsed": false
   },
   "outputs": [],
   "source": [
    "fdist3 = index_fz(len(cdist3[\"nH\"]), cdist3[\"zminmax\"], cdist3[\"fdist\"])\n",
    "fdist5 = index_fz(len(cdist5[\"nH\"]), cdist5[\"zminmax\"], cdist5[\"fdist\"])\n",
    "fdist10 = index_fz(len(cdist10[\"nH\"]), cdist10[\"zminmax\"], cdist10[\"fdist\"])"
   ]
  },
  {
   "cell_type": "code",
   "execution_count": 86,
   "metadata": {
    "collapsed": false
   },
   "outputs": [],
   "source": [
    "def Full_netHeating(grain_size, grain_type, nH, Gtot, temp, xe, zminmax, fdist, Qabs):\n",
    "    \"\"\"\n",
    "    Given the charge distribution, and some ISM parameters, compute the net heating by a single dust grain.\n",
    "    \"\"\"\n",
    "    Zmin_sil, Zmax_sil = fz.get_Zmin(grain_size, grain_type), fz.get_Zmax(grain_size, grain_type)\n",
    "    Znum_sil = int(Zmax_sil + abs(Zmin_sil) +1)\n",
    "    ZZ_sil = np.linspace(Zmin_sil, Zmax_sil, num=Znum_sil)\n",
    "\n",
    "    Gamma_dotdot_Z_sil = np.zeros_like(ZZ_sil, dtype=np.float)\n",
    "\n",
    "    for i in range(Znum_sil):\n",
    "        Gamma_dotdot_Z_sil[i] = peh.get_Gamma_pe_dotdot(grain_size, ZZ_sil[i], grain_type, 0.0, Qabs, G0=1.7)\n",
    "\n",
    "    Gamma_a = np.zeros_like(nH, dtype=np.float)\n",
    "    Cooling = np.zeros_like(nH, dtype=np.float)\n",
    "    cum = 0\n",
    "\n",
    "    #for index in range(10):\n",
    "    for index in range(len(Gamma_a)):\n",
    "\n",
    "        zmin = zminmax[index*2]\n",
    "        zmax = zminmax[index*2+1]\n",
    "        znum = int(abs(zmin) + zmax + 1)\n",
    "\n",
    "        Gamma_dotdot_Z_sil_scaled = Gamma_dotdot_Z_sil*(Gtot[index]/1.7)\n",
    "\n",
    "        ZZfz = np.arange(zmin, zmax+1, 1)\n",
    "        ffz  = fdist[index]\n",
    "        #print(ZZfz)\n",
    "        #print(ffz)\n",
    "\n",
    "        Gamma_a[index]= peh.Gamma_per_grain(ZZ_sil, Gamma_dotdot_Z_sil_scaled, ZZfz, ffz)\n",
    "        \n",
    "        Cooling[index] = peh.Cool_per_Grain(grain_size, grain_type, ZZfz, ffz, nH[index], xe[index], temp[index])\n",
    "\n",
    "    netHeat = Gamma_a - Cooling\n",
    "    \n",
    "    return netHeat"
   ]
  },
  {
   "cell_type": "code",
   "execution_count": 78,
   "metadata": {
    "collapsed": true
   },
   "outputs": [],
   "source": [
    "nH3, Gtot3, temp3, xe3, zminmax3, fdist3 = cdist3[\"nH\"], cdist3[\"G\"]+cdist3[\"G_CR\"], cdist3[\"temp\"],cdist3[\"new_xe\"], cdist3[\"zminmax\"], fdist3\n",
    "nH5, Gtot5, temp5, xe5, zminmax5, fdist5 = cdist5[\"nH\"], cdist5[\"G\"]+cdist5[\"G_CR\"], cdist5[\"temp\"],cdist5[\"new_xe\"], cdist5[\"zminmax\"], fdist5\n",
    "nH10, Gtot10, temp10, xe10, zminmax10, fdist10 = cdist10[\"nH\"], cdist10[\"G\"]+cdist10[\"G_CR\"], cdist10[\"temp\"],cdist10[\"new_xe\"], cdist10[\"zminmax\"], fdist10\n",
    "nH50, Gtot50, temp50, xe50, zminmax50, fdist50 = cdist50[\"nH\"], cdist50[\"G\"]+cdist50[\"G_CR\"], cdist50[\"temp\"],cdist50[\"new_xe\"], cdist50[\"zminmax\"], cdist50[\"fdist\"]\n",
    "nH100, Gtot100, temp100, xe100, zminmax100, fdist100 = cdist100[\"nH\"], cdist100[\"G\"]+cdist100[\"G_CR\"], cdist100[\"temp\"],cdist100[\"new_xe\"], cdist100[\"zminmax\"], cdist100[\"fdist\"]\n",
    "nH500, Gtot500, temp500, xe500, zminmax500, fdist500 = cdist500[\"nH\"], cdist500[\"G\"]+cdist500[\"G_CR\"], cdist500[\"temp\"],cdist500[\"new_xe\"], cdist500[\"zminmax\"], cdist500[\"fdist\"]\n",
    "nH1000, Gtot1000, temp1000, xe1000, zminmax1000, fdist1000 = cdist1000[\"nH\"], cdist1000[\"G\"]+cdist1000[\"G_CR\"], cdist1000[\"temp\"],cdist1000[\"new_xe\"], cdist1000[\"zminmax\"], cdist1000[\"fdist\"]"
   ]
  },
  {
   "cell_type": "code",
   "execution_count": 95,
   "metadata": {
    "collapsed": false
   },
   "outputs": [],
   "source": [
    "netHeat3 = Full_netHeating(3.5, grain_type, nH3, Gtot3, temp3, xe3, zminmax3, fdist3, Qabs3)\n",
    "netHeat5 = Full_netHeating(5., grain_type, nH5, Gtot5, temp5, xe5, zminmax5, fdist5, Qabs5)\n",
    "netHeat10 = Full_netHeating(10., grain_type, nH10, Gtot10, temp10, xe10, zminmax10, fdist10, Qabs10)\n",
    "netHeat50 = Full_netHeating(50., grain_type, nH50, Gtot50, temp50, xe50, zminmax50, fdist50, Qabs50)\n",
    "netHeat100 = Full_netHeating(100., grain_type, nH100, Gtot100, temp100, xe100, zminmax100, fdist100, Qabs100)\n",
    "netHeat500 = Full_netHeating(500., grain_type, nH500, Gtot500, temp500, xe500, zminmax500, fdist500, Qabs500)\n",
    "netHeat1000 = Full_netHeating(1000., grain_type, nH1000, Gtot1000, temp1000, xe1000, zminmax1000, fdist1000, Qabs1000)"
   ]
  },
  {
   "cell_type": "code",
   "execution_count": null,
   "metadata": {
    "collapsed": true
   },
   "outputs": [],
   "source": []
  }
 ],
 "metadata": {
  "kernelspec": {
   "display_name": "Python [default]",
   "language": "python",
   "name": "python2"
  },
  "language_info": {
   "codemirror_mode": {
    "name": "ipython",
    "version": 2
   },
   "file_extension": ".py",
   "mimetype": "text/x-python",
   "name": "python",
   "nbconvert_exporter": "python",
   "pygments_lexer": "ipython2",
   "version": "2.7.13"
  }
 },
 "nbformat": 4,
 "nbformat_minor": 2
}
