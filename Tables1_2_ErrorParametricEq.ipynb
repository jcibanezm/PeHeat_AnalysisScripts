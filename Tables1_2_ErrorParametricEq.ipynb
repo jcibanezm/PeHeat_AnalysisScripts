{
 "cells": [
  {
   "cell_type": "markdown",
   "metadata": {},
   "source": [
    "What does this notebook do:\n",
    "\n",
    "    - loads the charge distribution data.\n",
    "    - computes the net heating per grain, full calculation.\n",
    "    - takes the GTn parameter and computes the parametric net heating.\n",
    "    - compares both distributions and gives the percentiles."
   ]
  },
  {
   "cell_type": "code",
   "execution_count": 1,
   "metadata": {
    "collapsed": false
   },
   "outputs": [
    {
     "name": "stdout",
     "output_type": "stream",
     "text": [
      "Loading the library to compute the charge distribution of dust grains.\n"
     ]
    }
   ],
   "source": [
    "import numpy as np\n",
    "import matplotlib.pyplot as plt\n",
    "import scipy.integrate as integrate\n",
    "import pickle\n",
    "import numpy as np\n",
    "from   matplotlib.colors import LogNorm\n",
    "from scipy.optimize import curve_fit\n",
    "import time\n",
    "\n",
    "import compute_charge_dist as fz\n",
    "import PeHeat_Functions as peh\n",
    "import parametric_fz as fzpar\n",
    "import parametric_PeHeat as parPeH"
   ]
  },
  {
   "cell_type": "code",
   "execution_count": 2,
   "metadata": {
    "collapsed": true
   },
   "outputs": [],
   "source": [
    "def index_fz(npoints, zminmax, fdist):\n",
    "\n",
    "    ffz = []\n",
    "    cum = 0\n",
    "    for index in range(npoints):\n",
    "        zmin = zminmax[index*2]\n",
    "        zmax = zminmax[index*2+1]\n",
    "        znum = int(abs(zmin) + zmax + 1)\n",
    "        \n",
    "        #print(zmin, zmax)\n",
    "        #print(znum)\n",
    "        \n",
    "        ffz.append(0)\n",
    "        ffz[-1] = []\n",
    "        for j in range(znum):\n",
    "            fhere = fdist[cum+j]\n",
    "            ffz[-1].append(fhere)\n",
    "            #print(\"filling the array\", j)\n",
    "        #print(ffz[-1])\n",
    "        cum += znum\n",
    "    \n",
    "    return ffz"
   ]
  },
  {
   "cell_type": "code",
   "execution_count": 3,
   "metadata": {
    "collapsed": false
   },
   "outputs": [
    {
     "name": "stdout",
     "output_type": "stream",
     "text": [
      "I'm looking for a grain size smaller than 10 Angstrom. Outside the tabulated data!!!\n",
      "Using the absorption efficiency for a 10 AA grain\n",
      "I'm looking for a grain size smaller than 10 Angstrom. Outside the tabulated data!!!\n",
      "Using the absorption efficiency for a 10 AA grain\n"
     ]
    }
   ],
   "source": [
    "grain_type = \"silicate\"\n",
    "#grain_type = \"carbonaceous\"\n",
    "\n",
    "########################################################################################\n",
    "pcent      = 1\n",
    "grain_size = 3\n",
    "\n",
    "save_dir = \"/home/jcibanezm/Dropbox/codes/run/ChargeStatisticsAnalysis/Daikaiju\"\n",
    "filename = \"fz_%.4iAA_%s_CR_True_%i_pcent.pkl\"%(grain_size, grain_type, pcent) \n",
    "\n",
    "pkl_file    = open(\"%s/%s\"%(save_dir, filename), \"rb\")\n",
    "cdist3 = pickle.load(pkl_file)\n",
    "pkl_file.close\n",
    "\n",
    "Qabs3 = fz.get_QabsTable(grain_type, grain_size)\n",
    "\n",
    "########################################################################################\n",
    "pcent      = 1\n",
    "grain_size = 5\n",
    "\n",
    "save_dir = \"/home/jcibanezm/Dropbox/codes/run/ChargeStatisticsAnalysis/Daikaiju\"\n",
    "filename = \"fz_%.4iAA_%s_CR_True_%i_pcent.pkl\"%(grain_size, grain_type, pcent) \n",
    "\n",
    "pkl_file    = open(\"%s/%s\"%(save_dir, filename), \"rb\")\n",
    "cdist5 = pickle.load(pkl_file)\n",
    "pkl_file.close\n",
    "\n",
    "Qabs5 = fz.get_QabsTable(grain_type, grain_size)\n",
    "\n",
    "########################################################################################\n",
    "pcent      = 1\n",
    "grain_size = 10\n",
    "\n",
    "save_dir = \"/home/jcibanezm/Dropbox/codes/run/ChargeStatisticsAnalysis/Daikaiju\"\n",
    "filename = \"fz_%.4iAA_%s_CR_True_%i_pcent.pkl\"%(grain_size, grain_type, pcent) \n",
    "\n",
    "pkl_file    = open(\"%s/%s\"%(save_dir, filename), \"rb\")\n",
    "cdist10 = pickle.load(pkl_file)\n",
    "pkl_file.close\n",
    "\n",
    "Qabs10 = fz.get_QabsTable(grain_type, grain_size)\n",
    "\n",
    "########################################################################################\n",
    "pcent      = 1\n",
    "grain_size = 50\n",
    "\n",
    "save_dir = \"/home/jcibanezm/Dropbox/codes/run/ChargeStatisticsAnalysis/Daikaiju\"\n",
    "filename = \"fz_%.4iAA_%s_CR_True_%i_pcent.pkl\"%(grain_size, grain_type, pcent) \n",
    "\n",
    "pkl_file    = open(\"%s/%s\"%(save_dir, filename), \"rb\")\n",
    "cdist50 = pickle.load(pkl_file)\n",
    "pkl_file.close\n",
    "\n",
    "Qabs50 = fz.get_QabsTable(grain_type, grain_size)\n",
    "\n",
    "########################################################################################\n",
    "pcent      = 1\n",
    "grain_size = 100\n",
    "\n",
    "save_dir = \"/home/jcibanezm/Dropbox/codes/run/ChargeStatisticsAnalysis/Daikaiju\"\n",
    "filename = \"fz_%.4iAA_%s_CR_True_%i_pcent.pkl\"%(grain_size, grain_type, pcent) \n",
    "\n",
    "pkl_file    = open(\"%s/%s\"%(save_dir, filename), \"rb\")\n",
    "cdist100 = pickle.load(pkl_file)\n",
    "pkl_file.close\n",
    "\n",
    "Qabs100 = fz.get_QabsTable(grain_type, grain_size)\n",
    "\n",
    "########################################################################################\n",
    "pcent      = 0.1\n",
    "grain_size = 500\n",
    "\n",
    "save_dir = \"/home/jcibanezm/Dropbox/codes/run/ChargeStatisticsAnalysis/Daikaiju\"\n",
    "filename = \"fz_%.4iAA_%s_CR_True_%i_pcent.pkl\"%(grain_size, grain_type, pcent) \n",
    "\n",
    "pkl_file    = open(\"%s/%s\"%(save_dir, filename), \"rb\")\n",
    "cdist500 = pickle.load(pkl_file)\n",
    "pkl_file.close\n",
    "\n",
    "Qabs500 = fz.get_QabsTable(grain_type, grain_size)\n",
    "\n",
    "########################################################################################\n",
    "pcent      = 0.1\n",
    "grain_size = 1000\n",
    "\n",
    "save_dir = \"/home/jcibanezm/Dropbox/codes/run/ChargeStatisticsAnalysis/Daikaiju\"\n",
    "filename = \"fz_%.4iAA_%s_CR_True_%i_pcent.pkl\"%(grain_size, grain_type, pcent) \n",
    "\n",
    "pkl_file    = open(\"%s/%s\"%(save_dir, filename), \"rb\")\n",
    "cdist1000 = pickle.load(pkl_file)\n",
    "pkl_file.close\n",
    "\n",
    "Qabs1000 = fz.get_QabsTable(grain_type, grain_size)"
   ]
  },
  {
   "cell_type": "code",
   "execution_count": 4,
   "metadata": {
    "collapsed": false
   },
   "outputs": [],
   "source": [
    "fdist3 = index_fz(len(cdist3[\"nH\"]), cdist3[\"zminmax\"], cdist3[\"fdist\"])\n",
    "fdist5 = index_fz(len(cdist5[\"nH\"]), cdist5[\"zminmax\"], cdist5[\"fdist\"])\n",
    "fdist10 = index_fz(len(cdist10[\"nH\"]), cdist10[\"zminmax\"], cdist10[\"fdist\"])"
   ]
  },
  {
   "cell_type": "code",
   "execution_count": 5,
   "metadata": {
    "collapsed": false
   },
   "outputs": [],
   "source": [
    "def Full_netHeating(grain_size, grain_type, nH, Gtot, temp, xe, zminmax, fdist, Qabs):\n",
    "    \"\"\"\n",
    "    Given the charge distribution, and some ISM parameters, compute the net heating by a single dust grain.\n",
    "    \"\"\"\n",
    "    Zmin_sil, Zmax_sil = fz.get_Zmin(grain_size, grain_type), fz.get_Zmax(grain_size, grain_type)\n",
    "    Znum_sil = int(Zmax_sil + abs(Zmin_sil) +1)\n",
    "    ZZ_sil = np.linspace(Zmin_sil, Zmax_sil, num=Znum_sil)\n",
    "\n",
    "    Gamma_dotdot_Z_sil = np.zeros_like(ZZ_sil, dtype=np.float)\n",
    "\n",
    "    for i in range(Znum_sil):\n",
    "        Gamma_dotdot_Z_sil[i] = peh.get_Gamma_pe_dotdot(grain_size, ZZ_sil[i], grain_type, 0.0, Qabs, G0=1.7)\n",
    "\n",
    "    Gamma_a = np.zeros_like(nH, dtype=np.float)\n",
    "    Cooling = np.zeros_like(nH, dtype=np.float)\n",
    "    cum = 0\n",
    "\n",
    "    #for index in range(10):\n",
    "    for index in range(len(Gamma_a)):\n",
    "\n",
    "        zmin = zminmax[index*2]\n",
    "        zmax = zminmax[index*2+1]\n",
    "        znum = int(abs(zmin) + zmax + 1)\n",
    "\n",
    "        Gamma_dotdot_Z_sil_scaled = Gamma_dotdot_Z_sil*(Gtot[index]/1.7)\n",
    "\n",
    "        ZZfz = np.arange(zmin, zmax+1, 1)\n",
    "        ffz  = fdist[index]\n",
    "        #print(ZZfz)\n",
    "        #print(ffz)\n",
    "\n",
    "        Gamma_a[index]= peh.Gamma_per_grain(ZZ_sil, Gamma_dotdot_Z_sil_scaled, ZZfz, ffz)\n",
    "        \n",
    "        #Cooling[index] = peh.Cool_per_Grain(grain_size, grain_type, ZZfz, ffz, nH[index], xe[index], temp[index])\n",
    "\n",
    "    netHeat = Gamma_a #- Cooling\n",
    "    \n",
    "    return netHeat"
   ]
  },
  {
   "cell_type": "code",
   "execution_count": 6,
   "metadata": {
    "collapsed": true
   },
   "outputs": [],
   "source": [
    "nH3, Gtot3, temp3, xe3, zminmax3, fdist3                   = cdist3[\"nH\"], cdist3[\"G\"]+cdist3[\"G_CR\"], cdist3[\"temp\"],cdist3[\"new_xe\"], cdist3[\"zminmax\"], fdist3\n",
    "nH5, Gtot5, temp5, xe5, zminmax5, fdist5                   = cdist5[\"nH\"], cdist5[\"G\"]+cdist5[\"G_CR\"], cdist5[\"temp\"],cdist5[\"new_xe\"], cdist5[\"zminmax\"], fdist5\n",
    "nH10, Gtot10, temp10, xe10, zminmax10, fdist10             = cdist10[\"nH\"], cdist10[\"G\"]+cdist10[\"G_CR\"], cdist10[\"temp\"],cdist10[\"new_xe\"], cdist10[\"zminmax\"], fdist10\n",
    "nH50, Gtot50, temp50, xe50, zminmax50, fdist50             = cdist50[\"nH\"], cdist50[\"G\"]+cdist50[\"G_CR\"], cdist50[\"temp\"],cdist50[\"new_xe\"], cdist50[\"zminmax\"], cdist50[\"fdist\"]\n",
    "nH100, Gtot100, temp100, xe100, zminmax100, fdist100       = cdist100[\"nH\"], cdist100[\"G\"]+cdist100[\"G_CR\"], cdist100[\"temp\"],cdist100[\"new_xe\"], cdist100[\"zminmax\"], cdist100[\"fdist\"]\n",
    "nH500, Gtot500, temp500, xe500, zminmax500, fdist500       = cdist500[\"nH\"], cdist500[\"G\"]+cdist500[\"G_CR\"], cdist500[\"temp\"],cdist500[\"new_xe\"], cdist500[\"zminmax\"], cdist500[\"fdist\"]\n",
    "nH1000, Gtot1000, temp1000, xe1000, zminmax1000, fdist1000 = cdist1000[\"nH\"], cdist1000[\"G\"]+cdist1000[\"G_CR\"], cdist1000[\"temp\"],cdist1000[\"new_xe\"], cdist1000[\"zminmax\"], cdist1000[\"fdist\"]"
   ]
  },
  {
   "cell_type": "code",
   "execution_count": 7,
   "metadata": {
    "collapsed": false
   },
   "outputs": [],
   "source": [
    "netHeat3 = Full_netHeating(3.5, grain_type, nH3, Gtot3, temp3, xe3, zminmax3, fdist3, Qabs3)\n",
    "netHeat5 = Full_netHeating(5., grain_type, nH5, Gtot5, temp5, xe5, zminmax5, fdist5, Qabs5)\n",
    "netHeat10 = Full_netHeating(10., grain_type, nH10, Gtot10, temp10, xe10, zminmax10, fdist10, Qabs10)\n",
    "netHeat50 = Full_netHeating(50., grain_type, nH50, Gtot50, temp50, xe50, zminmax50, fdist50, Qabs50)\n",
    "netHeat100 = Full_netHeating(100., grain_type, nH100, Gtot100, temp100, xe100, zminmax100, fdist100, Qabs100)\n",
    "netHeat500 = Full_netHeating(500., grain_type, nH500, Gtot500, temp500, xe500, zminmax500, fdist500, Qabs500)\n",
    "netHeat1000 = Full_netHeating(1000., grain_type, nH1000, Gtot1000, temp1000, xe1000, zminmax1000, fdist1000, Qabs1000)"
   ]
  },
  {
   "cell_type": "markdown",
   "metadata": {
    "collapsed": true
   },
   "source": [
    "#### Now parametric heating:"
   ]
  },
  {
   "cell_type": "code",
   "execution_count": 8,
   "metadata": {
    "collapsed": true
   },
   "outputs": [],
   "source": [
    "import parametric_PeHeat as peHpar"
   ]
  },
  {
   "cell_type": "code",
   "execution_count": 9,
   "metadata": {
    "collapsed": false
   },
   "outputs": [],
   "source": [
    "netHeat3_par,netHeat5_par,netHeat10_par,netHeat50_par = np.zeros_like(Gtot3), np.zeros_like(Gtot3), np.zeros_like(Gtot3), np.zeros_like(Gtot3)\n",
    "netHeat100_par = np.zeros_like(Gtot3)\n",
    "\n",
    "for i in range(85943):\n",
    "    netHeat3_par[i]    = peHpar.get_Gamma_dot_par(Gtot3[i],    temp3[i],    nH3[i]*xe3[i],         3.5, grain_type)\n",
    "    netHeat5_par[i]    = peHpar.get_Gamma_dot_par(Gtot5[i],    temp5[i],    nH5[i]*xe5[i],          5., grain_type)\n",
    "    netHeat10_par[i]   = peHpar.get_Gamma_dot_par(Gtot10[i],   temp10[i],   nH10[i]*xe10[i],       10., grain_type)\n",
    "    netHeat50_par[i]   = peHpar.get_Gamma_dot_par(Gtot50[i],   temp50[i],   nH50[i]*xe50[i],       50., grain_type)\n",
    "    netHeat100_par[i]  = peHpar.get_Gamma_dot_par(Gtot100[i],  temp100[i],  nH100[i]*xe100[i],    100., grain_type)\n"
   ]
  },
  {
   "cell_type": "code",
   "execution_count": 10,
   "metadata": {
    "collapsed": true
   },
   "outputs": [],
   "source": [
    "netHeat500_par,netHeat1000_par = np.zeros_like(Gtot500), np.zeros_like(Gtot1000)\n",
    "\n",
    "for i in range(len(Gtot500)):\n",
    "    netHeat500_par[i]  = peHpar.get_Gamma_dot_par(Gtot500[i],  temp500[i],  nH500[i]*xe500[i],    500., grain_type)\n",
    "for i in range(len(Gtot1000)):\n",
    "    netHeat1000_par[i] = peHpar.get_Gamma_dot_par(Gtot1000[i], temp1000[i], nH1000[i]*xe1000[i], 1000., grain_type)"
   ]
  },
  {
   "cell_type": "code",
   "execution_count": 11,
   "metadata": {
    "collapsed": false
   },
   "outputs": [],
   "source": [
    "# Compute relative error\n",
    "relerror3    = np.percentile((np.abs(netHeat3    - netHeat3_par)    / netHeat3), [25,50,75])*100\n",
    "relerror5    = np.percentile((np.abs(netHeat5    - netHeat5_par)    / netHeat5), [25,50,75])*100\n",
    "relerror10   = np.percentile((np.abs(netHeat10   - netHeat10_par)   / netHeat10), [25,50,75])*100\n",
    "relerror50   = np.percentile((np.abs(netHeat50   - netHeat50_par)   / netHeat50), [25,50,75])*100\n",
    "relerror100  = np.percentile((np.abs(netHeat100  - netHeat100_par)  / netHeat100), [25,50,75])*100\n",
    "relerror500  = np.percentile((np.abs(netHeat500  - netHeat500_par)  / netHeat500), [25,50,75])*100\n",
    "relerror1000 = np.percentile((np.abs(netHeat1000 - netHeat1000_par) / netHeat1000), [25,50,75])*100"
   ]
  },
  {
   "cell_type": "code",
   "execution_count": 12,
   "metadata": {
    "collapsed": false
   },
   "outputs": [
    {
     "name": "stdout",
     "output_type": "stream",
     "text": [
      "(1.1130499452718188e-21, 4.4034835838779013e-22)\n"
     ]
    }
   ],
   "source": [
    "print(netHeat3[0], netHeat3_par[0])"
   ]
  },
  {
   "cell_type": "code",
   "execution_count": 13,
   "metadata": {
    "collapsed": false
   },
   "outputs": [
    {
     "data": {
      "text/plain": [
       "u'/home/jcibanezm/codes/PeHeat_Paper'"
      ]
     },
     "execution_count": 13,
     "metadata": {},
     "output_type": "execute_result"
    }
   ],
   "source": [
    "pwd"
   ]
  },
  {
   "cell_type": "code",
   "execution_count": 14,
   "metadata": {
    "collapsed": false
   },
   "outputs": [
    {
     "name": "stdout",
     "output_type": "stream",
     "text": [
      "\n",
      " Relative error table\n",
      "3.5 \t & 42.7 \t & 61.0 \t & 71.2\n",
      "5 \t & 7.6 \t & 12.4 \t & 21.0\n",
      "10 \t & 2.7 \t & 6.3 \t & 9.9\n",
      "50 \t & 3.6 \t & 10.4 \t & 19.2\n",
      "100 \t & 5.2 \t & 11.3 \t & 24.6\n",
      "500 \t & 10.1 \t & 13.5 \t & 16.8\n",
      "1000 \t & 2.8 \t & 4.8 \t & 17.7\n"
     ]
    }
   ],
   "source": [
    "# Print table\n",
    "print(\"\")\n",
    "print(\" Relative error table\")\n",
    "print(\"3.5 \\t & %.1f \\t & %.1f \\t & %.1f\"%(relerror3[0],     relerror3[1], relerror3[2]))\n",
    "print(\"5 \\t & %.1f \\t & %.1f \\t & %.1f\"%(  relerror5[0],     relerror5[1], relerror5[2]))\n",
    "print(\"10 \\t & %.1f \\t & %.1f \\t & %.1f\"%( relerror10[0],    relerror10[1], relerror10[2]))\n",
    "print(\"50 \\t & %.1f \\t & %.1f \\t & %.1f\"%( relerror50[0],    relerror50[1], relerror50[2]))\n",
    "print(\"100 \\t & %.1f \\t & %.1f \\t & %.1f\"%(relerror100[0],   relerror100[1], relerror100[2]))\n",
    "print(\"500 \\t & %.1f \\t & %.1f \\t & %.1f\"%(relerror500[0],   relerror500[1], relerror500[2]))\n",
    "print(\"1000 \\t & %.1f \\t & %.1f \\t & %.1f\"%(relerror1000[0], relerror1000[1], relerror1000[2]))"
   ]
  },
  {
   "cell_type": "code",
   "execution_count": 116,
   "metadata": {
    "collapsed": false
   },
   "outputs": [
    {
     "data": {
      "image/png": "[encoded data removed]",
      "text/plain": [
       "<matplotlib.figure.Figure at 0x7fbe3354cc90>"
      ]
     },
     "metadata": {},
     "output_type": "display_data"
    }
   ],
   "source": [
    "fig = plt.figure(figsize=(8,8))\n",
    "ax = fig.add_axes([0.14, 0.11, 0.85, 0.84])\n",
    "from matplotlib.ticker import MaxNLocator\n",
    "def format_func(value, tick_number):\n",
    "    return \"10$^{%i}$\"%value\n",
    "\n",
    "ax.hist2d(np.log10(netHeat3), np.log10(netHeat3_par*1.3),weights=temp3, bins=100, norm=LogNorm(), cmap=\"inferno\")\n",
    "ax.plot([-25, -15],[-25, -15], \"-k\", linewidth=2)\n",
    "#ax.set_ylabel(\"T [K]\", fontsize=25)\n",
    "#\n",
    "ax.tick_params(axis='both', which='major', length=10, width=2,  labelsize=20, direction=\"in\")\n",
    "ax.tick_params(axis='both', which='minor', length=5, width=1.5, labelsize=20, direction=\"in\")\n",
    "\n",
    "#ax.set_ylim(-0.9, 4.99)\n",
    "ax.set_ylabel(\"parametric\", fontsize=25)\n",
    "ax.set_xlabel(\"Full\", fontsize=25)\n",
    "\n",
    "ax.xaxis.set_major_locator(MaxNLocator(integer=True))\n",
    "ax.yaxis.set_major_locator(MaxNLocator(integer=True))\n",
    "ax.xaxis.set_major_formatter(plt.FuncFormatter(format_func))\n",
    "ax.yaxis.set_major_formatter(plt.FuncFormatter(format_func))\n",
    "\n",
    "#ax.set_yscale(\"log\")\n",
    "fig.show()\n"
   ]
  },
  {
   "cell_type": "markdown",
   "metadata": {},
   "source": [
    "---\n",
    "# Now for carbonaceous"
   ]
  },
  {
   "cell_type": "code",
   "execution_count": 106,
   "metadata": {
    "collapsed": false
   },
   "outputs": [
    {
     "name": "stdout",
     "output_type": "stream",
     "text": [
      "I'm looking for a grain size smaller than 10 Angstrom. Outside the tabulated data!!!\n",
      "Using the absorption efficiency for a 10 AA grain\n",
      "I'm looking for a grain size smaller than 10 Angstrom. Outside the tabulated data!!!\n",
      "Using the absorption efficiency for a 10 AA grain\n"
     ]
    }
   ],
   "source": [
    "#grain_type = \"silicate\"\n",
    "grain_type = \"carbonaceous\"\n",
    "\n",
    "########################################################################################\n",
    "pcent      = 1\n",
    "grain_size = 3\n",
    "\n",
    "save_dir = \"/home/jcibanezm/Dropbox/codes/run/ChargeStatisticsAnalysis/Daikaiju\"\n",
    "filename = \"fz_%.4iAA_%s_CR_True_%i_pcent.pkl\"%(grain_size, grain_type, pcent) \n",
    "\n",
    "pkl_file    = open(\"%s/%s\"%(save_dir, filename), \"rb\")\n",
    "cdist3 = pickle.load(pkl_file)\n",
    "pkl_file.close\n",
    "\n",
    "Qabs3 = fz.get_QabsTable(grain_type, grain_size)\n",
    "\n",
    "########################################################################################\n",
    "pcent      = 1\n",
    "grain_size = 5\n",
    "\n",
    "save_dir = \"/home/jcibanezm/Dropbox/codes/run/ChargeStatisticsAnalysis/Daikaiju\"\n",
    "filename = \"fz_%.4iAA_%s_CR_True_%i_pcent.pkl\"%(grain_size, grain_type, pcent) \n",
    "\n",
    "pkl_file    = open(\"%s/%s\"%(save_dir, filename), \"rb\")\n",
    "cdist5 = pickle.load(pkl_file)\n",
    "pkl_file.close\n",
    "\n",
    "Qabs5 = fz.get_QabsTable(grain_type, grain_size)\n",
    "\n",
    "########################################################################################\n",
    "pcent      = 1\n",
    "grain_size = 10\n",
    "\n",
    "save_dir = \"/home/jcibanezm/Dropbox/codes/run/ChargeStatisticsAnalysis/Daikaiju\"\n",
    "filename = \"fz_%.4iAA_%s_CR_True_%i_pcent.pkl\"%(grain_size, grain_type, pcent) \n",
    "\n",
    "pkl_file    = open(\"%s/%s\"%(save_dir, filename), \"rb\")\n",
    "cdist10 = pickle.load(pkl_file)\n",
    "pkl_file.close\n",
    "\n",
    "Qabs10 = fz.get_QabsTable(grain_type, grain_size)\n",
    "\n",
    "########################################################################################\n",
    "pcent      = 1\n",
    "grain_size = 50\n",
    "\n",
    "save_dir = \"/home/jcibanezm/Dropbox/codes/run/ChargeStatisticsAnalysis/Daikaiju\"\n",
    "filename = \"fz_%.4iAA_%s_CR_True_%i_pcent.pkl\"%(grain_size, grain_type, pcent) \n",
    "\n",
    "pkl_file    = open(\"%s/%s\"%(save_dir, filename), \"rb\")\n",
    "cdist50 = pickle.load(pkl_file)\n",
    "pkl_file.close\n",
    "\n",
    "Qabs50 = fz.get_QabsTable(grain_type, grain_size)\n",
    "\n",
    "########################################################################################\n",
    "pcent      = 1\n",
    "grain_size = 100\n",
    "\n",
    "save_dir = \"/home/jcibanezm/Dropbox/codes/run/ChargeStatisticsAnalysis/Daikaiju\"\n",
    "filename = \"fz_%.4iAA_%s_CR_True_%i_pcent.pkl\"%(grain_size, grain_type, pcent) \n",
    "\n",
    "pkl_file    = open(\"%s/%s\"%(save_dir, filename), \"rb\")\n",
    "cdist100 = pickle.load(pkl_file)\n",
    "pkl_file.close\n",
    "\n",
    "Qabs100 = fz.get_QabsTable(grain_type, grain_size)\n",
    "\n",
    "########################################################################################\n",
    "pcent      = 0.1\n",
    "grain_size = 500\n",
    "\n",
    "save_dir = \"/home/jcibanezm/Dropbox/codes/run/ChargeStatisticsAnalysis/Daikaiju\"\n",
    "filename = \"fz_%.4iAA_%s_CR_True_%i_pcent.pkl\"%(grain_size, grain_type, pcent) \n",
    "\n",
    "pkl_file    = open(\"%s/%s\"%(save_dir, filename), \"rb\")\n",
    "cdist500 = pickle.load(pkl_file)\n",
    "pkl_file.close\n",
    "\n",
    "Qabs500 = fz.get_QabsTable(grain_type, grain_size)\n",
    "\n",
    "########################################################################################\n",
    "pcent      = 0.1\n",
    "grain_size = 1000\n",
    "\n",
    "save_dir = \"/home/jcibanezm/Dropbox/codes/run/ChargeStatisticsAnalysis/Daikaiju\"\n",
    "filename = \"fz_%.4iAA_%s_CR_True_%i_pcent.pkl\"%(grain_size, grain_type, pcent) \n",
    "\n",
    "pkl_file    = open(\"%s/%s\"%(save_dir, filename), \"rb\")\n",
    "cdist1000 = pickle.load(pkl_file)\n",
    "pkl_file.close\n",
    "\n",
    "Qabs1000 = fz.get_QabsTable(grain_type, grain_size)"
   ]
  },
  {
   "cell_type": "code",
   "execution_count": 107,
   "metadata": {
    "collapsed": true
   },
   "outputs": [],
   "source": [
    "fdist3 = index_fz(len(cdist3[\"nH\"]), cdist3[\"zminmax\"], cdist3[\"fdist\"])\n",
    "fdist5 = index_fz(len(cdist5[\"nH\"]), cdist5[\"zminmax\"], cdist5[\"fdist\"])\n",
    "fdist10 = index_fz(len(cdist10[\"nH\"]), cdist10[\"zminmax\"], cdist10[\"fdist\"])"
   ]
  },
  {
   "cell_type": "code",
   "execution_count": 108,
   "metadata": {
    "collapsed": true
   },
   "outputs": [],
   "source": [
    "nH3, Gtot3, temp3, xe3, zminmax3, fdist3                   = cdist3[\"nH\"], cdist3[\"G\"]+cdist3[\"G_CR\"], cdist3[\"temp\"],cdist3[\"new_xe\"], cdist3[\"zminmax\"], fdist3\n",
    "nH5, Gtot5, temp5, xe5, zminmax5, fdist5                   = cdist5[\"nH\"], cdist5[\"G\"]+cdist5[\"G_CR\"], cdist5[\"temp\"],cdist5[\"new_xe\"], cdist5[\"zminmax\"], fdist5\n",
    "nH10, Gtot10, temp10, xe10, zminmax10, fdist10             = cdist10[\"nH\"], cdist10[\"G\"]+cdist10[\"G_CR\"], cdist10[\"temp\"],cdist10[\"new_xe\"], cdist10[\"zminmax\"], fdist10\n",
    "nH50, Gtot50, temp50, xe50, zminmax50, fdist50             = cdist50[\"nH\"], cdist50[\"G\"]+cdist50[\"G_CR\"], cdist50[\"temp\"],cdist50[\"new_xe\"], cdist50[\"zminmax\"], cdist50[\"fdist\"]\n",
    "nH100, Gtot100, temp100, xe100, zminmax100, fdist100       = cdist100[\"nH\"], cdist100[\"G\"]+cdist100[\"G_CR\"], cdist100[\"temp\"],cdist100[\"new_xe\"], cdist100[\"zminmax\"], cdist100[\"fdist\"]\n",
    "nH500, Gtot500, temp500, xe500, zminmax500, fdist500       = cdist500[\"nH\"], cdist500[\"G\"]+cdist500[\"G_CR\"], cdist500[\"temp\"],cdist500[\"new_xe\"], cdist500[\"zminmax\"], cdist500[\"fdist\"]\n",
    "nH1000, Gtot1000, temp1000, xe1000, zminmax1000, fdist1000 = cdist1000[\"nH\"], cdist1000[\"G\"]+cdist1000[\"G_CR\"], cdist1000[\"temp\"],cdist1000[\"new_xe\"], cdist1000[\"zminmax\"], cdist1000[\"fdist\"]"
   ]
  },
  {
   "cell_type": "code",
   "execution_count": 109,
   "metadata": {
    "collapsed": true
   },
   "outputs": [],
   "source": [
    "netHeat3 = Full_netHeating(3.5, grain_type, nH3, Gtot3, temp3, xe3, zminmax3, fdist3, Qabs3)\n",
    "netHeat5 = Full_netHeating(5., grain_type, nH5, Gtot5, temp5, xe5, zminmax5, fdist5, Qabs5)\n",
    "netHeat10 = Full_netHeating(10., grain_type, nH10, Gtot10, temp10, xe10, zminmax10, fdist10, Qabs10)\n",
    "netHeat50 = Full_netHeating(50., grain_type, nH50, Gtot50, temp50, xe50, zminmax50, fdist50, Qabs50)\n",
    "netHeat100 = Full_netHeating(100., grain_type, nH100, Gtot100, temp100, xe100, zminmax100, fdist100, Qabs100)\n",
    "netHeat500 = Full_netHeating(500., grain_type, nH500, Gtot500, temp500, xe500, zminmax500, fdist500, Qabs500)\n",
    "netHeat1000 = Full_netHeating(1000., grain_type, nH1000, Gtot1000, temp1000, xe1000, zminmax1000, fdist1000, Qabs1000)"
   ]
  },
  {
   "cell_type": "code",
   "execution_count": 110,
   "metadata": {
    "collapsed": true
   },
   "outputs": [],
   "source": [
    "netHeat3_par,netHeat5_par,netHeat10_par,netHeat50_par = np.zeros_like(Gtot3), np.zeros_like(Gtot3), np.zeros_like(Gtot3), np.zeros_like(Gtot3)\n",
    "netHeat100_par,netHeat500_par,netHeat1000_par = np.zeros_like(Gtot3), np.zeros_like(Gtot500), np.zeros_like(Gtot1000)\n",
    "\n",
    "for i in range(85943):\n",
    "    netHeat3_par[i]    = peHpar.get_Gamma_dot_par(Gtot3[i],    temp3[i],    nH3[i]*xe3[i],         3.5, grain_type)\n",
    "    netHeat5_par[i]    = peHpar.get_Gamma_dot_par(Gtot5[i],    temp5[i],    nH5[i]*xe5[i],          5., grain_type)\n",
    "    netHeat10_par[i]   = peHpar.get_Gamma_dot_par(Gtot10[i],   temp10[i],   nH10[i]*xe10[i],       10., grain_type)\n",
    "    netHeat50_par[i]   = peHpar.get_Gamma_dot_par(Gtot50[i],   temp50[i],   nH50[i]*xe50[i],       50., grain_type)\n",
    "    netHeat100_par[i]  = peHpar.get_Gamma_dot_par(Gtot100[i],  temp100[i],  nH100[i]*xe100[i],    100., grain_type)\n",
    "\n",
    "for i in range(len(Gtot500)):\n",
    "    netHeat500_par[i]  = peHpar.get_Gamma_dot_par(Gtot500[i],  temp500[i],  nH500[i]*xe500[i],    500., grain_type)\n",
    "for i in range(len(Gtot1000)):\n",
    "    netHeat1000_par[i] = peHpar.get_Gamma_dot_par(Gtot1000[i], temp1000[i], nH1000[i]*xe1000[i], 1000., grain_type)"
   ]
  },
  {
   "cell_type": "code",
   "execution_count": 111,
   "metadata": {
    "collapsed": true
   },
   "outputs": [],
   "source": [
    "differror3    = (netHeat3    - netHeat3_par)    / netHeat3\n",
    "differror5    = (netHeat5    - netHeat5_par)    / netHeat5\n",
    "differror10   = (netHeat10   - netHeat10_par)   / netHeat10\n",
    "differror50   = (netHeat50   - netHeat50_par)   / netHeat50\n",
    "differror100  = (netHeat100  - netHeat100_par)  / netHeat100\n",
    "differror500  = (netHeat500  - netHeat500_par)  / netHeat500\n",
    "differror1000 = (netHeat1000 - netHeat1000_par) / netHeat1000"
   ]
  },
  {
   "cell_type": "code",
   "execution_count": 112,
   "metadata": {
    "collapsed": true
   },
   "outputs": [],
   "source": [
    "%matplotlib inline"
   ]
  },
  {
   "cell_type": "code",
   "execution_count": 113,
   "metadata": {
    "collapsed": false
   },
   "outputs": [
    {
     "name": "stdout",
     "output_type": "stream",
     "text": [
      "4.62276125022e-21\n",
      "3.24563920863e-21\n"
     ]
    }
   ],
   "source": [
    "print(netHeat3[39379])\n",
    "print(netHeat3_par[39379])"
   ]
  },
  {
   "cell_type": "code",
   "execution_count": 106,
   "metadata": {
    "collapsed": false
   },
   "outputs": [
    {
     "name": "stdout",
     "output_type": "stream",
     "text": [
      "39379\n",
      "59225\n"
     ]
    }
   ],
   "source": [
    "print(np.argmax(differror3))\n",
    "print(np.argmin(differror3))"
   ]
  },
  {
   "cell_type": "code",
   "execution_count": 109,
   "metadata": {
    "collapsed": false
   },
   "outputs": [
    {
     "data": {
      "text/plain": [
       "3988.6768766539421"
      ]
     },
     "execution_count": 109,
     "metadata": {},
     "output_type": "execute_result"
    }
   ],
   "source": [
    "Gtot3[39379]*np.sqrt(temp3[39379])/(nH3[39379]*xe3[39379])"
   ]
  },
  {
   "cell_type": "code",
   "execution_count": 116,
   "metadata": {
    "collapsed": false
   },
   "outputs": [
    {
     "name": "stdout",
     "output_type": "stream",
     "text": [
      "[  3.12366047e-06   1.70117347e-02   7.29978221e-01   2.46801460e-01]\n"
     ]
    }
   ],
   "source": [
    "zc = fzpar.get_zcent(Gtot3[39379], temp3[39379], nH3[39379]*xe3[39379], 'carbonaceous', 3.5)\n",
    "zw = fzpar.get_zwidth(3.5, 'carbonaceous', zc)\n",
    "zzz = np.arange(np.floor(zc-3*zw), np.ceil(zc+3*zw))\n",
    "chargedist = 1./(np.sqrt(2.*np.pi)*zw)*np.exp(-0.5*(zc-zzz)**2/zw**2)\n",
    "print(chargedist)"
   ]
  },
  {
   "cell_type": "code",
   "execution_count": 119,
   "metadata": {
    "collapsed": false
   },
   "outputs": [
    {
     "data": {
      "text/plain": [
       "[0.02635913205139024,\n",
       " 0.63825004571734634,\n",
       " 0.33068515824469613,\n",
       " 0.0047056639865673969]"
      ]
     },
     "execution_count": 119,
     "metadata": {},
     "output_type": "execute_result"
    }
   ],
   "source": [
    "fdist3[39379]"
   ]
  },
  {
   "cell_type": "code",
   "execution_count": 126,
   "metadata": {
    "collapsed": false
   },
   "outputs": [
    {
     "name": "stdout",
     "output_type": "stream",
     "text": [
      "(-1.0, 2.0)\n"
     ]
    }
   ],
   "source": [
    "print(cdist3[\"zminmax\"][2*39379], cdist3[\"zminmax\"][2*39379+1])"
   ]
  },
  {
   "cell_type": "code",
   "execution_count": 124,
   "metadata": {
    "collapsed": false
   },
   "outputs": [
    {
     "name": "stdout",
     "output_type": "stream",
     "text": [
      "[-2. -1.  0.  1.]\n"
     ]
    }
   ],
   "source": [
    "print(zzz)"
   ]
  },
  {
   "cell_type": "code",
   "execution_count": 130,
   "metadata": {
    "collapsed": false
   },
   "outputs": [
    {
     "data": {
      "text/plain": [
       "[<matplotlib.lines.Line2D at 0x7f59eea30810>]"
      ]
     },
     "execution_count": 130,
     "metadata": {},
     "output_type": "execute_result"
    },
    {
     "data": {
      "image/png": "[encoded data removed]",
      "text/plain": [
       "<matplotlib.figure.Figure at 0x7f59eea306d0>"
      ]
     },
     "metadata": {},
     "output_type": "display_data"
    }
   ],
   "source": [
    "plt.plot(np.arange(-1, 3), fdist3[39379], \"-k\", linestyle=\"steps\")\n",
    "plt.plot(zzz, chargedist, \"-r\", linestyle=\"steps\")"
   ]
  },
  {
   "cell_type": "code",
   "execution_count": 151,
   "metadata": {
    "collapsed": false
   },
   "outputs": [
    {
     "name": "stdout",
     "output_type": "stream",
     "text": [
      "I'm looking for a grain size smaller than 10 Angstrom. Outside the tabulated data!!!\n",
      "Using the absorption efficiency for a 10 AA grain\n"
     ]
    }
   ],
   "source": [
    "# Plot, full calculation of photoelectric heating\n",
    "PeHeat_par = peHpar.get_Gamma_dotdot_par(3.5, Gtot3[39379], zzz , \"carbonaceous\")\n",
    "PeHeat_par = np.concatenate(([PeHeat_par[0]], PeHeat_par))\n",
    "zz2 = np.concatenate(([zzz[0]-1], zzz))\n",
    "# plot parametric equation of photoelectric heating\n",
    "Qabs = fz.get_QabsTable(\"carbonaceous\", 3.5)\n",
    "PeHeat_tot = np.zeros_like(np.arange(-1,3), dtype=np.float)\n",
    "ZZtot = np.arange(-1,3)\n",
    "for i in range(len(PeHeat_tot)):\n",
    "    PeHeat_tot[i] = peh.get_Gamma_pe_dotdot(3.5, ZZtot[i], \"carbonaceous\", cdist3[\"Ntot\"][39379], Qabs)\n",
    "PeHeat_tot = np.concatenate(([PeHeat_tot[0]], PeHeat_tot))\n",
    "ZZtot = np.concatenate(([ZZtot[0]-1], ZZtot))"
   ]
  },
  {
   "cell_type": "code",
   "execution_count": 148,
   "metadata": {
    "collapsed": false
   },
   "outputs": [
    {
     "name": "stdout",
     "output_type": "stream",
     "text": [
      "[  5.07833652e-20   5.01587581e-21   2.08476500e-22   0.00000000e+00]\n"
     ]
    }
   ],
   "source": [
    "print(PeHeat_tot)"
   ]
  },
  {
   "cell_type": "code",
   "execution_count": 137,
   "metadata": {
    "collapsed": false
   },
   "outputs": [
    {
     "data": {
      "text/plain": [
       "array([-19.1728342 , -19.79810272, -20.42337124, -21.04863975])"
      ]
     },
     "execution_count": 137,
     "metadata": {},
     "output_type": "execute_result"
    }
   ],
   "source": [
    "np.log10(PeHeat_par)"
   ]
  },
  {
   "cell_type": "code",
   "execution_count": 152,
   "metadata": {
    "collapsed": false
   },
   "outputs": [
    {
     "name": "stderr",
     "output_type": "stream",
     "text": [
      "/home/jcibanezm/codes/libs/miniconda3/lib/python2.7/site-packages/ipykernel/__main__.py:2: RuntimeWarning: divide by zero encountered in log10\n",
      "  from ipykernel import kernelapp as app\n"
     ]
    },
    {
     "data": {
      "text/plain": [
       "[<matplotlib.lines.Line2D at 0x7f59ee649210>]"
      ]
     },
     "execution_count": 152,
     "metadata": {},
     "output_type": "execute_result"
    },
    {
     "data": {
      "image/png": "[encoded data removed]",
      "text/plain": [
       "<matplotlib.figure.Figure at 0x7f59ee6493d0>"
      ]
     },
     "metadata": {},
     "output_type": "display_data"
    }
   ],
   "source": [
    "plt.plot(zz2+0.5, np.log10(PeHeat_par), \"-r\", linestyle=\"steps\")\n",
    "plt.plot(ZZtot+0.5, np.log10(PeHeat_tot), \"-k\", linestyle=\"steps\")"
   ]
  },
  {
   "cell_type": "code",
   "execution_count": 204,
   "metadata": {
    "collapsed": false
   },
   "outputs": [
    {
     "name": "stdout",
     "output_type": "stream",
     "text": [
      "('Total = ', 4.6089284747242838e-21)\n",
      "('Param = ', 4.543699869906907e-21)\n",
      "('error = ', 1.415266155139864)\n"
     ]
    }
   ],
   "source": [
    "Heat_tot = np.sum(fdist3[39379]*PeHeat_tot[1:len(PeHeat_tot)])\n",
    "Heat_par = np.sum(chargedist*PeHeat_par[1:len(PeHeat_par)])*1.4\n",
    "print(\"Total = \", Heat_tot)\n",
    "print(\"Param = \", Heat_par)\n",
    "print(\"error = \", (Heat_tot - Heat_par)/Heat_tot*100)"
   ]
  },
  {
   "cell_type": "code",
   "execution_count": 205,
   "metadata": {
    "collapsed": true
   },
   "outputs": [],
   "source": [
    "# Cooling\n",
    "Cool_par = peHpar.Cooling_par(3.5, Gtot3[39379],temp3[39379], nH3[39379]*xe3[39379])*1.85\n",
    "Cool_tot = peh.Cool_per_Grain(3.5, \"carbonaceous\", np.arange(-1, 3), fdist3[39379], nH3[39379], xe3[39379], temp3[39379])"
   ]
  },
  {
   "cell_type": "code",
   "execution_count": 206,
   "metadata": {
    "collapsed": false
   },
   "outputs": [
    {
     "name": "stdout",
     "output_type": "stream",
     "text": [
      "('Cool tot = ', 4.625362782316994e-21)\n",
      "('Cool par = ', 4.6564277204138722e-21)\n",
      "('error    = ', -0.67162165561674825)\n"
     ]
    }
   ],
   "source": [
    "print(\"Cool tot = \", Cool_tot)\n",
    "print(\"Cool par = \", Cool_par)\n",
    "print(\"error    = \", (Cool_tot-Cool_par)/Cool_tot*100)"
   ]
  },
  {
   "cell_type": "code",
   "execution_count": 208,
   "metadata": {
    "collapsed": false
   },
   "outputs": [
    {
     "name": "stdout",
     "output_type": "stream",
     "text": [
      "('NetHeating tot = ', -1.6434307592710197e-23)\n",
      "('NetHeating par = ', -8.1662912410086942e-23)\n",
      "('error          = ', -396.90509897910363)\n"
     ]
    }
   ],
   "source": [
    "netHeat_tot = Heat_tot - Cool_tot\n",
    "#netHeat_par = Heat_par - Cool_par*1.295\n",
    "netHeat_par = Heat_par - Cool_tot\n",
    "print(\"NetHeating tot = \", netHeat_tot)\n",
    "print(\"NetHeating par = \", netHeat_par)\n",
    "print(\"error          = \", (netHeat_tot-netHeat_par)/netHeat_tot*100)"
   ]
  },
  {
   "cell_type": "markdown",
   "metadata": {},
   "source": [
    "---"
   ]
  },
  {
   "cell_type": "code",
   "execution_count": null,
   "metadata": {
    "collapsed": true
   },
   "outputs": [],
   "source": [
    "# Check where the calculation is more problematic:\n",
    "# Molecular phase\n",
    "# Cold phase\n",
    "# Warm phase\n",
    "\n"
   ]
  },
  {
   "cell_type": "markdown",
   "metadata": {},
   "source": [
    "---"
   ]
  },
  {
   "cell_type": "code",
   "execution_count": 110,
   "metadata": {
    "collapsed": false
   },
   "outputs": [
    {
     "data": {
      "text/plain": [
       "8376.5965960930262"
      ]
     },
     "execution_count": 110,
     "metadata": {},
     "output_type": "execute_result"
    }
   ],
   "source": [
    "Gtot3[59225]*np.sqrt(temp3[59225])/(nH3[59225]*xe3[59225])"
   ]
  },
  {
   "cell_type": "code",
   "execution_count": 112,
   "metadata": {
    "collapsed": false
   },
   "outputs": [
    {
     "name": "stdout",
     "output_type": "stream",
     "text": [
      "-255.969115399\n"
     ]
    }
   ],
   "source": [
    "print(differror3[59225])"
   ]
  },
  {
   "cell_type": "code",
   "execution_count": 114,
   "metadata": {
    "collapsed": false
   },
   "outputs": [
    {
     "name": "stdout",
     "output_type": "stream",
     "text": [
      "1.03547173505e-23\n",
      "2.66084255777e-21\n"
     ]
    }
   ],
   "source": [
    "print(netHeat3[59225])\n",
    "print(netHeat3_par[59225])"
   ]
  },
  {
   "cell_type": "code",
   "execution_count": 104,
   "metadata": {
    "collapsed": false
   },
   "outputs": [
    {
     "data": {
      "image/png": "[encoded data removed]",
      "text/plain": [
       "<matplotlib.figure.Figure at 0x7f59f02f7090>"
      ]
     },
     "metadata": {},
     "output_type": "display_data"
    }
   ],
   "source": [
    "fig = plt.figure(figsize=(20,20))\n",
    "\n",
    "ax = fig.add_subplot(111)\n",
    "ax.hist(differror3, bins=50, range=[-200, 200])\n",
    "ax.set_yscale(\"log\")\n",
    "\n",
    "ax.set_xlim(-200, 200)\n",
    "\n",
    "fig.show()"
   ]
  },
  {
   "cell_type": "code",
   "execution_count": 100,
   "metadata": {
    "collapsed": false
   },
   "outputs": [
    {
     "data": {
      "image/png": "[encoded data removed]",
      "text/plain": [
       "<matplotlib.figure.Figure at 0x7f59f4a20a10>"
      ]
     },
     "metadata": {},
     "output_type": "display_data"
    }
   ],
   "source": [
    "fig = plt.figure(figsize=(20,20))\n",
    "\n",
    "ax = fig.add_subplot(331)\n",
    "ax.hist(np.log10(abs(differror3)*100), bins=20)\n",
    "ax.set_yscale(\"log\")\n",
    "\n",
    "ax = fig.add_subplot(332)\n",
    "ax.hist(np.log10(abs(differror5)*100), bins=20)\n",
    "ax.set_yscale(\"log\")\n",
    "\n",
    "ax = fig.add_subplot(333)\n",
    "ax.hist(np.log10(abs(differror10)*100), bins=20)\n",
    "ax.set_yscale(\"log\")\n",
    "\n",
    "ax = fig.add_subplot(334)\n",
    "ax.hist(np.log10(abs(differror50)*100), bins=20)\n",
    "ax.set_yscale(\"log\")\n",
    "\n",
    "ax = fig.add_subplot(335)\n",
    "ax.hist(np.log10(abs(differror100)*100), bins=20)\n",
    "ax.set_yscale(\"log\")\n",
    "\n",
    "ax = fig.add_subplot(336)\n",
    "ax.hist(np.log10(abs(differror500)*100), bins=20)\n",
    "ax.set_yscale(\"log\")\n",
    "\n",
    "\n",
    "fig.show()"
   ]
  },
  {
   "cell_type": "code",
   "execution_count": 114,
   "metadata": {
    "collapsed": false
   },
   "outputs": [
    {
     "ename": "ValueError",
     "evalue": "The weights and list don't have the same length.",
     "output_type": "error",
     "traceback": [
      "\u001b[0;31m---------------------------------------------------------------------------\u001b[0m",
      "\u001b[0;31mValueError\u001b[0m                                Traceback (most recent call last)",
      "\u001b[0;32m<ipython-input-114-8868c11f305f>\u001b[0m in \u001b[0;36m<module>\u001b[0;34m()\u001b[0m\n\u001b[1;32m     76\u001b[0m \u001b[0;34m\u001b[0m\u001b[0m\n\u001b[1;32m     77\u001b[0m \u001b[0max\u001b[0m \u001b[0;34m=\u001b[0m \u001b[0mfig\u001b[0m\u001b[0;34m.\u001b[0m\u001b[0madd_subplot\u001b[0m\u001b[0;34m(\u001b[0m\u001b[0;36m326\u001b[0m\u001b[0;34m)\u001b[0m\u001b[0;34m\u001b[0m\u001b[0m\n\u001b[0;32m---> 78\u001b[0;31m \u001b[0max\u001b[0m\u001b[0;34m.\u001b[0m\u001b[0mhist2d\u001b[0m\u001b[0;34m(\u001b[0m\u001b[0mnp\u001b[0m\u001b[0;34m.\u001b[0m\u001b[0mlog10\u001b[0m\u001b[0;34m(\u001b[0m\u001b[0mnetHeat500\u001b[0m\u001b[0;34m)\u001b[0m\u001b[0;34m,\u001b[0m \u001b[0mnp\u001b[0m\u001b[0;34m.\u001b[0m\u001b[0mlog10\u001b[0m\u001b[0;34m(\u001b[0m\u001b[0mnetHeat500_par\u001b[0m\u001b[0;34m*\u001b[0m\u001b[0;36m1.3\u001b[0m\u001b[0;34m)\u001b[0m\u001b[0;34m,\u001b[0m\u001b[0mweights\u001b[0m\u001b[0;34m=\u001b[0m\u001b[0mnH3\u001b[0m\u001b[0;34m,\u001b[0m \u001b[0mbins\u001b[0m\u001b[0;34m=\u001b[0m\u001b[0;36m100\u001b[0m\u001b[0;34m,\u001b[0m \u001b[0mnorm\u001b[0m\u001b[0;34m=\u001b[0m\u001b[0mLogNorm\u001b[0m\u001b[0;34m(\u001b[0m\u001b[0;34m)\u001b[0m\u001b[0;34m,\u001b[0m \u001b[0mcmap\u001b[0m\u001b[0;34m=\u001b[0m\u001b[0;34m\"inferno\"\u001b[0m\u001b[0;34m)\u001b[0m\u001b[0;34m\u001b[0m\u001b[0m\n\u001b[0m\u001b[1;32m     79\u001b[0m \u001b[0max\u001b[0m\u001b[0;34m.\u001b[0m\u001b[0mplot\u001b[0m\u001b[0;34m(\u001b[0m\u001b[0;34m[\u001b[0m\u001b[0;34m-\u001b[0m\u001b[0;36m25\u001b[0m\u001b[0;34m,\u001b[0m \u001b[0;34m-\u001b[0m\u001b[0;36m15\u001b[0m\u001b[0;34m]\u001b[0m\u001b[0;34m,\u001b[0m\u001b[0;34m[\u001b[0m\u001b[0;34m-\u001b[0m\u001b[0;36m25\u001b[0m\u001b[0;34m,\u001b[0m \u001b[0;34m-\u001b[0m\u001b[0;36m15\u001b[0m\u001b[0;34m]\u001b[0m\u001b[0;34m,\u001b[0m \u001b[0;34m\"-k\"\u001b[0m\u001b[0;34m,\u001b[0m \u001b[0mlinewidth\u001b[0m\u001b[0;34m=\u001b[0m\u001b[0;36m2\u001b[0m\u001b[0;34m)\u001b[0m\u001b[0;34m\u001b[0m\u001b[0m\n\u001b[1;32m     80\u001b[0m \u001b[0max\u001b[0m\u001b[0;34m.\u001b[0m\u001b[0mtick_params\u001b[0m\u001b[0;34m(\u001b[0m\u001b[0maxis\u001b[0m\u001b[0;34m=\u001b[0m\u001b[0;34m'both'\u001b[0m\u001b[0;34m,\u001b[0m \u001b[0mwhich\u001b[0m\u001b[0;34m=\u001b[0m\u001b[0;34m'major'\u001b[0m\u001b[0;34m,\u001b[0m \u001b[0mlength\u001b[0m\u001b[0;34m=\u001b[0m\u001b[0;36m10\u001b[0m\u001b[0;34m,\u001b[0m \u001b[0mwidth\u001b[0m\u001b[0;34m=\u001b[0m\u001b[0;36m2\u001b[0m\u001b[0;34m,\u001b[0m  \u001b[0mlabelsize\u001b[0m\u001b[0;34m=\u001b[0m\u001b[0;36m10\u001b[0m\u001b[0;34m,\u001b[0m \u001b[0mdirection\u001b[0m\u001b[0;34m=\u001b[0m\u001b[0;34m\"in\"\u001b[0m\u001b[0;34m)\u001b[0m\u001b[0;34m\u001b[0m\u001b[0m\n",
      "\u001b[0;32m/home/jcibanezm/codes/libs/miniconda3/lib/python2.7/site-packages/matplotlib/__init__.pyc\u001b[0m in \u001b[0;36minner\u001b[0;34m(ax, *args, **kwargs)\u001b[0m\n\u001b[1;32m   1810\u001b[0m                     warnings.warn(msg % (label_namer, func.__name__),\n\u001b[1;32m   1811\u001b[0m                                   RuntimeWarning, stacklevel=2)\n\u001b[0;32m-> 1812\u001b[0;31m             \u001b[0;32mreturn\u001b[0m \u001b[0mfunc\u001b[0m\u001b[0;34m(\u001b[0m\u001b[0max\u001b[0m\u001b[0;34m,\u001b[0m \u001b[0;34m*\u001b[0m\u001b[0margs\u001b[0m\u001b[0;34m,\u001b[0m \u001b[0;34m**\u001b[0m\u001b[0mkwargs\u001b[0m\u001b[0;34m)\u001b[0m\u001b[0;34m\u001b[0m\u001b[0m\n\u001b[0m\u001b[1;32m   1813\u001b[0m         \u001b[0mpre_doc\u001b[0m \u001b[0;34m=\u001b[0m \u001b[0minner\u001b[0m\u001b[0;34m.\u001b[0m\u001b[0m__doc__\u001b[0m\u001b[0;34m\u001b[0m\u001b[0m\n\u001b[1;32m   1814\u001b[0m         \u001b[0;32mif\u001b[0m \u001b[0mpre_doc\u001b[0m \u001b[0;32mis\u001b[0m \u001b[0mNone\u001b[0m\u001b[0;34m:\u001b[0m\u001b[0;34m\u001b[0m\u001b[0m\n",
      "\u001b[0;32m/home/jcibanezm/codes/libs/miniconda3/lib/python2.7/site-packages/matplotlib/axes/_axes.pyc\u001b[0m in \u001b[0;36mhist2d\u001b[0;34m(self, x, y, bins, range, normed, weights, cmin, cmax, **kwargs)\u001b[0m\n\u001b[1;32m   6325\u001b[0m         \u001b[0mrange\u001b[0m \u001b[0;34m=\u001b[0m \u001b[0m__builtins__\u001b[0m\u001b[0;34m[\u001b[0m\u001b[0;34m\"range\"\u001b[0m\u001b[0;34m]\u001b[0m\u001b[0;34m\u001b[0m\u001b[0m\n\u001b[1;32m   6326\u001b[0m         h, xedges, yedges = np.histogram2d(x, y, bins=bins, range=bin_range,\n\u001b[0;32m-> 6327\u001b[0;31m                                            normed=normed, weights=weights)\n\u001b[0m\u001b[1;32m   6328\u001b[0m \u001b[0;34m\u001b[0m\u001b[0m\n\u001b[1;32m   6329\u001b[0m         \u001b[0;32mif\u001b[0m \u001b[0mcmin\u001b[0m \u001b[0;32mis\u001b[0m \u001b[0;32mnot\u001b[0m \u001b[0mNone\u001b[0m\u001b[0;34m:\u001b[0m\u001b[0;34m\u001b[0m\u001b[0m\n",
      "\u001b[0;32m/home/jcibanezm/codes/libs/miniconda3/lib/python2.7/site-packages/numpy/lib/twodim_base.pyc\u001b[0m in \u001b[0;36mhistogram2d\u001b[0;34m(x, y, bins, range, normed, weights)\u001b[0m\n\u001b[1;32m    712\u001b[0m         \u001b[0mxedges\u001b[0m \u001b[0;34m=\u001b[0m \u001b[0myedges\u001b[0m \u001b[0;34m=\u001b[0m \u001b[0masarray\u001b[0m\u001b[0;34m(\u001b[0m\u001b[0mbins\u001b[0m\u001b[0;34m,\u001b[0m \u001b[0mfloat\u001b[0m\u001b[0;34m)\u001b[0m\u001b[0;34m\u001b[0m\u001b[0m\n\u001b[1;32m    713\u001b[0m         \u001b[0mbins\u001b[0m \u001b[0;34m=\u001b[0m \u001b[0;34m[\u001b[0m\u001b[0mxedges\u001b[0m\u001b[0;34m,\u001b[0m \u001b[0myedges\u001b[0m\u001b[0;34m]\u001b[0m\u001b[0;34m\u001b[0m\u001b[0m\n\u001b[0;32m--> 714\u001b[0;31m     \u001b[0mhist\u001b[0m\u001b[0;34m,\u001b[0m \u001b[0medges\u001b[0m \u001b[0;34m=\u001b[0m \u001b[0mhistogramdd\u001b[0m\u001b[0;34m(\u001b[0m\u001b[0;34m[\u001b[0m\u001b[0mx\u001b[0m\u001b[0;34m,\u001b[0m \u001b[0my\u001b[0m\u001b[0;34m]\u001b[0m\u001b[0;34m,\u001b[0m \u001b[0mbins\u001b[0m\u001b[0;34m,\u001b[0m \u001b[0mrange\u001b[0m\u001b[0;34m,\u001b[0m \u001b[0mnormed\u001b[0m\u001b[0;34m,\u001b[0m \u001b[0mweights\u001b[0m\u001b[0;34m)\u001b[0m\u001b[0;34m\u001b[0m\u001b[0m\n\u001b[0m\u001b[1;32m    715\u001b[0m     \u001b[0;32mreturn\u001b[0m \u001b[0mhist\u001b[0m\u001b[0;34m,\u001b[0m \u001b[0medges\u001b[0m\u001b[0;34m[\u001b[0m\u001b[0;36m0\u001b[0m\u001b[0;34m]\u001b[0m\u001b[0;34m,\u001b[0m \u001b[0medges\u001b[0m\u001b[0;34m[\u001b[0m\u001b[0;36m1\u001b[0m\u001b[0;34m]\u001b[0m\u001b[0;34m\u001b[0m\u001b[0m\n\u001b[1;32m    716\u001b[0m \u001b[0;34m\u001b[0m\u001b[0m\n",
      "\u001b[0;32m/home/jcibanezm/codes/libs/miniconda3/lib/python2.7/site-packages/numpy/lib/function_base.pyc\u001b[0m in \u001b[0;36mhistogramdd\u001b[0;34m(sample, bins, range, normed, weights)\u001b[0m\n\u001b[1;32m    825\u001b[0m         \u001b[0;32mreturn\u001b[0m \u001b[0mzeros\u001b[0m\u001b[0;34m(\u001b[0m\u001b[0mnbin\u001b[0m\u001b[0;34m-\u001b[0m\u001b[0;36m2\u001b[0m\u001b[0;34m,\u001b[0m \u001b[0mint\u001b[0m\u001b[0;34m)\u001b[0m\u001b[0;34m,\u001b[0m \u001b[0medges\u001b[0m\u001b[0;34m\u001b[0m\u001b[0m\n\u001b[1;32m    826\u001b[0m \u001b[0;34m\u001b[0m\u001b[0m\n\u001b[0;32m--> 827\u001b[0;31m     \u001b[0mflatcount\u001b[0m \u001b[0;34m=\u001b[0m \u001b[0mbincount\u001b[0m\u001b[0;34m(\u001b[0m\u001b[0mxy\u001b[0m\u001b[0;34m,\u001b[0m \u001b[0mweights\u001b[0m\u001b[0;34m)\u001b[0m\u001b[0;34m\u001b[0m\u001b[0m\n\u001b[0m\u001b[1;32m    828\u001b[0m     \u001b[0ma\u001b[0m \u001b[0;34m=\u001b[0m \u001b[0marange\u001b[0m\u001b[0;34m(\u001b[0m\u001b[0mlen\u001b[0m\u001b[0;34m(\u001b[0m\u001b[0mflatcount\u001b[0m\u001b[0;34m)\u001b[0m\u001b[0;34m)\u001b[0m\u001b[0;34m\u001b[0m\u001b[0m\n\u001b[1;32m    829\u001b[0m     \u001b[0mhist\u001b[0m\u001b[0;34m[\u001b[0m\u001b[0ma\u001b[0m\u001b[0;34m]\u001b[0m \u001b[0;34m=\u001b[0m \u001b[0mflatcount\u001b[0m\u001b[0;34m\u001b[0m\u001b[0m\n",
      "\u001b[0;31mValueError\u001b[0m: The weights and list don't have the same length."
     ]
    },
    {
     "data": {
      "image/png": "[encoded data removed]",
      "text/plain": [
       "<matplotlib.figure.Figure at 0x7fbe46bd3cd0>"
      ]
     },
     "metadata": {},
     "output_type": "display_data"
    }
   ],
   "source": [
    "fig = plt.figure(figsize=(20,20))\n",
    "#ax = fig.add_axes([0.14, 0.11, 0.85, 0.84])\n",
    "from matplotlib.ticker import MaxNLocator\n",
    "def format_func(value, tick_number):\n",
    "    return \"10$^{%i}$\"%value\n",
    "\n",
    "ax = fig.add_subplot(321)\n",
    "ax.hist2d(np.log10(netHeat3), np.log10(netHeat3_par*1.3),weights=nH3, bins=100, norm=LogNorm(), cmap=\"inferno\")\n",
    "ax.plot([-25, -15],[-25, -15], \"-k\", linewidth=2)\n",
    "ax.tick_params(axis='both', which='major', length=10, width=2,  labelsize=10, direction=\"in\")\n",
    "ax.tick_params(axis='both', which='minor', length=5, width=1.5, labelsize=10, direction=\"in\")\n",
    "ax.set_ylabel(\"parametric\", fontsize=15)\n",
    "ax.set_xlabel(\"Full\", fontsize=15)\n",
    "\n",
    "ax.xaxis.set_major_locator(MaxNLocator(integer=True))\n",
    "ax.yaxis.set_major_locator(MaxNLocator(integer=True))\n",
    "ax.xaxis.set_major_formatter(plt.FuncFormatter(format_func))\n",
    "ax.yaxis.set_major_formatter(plt.FuncFormatter(format_func))\n",
    "\n",
    "\n",
    "ax = fig.add_subplot(322)\n",
    "ax.hist2d(np.log10(netHeat5), np.log10(netHeat5_par*1.3),weights=nH3, bins=100, norm=LogNorm(), cmap=\"inferno\")\n",
    "ax.plot([-25, -15],[-25, -15], \"-k\", linewidth=2)\n",
    "ax.tick_params(axis='both', which='major', length=10, width=2,  labelsize=10, direction=\"in\")\n",
    "ax.tick_params(axis='both', which='minor', length=5, width=1.5, labelsize=10, direction=\"in\")\n",
    "ax.set_ylabel(\"parametric\", fontsize=15)\n",
    "ax.set_xlabel(\"Full\", fontsize=15)\n",
    "\n",
    "ax.xaxis.set_major_locator(MaxNLocator(integer=True))\n",
    "ax.yaxis.set_major_locator(MaxNLocator(integer=True))\n",
    "ax.xaxis.set_major_formatter(plt.FuncFormatter(format_func))\n",
    "ax.yaxis.set_major_formatter(plt.FuncFormatter(format_func))\n",
    "\n",
    "\n",
    "ax = fig.add_subplot(323)\n",
    "ax.hist2d(np.log10(netHeat10), np.log10(netHeat10_par*1.3),weights=nH3, bins=100, norm=LogNorm(), cmap=\"inferno\")\n",
    "ax.plot([-25, -15],[-25, -15], \"-k\", linewidth=2)\n",
    "ax.tick_params(axis='both', which='major', length=10, width=2,  labelsize=10, direction=\"in\")\n",
    "ax.tick_params(axis='both', which='minor', length=5, width=1.5, labelsize=10, direction=\"in\")\n",
    "ax.set_ylabel(\"parametric\", fontsize=15)\n",
    "ax.set_xlabel(\"Full\", fontsize=15)\n",
    "\n",
    "ax.xaxis.set_major_locator(MaxNLocator(integer=True))\n",
    "ax.yaxis.set_major_locator(MaxNLocator(integer=True))\n",
    "ax.xaxis.set_major_formatter(plt.FuncFormatter(format_func))\n",
    "ax.yaxis.set_major_formatter(plt.FuncFormatter(format_func))\n",
    "\n",
    "\n",
    "ax = fig.add_subplot(324)\n",
    "ax.hist2d(np.log10(netHeat50), np.log10(netHeat50_par*1.3),weights=nH3, bins=100, norm=LogNorm(), cmap=\"inferno\")\n",
    "ax.plot([-25, -15],[-25, -15], \"-k\", linewidth=2)\n",
    "ax.tick_params(axis='both', which='major', length=10, width=2,  labelsize=10, direction=\"in\")\n",
    "ax.tick_params(axis='both', which='minor', length=5, width=1.5, labelsize=10, direction=\"in\")\n",
    "ax.set_ylabel(\"parametric\", fontsize=15)\n",
    "ax.set_xlabel(\"Full\", fontsize=15)\n",
    "\n",
    "ax.xaxis.set_major_locator(MaxNLocator(integer=True))\n",
    "ax.yaxis.set_major_locator(MaxNLocator(integer=True))\n",
    "ax.xaxis.set_major_formatter(plt.FuncFormatter(format_func))\n",
    "ax.yaxis.set_major_formatter(plt.FuncFormatter(format_func))\n",
    "\n",
    "\n",
    "ax = fig.add_subplot(325)\n",
    "ax.hist2d(np.log10(netHeat100), np.log10(netHeat100_par*1.3),weights=nH3, bins=100, norm=LogNorm(), cmap=\"inferno\")\n",
    "ax.plot([-25, -15],[-25, -15], \"-k\", linewidth=2)\n",
    "ax.tick_params(axis='both', which='major', length=10, width=2,  labelsize=10, direction=\"in\")\n",
    "ax.tick_params(axis='both', which='minor', length=5, width=1.5, labelsize=10, direction=\"in\")\n",
    "ax.set_ylabel(\"parametric\", fontsize=15)\n",
    "ax.set_xlabel(\"Full\", fontsize=15)\n",
    "\n",
    "ax.xaxis.set_major_locator(MaxNLocator(integer=True))\n",
    "ax.yaxis.set_major_locator(MaxNLocator(integer=True))\n",
    "ax.xaxis.set_major_formatter(plt.FuncFormatter(format_func))\n",
    "ax.yaxis.set_major_formatter(plt.FuncFormatter(format_func))\n",
    "\n",
    "\n",
    "ax = fig.add_subplot(326)\n",
    "ax.hist2d(np.log10(netHeat500), np.log10(netHeat500_par*1.3),weights=nH3, bins=100, norm=LogNorm(), cmap=\"inferno\")\n",
    "ax.plot([-25, -15],[-25, -15], \"-k\", linewidth=2)\n",
    "ax.tick_params(axis='both', which='major', length=10, width=2,  labelsize=10, direction=\"in\")\n",
    "ax.tick_params(axis='both', which='minor', length=5, width=1.5, labelsize=10, direction=\"in\")\n",
    "ax.set_ylabel(\"parametric\", fontsize=15)\n",
    "ax.set_xlabel(\"Full\", fontsize=15)\n",
    "\n",
    "ax.xaxis.set_major_locator(MaxNLocator(integer=True))\n",
    "ax.yaxis.set_major_locator(MaxNLocator(integer=True))\n",
    "ax.xaxis.set_major_formatter(plt.FuncFormatter(format_func))\n",
    "ax.yaxis.set_major_formatter(plt.FuncFormatter(format_func))\n",
    "\n",
    "\n",
    "fig.show()\n"
   ]
  },
  {
   "cell_type": "code",
   "execution_count": 81,
   "metadata": {
    "collapsed": true
   },
   "outputs": [],
   "source": [
    "# Compute relative error\n",
    "relerror3    = np.percentile((np.abs(netHeat3    - netHeat3_par)    / netHeat3),    [25,50,75])*100\n",
    "relerror5    = np.percentile((np.abs(netHeat5    - netHeat5_par)    / netHeat5),    [25,50,75])*100\n",
    "relerror10   = np.percentile((np.abs(netHeat10   - netHeat10_par)   / netHeat10),   [25,50,75])*100\n",
    "relerror50   = np.percentile((np.abs(netHeat50   - netHeat50_par)   / netHeat50),   [25,50,75])*100\n",
    "relerror100  = np.percentile((np.abs(netHeat100  - netHeat100_par)  / netHeat100),  [25,50,75])*100\n",
    "relerror500  = np.percentile((np.abs(netHeat500  - netHeat500_par)  / netHeat500),  [25,50,75])*100\n",
    "relerror1000 = np.percentile((np.abs(netHeat1000 - netHeat1000_par) / netHeat1000), [25,50,75])*100"
   ]
  },
  {
   "cell_type": "code",
   "execution_count": 82,
   "metadata": {
    "collapsed": false
   },
   "outputs": [
    {
     "name": "stdout",
     "output_type": "stream",
     "text": [
      "\n",
      " Relative error table\n",
      "3.5 \t & 8.8 \t & 27.1 \t & 46.9\n",
      "5 \t & 26.7 \t & 33.2 \t & 36.5\n",
      "10 \t & 1.8 \t & 3.7 \t & 7.0\n",
      "50 \t & 17.7 \t & 21.3 \t & 35.2\n",
      "100 \t & 17.0 \t & 23.0 \t & 38.5\n",
      "500 \t & 0.6 \t & 6.0 \t & 19.9\n",
      "1000 \t & 4.2 \t & 5.2 \t & 13.6\n"
     ]
    }
   ],
   "source": [
    "# Print table\n",
    "print(\"\")\n",
    "print(\" Relative error table\")\n",
    "print(\"3.5 \\t & %.1f \\t & %.1f \\t & %.1f\"%(relerror3[0],     relerror3[1], relerror3[2]))\n",
    "print(\"5 \\t & %.1f \\t & %.1f \\t & %.1f\"%(  relerror5[0],     relerror5[1], relerror5[2]))\n",
    "print(\"10 \\t & %.1f \\t & %.1f \\t & %.1f\"%( relerror10[0],    relerror10[1], relerror10[2]))\n",
    "print(\"50 \\t & %.1f \\t & %.1f \\t & %.1f\"%( relerror50[0],    relerror50[1], relerror50[2]))\n",
    "print(\"100 \\t & %.1f \\t & %.1f \\t & %.1f\"%(relerror100[0],   relerror100[1], relerror100[2]))\n",
    "print(\"500 \\t & %.1f \\t & %.1f \\t & %.1f\"%(relerror500[0],   relerror500[1], relerror500[2]))\n",
    "print(\"1000 \\t & %.1f \\t & %.1f \\t & %.1f\"%(relerror1000[0], relerror1000[1], relerror1000[2]))"
   ]
  }
 ],
 "metadata": {
  "anaconda-cloud": {},
  "kernelspec": {
   "display_name": "Python [default]",
   "language": "python",
   "name": "python2"
  },
  "language_info": {
   "codemirror_mode": {
    "name": "ipython",
    "version": 2
   },
   "file_extension": ".py",
   "mimetype": "text/x-python",
   "name": "python",
   "nbconvert_exporter": "python",
   "pygments_lexer": "ipython2",
   "version": "2.7.15"
  }
 },
 "nbformat": 4,
 "nbformat_minor": 2
}
