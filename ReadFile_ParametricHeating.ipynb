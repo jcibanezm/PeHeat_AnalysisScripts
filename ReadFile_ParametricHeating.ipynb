{
 "cells": [
  {
   "cell_type": "code",
   "execution_count": 34,
   "metadata": {},
   "outputs": [],
   "source": [
    "import compute_charge_dist as fz\n",
    "import numpy as np\n",
    "import matplotlib.pyplot as plt\n",
    "import scipy.integrate as integrate\n",
    "\n",
    "import PeHeat_Functions as peh\n",
    "import parametric_fz as fzpar\n",
    "import dust_size_dist as sizedist\n",
    "\n",
    "from matplotlib.colors import LogNorm\n",
    "from matplotlib.ticker import MaxNLocator\n",
    "import matplotlib.ticker as ticker\n",
    "\n",
    "import pickle\n",
    "\n",
    "import yt\n",
    "from yt.units import pc, kpc, second, Kelvin, gram, erg, cm\n",
    "\n",
    "import MCMCFit as mcmc\n",
    "\n",
    "%matplotlib inline"
   ]
  },
  {
   "cell_type": "code",
   "execution_count": 3,
   "metadata": {},
   "outputs": [
    {
     "data": {
      "text/plain": [
       "<function close>"
      ]
     },
     "execution_count": 3,
     "metadata": {},
     "output_type": "execute_result"
    }
   ],
   "source": [
    "filename = \"TotaHeating_parametric_0pcent.pkl\"\n",
    "#data_dir = \"/home/jcibanezm/codes/run/PeHeat/ParametricHeating/\" #DustBox\n",
    "data_dir = \"/Users/juan/codes/run/PeHeating/\" #Laptop\n",
    "\n",
    "pkl_file = open(\"%s%s\"%(data_dir, filename))\n",
    "heatDict = pickle.load(pkl_file)\n",
    "pkl_file.close"
   ]
  },
  {
   "cell_type": "code",
   "execution_count": 37,
   "metadata": {},
   "outputs": [
    {
     "data": {
      "image/png": "[encoded data removed]",
      "text/plain": [
       "<Figure size 792x216 with 5 Axes>"
      ]
     },
     "metadata": {},
     "output_type": "display_data"
    }
   ],
   "source": [
    "xsize = 11\n",
    "ysize = 3\n",
    "\n",
    "nfigs_x = 4\n",
    "nfigs_y = 1\n",
    "\n",
    "fig = plt.figure(figsize=(xsize, ysize))\n",
    "\n",
    "hpad = 0.181\n",
    "wpad = 0.10\n",
    "wwpad = 0.015\n",
    "\n",
    "xs_panel = 0.84 / nfigs_x \n",
    "ys_panel = 0.708 / nfigs_y \n",
    "\n",
    "# Formatting tick labels in log scale.\n",
    "def format_func(value, tick_number):\n",
    "    # find number of multiples of pi/2\n",
    "    return \"10$^{%.i}$\"%value\n",
    "\n",
    "\n",
    "\n",
    "##########################################################################################################\n",
    "############################             n          #######################################\n",
    "############################################################################################################\n",
    "\n",
    "ax = fig.add_axes([0, 0, 1, 1])\n",
    "\n",
    "#ax.plot([0,1], [0,1], visible=False)\n",
    "ax.set_xlim(0,1)\n",
    "ax.set_ylim(0,1)\n",
    "\n",
    "#ax.text(0.18, 0.955, \"5 AA\", fontsize=20, horizontalalignment='center')\n",
    "\n",
    "plt.axis('off')\n",
    "\n",
    "#------------------------------------------------------------------------------------------------\n",
    "# From bottom left, to upper right.\n",
    "ii = 0\n",
    "jj = 0\n",
    "\n",
    "ax = fig.add_axes([wpad + ii*xs_panel, hpad + jj*ys_panel, xs_panel, ys_panel])\n",
    "\n",
    "cax = ax.hist2d(np.log10(heatDict[\"nH\"]), np.log10(heatDict[\"PeHtot\"]), bins=50, norm=LogNorm(), cmap=\"inferno\", range=[[-1, 6.0],[-28, -22]])\n",
    "\n",
    "ax.grid(\"on\")\n",
    "ax.tick_params(axis='x', which='both', bottom='on', top='off', direction= 'inout',labelbottom='on') # labels along the bottom edge are off\n",
    "ax.set_ylabel(\"$\\Gamma_{\\mathrm{total}}[\\mathrm{erg \\, s}^{-1}]$\", fontsize=16)\n",
    "ax.set_xlabel(\"n$_{\\mathrm{H}}$ [cm$^{-3}$]\", fontsize=16, labelpad=-1)\n",
    "ax.tick_params(axis='x', which='both', bottom='on', labelbottom='on')\n",
    "ax.tick_params(axis='both', which='major', length=6, width=2, labelsize=15)\n",
    "\n",
    "\n",
    "majors = [-1, 1, 3, 5]\n",
    "ax.xaxis.set_major_locator(ticker.FixedLocator(majors))\n",
    "#ax.xaxis.set_major_locator(MaxNLocator(integer=True))\n",
    "ax.xaxis.set_major_formatter(plt.FuncFormatter(format_func))\n",
    "\n",
    "#ax.yaxis.set_major_locator(MaxNLocator(integer=True))\n",
    "ax.yaxis.set_major_formatter(plt.FuncFormatter(format_func))\n",
    "\n",
    "\n",
    "#------------------------------------------------------------------------------------------------\n",
    "# From bottom left, to upper right.\n",
    "ii = 1\n",
    "jj = 0\n",
    "\n",
    "ax = fig.add_axes([wpad + ii*(xs_panel+wwpad), hpad + jj*ys_panel, xs_panel, ys_panel])\n",
    "\n",
    "cax = ax.hist2d(np.log10(heatDict[\"temp\"]), np.log10(heatDict[\"PeHtot\"]), bins=50, norm=LogNorm(), cmap=\"inferno\", range=[[1, 4],[-28, -22]])\n",
    "\n",
    "ax.grid(\"on\")\n",
    "\n",
    "ax.tick_params(axis='x', which='both', bottom='on', labelbottom='on', labelsize=15)\n",
    "#ax.tick_params(axis='both', which='major', length=6, width=2, labelsize=15)\n",
    "\n",
    "ax.tick_params(axis='x', which='both', bottom='on', top='off', direction= 'inout',labelbottom='on') # labels along the bottom edge are off\n",
    "\n",
    "ax.set_xlabel(\"T[K]\", fontsize=16)\n",
    "\n",
    "ax.tick_params(axis='y', left=\"off\", which='major', length=6, width=2, labelsize=0)\n",
    "\n",
    "#ax.xaxis.set_major_locator(MaxNLocator(integer=True))\n",
    "ax.xaxis.set_major_formatter(plt.FuncFormatter(format_func))\n",
    "\n",
    "\n",
    "#------------------------------------------------------------------------------------------------\n",
    "# From bottom left, to upper right.\n",
    "ii = 2\n",
    "jj = 0\n",
    "\n",
    "ax = fig.add_axes([wpad + ii*(xs_panel+wwpad), hpad + jj*ys_panel, xs_panel, ys_panel])\n",
    "\n",
    "cax = ax.hist2d(np.log10(heatDict[\"Gtot\"]), np.log10(heatDict[\"PeHtot\"]), bins=50, norm=LogNorm(), cmap=\"inferno\", range=[[-2.99, np.log10(1.7)],[-28, -22]])\n",
    "\n",
    "ax.grid(\"on\")\n",
    "\n",
    "ax.tick_params(axis='x', which='both', bottom='on', labelbottom='on', labelsize=15)\n",
    "#ax.tick_params(axis='both', which='major', length=6, width=2, labelsize=15)\n",
    "\n",
    "ax.tick_params(axis='x', which='both', bottom='on', top='off', direction= 'inout',labelbottom='on') # labels along the bottom edge are off\n",
    "\n",
    "ax.set_xlabel(\"G$_{\\mathrm{tot}}$\", fontsize=16)\n",
    "\n",
    "ax.tick_params(axis='y', left=\"off\", which='major', length=6, width=2, labelsize=0)\n",
    "\n",
    "ax.xaxis.set_major_locator(MaxNLocator(integer=True))\n",
    "ax.xaxis.set_major_formatter(plt.FuncFormatter(format_func))\n",
    "\n",
    "\n",
    "#------------------------------------------------------------------------------------------------\n",
    "# From bottom left, to upper right.\n",
    "ii = 3\n",
    "jj = 0\n",
    "\n",
    "ax = fig.add_axes([wpad + ii*(xs_panel+wwpad), hpad + jj*ys_panel, xs_panel, ys_panel])\n",
    "\n",
    "cax = ax.hist2d(np.log10(heatDict[\"new_ne\"]), np.log10(heatDict[\"PeHtot\"]), bins=50, norm=LogNorm(), cmap=\"inferno\", range=[[np.log10(np.min(heatDict[\"new_ne\"])), np.log10(np.max(heatDict[\"new_ne\"]))],[-28, -22]])\n",
    "\n",
    "ax.grid(\"on\")\n",
    "\n",
    "ax.tick_params(axis='x', which='both', bottom='on', labelbottom='on', labelsize=15)\n",
    "#ax.tick_params(axis='both', which='major', length=6, width=2, labelsize=15)\n",
    "\n",
    "ax.tick_params(axis='x', which='both', bottom='on', top='off', direction= 'inout',labelbottom='on') # labels along the bottom edge are off\n",
    "\n",
    "ax.set_xlabel(\"n$_{\\mathrm{e}}$\", fontsize=16)\n",
    "\n",
    "ax.tick_params(axis='y', left=\"off\", which='major', length=6, width=2, labelsize=0)\n",
    "\n",
    "#ax.xaxis.set_major_locator(MaxNLocator(integer=True))\n",
    "ax.xaxis.set_major_formatter(plt.FuncFormatter(format_func))\n",
    "\n",
    "\n",
    "\n",
    "#fig.savefig(\"/home/jcibanezm/Dropbox/Projects/Papers/In_Progress/PeHeat_dust/Figures/TotalHeating_parametric.df\", format=\"pdf\")\n",
    "fig.savefig(\"/Users/juan/Dropbox/Projects/Papers/In_Progress/PeHeat_dust/Figures/TotalHeating_parametric.pdf\", format=\"pdf\")\n",
    "\n",
    "\n",
    "fig.show()\n"
   ]
  },
  {
   "cell_type": "code",
   "execution_count": 49,
   "metadata": {},
   "outputs": [
    {
     "data": {
      "image/png": "[encoded data removed]",
      "text/plain": [
       "<Figure size 396x360 with 1 Axes>"
      ]
     },
     "metadata": {},
     "output_type": "display_data"
    }
   ],
   "source": [
    "fig = plt.figure(figsize=(5.5,5))\n",
    "\n",
    "ax = fig.add_axes([0.19, 0.13, 0.80, 0.85])\n",
    "\n",
    "from matplotlib.ticker import MaxNLocator\n",
    "def format_func(value, tick_number):\n",
    "    return \"10$^{%i}$\"%value\n",
    "\n",
    "\n",
    "GTn = (heatDict[\"Gtot\"])*np.sqrt(heatDict[\"temp\"])/heatDict[\"new_ne\"]\n",
    "\n",
    "ax.hist2d(np.log10(GTn), np.log10(heatDict[\"PeHtot\"]), bins=50, norm=LogNorm(), cmap=\"inferno\")\n",
    "\n",
    "#ax.set_ylabel(\"T [K]\", fontsize=25)\n",
    "#\n",
    "ax.tick_params(axis='both', which='major', length=10, width=2,  labelsize=17, direction=\"in\")\n",
    "ax.tick_params(axis='both', which='minor', length=5, width=1.5, labelsize=17, direction=\"in\")\n",
    "\n",
    "\n",
    "#ax.set_ylim(-0.9, 4.99)\n",
    "ax.set_ylabel(\"$\\Gamma_{\\mathrm{tot}}$ [erg s$^{-1}$]\", fontsize=17)\n",
    "ax.set_xlabel(\"$G_{\\mathrm{tot}}T^{0.5} n_{\\\\mathrm{e}}^{-1}$ [K$^{1/2}$ cm$^{3}$]\", fontsize=17)\n",
    "\n",
    "ax.xaxis.set_major_locator(MaxNLocator(integer=True))\n",
    "ax.yaxis.set_major_locator(MaxNLocator(integer=True))\n",
    "ax.xaxis.set_major_formatter(plt.FuncFormatter(format_func))\n",
    "ax.yaxis.set_major_formatter(plt.FuncFormatter(format_func))\n",
    "\n",
    "#ax.set_yscale(\"log\")\n",
    "\n",
    "#ax.set_xlim(np.log10(np.min(cdist[\"nH\"])), 4.5)\n",
    "#fig.savefig(\"/home/jcibanezm/Dropbox/Projects/Papers/In_Progress/PeHeat_dust/Figures/TotalHeating_parametric_GTn.df\", format=\"pdf\")\n",
    "fig.savefig(\"/Users/juan/Dropbox/Projects/Papers/In_Progress/PeHeat_dust/Figures/TotalHeating_parametric_GTn.pdf\", format=\"pdf\")\n",
    "\n",
    "\n",
    "fig.show()"
   ]
  },
  {
   "cell_type": "code",
   "execution_count": null,
   "metadata": {},
   "outputs": [],
   "source": []
  },
  {
   "cell_type": "markdown",
   "metadata": {},
   "source": [
    "I need to compute the power absorved by dust grains!. Right now I have no idea how to do that."
   ]
  },
  {
   "cell_type": "code",
   "execution_count": 58,
   "metadata": {},
   "outputs": [
    {
     "name": "stdout",
     "output_type": "stream",
     "text": [
      "Progress 0\n",
      "Progress 10\n",
      "Progress 20\n",
      "Progress 30\n",
      "Progress 40\n",
      "Progress 50\n",
      "Progress 60\n",
      "Progress 70\n",
      "Progress 80\n",
      "Progress 90\n"
     ]
    }
   ],
   "source": [
    "ncells = 2500000\n",
    "for i in range(ncells):\n",
    "    if (i*10.%ncells==0):\n",
    "        print(\"Progress %i\"%(i*100.//ncells))"
   ]
  }
 ],
 "metadata": {
  "kernelspec": {
   "display_name": "Python 2",
   "language": "python",
   "name": "python2"
  },
  "language_info": {
   "codemirror_mode": {
    "name": "ipython",
    "version": 2
   },
   "file_extension": ".py",
   "mimetype": "text/x-python",
   "name": "python",
   "nbconvert_exporter": "python",
   "pygments_lexer": "ipython2",
   "version": "2.7.15"
  }
 },
 "nbformat": 4,
 "nbformat_minor": 2
}
