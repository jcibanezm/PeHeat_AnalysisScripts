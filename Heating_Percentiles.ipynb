{
 "cells": [
  {
   "cell_type": "markdown",
   "metadata": {},
   "source": [
    "This is the development notebook to find a way to get the size at which the 50 and 95 percentile of the heating has been found."
   ]
  },
  {
   "cell_type": "code",
   "execution_count": 1,
   "metadata": {},
   "outputs": [],
   "source": [
    "import scipy.integrate\n",
    "import pickle\n",
    "import matplotlib.pyplot as plt\n",
    "import numpy as np\n",
    "from matplotlib.colors import LogNorm\n",
    "\n",
    "%matplotlib inline"
   ]
  },
  {
   "cell_type": "markdown",
   "metadata": {},
   "source": [
    "$$ \\int_{a}^{b}f(x)dx \\approx \\sum_{k=1}^{N} \\frac{f(x_{k-1}+f(x_{k}))}{2}\\Delta x_{k} $$"
   ]
  },
  {
   "cell_type": "code",
   "execution_count": 2,
   "metadata": {},
   "outputs": [
    {
     "data": {
      "text/plain": [
       "<function close>"
      ]
     },
     "execution_count": 2,
     "metadata": {},
     "output_type": "execute_result"
    }
   ],
   "source": [
    "filename = \"TotaHeating.pkl\"\n",
    "data_dir = \"/Users/juan/codes/run/PeHeating\"\n",
    "pkl_file = open(\"%s/%s\"%(data_dir, filename), \"rb\")\n",
    "PeH_dict = pickle.load(pkl_file)\n",
    "pkl_file.close"
   ]
  },
  {
   "cell_type": "code",
   "execution_count": 3,
   "metadata": {},
   "outputs": [
    {
     "data": {
      "text/plain": [
       "['nH',\n",
       " 'G_CR',\n",
       " 'new_xe',\n",
       " 'PeHtot',\n",
       " 'cell_mass',\n",
       " 'NH2',\n",
       " 'ne',\n",
       " 'xe',\n",
       " 'Geff',\n",
       " 'Ntot',\n",
       " 'info',\n",
       " 'Gtot',\n",
       " 'temp',\n",
       " 'Av',\n",
       " 'new_ne',\n",
       " 'zeta',\n",
       " 'MPI',\n",
       " 'nH2',\n",
       " 'fH2shield']"
      ]
     },
     "execution_count": 3,
     "metadata": {},
     "output_type": "execute_result"
    }
   ],
   "source": [
    "PeH_dict.keys()"
   ]
  },
  {
   "cell_type": "code",
   "execution_count": 4,
   "metadata": {},
   "outputs": [
    {
     "name": "stderr",
     "output_type": "stream",
     "text": [
      "/Users/juan/anaconda/lib/python2.7/site-packages/matplotlib/figure.py:459: UserWarning: matplotlib is currently using a non-GUI backend, so cannot show the figure\n",
      "  \"matplotlib is currently using a non-GUI backend, \"\n"
     ]
    },
    {
     "data": {
      "image/png": "[encoded data removed]",
      "text/plain": [
       "<Figure size 432x288 with 1 Axes>"
      ]
     },
     "metadata": {},
     "output_type": "display_data"
    }
   ],
   "source": [
    "fig = plt.figure()\n",
    "ax = fig.add_subplot(111)\n",
    "\n",
    "ax.hist2d(np.log10(PeH_dict[\"nH\"]), np.log10(PeH_dict[\"PeHtot\"]), norm=LogNorm(), cmap=\"inferno\", bins=100)\n",
    "\n",
    "fig.show()"
   ]
  },
  {
   "cell_type": "code",
   "execution_count": 5,
   "metadata": {},
   "outputs": [],
   "source": [
    "## Let's say that I already have the data loaded."
   ]
  },
  {
   "cell_type": "code",
   "execution_count": 6,
   "metadata": {},
   "outputs": [],
   "source": [
    "import parametric_PeHeat as parPeH"
   ]
  },
  {
   "cell_type": "code",
   "execution_count": 90,
   "metadata": {},
   "outputs": [],
   "source": [
    "def get_percentiles(Gtot, temp, ne, amin=3.5, amax=2500, numint=100):\n",
    "    \"\"\"\n",
    "    This function finds the grain size where the 50 and 95 percentile of the photoelectric heating has been reached.\n",
    "    \n",
    "    Integrates the total photoelectric heating rate using the trapezium method and checks if the percentile has been reached.\n",
    "\n",
    "    Returns:\n",
    "        size50perc, size95perc.\n",
    "    \"\"\"\n",
    "    import dust_size_dist as sizedist\n",
    "    import numpy as np\n",
    "    import parametric_PeHeat as parPeH\n",
    "    \n",
    "    #Gammatot = parPeH.get_Gamma_tot(Gtot, temp, ne, amin=amin, amax=amax)\n",
    "    \n",
    "    x = np.logspace(np.log10(amin), np.log10(amax), num=numint)\n",
    "    yc = sizedist.dnda(x, \"carbonaceous\")\n",
    "    ys = sizedist.dnda(x, \"silicate\")\n",
    "    \n",
    "    y_Gpe_s = np.zeros(numint, dtype=np.float)\n",
    "    y_Gpe_c = np.zeros(numint, dtype=np.float)\n",
    "\n",
    "    for j in range(numint):\n",
    "        #print(j)\n",
    "        y_Gpe_s[j] = parPeH.get_Gamma_dot(Gtot, temp, ne, x[j], \"silicate\")*sizedist.dnda(x[j], \"silicate\")*1.0e21\n",
    "        y_Gpe_c[j] = parPeH.get_Gamma_dot(Gtot, temp, ne, x[j], \"carbonaceous\")*sizedist.dnda(x[j], \"carbonaceous\")*1.0e21    \n",
    "        \n",
    "    Gamma_tot_k = 0\n",
    "    k = 1\n",
    "    \n",
    "    totd_s_fix = np.trapz(y_Gpe_s, x)\n",
    "    totd_c_fix = np.trapz(y_Gpe_c, x)\n",
    "    \n",
    "    Gammatot_trapz = totd_s_fix + totd_c_fix\n",
    "    \n",
    "    #print(\"Using Trapezium rule:\", (totd_s_fix+totd_c_fix)/1.0e21)\n",
    "    \n",
    "    perc50 = False\n",
    "    perc95 = False\n",
    "    \n",
    "    asize50perc = -1\n",
    "    asize95perc = -1\n",
    "    \n",
    "    while perc95 == False:\n",
    "        #integrate\n",
    "        #print(k)\n",
    "        deltax = x[k] - x[k-1]\n",
    "        Gamma_tot_k += (y_Gpe_s[k-1] + y_Gpe_s[k])/2.0*deltax + (y_Gpe_c[k-1] + y_Gpe_c[k])/2.0*deltax\n",
    "        #print(Gamma_tot_k)\n",
    "        \n",
    "        # look for the 50th percentile\n",
    "        if (Gamma_tot_k) >= 0.5*Gammatot_trapz and perc50 == False:\n",
    "            asize50perc = x[k]\n",
    "            perc50 = True\n",
    "            #print(\"Found the 50th percentile. size\", x[k])\n",
    "            #print(\"Gammatot = %.2g\"%Gammatot_trapz)\n",
    "            #print(\"Current PeHeat = %.2g\"%Gamma_tot_k)\n",
    "            \n",
    "        # look for the 95th percentile\n",
    "        if (Gamma_tot_k) >= 0.95*Gammatot_trapz and perc95 == False:\n",
    "            asize95perc = x[k]\n",
    "            perc95 = True\n",
    "            #print(\"Found the 95th percentile. size\", x[k])\n",
    "            #print(\"Gammatot = %.2g\"%Gammatot_trapz)\n",
    "            #print(\"Current PeHeat = %.2g\"%Gamma_tot_k)\n",
    "\n",
    "        if k==numint-1:\n",
    "            print(\"Did not find the 95th percentile!!!\")\n",
    "            print(\"Gammatot = %.2g\"%Gammatot)\n",
    "            print(\"Current PeHeat = %.2g\"%Gamma_tot_k)\n",
    "            break\n",
    "            \n",
    "        k+=1\n",
    "                \n",
    "    return asize50perc, asize95perc"
   ]
  },
  {
   "cell_type": "code",
   "execution_count": 91,
   "metadata": {},
   "outputs": [],
   "source": [
    "# Compute time."
   ]
  },
  {
   "cell_type": "code",
   "execution_count": 92,
   "metadata": {},
   "outputs": [],
   "source": [
    "size50, size95 = np.zeros(len(PeH_dict[\"nH\"]), dtype=np.float), np.zeros(len(PeH_dict[\"nH\"]), dtype=np.float)\n",
    "\n",
    "for i in range(100):\n",
    "#for i in range(len(PeH_dict[\"nH\"])):\n",
    "    size50[i], size95[i] = get_percentiles(PeH_dict[\"Gtot\"][i], PeH_dict[\"temp\"][i], PeH_dict[\"new_ne\"][i])"
   ]
  },
  {
   "cell_type": "code",
   "execution_count": 98,
   "metadata": {},
   "outputs": [
    {
     "data": {
      "text/plain": [
       "(array([  0.,   0.,   0.,  19.,  46.,  35.,   0.,   0.,   0.,   0.]),\n",
       " array([  3.5 ,   4.15,   4.8 ,   5.45,   6.1 ,   6.75,   7.4 ,   8.05,\n",
       "          8.7 ,   9.35,  10.  ]),\n",
       " <a list of 10 Patch objects>)"
      ]
     },
     "execution_count": 98,
     "metadata": {},
     "output_type": "execute_result"
    },
    {
     "data": {
      "image/png": "[encoded data removed]",
      "text/plain": [
       "<Figure size 432x288 with 1 Axes>"
      ]
     },
     "metadata": {},
     "output_type": "display_data"
    }
   ],
   "source": [
    "plt.hist(size50,range=[3.5, 10])"
   ]
  },
  {
   "cell_type": "markdown",
   "metadata": {},
   "source": [
    "---\n",
    "# Deprecated functions"
   ]
  },
  {
   "cell_type": "code",
   "execution_count": 78,
   "metadata": {},
   "outputs": [],
   "source": [
    "def get_percentiles_terrible(Gtot, temp, ne, minsize=3.5, maxsize=2500, numint=100, pedantic=False):\n",
    "    \"\"\"\n",
    "    This function finds the grain size where the 50 and 95 percentile of the photoelectric heating has been reached.\n",
    "    \n",
    "    Integrates the total photoelectric heating rate using the trapezium method and checks if the percentile has been reached.\n",
    "\n",
    "    Returns:\n",
    "        size50perc, size95perc.\n",
    "    \"\"\"\n",
    "    import dust_size_dist as sizedist\n",
    "    import numpy as np\n",
    "    import parametric_PeHeat as parPeH\n",
    "    \n",
    "    Gammatot = parPeH.get_Gamma_tot(Gtot, temp, ne, amin=minsize, amax=maxsize)\n",
    "    \n",
    "    #print(minsize, maxsize, numint)\n",
    "    x = np.logspace(np.log10(minsize), np.log10(maxsize), num=numint)\n",
    "    #print(x)\n",
    "    yc = sizedist.dnda(x, \"carbonaceous\")\n",
    "    ys = sizedist.dnda(x, \"silicate\")\n",
    "    \n",
    "    #print(x)\n",
    "    Gamma_tot_k = 0\n",
    "    k = 1\n",
    "    \n",
    "    perc50 = False\n",
    "    perc95 = False\n",
    "    \n",
    "    asize50perc = -1\n",
    "    asize95perc = -1\n",
    "    \n",
    "    while perc95 == False:\n",
    "    #while k<numint:\n",
    "\n",
    "        #print(x[k])\n",
    "        Gammaperc = parPeH.get_Gamma_tot(Gtot, temp, ne, amin=minsize, amax=x[k])\n",
    "        #print(x[k], Gammaperc)    \n",
    "        \n",
    "        # look for the 50th percentile\n",
    "        if Gammaperc >= 0.5*Gammatot and perc50 == False:\n",
    "            asize50perc = x[k]\n",
    "            perc50 = True\n",
    "            if pedantic:\n",
    "                print(\"Found the 50th percentile. size\", x[k])\n",
    "                print(\"Gammatot = %.2g\"%Gammatot)\n",
    "                print(\"Current PeHeat = %.2g\"%Gammaperc)\n",
    "            \n",
    "        # look for the 95th percentile\n",
    "        if Gammaperc >= 0.95*Gammatot and perc95 == False:\n",
    "            asize95perc = x[k]\n",
    "            perc95 = True\n",
    "            if pedantic:\n",
    "                print(\"Found the 95th percentile. size\", x[k])\n",
    "                print(\"Gammatot = %.2g\"%Gammatot)\n",
    "                print(\"Current PeHeat = %.2g\"%Gammaperc)\n",
    "\n",
    "        if k==numint-1:\n",
    "            print(\"Did not find the 95th percentile!!!\")\n",
    "            print(\"Gammatot = %.2g\"%Gammatot)\n",
    "            print(\"Current PeHeat = %.2g\"%Gammaperc)\n",
    "            break  \n",
    "        k+=1\n",
    "            \n",
    "    return asize50perc, asize95perc"
   ]
  },
  {
   "cell_type": "markdown",
   "metadata": {},
   "source": [
    "---"
   ]
  },
  {
   "cell_type": "code",
   "execution_count": 106,
   "metadata": {},
   "outputs": [
    {
     "data": {
      "text/plain": [
       "<function close>"
      ]
     },
     "execution_count": 106,
     "metadata": {},
     "output_type": "execute_result"
    }
   ],
   "source": [
    "filename = \"Percentiles_0pcent.pkl\"\n",
    "data_dir = \"/Users/juan/codes/run/PeHeating\"\n",
    "pkl_file = open(\"%s/%s\"%(data_dir, filename), \"rb\")\n",
    "percdict = pickle.load(pkl_file)\n",
    "pkl_file.close"
   ]
  },
  {
   "cell_type": "code",
   "execution_count": 116,
   "metadata": {},
   "outputs": [
    {
     "data": {
      "image/png": "[encoded data removed]",
      "text/plain": [
       "<Figure size 432x288 with 2 Axes>"
      ]
     },
     "metadata": {},
     "output_type": "display_data"
    }
   ],
   "source": [
    "fig = plt.figure()\n",
    "ax = fig.add_subplot(121)\n",
    "ax.hist(percdict[\"size50\"], range=[3.5,10], bins=15)\n",
    "ax.set_yscale(\"log\")\n",
    "fig.show()\n",
    "\n",
    "ax = fig.add_subplot(122)\n",
    "ax.hist(percdict[\"size95\"], bins=20)\n",
    "ax.set_yscale(\"log\")\n",
    "fig.show()"
   ]
  }
 ],
 "metadata": {
  "kernelspec": {
   "display_name": "Python 2",
   "language": "python",
   "name": "python2"
  },
  "language_info": {
   "codemirror_mode": {
    "name": "ipython",
    "version": 2
   },
   "file_extension": ".py",
   "mimetype": "text/x-python",
   "name": "python",
   "nbconvert_exporter": "python",
   "pygments_lexer": "ipython2",
   "version": "2.7.15"
  }
 },
 "nbformat": 4,
 "nbformat_minor": 2
}
