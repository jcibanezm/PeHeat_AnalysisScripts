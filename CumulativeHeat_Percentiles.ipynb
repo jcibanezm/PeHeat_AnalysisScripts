{
 "cells": [
  {
   "cell_type": "code",
   "execution_count": 1,
   "metadata": {},
   "outputs": [
    {
     "name": "stdout",
     "output_type": "stream",
     "text": [
      "Loading the library to compute the charge distribution of dust grains.\n"
     ]
    }
   ],
   "source": [
    "import compute_charge_dist as fz\n",
    "import numpy as np\n",
    "import matplotlib.pyplot as plt\n",
    "import scipy.integrate as integrate\n",
    "\n",
    "import PeHeat_Functions as peh\n",
    "import parametric_fz as fzpar\n",
    "import dust_size_dist as sizedist\n",
    "\n",
    "import yt\n",
    "from yt.units import pc, kpc, second, Kelvin, gram, erg, cm\n",
    "\n",
    "import MCMCFit as mcmc\n",
    "\n",
    "%matplotlib inline\n",
    "\n",
    "microntocm    = 1.0e-4\n",
    "cmtomicron    = 1.0e4\n",
    "AAtocm        = 1.0e-8\n",
    "cmtoAA        = 1.0e8\n",
    "microntoAA    = 1.0e4\n",
    "AAtomicron    = 1.0e-4\n",
    "ergtoeV       = 6.242e11\n",
    "eVtoerg       = 1.602e-12\n",
    "\n",
    "hplanck       = 4.135667662e-15 # eV s\n",
    "clight        = 2.99792458e10   # cm s-1"
   ]
  },
  {
   "cell_type": "code",
   "execution_count": 2,
   "metadata": {},
   "outputs": [
    {
     "name": "stderr",
     "output_type": "stream",
     "text": [
      "/Users/juan/anaconda/lib/python2.7/site-packages/yt/fields/local_fields.py:46: UserWarning: Because 'sampling_type' not specified, yt will assume a cell 'sampling_type'\n",
      "  warnings.warn(\"Because 'sampling_type' not specified, yt will \"\n"
     ]
    }
   ],
   "source": [
    "# Define some constant parameters to be used.\n",
    "mp      = 1.6726e-24  * gram # g\n",
    "mH      = 1.6733e-24  * gram\n",
    "mC      = 12.011*mH\n",
    "#mu      = 1.2924\n",
    "kb      = 1.3806e-16  *erg / Kelvin # erg K-1\n",
    "GNewton = 6.6743e-8   * cm**3 / (gram * second**2 )# cm3 g-1 s-2\n",
    "Msun    = 1.9884e33   * gram\n",
    "#mm      = mu*mp\n",
    "\n",
    "ppc = 3.0856776e18\n",
    "\n",
    "# -------------------------------------------------------------\n",
    "#              Create a lot of new derived fields\n",
    "# -------------------------------------------------------------\n",
    "\n",
    "# Create a derived field.\n",
    "# Hydrogen number density\n",
    "def numdensH(field, data): \n",
    "    nH = data[\"dens\"]*(data[\"ihp \"]+data[\"iha \"]+data[\"ih2 \"])/(1.4*mH)\n",
    "    return nH\n",
    "\n",
    "# Molecular Hydrogen number density\n",
    "def numdensH2(field, data): \n",
    "    nH2 = data[\"dens\"]*(data[\"ih2 \"])/(1.4*mH)\n",
    "    return nH2\n",
    "\n",
    "# Carbon number density\n",
    "def numdensC(field, data): \n",
    "    nC = data[\"dens\"]*(data[\"icp \"]+data[\"ico \"])/(1.4*mC)\n",
    "    return nC\n",
    "\n",
    "# electron number density\n",
    "def numdense(field, data): \n",
    "    ne = data[\"dens\"]*(data[\"ihp \"]/(1.4*mH) + data[\"icp \"]/(1.4*mC))\n",
    "    return ne\n",
    "\n",
    "# Ionized hydrogen fraction\n",
    "def xHp(field, data): \n",
    "    nH  = data[\"dens\"]*(data[\"ihp \"]+data[\"iha \"]+data[\"ih2 \"])/(1.4*mH)\n",
    "    xHp = data[\"dens\"]*data[\"ihp \"]/(1.4*mH)\n",
    "    xHp = xHp / nH\n",
    "    return xHp\n",
    "\n",
    "# Molecular hydrogen fraction\n",
    "def xH2(field, data): \n",
    "    nH  = data[\"dens\"]*(data[\"ihp \"]+data[\"iha \"]+data[\"ih2 \"])/(1.4*mH)\n",
    "    xH2 = data[\"dens\"]*data[\"ih2 \"]/(1.4*mH)\n",
    "    xH2 = xH2 / nH\n",
    "    return xH2\n",
    "\n",
    "# Ionized carbon fraction\n",
    "def xCp(field, data): \n",
    "    nC  = data[\"dens\"]*(data[\"icp \"]+data[\"ico \"])/(1.4*mC)\n",
    "    xCp = data[\"dens\"]*data[\"icp \"]/(1.4*mC) / nC\n",
    "    return xCp\n",
    "\n",
    "# electron fraction\n",
    "def xe(field, data): \n",
    "    nH = data[\"dens\"]*(data[\"ihp \"]+data[\"iha \"]+data[\"ih2 \"])/(1.4*mH)\n",
    "    nC = data[\"dens\"]*(data[\"icp \"]+data[\"ico \"])/(1.4*mC)\n",
    "    ne = data[\"dens\"]*(data[\"ihp \"]/(1.4*mH) + data[\"icp \"]/(1.4*mC))\n",
    "    xe = ne / (nH + nC)\n",
    "    return xe\n",
    "\n",
    "# electron fraction\n",
    "#def GG(field, data): \n",
    "#    G = fz.get_G(data[\"cdto\"], 1.68)\n",
    "#    return G\n",
    "\n",
    "\n",
    "yt.add_field('nH', function=numdensH,  units=\"1/cm**3\", force_override=True)\n",
    "yt.add_field('nH2',function=numdensH2, units=\"1/cm**3\", force_override=True)\n",
    "yt.add_field('nC', function=numdensC,  units=\"1/cm**3\", force_override=True)\n",
    "yt.add_field('ne', function=numdense,  units=\"1/cm**3\", force_override=True)\n",
    "yt.add_field('xHp', function=xHp,      units=\"dimensionless\", force_override=True)\n",
    "yt.add_field('xH2', function=xH2,      units=\"dimensionless\", force_override=True)\n",
    "yt.add_field('xCp', function=xCp,      units=\"dimensionless\", force_override=True)\n",
    "yt.add_field('xe', function=xe,        units=\"dimensionless\", force_override=True)\n",
    "#yt.add_field('G',  function=GG,        units=\"dimensionless\", force_override=True)"
   ]
  },
  {
   "cell_type": "code",
   "execution_count": 3,
   "metadata": {},
   "outputs": [
    {
     "name": "stderr",
     "output_type": "stream",
     "text": [
      "yt : [INFO     ] 2018-12-24 19:22:38,550 Particle file found: NL99_R8_cf_hdf5_chk_0028\n",
      "yt : [INFO     ] 2018-12-24 19:22:38,571 integer runtime parameter checkpointfilenumber overwrites a simulation scalar of the same name\n",
      "yt : [INFO     ] 2018-12-24 19:22:38,573 integer runtime parameter forcedplotfilenumber overwrites a simulation scalar of the same name\n",
      "yt : [INFO     ] 2018-12-24 19:22:38,575 integer runtime parameter nbegin overwrites a simulation scalar of the same name\n",
      "yt : [INFO     ] 2018-12-24 19:22:38,578 integer runtime parameter plotfilenumber overwrites a simulation scalar of the same name\n",
      "yt : [INFO     ] 2018-12-24 19:22:38,638 Parameters: current_time              = 5.68049127342e+14\n",
      "yt : [INFO     ] 2018-12-24 19:22:38,640 Parameters: domain_dimensions         = [32  8  8]\n",
      "yt : [INFO     ] 2018-12-24 19:22:38,643 Parameters: domain_left_edge          = [ -1.97478400e+20  -4.93696000e+19  -4.93696000e+19]\n",
      "yt : [INFO     ] 2018-12-24 19:22:38,645 Parameters: domain_right_edge         = [  1.97478400e+20   4.93696000e+19   4.93696000e+19]\n",
      "yt : [INFO     ] 2018-12-24 19:22:38,647 Parameters: cosmological_simulation   = 0.0\n"
     ]
    }
   ],
   "source": [
    "# Input variables.\n",
    "#data_dir   = \"/home/jcibanezm/codes/run/Silcc/CF_Prabesh\"\n",
    "data_dir   = \"/Users/juan/codes/run/Silcc/CF_Prabesh\"\n",
    "filename   = data_dir + \"/NL99_R8_cf_hdf5_chk_0028\"\n",
    "\n",
    "pf = yt.load(\"%s\"%(filename))\n",
    "\n",
    "c  = [0,0,0]\n",
    "le = [-4.93696000e+19, -4.93696000e+19, -4.93696000e+19]\n",
    "re = [ 4.93696000e+19,  4.93696000e+19,  4.93696000e+19]\n",
    "\n",
    "box = pf.box(le, re)\n",
    "\n",
    "min_dens = np.min(box[\"density\"])\n",
    "max_dens = np.max(box[\"density\"])\n",
    "\n",
    "min_nh   = np.min(box[\"nH\"])\n",
    "max_nh   = np.max(box[\"nH\"])\n",
    "\n",
    "min_temp = np.min(box[\"temperature\"])\n",
    "max_temp = np.max(box[\"temperature\"])\n",
    "\n",
    "min_ne = np.min(box[\"ne\"])\n",
    "max_ne = np.max(box[\"ne\"])\n",
    "\n",
    "min_xe = np.min(box[\"xe\"])\n",
    "max_xe = np.max(box[\"xe\"])\n",
    "\n",
    "min_Av = np.min(box[\"cdto\"])\n",
    "max_Av = np.max(box[\"cdto\"])"
   ]
  },
  {
   "cell_type": "code",
   "execution_count": 4,
   "metadata": {},
   "outputs": [],
   "source": [
    "wnm = ((box[\"temperature\"].in_units(\"K\") > 6.0e3)&(box[\"temperature\"].in_units(\"K\") < 1.0e4)&(box[\"iha \"] > 0.6)&(box[\"nH\"] >= 0.75))\n",
    "cnm = ((box[\"temperature\"].in_units(\"K\") > 50)   &(box[\"temperature\"].in_units(\"K\") < 70)   &(box[\"iha \"] > 0.6))\n",
    "cmm = ((box[\"temperature\"].in_units(\"K\") < 50)   &(box[\"ih2 \"] > 0.6) &(box[\"nH\"] <3.0e4))\n",
    "\n",
    "wnmtrue = np.argwhere(wnm==True)\n",
    "cnmtrue = np.argwhere(cnm==True)\n",
    "cmmtrue = np.argwhere(cmm==True)\n",
    "\n",
    "wnmindex = wnmtrue[0]\n",
    "#wnmindex = [3626974]\n",
    "cnmindex = cnmtrue[0]\n",
    "#cmmindex = cmmtrue[3626974]\n",
    "cmmindex = [3479445]"
   ]
  },
  {
   "cell_type": "code",
   "execution_count": 5,
   "metadata": {},
   "outputs": [],
   "source": [
    "indexarr = np.array([wnmindex, cnmindex, cmmindex])\n",
    "\n",
    "temp= np.array( box[\"temp\"][indexarr])\n",
    "dd  = np.array( box[\"dens\"][indexarr])\n",
    "nH  = np.array( box[\"nH\"]  [indexarr])\n",
    "nH2 = np.array( box[\"nH2\"]  [indexarr])\n",
    "nC  = np.array( box[\"nC\"]  [indexarr])\n",
    "ne  = np.array( box[\"ne\"]  [indexarr])\n",
    "xe  = np.array( box[\"xe\"]  [indexarr])\n",
    "xHp = np.array( box[\"xHp\"]  [indexarr])\n",
    "xH2 = np.array( box[\"xH2\"]  [indexarr])\n",
    "xCp = np.array( box[\"xCp\"]  [indexarr])\n",
    "Av  = np.array( box[\"cdto\"][indexarr])\n",
    "fH2shield  = np.array( box[\"cdh2\"][indexarr])\n",
    "\n",
    "G0 = 1.7\n",
    "Ntot =  Av * 1.87e21\n",
    "\n",
    "GG = [fz.get_G(Ntot[0], G0=G0), fz.get_G(Ntot[1], G0=G0), fz.get_G(Ntot[2], G0=G0)]\n",
    "\n",
    "NH2 = np.zeros_like(nH2)\n",
    "for i in range(3):\n",
    "    NH2[i] = fz.get_NH2(fH2shield[i], temp[i])\n",
    "\n",
    "zeta_cmm = fz.get_zeta(NH2[2])\n",
    "ne_cmm, xe_cmm    = fz.compute_new_xe([nH[2], nC[2]], [xe[2], xCp[2]], xH2[2], zeta=zeta_cmm)\n",
    "\n",
    "xe[2] = xe_cmm\n",
    "ne[2] = nH[2]*xe_cmm\n",
    "\n",
    "for i in range(3):\n",
    "    G_CR = fz.get_G_CR(NH2[i])\n",
    "    \n",
    "Gtot = GG + G_CR"
   ]
  },
  {
   "cell_type": "markdown",
   "metadata": {},
   "source": [
    "$$ \\Gamma^{''}_{\\mathrm{pe}}(a, Z, G) = \\Gamma_0 \\mathrm{\\; erg \\; s^{-1}} \\left( \\frac{G}{1.7} \\right) \\left( \\frac{a}{5 A} \\right)^{\\alpha} \\mathrm{exp}(-\\zeta Z) $$\n",
    "\n",
    "Silicates\n",
    "$$ \\zeta(a) = 2.95 \\, \\left(\\frac{a}{5 A}\\right)^{-1.04}$$\n",
    "\n",
    "$$ \\Gamma_0 = 2.3 \\times 10^{-20} $$\n",
    "\n",
    "Carbonaceous\n",
    "$$ \\Gamma_0 = 4.07 \\times 10^{-20} $$\n",
    "\n",
    "$$ f(Z) = \\frac{1}{\\sqrt{2\\pi \\sigma_{Z}^{2}}} \\; \\mathrm{exp}\\left( - \\frac{(Z - \\langle Z \\rangle)^{2}}{2\\sigma_{Z}^{2}} \\right)$$\n"
   ]
  },
  {
   "cell_type": "markdown",
   "metadata": {},
   "source": [
    "---"
   ]
  },
  {
   "cell_type": "code",
   "execution_count": 14,
   "metadata": {},
   "outputs": [],
   "source": [
    "import parametric_PeHeat as peh"
   ]
  },
  {
   "cell_type": "markdown",
   "metadata": {},
   "source": [
    "---"
   ]
  },
  {
   "cell_type": "code",
   "execution_count": 18,
   "metadata": {},
   "outputs": [
    {
     "name": "stdout",
     "output_type": "stream",
     "text": [
      "('Total silicate grain density     ', (3.616394874572037e-08, 7.798648719395752e-09))\n",
      "('Total carbonaceous grain density ', (6.196919970329322e-07, 1.1219924933897294e-09))\n",
      "-----------------------------\n",
      "simpson / quad.\n",
      "('Carbonaceous ', 0.99911776192807711)\n",
      "('Silicates    ', 1.0027634362549478)\n"
     ]
    }
   ],
   "source": [
    "# Check the integration of the size distribution.\n",
    "from scipy.integrate import simps\n",
    "\n",
    "# using quad integration from scipy.\n",
    "totd_s = integrate.quad(lambda x:sizedist.dnda(x, \"silicate\"), 3.5, 2500)\n",
    "totd_c = integrate.quad(lambda x:sizedist.dnda(x, \"carbonaceous\"), 3.5, 2500)\n",
    "\n",
    "print(\"Total silicate grain density     \", totd_s)\n",
    "print(\"Total carbonaceous grain density \", totd_c)\n",
    "\n",
    "# Integration using simpsons rule. \n",
    "x = np.logspace(np.log10(3.5), np.log10(2500), num=50)\n",
    "yc = sizedist.dnda(x, \"carbonaceous\")\n",
    "ys = sizedist.dnda(x, \"silicate\")\n",
    "\n",
    "yc2, ys2 =np.zeros_like(yc), np.zeros_like(ys)\n",
    "for i in range(len(x)):\n",
    "    yc2[i] = sizedist.dnda(x[i], \"carbonaceous\")\n",
    "    ys2[i] = sizedist.dnda(x[i], \"silicate\")\n",
    "    \n",
    "totd_s_fix = simps(ys, x)\n",
    "totd_c_fix = simps(yc, x)\n",
    "\n",
    "print(\"--------------------------------------------\")\n",
    "print(\"Relative accuracy between integration using:\")\n",
    "print(\"simpson / quad.\")\n",
    "print(\"Carbonaceous \", totd_c_fix/totd_c[0])\n",
    "print(\"Silicates    \", totd_s_fix/totd_s[0])"
   ]
  },
  {
   "cell_type": "markdown",
   "metadata": {},
   "source": [
    "---"
   ]
  },
  {
   "cell_type": "code",
   "execution_count": 19,
   "metadata": {},
   "outputs": [],
   "source": [
    "vec_Gammadot = np.vectorize(peh.get_Gamma_dot)"
   ]
  },
  {
   "cell_type": "code",
   "execution_count": 51,
   "metadata": {},
   "outputs": [
    {
     "name": "stdout",
     "output_type": "stream",
     "text": [
      "--------------------------------------\n",
      "('Silicates   ', 1.1025895179242642)\n",
      "('Carbonaceous', 1.1463870885571896)\n",
      "('Total       ', 1.135556146039453)\n"
     ]
    }
   ],
   "source": [
    "# Compare integration of the photoelectric heating\n",
    "\n",
    "amin, amax = 2.0, 3000\n",
    "fheat = lambda grain_size, Gtot, T, ne, grain_type: 1.0e21*peh.get_Gamma_dot(Gtot, T, ne, grain_size, grain_type)*sizedist.dnda(grain_size, grain_type)\n",
    "    \n",
    "Gamma_pe_sil,  err = integrate.quad(fheat, amin, amax, args=(Gtot[2], temp[2], ne[2], \"silicate\"))\n",
    "Gamma_pe_carb, err = integrate.quad(fheat, amin, amax, args=(Gtot[2], temp[2], ne[2], \"carbonaceous\"))\n",
    "\n",
    "x  = np.logspace(np.log10(amin), np.log10(amax), num=50)\n",
    "yc = sizedist.dnda(x, \"carbonaceous\")\n",
    "ys = sizedist.dnda(x, \"silicate\")\n",
    "\n",
    "y_Gpe_s = vec_Gammadot(Gtot[2], temp[2], ne[2], x, \"silicate\")*ys*1.0e21\n",
    "y_Gpe_c = vec_Gammadot(Gtot[2], temp[2], ne[2], x, \"carbonaceous\")*yc*1.0e21\n",
    "\n",
    "Gamma_pe_sil_fix = simps(y_Gpe_s, x)\n",
    "Gamma_pe_carb_fix = simps(y_Gpe_c, x)\n",
    "\n",
    "print(\"--------------------------------------\")\n",
    "#print(Gamma_pe_sil, Gamma_pe_sil_fix, Gamma_pe_sil/Gamma_pe_sil_fix)\n",
    "#print(Gamma_pe_carb, Gamma_pe_carb_fix, Gamma_pe_carb/Gamma_pe_carb_fix)\n",
    "#print(Gamma_pe_sil+Gamma_pe_carb, Gamma_pe_sil_fix+Gamma_pe_carb_fix, (Gamma_pe_sil+Gamma_pe_carb)/(Gamma_pe_sil_fix+Gamma_pe_carb_fix))\n",
    "print(\"Silicates   \", Gamma_pe_sil/Gamma_pe_sil_fix)\n",
    "print(\"Carbonaceous\", Gamma_pe_carb/Gamma_pe_carb_fix)\n",
    "print(\"Total       \", (Gamma_pe_sil+Gamma_pe_carb)/(Gamma_pe_sil_fix+Gamma_pe_carb_fix))"
   ]
  },
  {
   "cell_type": "code",
   "execution_count": 65,
   "metadata": {},
   "outputs": [],
   "source": [
    "Gamma_tot_k = np.zeros(50, dtype=np.float)\n",
    "trapz_s = np.zeros(50, dtype=np.float)\n",
    "trapz_c = np.zeros(50, dtype=np.float)\n",
    "trapz_s_cumul = np.zeros(50, dtype=np.float)\n",
    "trapz_c_cumul = np.zeros(50, dtype=np.float)\n",
    "\n",
    "deltax  = np.zeros(50, dtype=np.float) \n",
    "\n",
    "k=1\n",
    "while k < 50:\n",
    "    deltax[k-1] = x[k] - x[k-1]\n",
    "    trapz_s[k-1] = (y_Gpe_s[k-1] + y_Gpe_s[k])/2.0*deltax[k-1]\n",
    "    trapz_s_cumul[k-1] = np.sum(trapz_s[0:k])\n",
    "    trapz_c_cumul[k-1] = np.sum(trapz_c[0:k])\n",
    "    trapz_c[k-1] = (y_Gpe_c[k-1] + y_Gpe_c[k])/2.0*deltax[k-1]\n",
    "    Gamma_tot_k[k-1] = (y_Gpe_s[k-1] + y_Gpe_s[k])/2.0*deltax[k-1] + (y_Gpe_c[k-1] + y_Gpe_c[k])/2.0*deltax[k-1]\n",
    "    k+=1"
   ]
  },
  {
   "cell_type": "code",
   "execution_count": 66,
   "metadata": {},
   "outputs": [
    {
     "name": "stdout",
     "output_type": "stream",
     "text": [
      "0.909712125697\n",
      "0.875580931634\n",
      "0.883776384532\n",
      "0.874542460663\n",
      "0.909712125697\n"
     ]
    }
   ],
   "source": [
    "print(np.sum(trapz_s) / Gamma_pe_sil)\n",
    "print(np.sum(trapz_c) / Gamma_pe_carb)\n",
    "print(np.sum(Gamma_tot_k) / (Gamma_pe_sil+Gamma_pe_carb))\n",
    "print(trapz_c_cumul[-2]/ Gamma_pe_carb)\n",
    "print(trapz_s_cumul[-2]/ Gamma_pe_sil)"
   ]
  },
  {
   "cell_type": "code",
   "execution_count": 54,
   "metadata": {},
   "outputs": [
    {
     "data": {
      "image/png": "[encoded data removed]",
      "text/plain": [
       "<Figure size 432x288 with 1 Axes>"
      ]
     },
     "metadata": {},
     "output_type": "display_data"
    }
   ],
   "source": [
    "fig = plt.figure()\n",
    "ax = fig.add_subplot(111)\n",
    "ax.plot(x[0:49], trapz_s[0:49], \"-k\", linewidth=2)\n",
    "ax.plot(x[0:49], trapz_c[0:49], \"-r\", linewidth=2)\n",
    "ax.set_xscale(\"log\")\n",
    "ax.set_yscale(\"log\")\n",
    "fig.show()"
   ]
  },
  {
   "cell_type": "code",
   "execution_count": 70,
   "metadata": {},
   "outputs": [
    {
     "data": {
      "image/png": "[encoded data removed]",
      "text/plain": [
       "<Figure size 432x288 with 1 Axes>"
      ]
     },
     "metadata": {},
     "output_type": "display_data"
    }
   ],
   "source": [
    "fig = plt.figure()\n",
    "ax = fig.add_subplot(111)\n",
    "#ax.plot(x[0:49], trapz_s_cumul[0:49], \"-k\", linewidth=2)\n",
    "#ax.plot(x[0:49], trapz_c_cumul[0:49], \"-r\", linewidth=2)\n",
    "ax.plot(x[0:49], (trapz_c_cumul[0:49]+trapz_s_cumul[0:49])/np.sum(Gamma_tot_k), \"-b\", linewidth=2)\n",
    "ax.set_xscale(\"log\")\n",
    "ax.set_yscale(\"log\")\n",
    "ax.set_ylim(0.1, 1.01)\n",
    "fig.show()"
   ]
  },
  {
   "cell_type": "code",
   "execution_count": 278,
   "metadata": {
    "collapsed": true
   },
   "outputs": [],
   "source": [
    "def get_Gamma_tot_FixInt(amin, amax, numint=50):\n",
    "\n",
    "    x = np.logspace(np.log10(amin), np.log10(amax), num=numint)\n",
    "    yc = sizedist.dnda(x, \"carbonaceous\")\n",
    "    ys = sizedist.dnda(x, \"silicate\")\n",
    "\n",
    "    y_Gpe_s = vec_Gammadot(Gtot[1], temp[1], ne[1], x, \"silicate\")*ys*1.0e21\n",
    "    y_Gpe_c = vec_Gammadot(Gtot[1], temp[1], ne[1], x, \"carbonaceous\")*yc*1.0e21\n",
    "\n",
    "    Gamma_pe_sil_fix = simps(y_Gpe_s, x)\n",
    "    Gamma_pe_carb_fix = simps(y_Gpe_c, x)\n",
    "    \n",
    "    Gamma_tot= Gamma_pe_sil_fix + Gamma_pe_carb_fix\n",
    "    \n",
    "    return Gamma_tot"
   ]
  },
  {
   "cell_type": "code",
   "execution_count": 279,
   "metadata": {},
   "outputs": [],
   "source": [
    "Gtt0 = get_Gamma_tot(Gtot[1], temp[1], ne[1])"
   ]
  },
  {
   "cell_type": "code",
   "execution_count": 280,
   "metadata": {},
   "outputs": [
    {
     "name": "stdout",
     "output_type": "stream",
     "text": [
      "('Relative diff', 0.3514510586821726)\n"
     ]
    }
   ],
   "source": [
    "Gttfix = get_Gamma_tot_FixInt(3.5, 2500, numint=20)\n",
    "\n",
    "print(\"Relative diff\", abs((Gtt0 - Gttfix)/Gtt0*100.))"
   ]
  },
  {
   "cell_type": "markdown",
   "metadata": {},
   "source": [
    "---"
   ]
  },
  {
   "cell_type": "markdown",
   "metadata": {},
   "source": [
    "# Now, the full calculation of the photoelectric heating."
   ]
  },
  {
   "cell_type": "code",
   "execution_count": 12,
   "metadata": {},
   "outputs": [],
   "source": [
    "NH2 = np.zeros_like(nH)\n",
    "for i in range(3):\n",
    "    NH2[i] = fz.get_NH2(fH2shield[i], temp[i])"
   ]
  },
  {
   "cell_type": "code",
   "execution_count": 46,
   "metadata": {},
   "outputs": [],
   "source": [
    "phase = 0\n",
    "grain_size = 5.0\n",
    "grain_type = \"silicate\"\n",
    "\n",
    "\n",
    "def netHeating_full(grain_size, grain_type, nH, temp, xe, xH2, Ntot, NH2, G0=1.7, save_output=False, outdir=\"default\", pedantic=False):\n",
    "    \"\"\"\n",
    "    Perform the full calculation of the net heating by a single grain given the ISM ambient parameters.\n",
    "    \"\"\"\n",
    "    import cPickle as pickle\n",
    "    import compute_charge_dist as fz\n",
    "    import numpy as np\n",
    "    import PeHeat_Functions as peh\n",
    "    \n",
    "    #Full calculation of the net heating by a grain at a given cell.\n",
    "    Qabs = fz.get_QabsTable(grain_type, grain_size)\n",
    "\n",
    "    #print(\"Running grain size %i, \"%(grain_size))\n",
    "\n",
    "    zeta = fz.get_zeta(NH2)\n",
    "\n",
    "    # Compute the charge distribution.\n",
    "    ############################################################################################\n",
    "    Jpe, Je, Jh, Jc, ZZall = fz.compute_currents ([nH, nH*1.0e-4], [xe, 1.0e4*min(xe, 1.0e-4)], xH2, temp, zeta, grain_size, Ntot, grain_type, Qabs, G0=G0)\n",
    "    JCRe, JCRpe, ZZnew     = fz.compute_CR_currents(nH, zeta, grain_size, grain_type, Qabs)\n",
    "\n",
    "    zeq                    = fz.get_zeq_vec      (Jpe, Je, Jh, Jc, ZZall, grain_size, grain_type)\n",
    "    new_zmin, new_zmax     = fz.get_new_zmin_zmax([nH, nH*1.0e-4], [xe, 1.0e4*min(xe, 1.0e-4)], temp, grain_size, Ntot, grain_type, Qabs, zeta, zeq=zeq, G0=G0, includeCR=True)    \n",
    "    \n",
    "    ffzCR, ZZfz            = fz.vector_fz        (Jpe, Je, Jh, Jc, JCRe, JCRpe, ZZall, new_zmin, new_zmax, includeCR=True)\n",
    "\n",
    "    # Compute the minimum and maximum allowd charges by this grain\n",
    "    Zmin, Zmax = fz.get_Zmin(grain_size, grain_type), fz.get_Zmax(grain_size, grain_type)\n",
    "    Znum       = int(Zmax + abs(Zmin) +1)\n",
    "    ZZ_all     = np.linspace(Zmin, Zmax, num=Znum)\n",
    "\n",
    "    Gamma_dotdot_Z = np.zeros_like(ZZ_all, dtype=np.float)\n",
    "\n",
    "    for i in range(Znum):\n",
    "        Gamma_dotdot_Z[i] = peh.get_Gamma_pe_dotdot(grain_size, ZZ_all[i], grain_type, Ntot, Qabs)    \n",
    "\n",
    "    Cooling = peh.Cool_per_Grain(grain_size, grain_type, ZZfz, ffzCR, nH, xe, temp)\n",
    "\n",
    "    Av = Ntot/1.87e21\n",
    "    \n",
    "    Geff = G0*np.exp(-2.5*Av)\n",
    "    G_CR = fz.get_G_CR(NH2)\n",
    "    \n",
    "    Gtot = Geff+G_CR\n",
    "    \n",
    "    Heating = peh.Gamma_per_grain(ZZ_all, Gamma_dotdot_Z, ZZfz, ffzCR)\n",
    "\n",
    "    netHeating = Heating - Cooling\n",
    "    \n",
    "    if save_output:\n",
    "        if nH < 1.0:\n",
    "            phase = \"WNM\"\n",
    "        elif nH>1.0 and nH<100:\n",
    "            phase = \"CNM\"\n",
    "        else:\n",
    "            phase = \"CMM\"\n",
    "        \n",
    "        if outdir == \"default\":\n",
    "            outdir = \"/home/jcibanezm/codes/run/PeHeat\"\n",
    "        \n",
    "        if grain_size <= 12:\n",
    "            filename = \"%s/TotalHeating_ISM%s_%s_%.5iAA.pkl\"%(outdir, phase, grain_type, grain_size*10.)\n",
    "        else:\n",
    "            filename = \"%s/TotalHeating_ISM%s_%s_%.4iAA.pkl\"%(outdir, phase, grain_type, grain_size)\n",
    "    \n",
    "        dictionary = {\"info\":\"Saving the Heating, Cooling, charge array and charge distribution.\"}\n",
    "        dictionary[\"netHeating\"] = netHeating\n",
    "        dictionary[\"Cooling\"] = Cooling\n",
    "        dictionary[\"grain_size\"] = grain_size\n",
    "        dictionary[\"grain_type\"] = grain_type\n",
    "        dictionary[\"ffz\"] = ffzCR\n",
    "        dictionary[\"ZZ\"] = ZZfz\n",
    "        dictionary[\"nH\"] = nH\n",
    "        dictionary[\"temp\"] = temp\n",
    "        dictionary[\"Geff\"] = Geff\n",
    "        dictionary[\"Gtot\"] = Gtot\n",
    "        dictionary[\"zeta\"] = zeta\n",
    "        dictionary[\"Ntot\"] = Ntot\n",
    "        dictionary[\"NH2\"] = NH2\n",
    "        dictionary[\"ne\"] = nH*xe\n",
    "        dictionary[\"xe\"] = xe\n",
    "        dictionary[\"xH2\"] = xH2\n",
    "\n",
    "        if pedantic == True:\n",
    "            print(\"Saving a file with the information of the net Heating and Cooling in this cell.\")\n",
    "            print(\"Cell properties:\")\n",
    "            print(\"grain size = %.1f, grain type = %s\"%(grain_size, grain_type))\n",
    "            print(\"ntot = %.2g \\t temp = %.2g \\t Geff = %.2g \\t Gtot = %.2g\"%(nH, temp, Geff, Gtot))\n",
    "            print(\"zeta = %.2g \\t Ntot = %.2g \\t NH2 = %.2g \\t ne = %.2g\"%(zeta, Ntot, NH2, nH*xe))\n",
    "            print(\"xe = %.2g \\t xH2 = %.2g\"%(xe, xH2))\n",
    "            print(\"netHeating = %.2g erg s-1  \\t Cooling %.2g erg s-1\"%(netHeating, Cooling))\n",
    "            print(\"ZZ =\", ZZfz)\n",
    "            print(\"f(Z) = \",ffzCR)\n",
    "        \n",
    "        outfile = open('%s'%(filename), 'wb')\n",
    "        pickle.dump(dictionary, outfile)\n",
    "        outfile.close()\n",
    "        \n",
    "        #print(\"Saving the heating, cooling, charge array and charge distribution array to file %s\"%filename)\n",
    "    \n",
    "    #return netHeating, Cooling, ZZfz, ffzCR\n",
    "    return netHeating"
   ]
  },
  {
   "cell_type": "code",
   "execution_count": 31,
   "metadata": {},
   "outputs": [
    {
     "name": "stdout",
     "output_type": "stream",
     "text": [
      "I'm looking for a grain size smaller than 10 Angstrom. Outside the tabulated data!!!\n",
      "Using the absorption efficiency for a 10 AA grain\n",
      "Saving a file with the information of the net Heating and Cooling in this cell.\n",
      "Cell properties:\n",
      "grain size = 3.5, grain type = silicate\n",
      "ntot = 36 \t temp = 70 \t Geff = 0.6 \t Gtot = 0.6\n",
      "zeta = 1.3e-15 \t Ntot = 7.8e+20 \t NH2 = 6.1e+19 \t ne = 0.0063\n",
      "xe = 0.00018 \t xH2 = 0.15\n",
      "netHeating = 1.4e-21 erg s-1  \t Cooling 1.2e-23 erg s-1\n",
      "('ZZ =', array([-1,  0,  1]))\n",
      "('f(Z) = ', array([ 0.02171221,  0.96279364,  0.01549415]))\n"
     ]
    },
    {
     "data": {
      "text/plain": [
       "array([  1.41477866e-21])"
      ]
     },
     "execution_count": 31,
     "metadata": {},
     "output_type": "execute_result"
    }
   ],
   "source": [
    "netHeating_full(1993., \"silicate\", nH[1], temp[1], xe[1], xH2[1], Ntot[1], NH2[1], save_output=True, pedantic=True)\n",
    "print(\"Done 1993 silicate\")\n",
    "netHeating_full(1993., \"carbonaceous\", nH[1], temp[1], xe[1], xH2[1], Ntot[1], NH2[1], save_output=True, pedantic=True)\n",
    "print(\"Done 1993 carbonaceous\")\n",
    "netHeating_full(2499, \"silicate\", nH[1], temp[1], xe[1], xH2[1], Ntot[1], NH2[1], save_output=True, pedantic=True)\n",
    "print(\"Done 1993 silicate\")\n",
    "netHeating_full(2499, \"carbonaceous\", nH[1], temp[1], xe[1], xH2[1], Ntot[1], NH2[1], save_output=True, pedantic=True)\n",
    "print(\"Done 1993 carbonaceous\")"
   ]
  },
  {
   "cell_type": "code",
   "execution_count": 45,
   "metadata": {},
   "outputs": [
    {
     "name": "stdout",
     "output_type": "stream",
     "text": [
      "[    3.5            3.74020179     3.99688841     4.2711912      4.56431914\n",
      "     4.87756417     5.21230693     5.57002278     5.95228833     6.36078843\n",
      "     6.7973235      7.26381758     7.76232673     8.29504809     8.86432964\n",
      "     9.47268046    10.12278183    10.81749907    11.55989411    12.35323905\n",
      "    13.20103052    14.10700514    15.07515597    16.10975011    17.21534749\n",
      "    18.396821      19.65937796    21.00858305    22.45038285    23.99113204\n",
      "    25.63762144    27.39710789    29.27734629    31.28662373    33.43379603\n",
      "    35.7283268     38.18032912    40.8006101     43.60071857    46.59299592\n",
      "    49.79063051    53.20771584    56.8593126     60.7615151     64.93152217\n",
      "    69.38771301    74.14972815    79.23855601    84.67662547    90.48790465\n",
      "    96.69800659   103.33430213   110.42604056   118.00447849   126.10301767\n",
      "   134.75735216   144.0056257    153.88859978   164.4498333    175.7358746\n",
      "   187.79646657   200.68476591   214.45757742   229.17560435   244.90371598\n",
      "   261.71123349   279.67223552   298.86588465   319.37677633   341.2953117\n",
      "   364.71809606   389.74836464   416.4964376    445.08020629   475.62565282\n",
      "   508.26740534   543.14933142   580.4251721    620.25921956   662.82704117\n",
      "   708.31625336   756.92734848   808.87457849   864.38689927   923.70897974\n",
      "   987.10228021  1054.84620477  1127.23933278  1204.60073479  1287.2713789\n",
      "  1375.61563352  1470.02287335  1570.90919551  1678.71925346  1793.92821686\n",
      "  1917.0438658   2048.60882885  2189.20297471  2339.44596791  2500.        ]\n"
     ]
    }
   ],
   "source": [
    "amin, amax, numint = 3.5, 2500, 100\n",
    "x = np.logspace(np.log10(amin), np.log10(amax), num=numint)\n",
    "print(x)"
   ]
  },
  {
   "cell_type": "code",
   "execution_count": 32,
   "metadata": {},
   "outputs": [],
   "source": [
    "def get_Gamma_tot_Full(nH, temp, xe, xH2, Ntot, NH2, amin, amax, G0=1.7, numint=35, save_output=False, outdir=\"default\"):\n",
    "    \"\"\"\n",
    "    Returns GammaTot*1.0e21\n",
    "    \"\"\"\n",
    "    \n",
    "    import dust_size_dist as sizedist\n",
    "    from scipy.integrate import simps\n",
    "    \n",
    "    x = np.logspace(np.log10(amin), np.log10(amax), num=numint)\n",
    "    yc = sizedist.dnda(x, \"carbonaceous\")\n",
    "    ys = sizedist.dnda(x, \"silicate\")\n",
    "\n",
    "    for grain_size in x:\n",
    "        y_Gpe_s = netHeating_full(grain_size, \"silicate\", nH, temp, xe, xH2, Ntot, NH2, G0=G0, save_output=save_output, outdir=outdir)*ys*1.0e21\n",
    "        y_Gpe_c = netHeating_full(grain_size, \"carbonaceous\", nH, temp, xe, xH2, Ntot, NH2, G0=G0, save_output=save_output, outdir=outdir)*yc*1.0e21\n",
    "\n",
    "    Gamma_pe_sil_fix  = simps(y_Gpe_s, x)\n",
    "    Gamma_pe_carb_fix = simps(y_Gpe_c, x)\n",
    "    \n",
    "    Gamma_tot= Gamma_pe_sil_fix + Gamma_pe_carb_fix\n",
    "    \n",
    "    return Gamma_tot"
   ]
  },
  {
   "cell_type": "code",
   "execution_count": 307,
   "metadata": {
    "collapsed": true
   },
   "outputs": [
    {
     "ename": "KeyboardInterrupt",
     "evalue": "",
     "output_type": "error",
     "traceback": [
      "\u001b[0;31m---------------------------------------------------------------------------\u001b[0m",
      "\u001b[0;31mKeyboardInterrupt\u001b[0m                         Traceback (most recent call last)",
      "\u001b[0;32m<ipython-input-307-a058f80b2c26>\u001b[0m in \u001b[0;36m<module>\u001b[0;34m()\u001b[0m\n\u001b[0;32m----> 1\u001b[0;31m \u001b[0mGtot_WNM\u001b[0m \u001b[0;34m=\u001b[0m \u001b[0mget_Gamma_tot_Full\u001b[0m\u001b[0;34m(\u001b[0m\u001b[0mnH\u001b[0m\u001b[0;34m[\u001b[0m\u001b[0;36m0\u001b[0m\u001b[0;34m]\u001b[0m\u001b[0;34m,\u001b[0m \u001b[0mtemp\u001b[0m\u001b[0;34m[\u001b[0m\u001b[0;36m0\u001b[0m\u001b[0;34m]\u001b[0m\u001b[0;34m,\u001b[0m \u001b[0mxe\u001b[0m\u001b[0;34m[\u001b[0m\u001b[0;36m0\u001b[0m\u001b[0;34m]\u001b[0m\u001b[0;34m,\u001b[0m \u001b[0mxH2\u001b[0m\u001b[0;34m[\u001b[0m\u001b[0;36m0\u001b[0m\u001b[0;34m]\u001b[0m\u001b[0;34m,\u001b[0m \u001b[0mNtot\u001b[0m\u001b[0;34m[\u001b[0m\u001b[0;36m0\u001b[0m\u001b[0;34m]\u001b[0m\u001b[0;34m,\u001b[0m \u001b[0mNH2\u001b[0m\u001b[0;34m[\u001b[0m\u001b[0;36m0\u001b[0m\u001b[0;34m]\u001b[0m\u001b[0;34m,\u001b[0m \u001b[0;36m1588\u001b[0m\u001b[0;34m,\u001b[0m \u001b[0;36m2500\u001b[0m\u001b[0;34m,\u001b[0m \u001b[0mnumint\u001b[0m\u001b[0;34m=\u001b[0m\u001b[0;36m3\u001b[0m\u001b[0;34m,\u001b[0m \u001b[0msave_output\u001b[0m\u001b[0;34m=\u001b[0m\u001b[0mFalse\u001b[0m\u001b[0;34m)\u001b[0m\u001b[0;34m\u001b[0m\u001b[0m\n\u001b[0m",
      "\u001b[0;32m<ipython-input-301-901120e02b01>\u001b[0m in \u001b[0;36mget_Gamma_tot_Full\u001b[0;34m(nH, temp, xe, xH2, Ntot, NH2, amin, amax, G0, numint, save_output, outdir)\u001b[0m\n\u001b[1;32m     12\u001b[0m \u001b[0;34m\u001b[0m\u001b[0m\n\u001b[1;32m     13\u001b[0m     \u001b[0;32mfor\u001b[0m \u001b[0mgrain_size\u001b[0m \u001b[0;32min\u001b[0m \u001b[0mx\u001b[0m\u001b[0;34m:\u001b[0m\u001b[0;34m\u001b[0m\u001b[0m\n\u001b[0;32m---> 14\u001b[0;31m         \u001b[0my_Gpe_s\u001b[0m \u001b[0;34m=\u001b[0m \u001b[0mnetHeating_full\u001b[0m\u001b[0;34m(\u001b[0m\u001b[0mgrain_size\u001b[0m\u001b[0;34m,\u001b[0m \u001b[0;34m\"silicate\"\u001b[0m\u001b[0;34m,\u001b[0m \u001b[0mnH\u001b[0m\u001b[0;34m,\u001b[0m \u001b[0mtemp\u001b[0m\u001b[0;34m,\u001b[0m \u001b[0mxe\u001b[0m\u001b[0;34m,\u001b[0m \u001b[0mxH2\u001b[0m\u001b[0;34m,\u001b[0m \u001b[0mNtot\u001b[0m\u001b[0;34m,\u001b[0m \u001b[0mNH2\u001b[0m\u001b[0;34m,\u001b[0m \u001b[0mG0\u001b[0m\u001b[0;34m=\u001b[0m\u001b[0mG0\u001b[0m\u001b[0;34m,\u001b[0m \u001b[0msave_output\u001b[0m\u001b[0;34m=\u001b[0m\u001b[0msave_output\u001b[0m\u001b[0;34m,\u001b[0m \u001b[0moutdir\u001b[0m\u001b[0;34m=\u001b[0m\u001b[0moutdir\u001b[0m\u001b[0;34m)\u001b[0m\u001b[0;34m*\u001b[0m\u001b[0mys\u001b[0m\u001b[0;34m*\u001b[0m\u001b[0;36m1.0e21\u001b[0m\u001b[0;34m\u001b[0m\u001b[0m\n\u001b[0m\u001b[1;32m     15\u001b[0m         \u001b[0my_Gpe_c\u001b[0m \u001b[0;34m=\u001b[0m \u001b[0mnetHeating_full\u001b[0m\u001b[0;34m(\u001b[0m\u001b[0mgrain_size\u001b[0m\u001b[0;34m,\u001b[0m \u001b[0;34m\"carbonaceous\"\u001b[0m\u001b[0;34m,\u001b[0m \u001b[0mnH\u001b[0m\u001b[0;34m,\u001b[0m \u001b[0mtemp\u001b[0m\u001b[0;34m,\u001b[0m \u001b[0mxe\u001b[0m\u001b[0;34m,\u001b[0m \u001b[0mxH2\u001b[0m\u001b[0;34m,\u001b[0m \u001b[0mNtot\u001b[0m\u001b[0;34m,\u001b[0m \u001b[0mNH2\u001b[0m\u001b[0;34m,\u001b[0m \u001b[0mG0\u001b[0m\u001b[0;34m=\u001b[0m\u001b[0mG0\u001b[0m\u001b[0;34m,\u001b[0m \u001b[0msave_output\u001b[0m\u001b[0;34m=\u001b[0m\u001b[0msave_output\u001b[0m\u001b[0;34m,\u001b[0m \u001b[0moutdir\u001b[0m\u001b[0;34m=\u001b[0m\u001b[0moutdir\u001b[0m\u001b[0;34m)\u001b[0m\u001b[0;34m*\u001b[0m\u001b[0myc\u001b[0m\u001b[0;34m*\u001b[0m\u001b[0;36m1.0e21\u001b[0m\u001b[0;34m\u001b[0m\u001b[0m\n\u001b[1;32m     16\u001b[0m \u001b[0;34m\u001b[0m\u001b[0m\n",
      "\u001b[0;32m<ipython-input-306-a3527e4878a1>\u001b[0m in \u001b[0;36mnetHeating_full\u001b[0;34m(grain_size, grain_type, nH, temp, xe, xH2, Ntot, NH2, G0, save_output, outdir)\u001b[0m\n\u001b[1;32m     22\u001b[0m     \u001b[0;31m# Compute the charge distribution.\u001b[0m\u001b[0;34m\u001b[0m\u001b[0;34m\u001b[0m\u001b[0m\n\u001b[1;32m     23\u001b[0m     \u001b[0;31m############################################################################################\u001b[0m\u001b[0;34m\u001b[0m\u001b[0;34m\u001b[0m\u001b[0m\n\u001b[0;32m---> 24\u001b[0;31m     \u001b[0mJpe\u001b[0m\u001b[0;34m,\u001b[0m \u001b[0mJe\u001b[0m\u001b[0;34m,\u001b[0m \u001b[0mJh\u001b[0m\u001b[0;34m,\u001b[0m \u001b[0mJc\u001b[0m\u001b[0;34m,\u001b[0m \u001b[0mZZall\u001b[0m \u001b[0;34m=\u001b[0m \u001b[0mfz\u001b[0m\u001b[0;34m.\u001b[0m\u001b[0mcompute_currents\u001b[0m \u001b[0;34m(\u001b[0m\u001b[0;34m[\u001b[0m\u001b[0mnH\u001b[0m\u001b[0;34m,\u001b[0m \u001b[0mnH\u001b[0m\u001b[0;34m*\u001b[0m\u001b[0;36m1.0e-4\u001b[0m\u001b[0;34m]\u001b[0m\u001b[0;34m,\u001b[0m \u001b[0;34m[\u001b[0m\u001b[0mxe\u001b[0m\u001b[0;34m,\u001b[0m \u001b[0;36m1.0e4\u001b[0m\u001b[0;34m*\u001b[0m\u001b[0mmin\u001b[0m\u001b[0;34m(\u001b[0m\u001b[0mxe\u001b[0m\u001b[0;34m,\u001b[0m \u001b[0;36m1.0e-4\u001b[0m\u001b[0;34m)\u001b[0m\u001b[0;34m]\u001b[0m\u001b[0;34m,\u001b[0m \u001b[0mxH2\u001b[0m\u001b[0;34m,\u001b[0m \u001b[0mtemp\u001b[0m\u001b[0;34m,\u001b[0m \u001b[0mzeta\u001b[0m\u001b[0;34m,\u001b[0m \u001b[0mgrain_size\u001b[0m\u001b[0;34m,\u001b[0m \u001b[0mNtot\u001b[0m\u001b[0;34m,\u001b[0m \u001b[0mgrain_type\u001b[0m\u001b[0;34m,\u001b[0m \u001b[0mQabs\u001b[0m\u001b[0;34m,\u001b[0m \u001b[0mG0\u001b[0m\u001b[0;34m=\u001b[0m\u001b[0mG0\u001b[0m\u001b[0;34m)\u001b[0m\u001b[0;34m\u001b[0m\u001b[0m\n\u001b[0m\u001b[1;32m     25\u001b[0m     \u001b[0mJCRe\u001b[0m\u001b[0;34m,\u001b[0m \u001b[0mJCRpe\u001b[0m\u001b[0;34m,\u001b[0m \u001b[0mZZnew\u001b[0m     \u001b[0;34m=\u001b[0m \u001b[0mfz\u001b[0m\u001b[0;34m.\u001b[0m\u001b[0mcompute_CR_currents\u001b[0m\u001b[0;34m(\u001b[0m\u001b[0mnH\u001b[0m\u001b[0;34m,\u001b[0m \u001b[0mzeta\u001b[0m\u001b[0;34m,\u001b[0m \u001b[0mgrain_size\u001b[0m\u001b[0;34m,\u001b[0m \u001b[0mgrain_type\u001b[0m\u001b[0;34m,\u001b[0m \u001b[0mQabs\u001b[0m\u001b[0;34m)\u001b[0m\u001b[0;34m\u001b[0m\u001b[0m\n\u001b[1;32m     26\u001b[0m \u001b[0;34m\u001b[0m\u001b[0m\n",
      "\u001b[0;32m/home/jcibanezm/codes/DustCharge/compute_charge_dist.pyc\u001b[0m in \u001b[0;36mcompute_currents\u001b[0;34m(numdens, xp, xH2, T, zeta, asize, Ntot, grain_type, Qabs, mu, zmin, zmax, G0, includeCR)\u001b[0m\n\u001b[1;32m   1415\u001b[0m     \u001b[0;32mfor\u001b[0m \u001b[0mii\u001b[0m \u001b[0;32min\u001b[0m \u001b[0mrange\u001b[0m\u001b[0;34m(\u001b[0m\u001b[0mzitts\u001b[0m\u001b[0;34m)\u001b[0m\u001b[0;34m:\u001b[0m\u001b[0;34m\u001b[0m\u001b[0m\n\u001b[1;32m   1416\u001b[0m         \u001b[0mzhere\u001b[0m \u001b[0;34m=\u001b[0m \u001b[0mzmin\u001b[0m \u001b[0;34m+\u001b[0m \u001b[0mii\u001b[0m\u001b[0;34m\u001b[0m\u001b[0m\n\u001b[0;32m-> 1417\u001b[0;31m         \u001b[0mJPE\u001b[0m\u001b[0;34m[\u001b[0m\u001b[0mii\u001b[0m\u001b[0;34m]\u001b[0m  \u001b[0;34m=\u001b[0m \u001b[0mJrate_pe\u001b[0m\u001b[0;34m(\u001b[0m\u001b[0masize\u001b[0m\u001b[0;34m,\u001b[0m \u001b[0mzhere\u001b[0m\u001b[0;34m,\u001b[0m \u001b[0mgrain_type\u001b[0m\u001b[0;34m,\u001b[0m \u001b[0mNtot\u001b[0m\u001b[0;34m,\u001b[0m \u001b[0mQabs\u001b[0m\u001b[0;34m,\u001b[0m \u001b[0mG0\u001b[0m\u001b[0;34m=\u001b[0m\u001b[0mG0\u001b[0m\u001b[0;34m)\u001b[0m\u001b[0;34m\u001b[0m\u001b[0m\n\u001b[0m\u001b[1;32m   1418\u001b[0m         \u001b[0mJE\u001b[0m\u001b[0;34m[\u001b[0m\u001b[0mii\u001b[0m\u001b[0;34m]\u001b[0m   \u001b[0;34m=\u001b[0m \u001b[0mJrate\u001b[0m   \u001b[0;34m(\u001b[0m\u001b[0mzhere\u001b[0m\u001b[0;34m,\u001b[0m \u001b[0mne\u001b[0m\u001b[0;34m,\u001b[0m \u001b[0;36m1.0\u001b[0m\u001b[0;34m,\u001b[0m \u001b[0mT\u001b[0m\u001b[0;34m,\u001b[0m \u001b[0masize\u001b[0m\u001b[0;34m,\u001b[0m\u001b[0;34m'electron'\u001b[0m\u001b[0;34m,\u001b[0m \u001b[0mgrain_type\u001b[0m\u001b[0;34m)\u001b[0m\u001b[0;34m\u001b[0m\u001b[0m\n\u001b[1;32m   1419\u001b[0m         \u001b[0mJH\u001b[0m\u001b[0;34m[\u001b[0m\u001b[0mii\u001b[0m\u001b[0;34m]\u001b[0m   \u001b[0;34m=\u001b[0m \u001b[0mJrate\u001b[0m   \u001b[0;34m(\u001b[0m\u001b[0mzhere\u001b[0m\u001b[0;34m,\u001b[0m \u001b[0mnH\u001b[0m\u001b[0;34m,\u001b[0m \u001b[0mxHp\u001b[0m\u001b[0;34m,\u001b[0m \u001b[0mT\u001b[0m\u001b[0;34m,\u001b[0m \u001b[0masize\u001b[0m\u001b[0;34m,\u001b[0m\u001b[0;34m'hydrogen'\u001b[0m\u001b[0;34m,\u001b[0m \u001b[0mgrain_type\u001b[0m\u001b[0;34m)\u001b[0m\u001b[0;34m\u001b[0m\u001b[0m\n",
      "\u001b[0;32m/home/jcibanezm/codes/DustCharge/compute_charge_dist.pyc\u001b[0m in \u001b[0;36mJrate_pe\u001b[0;34m(asize, Z, grain_type, Ntot, Qabs, G0)\u001b[0m\n\u001b[1;32m    921\u001b[0m     \u001b[0;32melse\u001b[0m\u001b[0;34m:\u001b[0m\u001b[0;34m\u001b[0m\u001b[0m\n\u001b[1;32m    922\u001b[0m         \u001b[0;31m# Integrate the photoemission from dust grains.\u001b[0m\u001b[0;34m\u001b[0m\u001b[0;34m\u001b[0m\u001b[0m\n\u001b[0;32m--> 923\u001b[0;31m         \u001b[0mJpe_pet\u001b[0m \u001b[0;34m=\u001b[0m \u001b[0mintegrate\u001b[0m\u001b[0;34m.\u001b[0m\u001b[0mquad\u001b[0m\u001b[0;34m(\u001b[0m\u001b[0mget_YQcu_hnu\u001b[0m\u001b[0;34m,\u001b[0m \u001b[0mnu_low\u001b[0m\u001b[0;34m,\u001b[0m \u001b[0mnu_up\u001b[0m\u001b[0;34m,\u001b[0m \u001b[0margs\u001b[0m\u001b[0;34m=\u001b[0m\u001b[0;34m(\u001b[0m\u001b[0masize\u001b[0m\u001b[0;34m,\u001b[0m \u001b[0mZ\u001b[0m\u001b[0;34m,\u001b[0m \u001b[0mgrain_type\u001b[0m\u001b[0;34m,\u001b[0m \u001b[0mNtot\u001b[0m\u001b[0;34m,\u001b[0m \u001b[0mQabs\u001b[0m\u001b[0;34m,\u001b[0m \u001b[0mG0\u001b[0m\u001b[0;34m)\u001b[0m\u001b[0;34m)\u001b[0m\u001b[0;34m[\u001b[0m\u001b[0;36m0\u001b[0m\u001b[0;34m]\u001b[0m\u001b[0;34m\u001b[0m\u001b[0m\n\u001b[0m\u001b[1;32m    924\u001b[0m         \u001b[0;31m#Jpe_pet = basic_integral(get_YQcu_hnu, nu_low, nu_up, asize, Z, grain_type, Ndust, G0)\u001b[0m\u001b[0;34m\u001b[0m\u001b[0;34m\u001b[0m\u001b[0m\n\u001b[1;32m    925\u001b[0m \u001b[0;34m\u001b[0m\u001b[0m\n",
      "\u001b[0;32m/home/jcibanezm/codes/libs/miniconda3/lib/python2.7/site-packages/scipy/integrate/quadpack.pyc\u001b[0m in \u001b[0;36mquad\u001b[0;34m(func, a, b, args, full_output, epsabs, epsrel, limit, points, weight, wvar, wopts, maxp1, limlst)\u001b[0m\n\u001b[1;32m    321\u001b[0m     \u001b[0;32mif\u001b[0m \u001b[0;34m(\u001b[0m\u001b[0mweight\u001b[0m \u001b[0;32mis\u001b[0m \u001b[0mNone\u001b[0m\u001b[0;34m)\u001b[0m\u001b[0;34m:\u001b[0m\u001b[0;34m\u001b[0m\u001b[0m\n\u001b[1;32m    322\u001b[0m         retval = _quad(func, a, b, args, full_output, epsabs, epsrel, limit,\n\u001b[0;32m--> 323\u001b[0;31m                        points)\n\u001b[0m\u001b[1;32m    324\u001b[0m     \u001b[0;32melse\u001b[0m\u001b[0;34m:\u001b[0m\u001b[0;34m\u001b[0m\u001b[0m\n\u001b[1;32m    325\u001b[0m         retval = _quad_weight(func, a, b, args, full_output, epsabs, epsrel,\n",
      "\u001b[0;32m/home/jcibanezm/codes/libs/miniconda3/lib/python2.7/site-packages/scipy/integrate/quadpack.pyc\u001b[0m in \u001b[0;36m_quad\u001b[0;34m(func, a, b, args, full_output, epsabs, epsrel, limit, points)\u001b[0m\n\u001b[1;32m    386\u001b[0m     \u001b[0;32mif\u001b[0m \u001b[0mpoints\u001b[0m \u001b[0;32mis\u001b[0m \u001b[0mNone\u001b[0m\u001b[0;34m:\u001b[0m\u001b[0;34m\u001b[0m\u001b[0m\n\u001b[1;32m    387\u001b[0m         \u001b[0;32mif\u001b[0m \u001b[0minfbounds\u001b[0m \u001b[0;34m==\u001b[0m \u001b[0;36m0\u001b[0m\u001b[0;34m:\u001b[0m\u001b[0;34m\u001b[0m\u001b[0m\n\u001b[0;32m--> 388\u001b[0;31m             \u001b[0;32mreturn\u001b[0m \u001b[0m_quadpack\u001b[0m\u001b[0;34m.\u001b[0m\u001b[0m_qagse\u001b[0m\u001b[0;34m(\u001b[0m\u001b[0mfunc\u001b[0m\u001b[0;34m,\u001b[0m\u001b[0ma\u001b[0m\u001b[0;34m,\u001b[0m\u001b[0mb\u001b[0m\u001b[0;34m,\u001b[0m\u001b[0margs\u001b[0m\u001b[0;34m,\u001b[0m\u001b[0mfull_output\u001b[0m\u001b[0;34m,\u001b[0m\u001b[0mepsabs\u001b[0m\u001b[0;34m,\u001b[0m\u001b[0mepsrel\u001b[0m\u001b[0;34m,\u001b[0m\u001b[0mlimit\u001b[0m\u001b[0;34m)\u001b[0m\u001b[0;34m\u001b[0m\u001b[0m\n\u001b[0m\u001b[1;32m    389\u001b[0m         \u001b[0;32melse\u001b[0m\u001b[0;34m:\u001b[0m\u001b[0;34m\u001b[0m\u001b[0m\n\u001b[1;32m    390\u001b[0m             \u001b[0;32mreturn\u001b[0m \u001b[0m_quadpack\u001b[0m\u001b[0;34m.\u001b[0m\u001b[0m_qagie\u001b[0m\u001b[0;34m(\u001b[0m\u001b[0mfunc\u001b[0m\u001b[0;34m,\u001b[0m\u001b[0mbound\u001b[0m\u001b[0;34m,\u001b[0m\u001b[0minfbounds\u001b[0m\u001b[0;34m,\u001b[0m\u001b[0margs\u001b[0m\u001b[0;34m,\u001b[0m\u001b[0mfull_output\u001b[0m\u001b[0;34m,\u001b[0m\u001b[0mepsabs\u001b[0m\u001b[0;34m,\u001b[0m\u001b[0mepsrel\u001b[0m\u001b[0;34m,\u001b[0m\u001b[0mlimit\u001b[0m\u001b[0;34m)\u001b[0m\u001b[0;34m\u001b[0m\u001b[0m\n",
      "\u001b[0;32m/home/jcibanezm/codes/DustCharge/compute_charge_dist.pyc\u001b[0m in \u001b[0;36mget_YQcu_hnu\u001b[0;34m(nu, asize, Z, grain_type, Ntot, Qabs, G0)\u001b[0m\n\u001b[1;32m    798\u001b[0m     \u001b[0;31m# What is the corresponding wavelength of the photon in microns.\u001b[0m\u001b[0;34m\u001b[0m\u001b[0;34m\u001b[0m\u001b[0m\n\u001b[1;32m    799\u001b[0m     \u001b[0mlambda_here\u001b[0m \u001b[0;34m=\u001b[0m \u001b[0mclight\u001b[0m \u001b[0;34m/\u001b[0m \u001b[0mnu\u001b[0m \u001b[0;34m*\u001b[0m \u001b[0mcmtomicron\u001b[0m\u001b[0;34m\u001b[0m\u001b[0m\n\u001b[0;32m--> 800\u001b[0;31m     \u001b[0mQabs_nu\u001b[0m     \u001b[0;34m=\u001b[0m \u001b[0mf1d\u001b[0m\u001b[0;34m(\u001b[0m\u001b[0mlambda_here\u001b[0m\u001b[0;34m)\u001b[0m\u001b[0;34m\u001b[0m\u001b[0m\n\u001b[0m\u001b[1;32m    801\u001b[0m \u001b[0;34m\u001b[0m\u001b[0m\n\u001b[1;32m    802\u001b[0m     \u001b[0;31m#Qabs_basic  = get_Qabs(asize, grain_type)\u001b[0m\u001b[0;34m\u001b[0m\u001b[0;34m\u001b[0m\u001b[0m\n",
      "\u001b[0;32m/home/jcibanezm/codes/libs/miniconda3/lib/python2.7/site-packages/scipy/interpolate/polyint.pyc\u001b[0m in \u001b[0;36m__call__\u001b[0;34m(self, x)\u001b[0m\n\u001b[1;32m     76\u001b[0m \u001b[0;34m\u001b[0m\u001b[0m\n\u001b[1;32m     77\u001b[0m         \"\"\"\n\u001b[0;32m---> 78\u001b[0;31m         \u001b[0mx\u001b[0m\u001b[0;34m,\u001b[0m \u001b[0mx_shape\u001b[0m \u001b[0;34m=\u001b[0m \u001b[0mself\u001b[0m\u001b[0;34m.\u001b[0m\u001b[0m_prepare_x\u001b[0m\u001b[0;34m(\u001b[0m\u001b[0mx\u001b[0m\u001b[0;34m)\u001b[0m\u001b[0;34m\u001b[0m\u001b[0m\n\u001b[0m\u001b[1;32m     79\u001b[0m         \u001b[0my\u001b[0m \u001b[0;34m=\u001b[0m \u001b[0mself\u001b[0m\u001b[0;34m.\u001b[0m\u001b[0m_evaluate\u001b[0m\u001b[0;34m(\u001b[0m\u001b[0mx\u001b[0m\u001b[0;34m)\u001b[0m\u001b[0;34m\u001b[0m\u001b[0m\n\u001b[1;32m     80\u001b[0m         \u001b[0;32mreturn\u001b[0m \u001b[0mself\u001b[0m\u001b[0;34m.\u001b[0m\u001b[0m_finish_y\u001b[0m\u001b[0;34m(\u001b[0m\u001b[0my\u001b[0m\u001b[0;34m,\u001b[0m \u001b[0mx_shape\u001b[0m\u001b[0;34m)\u001b[0m\u001b[0;34m\u001b[0m\u001b[0m\n",
      "\u001b[0;32m/home/jcibanezm/codes/libs/miniconda3/lib/python2.7/site-packages/scipy/interpolate/polyint.pyc\u001b[0m in \u001b[0;36m_prepare_x\u001b[0;34m(self, x)\u001b[0m\n\u001b[1;32m     88\u001b[0m     \u001b[0;32mdef\u001b[0m \u001b[0m_prepare_x\u001b[0m\u001b[0;34m(\u001b[0m\u001b[0mself\u001b[0m\u001b[0;34m,\u001b[0m \u001b[0mx\u001b[0m\u001b[0;34m)\u001b[0m\u001b[0;34m:\u001b[0m\u001b[0;34m\u001b[0m\u001b[0m\n\u001b[1;32m     89\u001b[0m         \u001b[0;34m\"\"\"Reshape input x array to 1-D\"\"\"\u001b[0m\u001b[0;34m\u001b[0m\u001b[0m\n\u001b[0;32m---> 90\u001b[0;31m         \u001b[0mx\u001b[0m \u001b[0;34m=\u001b[0m \u001b[0m_asarray_validated\u001b[0m\u001b[0;34m(\u001b[0m\u001b[0mx\u001b[0m\u001b[0;34m,\u001b[0m \u001b[0mcheck_finite\u001b[0m\u001b[0;34m=\u001b[0m\u001b[0mFalse\u001b[0m\u001b[0;34m,\u001b[0m \u001b[0mas_inexact\u001b[0m\u001b[0;34m=\u001b[0m\u001b[0mTrue\u001b[0m\u001b[0;34m)\u001b[0m\u001b[0;34m\u001b[0m\u001b[0m\n\u001b[0m\u001b[1;32m     91\u001b[0m         \u001b[0mx_shape\u001b[0m \u001b[0;34m=\u001b[0m \u001b[0mx\u001b[0m\u001b[0;34m.\u001b[0m\u001b[0mshape\u001b[0m\u001b[0;34m\u001b[0m\u001b[0m\n\u001b[1;32m     92\u001b[0m         \u001b[0;32mreturn\u001b[0m \u001b[0mx\u001b[0m\u001b[0;34m.\u001b[0m\u001b[0mravel\u001b[0m\u001b[0;34m(\u001b[0m\u001b[0;34m)\u001b[0m\u001b[0;34m,\u001b[0m \u001b[0mx_shape\u001b[0m\u001b[0;34m\u001b[0m\u001b[0m\n",
      "\u001b[0;32m/home/jcibanezm/codes/libs/miniconda3/lib/python2.7/site-packages/scipy/_lib/_util.pyc\u001b[0m in \u001b[0;36m_asarray_validated\u001b[0;34m(a, check_finite, sparse_ok, objects_ok, mask_ok, as_inexact)\u001b[0m\n\u001b[1;32m    227\u001b[0m     \u001b[0;32mif\u001b[0m \u001b[0;32mnot\u001b[0m \u001b[0msparse_ok\u001b[0m\u001b[0;34m:\u001b[0m\u001b[0;34m\u001b[0m\u001b[0m\n\u001b[1;32m    228\u001b[0m         \u001b[0;32mimport\u001b[0m \u001b[0mscipy\u001b[0m\u001b[0;34m.\u001b[0m\u001b[0msparse\u001b[0m\u001b[0;34m\u001b[0m\u001b[0m\n\u001b[0;32m--> 229\u001b[0;31m         \u001b[0;32mif\u001b[0m \u001b[0mscipy\u001b[0m\u001b[0;34m.\u001b[0m\u001b[0msparse\u001b[0m\u001b[0;34m.\u001b[0m\u001b[0missparse\u001b[0m\u001b[0;34m(\u001b[0m\u001b[0ma\u001b[0m\u001b[0;34m)\u001b[0m\u001b[0;34m:\u001b[0m\u001b[0;34m\u001b[0m\u001b[0m\n\u001b[0m\u001b[1;32m    230\u001b[0m             msg = ('Sparse matrices are not supported by this function. '\n\u001b[1;32m    231\u001b[0m                    \u001b[0;34m'Perhaps one of the scipy.sparse.linalg functions '\u001b[0m\u001b[0;34m\u001b[0m\u001b[0m\n",
      "\u001b[0;32m/home/jcibanezm/codes/libs/miniconda3/lib/python2.7/site-packages/scipy/sparse/base.pyc\u001b[0m in \u001b[0;36misspmatrix\u001b[0;34m(x)\u001b[0m\n\u001b[1;32m   1110\u001b[0m \u001b[0;34m\u001b[0m\u001b[0m\n\u001b[1;32m   1111\u001b[0m \u001b[0;32mdef\u001b[0m \u001b[0misspmatrix\u001b[0m\u001b[0;34m(\u001b[0m\u001b[0mx\u001b[0m\u001b[0;34m)\u001b[0m\u001b[0;34m:\u001b[0m\u001b[0;34m\u001b[0m\u001b[0m\n\u001b[0;32m-> 1112\u001b[0;31m     \u001b[0;32mreturn\u001b[0m \u001b[0misinstance\u001b[0m\u001b[0;34m(\u001b[0m\u001b[0mx\u001b[0m\u001b[0;34m,\u001b[0m \u001b[0mspmatrix\u001b[0m\u001b[0;34m)\u001b[0m\u001b[0;34m\u001b[0m\u001b[0m\n\u001b[0m\u001b[1;32m   1113\u001b[0m \u001b[0;34m\u001b[0m\u001b[0m\n\u001b[1;32m   1114\u001b[0m \u001b[0missparse\u001b[0m \u001b[0;34m=\u001b[0m \u001b[0misspmatrix\u001b[0m\u001b[0;34m\u001b[0m\u001b[0m\n",
      "\u001b[0;31mKeyboardInterrupt\u001b[0m: "
     ]
    }
   ],
   "source": [
    "#Gtot_WNM = get_Gamma_tot_Full(nH[0], temp[0], xe[0], xH2[0], Ntot[0], NH2[0], 1588, 2500, numint=3, save_output=False)"
   ]
  },
  {
   "cell_type": "code",
   "execution_count": 38,
   "metadata": {},
   "outputs": [
    {
     "name": "stdout",
     "output_type": "stream",
     "text": [
      "I'm looking for a grain size smaller than 10 Angstrom. Outside the tabulated data!!!\n",
      "Using the absorption efficiency for a 10 AA grain\n",
      "I'm looking for a grain size smaller than 10 Angstrom. Outside the tabulated data!!!\n",
      "Using the absorption efficiency for a 10 AA grain\n",
      "I'm looking for a grain size smaller than 10 Angstrom. Outside the tabulated data!!!\n",
      "Using the absorption efficiency for a 10 AA grain\n",
      "I'm looking for a grain size smaller than 10 Angstrom. Outside the tabulated data!!!\n",
      "Using the absorption efficiency for a 10 AA grain\n",
      "I'm looking for a grain size smaller than 10 Angstrom. Outside the tabulated data!!!\n",
      "Using the absorption efficiency for a 10 AA grain\n",
      "I'm looking for a grain size smaller than 10 Angstrom. Outside the tabulated data!!!\n",
      "Using the absorption efficiency for a 10 AA grain\n",
      "I'm looking for a grain size smaller than 10 Angstrom. Outside the tabulated data!!!\n",
      "Using the absorption efficiency for a 10 AA grain\n",
      "I'm looking for a grain size smaller than 10 Angstrom. Outside the tabulated data!!!\n",
      "Using the absorption efficiency for a 10 AA grain\n",
      "I'm looking for a grain size smaller than 10 Angstrom. Outside the tabulated data!!!\n",
      "Using the absorption efficiency for a 10 AA grain\n",
      "I'm looking for a grain size smaller than 10 Angstrom. Outside the tabulated data!!!\n",
      "Using the absorption efficiency for a 10 AA grain\n"
     ]
    },
    {
     "name": "stderr",
     "output_type": "stream",
     "text": [
      "/home/jcibanezm/codes/libs/miniconda3/lib/python2.7/site-packages/scipy/integrate/quadpack.py:385: IntegrationWarning: The occurrence of roundoff error is detected, which prevents \n",
      "  the requested tolerance from being achieved.  The error may be \n",
      "  underestimated.\n",
      "  warnings.warn(msg, IntegrationWarning)\n",
      "/home/jcibanezm/codes/libs/miniconda3/lib/python2.7/site-packages/scipy/integrate/quadpack.py:385: IntegrationWarning: The integral is probably divergent, or slowly convergent.\n",
      "  warnings.warn(msg, IntegrationWarning)\n"
     ]
    }
   ],
   "source": [
    "Gtot_WNM = get_Gamma_tot_Full(nH[0], temp[0], xe[0], xH2[0], Ntot[0], NH2[0], 3.5, 259, numint=20, save_output=True)"
   ]
  },
  {
   "cell_type": "code",
   "execution_count": null,
   "metadata": {
    "collapsed": true
   },
   "outputs": [],
   "source": [
    "Gtot_CNM = get_Gamma_tot_Full(nH[1], temp[1], xe[1], xH2[1], Ntot[1], NH2[1], 3.5, 3.5, numint=1, save_output=True)"
   ]
  },
  {
   "cell_type": "code",
   "execution_count": 39,
   "metadata": {
    "scrolled": true
   },
   "outputs": [
    {
     "name": "stdout",
     "output_type": "stream",
     "text": [
      "I'm looking for a grain size smaller than 10 Angstrom. Outside the tabulated data!!!\n",
      "Using the absorption efficiency for a 10 AA grain\n",
      "I'm looking for a grain size smaller than 10 Angstrom. Outside the tabulated data!!!\n",
      "Using the absorption efficiency for a 10 AA grain\n",
      "I'm looking for a grain size smaller than 10 Angstrom. Outside the tabulated data!!!\n",
      "Using the absorption efficiency for a 10 AA grain\n",
      "I'm looking for a grain size smaller than 10 Angstrom. Outside the tabulated data!!!\n",
      "Using the absorption efficiency for a 10 AA grain\n",
      "I'm looking for a grain size smaller than 10 Angstrom. Outside the tabulated data!!!\n",
      "Using the absorption efficiency for a 10 AA grain\n",
      "I'm looking for a grain size smaller than 10 Angstrom. Outside the tabulated data!!!\n",
      "Using the absorption efficiency for a 10 AA grain\n",
      "I'm looking for a grain size smaller than 10 Angstrom. Outside the tabulated data!!!\n",
      "Using the absorption efficiency for a 10 AA grain\n",
      "I'm looking for a grain size smaller than 10 Angstrom. Outside the tabulated data!!!\n",
      "Using the absorption efficiency for a 10 AA grain\n",
      "I'm looking for a grain size smaller than 10 Angstrom. Outside the tabulated data!!!\n",
      "Using the absorption efficiency for a 10 AA grain\n",
      "I'm looking for a grain size smaller than 10 Angstrom. Outside the tabulated data!!!\n",
      "Using the absorption efficiency for a 10 AA grain\n",
      "I'm looking for a grain size smaller than 10 Angstrom. Outside the tabulated data!!!\n",
      "Using the absorption efficiency for a 10 AA grain\n",
      "I'm looking for a grain size smaller than 10 Angstrom. Outside the tabulated data!!!\n",
      "Using the absorption efficiency for a 10 AA grain\n",
      "I'm looking for a grain size smaller than 10 Angstrom. Outside the tabulated data!!!\n",
      "Using the absorption efficiency for a 10 AA grain\n",
      "I'm looking for a grain size smaller than 10 Angstrom. Outside the tabulated data!!!\n",
      "Using the absorption efficiency for a 10 AA grain\n",
      "I'm looking for a grain size smaller than 10 Angstrom. Outside the tabulated data!!!\n",
      "Using the absorption efficiency for a 10 AA grain\n",
      "I'm looking for a grain size smaller than 10 Angstrom. Outside the tabulated data!!!\n",
      "Using the absorption efficiency for a 10 AA grain\n",
      "I'm looking for a grain size smaller than 10 Angstrom. Outside the tabulated data!!!\n",
      "Using the absorption efficiency for a 10 AA grain\n",
      "I'm looking for a grain size smaller than 10 Angstrom. Outside the tabulated data!!!\n",
      "Using the absorption efficiency for a 10 AA grain\n",
      "I'm looking for a grain size smaller than 10 Angstrom. Outside the tabulated data!!!\n",
      "Using the absorption efficiency for a 10 AA grain\n",
      "I'm looking for a grain size smaller than 10 Angstrom. Outside the tabulated data!!!\n",
      "Using the absorption efficiency for a 10 AA grain\n",
      "I'm looking for a grain size smaller than 10 Angstrom. Outside the tabulated data!!!\n",
      "Using the absorption efficiency for a 10 AA grain\n",
      "I'm looking for a grain size smaller than 10 Angstrom. Outside the tabulated data!!!\n",
      "Using the absorption efficiency for a 10 AA grain\n",
      "I'm looking for a grain size smaller than 10 Angstrom. Outside the tabulated data!!!\n",
      "Using the absorption efficiency for a 10 AA grain\n",
      "I'm looking for a grain size smaller than 10 Angstrom. Outside the tabulated data!!!\n",
      "Using the absorption efficiency for a 10 AA grain\n",
      "I'm looking for a grain size smaller than 10 Angstrom. Outside the tabulated data!!!\n",
      "Using the absorption efficiency for a 10 AA grain\n",
      "I'm looking for a grain size smaller than 10 Angstrom. Outside the tabulated data!!!\n",
      "Using the absorption efficiency for a 10 AA grain\n",
      "I'm looking for a grain size smaller than 10 Angstrom. Outside the tabulated data!!!\n",
      "Using the absorption efficiency for a 10 AA grain\n",
      "I'm looking for a grain size smaller than 10 Angstrom. Outside the tabulated data!!!\n",
      "Using the absorption efficiency for a 10 AA grain\n",
      "I'm looking for a grain size smaller than 10 Angstrom. Outside the tabulated data!!!\n",
      "Using the absorption efficiency for a 10 AA grain\n",
      "I'm looking for a grain size smaller than 10 Angstrom. Outside the tabulated data!!!\n",
      "Using the absorption efficiency for a 10 AA grain\n",
      "I'm looking for a grain size smaller than 10 Angstrom. Outside the tabulated data!!!\n",
      "Using the absorption efficiency for a 10 AA grain\n",
      "I'm looking for a grain size smaller than 10 Angstrom. Outside the tabulated data!!!\n",
      "Using the absorption efficiency for a 10 AA grain\n"
     ]
    }
   ],
   "source": [
    "#Gtot_WNM = get_Gamma_tot_Full(nH[0], temp[0], xe[0], xH2[0], Ntot[0], NH2[0], 3.5, 2500, numint=30, save_output=True)\n",
    "Gtot_CNM = get_Gamma_tot_Full(nH[1], temp[1], xe[1], xH2[1], Ntot[1], NH2[1], 3.5, 2500, numint=50, save_output=True)\n",
    "Gtot_CMM = get_Gamma_tot_Full(nH[2], temp[2], xe[2], xH2[2], Ntot[2], NH2[2], 3.5, 2500, numint=50, save_output=True)"
   ]
  },
  {
   "cell_type": "code",
   "execution_count": null,
   "metadata": {
    "collapsed": true
   },
   "outputs": [],
   "source": [
    "Gtot_CNM_new = get_Gamma_tot_Full(nH[1], temp[1], xe[1], xH2[1], Ntot[1], NH2[1], 3.5, 2500, numint=100, save_output=True)\n",
    "\n",
    "12.35323905"
   ]
  },
  {
   "cell_type": "code",
   "execution_count": 40,
   "metadata": {
    "collapsed": true
   },
   "outputs": [
    {
     "name": "stdout",
     "output_type": "stream",
     "text": [
      "I'm looking for a grain size smaller than 10 Angstrom. Outside the tabulated data!!!\n",
      "Using the absorption efficiency for a 10 AA grain\n",
      "I'm looking for a grain size smaller than 10 Angstrom. Outside the tabulated data!!!\n",
      "Using the absorption efficiency for a 10 AA grain\n",
      "I'm looking for a grain size smaller than 10 Angstrom. Outside the tabulated data!!!\n",
      "Using the absorption efficiency for a 10 AA grain\n",
      "I'm looking for a grain size smaller than 10 Angstrom. Outside the tabulated data!!!\n",
      "Using the absorption efficiency for a 10 AA grain\n",
      "I'm looking for a grain size smaller than 10 Angstrom. Outside the tabulated data!!!\n",
      "Using the absorption efficiency for a 10 AA grain\n",
      "I'm looking for a grain size smaller than 10 Angstrom. Outside the tabulated data!!!\n",
      "Using the absorption efficiency for a 10 AA grain\n",
      "I'm looking for a grain size smaller than 10 Angstrom. Outside the tabulated data!!!\n",
      "Using the absorption efficiency for a 10 AA grain\n",
      "I'm looking for a grain size smaller than 10 Angstrom. Outside the tabulated data!!!\n",
      "Using the absorption efficiency for a 10 AA grain\n",
      "I'm looking for a grain size smaller than 10 Angstrom. Outside the tabulated data!!!\n",
      "Using the absorption efficiency for a 10 AA grain\n",
      "I'm looking for a grain size smaller than 10 Angstrom. Outside the tabulated data!!!\n",
      "Using the absorption efficiency for a 10 AA grain\n",
      "I'm looking for a grain size smaller than 10 Angstrom. Outside the tabulated data!!!\n",
      "Using the absorption efficiency for a 10 AA grain\n",
      "I'm looking for a grain size smaller than 10 Angstrom. Outside the tabulated data!!!\n",
      "Using the absorption efficiency for a 10 AA grain\n",
      "I'm looking for a grain size smaller than 10 Angstrom. Outside the tabulated data!!!\n",
      "Using the absorption efficiency for a 10 AA grain\n",
      "I'm looking for a grain size smaller than 10 Angstrom. Outside the tabulated data!!!\n",
      "Using the absorption efficiency for a 10 AA grain\n",
      "I'm looking for a grain size smaller than 10 Angstrom. Outside the tabulated data!!!\n",
      "Using the absorption efficiency for a 10 AA grain\n",
      "I'm looking for a grain size smaller than 10 Angstrom. Outside the tabulated data!!!\n",
      "Using the absorption efficiency for a 10 AA grain\n",
      "I'm looking for a grain size smaller than 10 Angstrom. Outside the tabulated data!!!\n",
      "Using the absorption efficiency for a 10 AA grain\n",
      "I'm looking for a grain size smaller than 10 Angstrom. Outside the tabulated data!!!\n",
      "Using the absorption efficiency for a 10 AA grain\n",
      "I'm looking for a grain size smaller than 10 Angstrom. Outside the tabulated data!!!\n",
      "Using the absorption efficiency for a 10 AA grain\n",
      "I'm looking for a grain size smaller than 10 Angstrom. Outside the tabulated data!!!\n",
      "Using the absorption efficiency for a 10 AA grain\n",
      "I'm looking for a grain size smaller than 10 Angstrom. Outside the tabulated data!!!\n",
      "Using the absorption efficiency for a 10 AA grain\n",
      "I'm looking for a grain size smaller than 10 Angstrom. Outside the tabulated data!!!\n",
      "Using the absorption efficiency for a 10 AA grain\n",
      "I'm looking for a grain size smaller than 10 Angstrom. Outside the tabulated data!!!\n",
      "Using the absorption efficiency for a 10 AA grain\n",
      "I'm looking for a grain size smaller than 10 Angstrom. Outside the tabulated data!!!\n",
      "Using the absorption efficiency for a 10 AA grain\n",
      "I'm looking for a grain size smaller than 10 Angstrom. Outside the tabulated data!!!\n",
      "Using the absorption efficiency for a 10 AA grain\n",
      "I'm looking for a grain size smaller than 10 Angstrom. Outside the tabulated data!!!\n",
      "Using the absorption efficiency for a 10 AA grain\n",
      "I'm looking for a grain size smaller than 10 Angstrom. Outside the tabulated data!!!\n",
      "Using the absorption efficiency for a 10 AA grain\n",
      "I'm looking for a grain size smaller than 10 Angstrom. Outside the tabulated data!!!\n",
      "Using the absorption efficiency for a 10 AA grain\n",
      "I'm looking for a grain size smaller than 10 Angstrom. Outside the tabulated data!!!\n",
      "Using the absorption efficiency for a 10 AA grain\n",
      "I'm looking for a grain size smaller than 10 Angstrom. Outside the tabulated data!!!\n",
      "Using the absorption efficiency for a 10 AA grain\n",
      "I'm looking for a grain size smaller than 10 Angstrom. Outside the tabulated data!!!\n",
      "Using the absorption efficiency for a 10 AA grain\n",
      "I'm looking for a grain size smaller than 10 Angstrom. Outside the tabulated data!!!\n",
      "Using the absorption efficiency for a 10 AA grain\n",
      "I'm looking for a grain size smaller than 10 Angstrom. Outside the tabulated data!!!\n",
      "Using the absorption efficiency for a 10 AA grain\n",
      "I'm looking for a grain size smaller than 10 Angstrom. Outside the tabulated data!!!\n",
      "Using the absorption efficiency for a 10 AA grain\n",
      "I'm looking for a grain size smaller than 10 Angstrom. Outside the tabulated data!!!\n",
      "Using the absorption efficiency for a 10 AA grain\n",
      "I'm looking for a grain size smaller than 10 Angstrom. Outside the tabulated data!!!\n",
      "Using the absorption efficiency for a 10 AA grain\n",
      "I'm looking for a grain size smaller than 10 Angstrom. Outside the tabulated data!!!\n",
      "Using the absorption efficiency for a 10 AA grain\n",
      "I'm looking for a grain size smaller than 10 Angstrom. Outside the tabulated data!!!\n",
      "Using the absorption efficiency for a 10 AA grain\n",
      "I'm looking for a grain size smaller than 10 Angstrom. Outside the tabulated data!!!\n",
      "Using the absorption efficiency for a 10 AA grain\n",
      "I'm looking for a grain size smaller than 10 Angstrom. Outside the tabulated data!!!\n",
      "Using the absorption efficiency for a 10 AA grain\n",
      "I'm looking for a grain size smaller than 10 Angstrom. Outside the tabulated data!!!\n",
      "Using the absorption efficiency for a 10 AA grain\n",
      "I'm looking for a grain size smaller than 10 Angstrom. Outside the tabulated data!!!\n",
      "Using the absorption efficiency for a 10 AA grain\n",
      "I'm looking for a grain size smaller than 10 Angstrom. Outside the tabulated data!!!\n",
      "Using the absorption efficiency for a 10 AA grain\n",
      "I'm looking for a grain size smaller than 10 Angstrom. Outside the tabulated data!!!\n",
      "Using the absorption efficiency for a 10 AA grain\n",
      "I'm looking for a grain size smaller than 10 Angstrom. Outside the tabulated data!!!\n",
      "Using the absorption efficiency for a 10 AA grain\n",
      "I'm looking for a grain size smaller than 10 Angstrom. Outside the tabulated data!!!\n",
      "Using the absorption efficiency for a 10 AA grain\n",
      "I'm looking for a grain size smaller than 10 Angstrom. Outside the tabulated data!!!\n",
      "Using the absorption efficiency for a 10 AA grain\n",
      "I'm looking for a grain size smaller than 10 Angstrom. Outside the tabulated data!!!\n",
      "Using the absorption efficiency for a 10 AA grain\n",
      "I'm looking for a grain size smaller than 10 Angstrom. Outside the tabulated data!!!\n",
      "Using the absorption efficiency for a 10 AA grain\n",
      "I'm looking for a grain size smaller than 10 Angstrom. Outside the tabulated data!!!\n",
      "Using the absorption efficiency for a 10 AA grain\n",
      "I'm looking for a grain size smaller than 10 Angstrom. Outside the tabulated data!!!\n",
      "Using the absorption efficiency for a 10 AA grain\n",
      "I'm looking for a grain size smaller than 10 Angstrom. Outside the tabulated data!!!\n",
      "Using the absorption efficiency for a 10 AA grain\n",
      "I'm looking for a grain size smaller than 10 Angstrom. Outside the tabulated data!!!\n",
      "Using the absorption efficiency for a 10 AA grain\n",
      "I'm looking for a grain size smaller than 10 Angstrom. Outside the tabulated data!!!\n",
      "Using the absorption efficiency for a 10 AA grain\n",
      "I'm looking for a grain size smaller than 10 Angstrom. Outside the tabulated data!!!\n",
      "Using the absorption efficiency for a 10 AA grain\n",
      "I'm looking for a grain size smaller than 10 Angstrom. Outside the tabulated data!!!\n",
      "Using the absorption efficiency for a 10 AA grain\n",
      "I'm looking for a grain size smaller than 10 Angstrom. Outside the tabulated data!!!\n",
      "Using the absorption efficiency for a 10 AA grain\n",
      "I'm looking for a grain size smaller than 10 Angstrom. Outside the tabulated data!!!\n",
      "Using the absorption efficiency for a 10 AA grain\n",
      "I'm looking for a grain size smaller than 10 Angstrom. Outside the tabulated data!!!\n",
      "Using the absorption efficiency for a 10 AA grain\n",
      "I'm looking for a grain size smaller than 10 Angstrom. Outside the tabulated data!!!\n",
      "Using the absorption efficiency for a 10 AA grain\n",
      "I'm looking for a grain size smaller than 10 Angstrom. Outside the tabulated data!!!\n",
      "Using the absorption efficiency for a 10 AA grain\n",
      "I'm looking for a grain size smaller than 10 Angstrom. Outside the tabulated data!!!\n",
      "Using the absorption efficiency for a 10 AA grain\n",
      "I'm looking for a grain size smaller than 10 Angstrom. Outside the tabulated data!!!\n",
      "Using the absorption efficiency for a 10 AA grain\n",
      "I'm looking for a grain size smaller than 10 Angstrom. Outside the tabulated data!!!\n",
      "Using the absorption efficiency for a 10 AA grain\n"
     ]
    }
   ],
   "source": [
    "Gtot_CNM = get_Gamma_tot_Full(nH[1], temp[1], xe[1], xH2[1], Ntot[1], NH2[1], 3.5, 2500, numint=100, save_output=True)\n",
    "Gtot_CMM = get_Gamma_tot_Full(nH[2], temp[2], xe[2], xH2[2], Ntot[2], NH2[2], 3.5, 2500, numint=100, save_output=True)"
   ]
  },
  {
   "cell_type": "code",
   "execution_count": 50,
   "metadata": {},
   "outputs": [
    {
     "name": "stdout",
     "output_type": "stream",
     "text": [
      "-2.43177088351e-26\n",
      "3.03900368702e-21\n",
      "3.89479685883e-22\n"
     ]
    }
   ],
   "source": [
    "print(Gtot_CMM*1.0e-21)\n",
    "print(Gtot_CNM*1.0e-21)\n",
    "print(Gtot_WNM*1.0e-21)"
   ]
  },
  {
   "cell_type": "code",
   "execution_count": 41,
   "metadata": {},
   "outputs": [
    {
     "name": "stdout",
     "output_type": "stream",
     "text": [
      "I'm looking for a grain size smaller than 10 Angstrom. Outside the tabulated data!!!\n",
      "Using the absorption efficiency for a 10 AA grain\n",
      "I'm looking for a grain size smaller than 10 Angstrom. Outside the tabulated data!!!\n",
      "Using the absorption efficiency for a 10 AA grain\n",
      "I'm looking for a grain size smaller than 10 Angstrom. Outside the tabulated data!!!\n",
      "Using the absorption efficiency for a 10 AA grain\n",
      "I'm looking for a grain size smaller than 10 Angstrom. Outside the tabulated data!!!\n",
      "Using the absorption efficiency for a 10 AA grain\n",
      "I'm looking for a grain size smaller than 10 Angstrom. Outside the tabulated data!!!\n",
      "Using the absorption efficiency for a 10 AA grain\n",
      "I'm looking for a grain size smaller than 10 Angstrom. Outside the tabulated data!!!\n",
      "Using the absorption efficiency for a 10 AA grain\n",
      "I'm looking for a grain size smaller than 10 Angstrom. Outside the tabulated data!!!\n",
      "Using the absorption efficiency for a 10 AA grain\n",
      "I'm looking for a grain size smaller than 10 Angstrom. Outside the tabulated data!!!\n",
      "Using the absorption efficiency for a 10 AA grain\n",
      "I'm looking for a grain size smaller than 10 Angstrom. Outside the tabulated data!!!\n",
      "Using the absorption efficiency for a 10 AA grain\n",
      "I'm looking for a grain size smaller than 10 Angstrom. Outside the tabulated data!!!\n",
      "Using the absorption efficiency for a 10 AA grain\n",
      "I'm looking for a grain size smaller than 10 Angstrom. Outside the tabulated data!!!\n",
      "Using the absorption efficiency for a 10 AA grain\n",
      "I'm looking for a grain size smaller than 10 Angstrom. Outside the tabulated data!!!\n",
      "Using the absorption efficiency for a 10 AA grain\n",
      "I'm looking for a grain size smaller than 10 Angstrom. Outside the tabulated data!!!\n",
      "Using the absorption efficiency for a 10 AA grain\n",
      "I'm looking for a grain size smaller than 10 Angstrom. Outside the tabulated data!!!\n",
      "Using the absorption efficiency for a 10 AA grain\n",
      "I'm looking for a grain size smaller than 10 Angstrom. Outside the tabulated data!!!\n",
      "Using the absorption efficiency for a 10 AA grain\n",
      "I'm looking for a grain size smaller than 10 Angstrom. Outside the tabulated data!!!\n",
      "Using the absorption efficiency for a 10 AA grain\n",
      "I'm looking for a grain size smaller than 10 Angstrom. Outside the tabulated data!!!\n",
      "Using the absorption efficiency for a 10 AA grain\n",
      "I'm looking for a grain size smaller than 10 Angstrom. Outside the tabulated data!!!\n",
      "Using the absorption efficiency for a 10 AA grain\n",
      "I'm looking for a grain size smaller than 10 Angstrom. Outside the tabulated data!!!\n",
      "Using the absorption efficiency for a 10 AA grain\n",
      "I'm looking for a grain size smaller than 10 Angstrom. Outside the tabulated data!!!\n",
      "Using the absorption efficiency for a 10 AA grain\n",
      "I'm looking for a grain size smaller than 10 Angstrom. Outside the tabulated data!!!\n",
      "Using the absorption efficiency for a 10 AA grain\n",
      "I'm looking for a grain size smaller than 10 Angstrom. Outside the tabulated data!!!\n",
      "Using the absorption efficiency for a 10 AA grain\n",
      "I'm looking for a grain size smaller than 10 Angstrom. Outside the tabulated data!!!\n",
      "Using the absorption efficiency for a 10 AA grain\n",
      "I'm looking for a grain size smaller than 10 Angstrom. Outside the tabulated data!!!\n",
      "Using the absorption efficiency for a 10 AA grain\n",
      "I'm looking for a grain size smaller than 10 Angstrom. Outside the tabulated data!!!\n",
      "Using the absorption efficiency for a 10 AA grain\n",
      "I'm looking for a grain size smaller than 10 Angstrom. Outside the tabulated data!!!\n",
      "Using the absorption efficiency for a 10 AA grain\n",
      "I'm looking for a grain size smaller than 10 Angstrom. Outside the tabulated data!!!\n",
      "Using the absorption efficiency for a 10 AA grain\n",
      "I'm looking for a grain size smaller than 10 Angstrom. Outside the tabulated data!!!\n",
      "Using the absorption efficiency for a 10 AA grain\n",
      "I'm looking for a grain size smaller than 10 Angstrom. Outside the tabulated data!!!\n",
      "Using the absorption efficiency for a 10 AA grain\n",
      "I'm looking for a grain size smaller than 10 Angstrom. Outside the tabulated data!!!\n",
      "Using the absorption efficiency for a 10 AA grain\n",
      "I'm looking for a grain size smaller than 10 Angstrom. Outside the tabulated data!!!\n",
      "Using the absorption efficiency for a 10 AA grain\n",
      "I'm looking for a grain size smaller than 10 Angstrom. Outside the tabulated data!!!\n",
      "Using the absorption efficiency for a 10 AA grain\n"
     ]
    }
   ],
   "source": [
    "Gtot_WNM = get_Gamma_tot_Full(nH[0], temp[0], xe[0], xH2[0], Ntot[0], NH2[0], 3.5, 1287.27137889, numint=90, save_output=True)"
   ]
  },
  {
   "cell_type": "code",
   "execution_count": 25,
   "metadata": {
    "collapsed": true
   },
   "outputs": [
    {
     "ename": "ValueError",
     "evalue": "negative dimensions are not allowed",
     "output_type": "error",
     "traceback": [
      "\u001b[0;31m---------------------------------------------------------------------------\u001b[0m",
      "\u001b[0;31mValueError\u001b[0m                                Traceback (most recent call last)",
      "\u001b[0;32m<ipython-input-25-8fc5a0586540>\u001b[0m in \u001b[0;36m<module>\u001b[0;34m()\u001b[0m\n\u001b[1;32m      1\u001b[0m \u001b[0;31m#carb1993 = netHeating_da_full(1993, \"carbonaceous\", nH[0], temp[0], xe[0], xH2[0], Ntot[0], NH2[0], G0=1.7, save_output=True)\u001b[0m\u001b[0;34m\u001b[0m\u001b[0;34m\u001b[0m\u001b[0m\n\u001b[0;32m----> 2\u001b[0;31m \u001b[0mcarb2499\u001b[0m \u001b[0;34m=\u001b[0m \u001b[0mnetHeating_da_full\u001b[0m\u001b[0;34m(\u001b[0m\u001b[0;36m2499\u001b[0m\u001b[0;34m,\u001b[0m \u001b[0;34m\"carbonaceous\"\u001b[0m\u001b[0;34m,\u001b[0m \u001b[0mnH\u001b[0m\u001b[0;34m[\u001b[0m\u001b[0;36m0\u001b[0m\u001b[0;34m]\u001b[0m\u001b[0;34m,\u001b[0m \u001b[0mtemp\u001b[0m\u001b[0;34m[\u001b[0m\u001b[0;36m0\u001b[0m\u001b[0;34m]\u001b[0m\u001b[0;34m,\u001b[0m \u001b[0mxe\u001b[0m\u001b[0;34m[\u001b[0m\u001b[0;36m0\u001b[0m\u001b[0;34m]\u001b[0m\u001b[0;34m,\u001b[0m \u001b[0mxH2\u001b[0m\u001b[0;34m[\u001b[0m\u001b[0;36m0\u001b[0m\u001b[0;34m]\u001b[0m\u001b[0;34m,\u001b[0m \u001b[0mNtot\u001b[0m\u001b[0;34m[\u001b[0m\u001b[0;36m0\u001b[0m\u001b[0;34m]\u001b[0m\u001b[0;34m,\u001b[0m \u001b[0mNH2\u001b[0m\u001b[0;34m[\u001b[0m\u001b[0;36m0\u001b[0m\u001b[0;34m]\u001b[0m\u001b[0;34m,\u001b[0m \u001b[0mG0\u001b[0m\u001b[0;34m=\u001b[0m\u001b[0;36m1.7\u001b[0m\u001b[0;34m,\u001b[0m \u001b[0msave_output\u001b[0m\u001b[0;34m=\u001b[0m\u001b[0mTrue\u001b[0m\u001b[0;34m)\u001b[0m\u001b[0;34m\u001b[0m\u001b[0m\n\u001b[0m\u001b[1;32m      3\u001b[0m \u001b[0msil2499\u001b[0m \u001b[0;34m=\u001b[0m \u001b[0mnetHeating_da_full\u001b[0m\u001b[0;34m(\u001b[0m\u001b[0;36m2499\u001b[0m\u001b[0;34m,\u001b[0m  \u001b[0;34m\"silicate\"\u001b[0m\u001b[0;34m,\u001b[0m     \u001b[0mnH\u001b[0m\u001b[0;34m[\u001b[0m\u001b[0;36m0\u001b[0m\u001b[0;34m]\u001b[0m\u001b[0;34m,\u001b[0m \u001b[0mtemp\u001b[0m\u001b[0;34m[\u001b[0m\u001b[0;36m0\u001b[0m\u001b[0;34m]\u001b[0m\u001b[0;34m,\u001b[0m \u001b[0mxe\u001b[0m\u001b[0;34m[\u001b[0m\u001b[0;36m0\u001b[0m\u001b[0;34m]\u001b[0m\u001b[0;34m,\u001b[0m \u001b[0mxH2\u001b[0m\u001b[0;34m[\u001b[0m\u001b[0;36m0\u001b[0m\u001b[0;34m]\u001b[0m\u001b[0;34m,\u001b[0m \u001b[0mNtot\u001b[0m\u001b[0;34m[\u001b[0m\u001b[0;36m0\u001b[0m\u001b[0;34m]\u001b[0m\u001b[0;34m,\u001b[0m \u001b[0mNH2\u001b[0m\u001b[0;34m[\u001b[0m\u001b[0;36m0\u001b[0m\u001b[0;34m]\u001b[0m\u001b[0;34m,\u001b[0m \u001b[0mG0\u001b[0m\u001b[0;34m=\u001b[0m\u001b[0;36m1.7\u001b[0m\u001b[0;34m,\u001b[0m \u001b[0msave_output\u001b[0m\u001b[0;34m=\u001b[0m\u001b[0mTrue\u001b[0m\u001b[0;34m)\u001b[0m\u001b[0;34m\u001b[0m\u001b[0m\n",
      "\u001b[0;32m<ipython-input-23-ff49ef979b05>\u001b[0m in \u001b[0;36mnetHeating_da_full\u001b[0;34m(grain_size, grain_type, nH, temp, xe, xH2, Ntot, NH2, G0, save_output, outdir)\u001b[0m\n\u001b[1;32m     28\u001b[0m     \u001b[0mnew_zmin\u001b[0m\u001b[0;34m,\u001b[0m \u001b[0mnew_zmax\u001b[0m     \u001b[0;34m=\u001b[0m \u001b[0mfz\u001b[0m\u001b[0;34m.\u001b[0m\u001b[0mget_new_zmin_zmax\u001b[0m\u001b[0;34m(\u001b[0m\u001b[0;34m[\u001b[0m\u001b[0mnH\u001b[0m\u001b[0;34m,\u001b[0m \u001b[0mnH\u001b[0m\u001b[0;34m*\u001b[0m\u001b[0;36m1.0e-4\u001b[0m\u001b[0;34m]\u001b[0m\u001b[0;34m,\u001b[0m \u001b[0;34m[\u001b[0m\u001b[0mxe\u001b[0m\u001b[0;34m,\u001b[0m \u001b[0;36m1.0e4\u001b[0m\u001b[0;34m*\u001b[0m\u001b[0mmin\u001b[0m\u001b[0;34m(\u001b[0m\u001b[0mxe\u001b[0m\u001b[0;34m,\u001b[0m \u001b[0;36m1.0e-4\u001b[0m\u001b[0;34m)\u001b[0m\u001b[0;34m]\u001b[0m\u001b[0;34m,\u001b[0m \u001b[0mtemp\u001b[0m\u001b[0;34m,\u001b[0m \u001b[0mgrain_size\u001b[0m\u001b[0;34m,\u001b[0m \u001b[0mNtot\u001b[0m\u001b[0;34m,\u001b[0m \u001b[0mgrain_type\u001b[0m\u001b[0;34m,\u001b[0m \u001b[0mQabs\u001b[0m\u001b[0;34m,\u001b[0m \u001b[0mzeta\u001b[0m\u001b[0;34m,\u001b[0m \u001b[0mzeq\u001b[0m\u001b[0;34m=\u001b[0m\u001b[0mzeq\u001b[0m\u001b[0;34m,\u001b[0m \u001b[0mG0\u001b[0m\u001b[0;34m=\u001b[0m\u001b[0mG0\u001b[0m\u001b[0;34m,\u001b[0m \u001b[0mincludeCR\u001b[0m\u001b[0;34m=\u001b[0m\u001b[0mTrue\u001b[0m\u001b[0;34m)\u001b[0m\u001b[0;34m\u001b[0m\u001b[0m\n\u001b[1;32m     29\u001b[0m \u001b[0;34m\u001b[0m\u001b[0m\n\u001b[0;32m---> 30\u001b[0;31m     \u001b[0mffzCR\u001b[0m\u001b[0;34m,\u001b[0m \u001b[0mZZfz\u001b[0m            \u001b[0;34m=\u001b[0m \u001b[0mfz\u001b[0m\u001b[0;34m.\u001b[0m\u001b[0mvector_fz\u001b[0m        \u001b[0;34m(\u001b[0m\u001b[0mJpe\u001b[0m\u001b[0;34m,\u001b[0m \u001b[0mJe\u001b[0m\u001b[0;34m,\u001b[0m \u001b[0mJh\u001b[0m\u001b[0;34m,\u001b[0m \u001b[0mJc\u001b[0m\u001b[0;34m,\u001b[0m \u001b[0mJCRe\u001b[0m\u001b[0;34m,\u001b[0m \u001b[0mJCRpe\u001b[0m\u001b[0;34m,\u001b[0m \u001b[0mZZall\u001b[0m\u001b[0;34m,\u001b[0m \u001b[0mnew_zmin\u001b[0m\u001b[0;34m,\u001b[0m \u001b[0mnew_zmax\u001b[0m\u001b[0;34m,\u001b[0m \u001b[0mincludeCR\u001b[0m\u001b[0;34m=\u001b[0m\u001b[0mTrue\u001b[0m\u001b[0;34m)\u001b[0m\u001b[0;34m\u001b[0m\u001b[0m\n\u001b[0m\u001b[1;32m     31\u001b[0m \u001b[0;34m\u001b[0m\u001b[0m\n\u001b[1;32m     32\u001b[0m     \u001b[0;31m# Compute the minimum and maximum allowd charges by this grain\u001b[0m\u001b[0;34m\u001b[0m\u001b[0;34m\u001b[0m\u001b[0m\n",
      "\u001b[0;32m/home/jcibanezm/codes/DustCharge/compute_charge_dist.pyc\u001b[0m in \u001b[0;36mvector_fz\u001b[0;34m(Jpe, Je, Jh, Jc, JCRe, JCRpe, ZZ, zmin, zmax, includeCR)\u001b[0m\n\u001b[1;32m   1935\u001b[0m     \u001b[0;31m#zitts = len(ZZ)\u001b[0m\u001b[0;34m\u001b[0m\u001b[0;34m\u001b[0m\u001b[0m\n\u001b[1;32m   1936\u001b[0m     \u001b[0mzitts\u001b[0m \u001b[0;34m=\u001b[0m \u001b[0mint\u001b[0m\u001b[0;34m(\u001b[0m\u001b[0mzmax\u001b[0m \u001b[0;34m-\u001b[0m \u001b[0mzmin\u001b[0m \u001b[0;34m+\u001b[0m \u001b[0;36m1\u001b[0m \u001b[0;34m)\u001b[0m\u001b[0;34m\u001b[0m\u001b[0m\n\u001b[0;32m-> 1937\u001b[0;31m     \u001b[0mfz\u001b[0m     \u001b[0;34m=\u001b[0m \u001b[0mnp\u001b[0m\u001b[0;34m.\u001b[0m\u001b[0mzeros\u001b[0m\u001b[0;34m(\u001b[0m\u001b[0mzitts\u001b[0m\u001b[0;34m,\u001b[0m \u001b[0mdtype\u001b[0m\u001b[0;34m=\u001b[0m\u001b[0mnp\u001b[0m\u001b[0;34m.\u001b[0m\u001b[0mfloat\u001b[0m\u001b[0;34m)\u001b[0m\u001b[0;34m\u001b[0m\u001b[0m\n\u001b[0m\u001b[1;32m   1938\u001b[0m     \u001b[0mnewZZ\u001b[0m  \u001b[0;34m=\u001b[0m \u001b[0mnp\u001b[0m\u001b[0;34m.\u001b[0m\u001b[0mzeros\u001b[0m\u001b[0;34m(\u001b[0m\u001b[0mzitts\u001b[0m\u001b[0;34m,\u001b[0m \u001b[0mdtype\u001b[0m\u001b[0;34m=\u001b[0m\u001b[0mnp\u001b[0m\u001b[0;34m.\u001b[0m\u001b[0mint\u001b[0m\u001b[0;34m)\u001b[0m\u001b[0;34m\u001b[0m\u001b[0m\n\u001b[1;32m   1939\u001b[0m \u001b[0;34m\u001b[0m\u001b[0m\n",
      "\u001b[0;31mValueError\u001b[0m: negative dimensions are not allowed"
     ]
    }
   ],
   "source": [
    "#carb1993 = netHeating_da_full(1993, \"carbonaceous\", nH[0], temp[0], xe[0], xH2[0], Ntot[0], NH2[0], G0=1.7, save_output=True)\n",
    "carb2499 = netHeating_da_full(2499, \"carbonaceous\", nH[0], temp[0], xe[0], xH2[0], Ntot[0], NH2[0], G0=1.7, save_output=True)\n",
    "sil2499 = netHeating_da_full(2499,  \"silicate\",     nH[0], temp[0], xe[0], xH2[0], Ntot[0], NH2[0], G0=1.7, save_output=True)"
   ]
  },
  {
   "cell_type": "code",
   "execution_count": null,
   "metadata": {
    "collapsed": true
   },
   "outputs": [],
   "source": [
    "# Calculate the total heating "
   ]
  },
  {
   "cell_type": "code",
   "execution_count": 42,
   "metadata": {},
   "outputs": [
    {
     "ename": "ValueError",
     "evalue": "negative dimensions are not allowed",
     "output_type": "error",
     "traceback": [
      "\u001b[0;31m---------------------------------------------------------------------------\u001b[0m",
      "\u001b[0;31mValueError\u001b[0m                                Traceback (most recent call last)",
      "\u001b[0;32m<ipython-input-42-1bac35a732f9>\u001b[0m in \u001b[0;36m<module>\u001b[0;34m()\u001b[0m\n\u001b[1;32m     29\u001b[0m     \u001b[0mnew_zmin\u001b[0m\u001b[0;34m,\u001b[0m \u001b[0mnew_zmax\u001b[0m     \u001b[0;34m=\u001b[0m \u001b[0mfz\u001b[0m\u001b[0;34m.\u001b[0m\u001b[0mget_new_zmin_zmax\u001b[0m\u001b[0;34m(\u001b[0m\u001b[0;34m[\u001b[0m\u001b[0mnH\u001b[0m\u001b[0;34m[\u001b[0m\u001b[0;36m0\u001b[0m\u001b[0;34m]\u001b[0m\u001b[0;34m,\u001b[0m \u001b[0mnH\u001b[0m\u001b[0;34m[\u001b[0m\u001b[0;36m0\u001b[0m\u001b[0;34m]\u001b[0m\u001b[0;34m*\u001b[0m\u001b[0;36m1.0e-4\u001b[0m\u001b[0;34m]\u001b[0m\u001b[0;34m,\u001b[0m \u001b[0;34m[\u001b[0m\u001b[0mxe\u001b[0m\u001b[0;34m[\u001b[0m\u001b[0;36m0\u001b[0m\u001b[0;34m]\u001b[0m\u001b[0;34m,\u001b[0m \u001b[0;36m1.0e4\u001b[0m\u001b[0;34m*\u001b[0m\u001b[0mmin\u001b[0m\u001b[0;34m(\u001b[0m\u001b[0mxe\u001b[0m\u001b[0;34m[\u001b[0m\u001b[0;36m0\u001b[0m\u001b[0;34m]\u001b[0m\u001b[0;34m,\u001b[0m \u001b[0;36m1.0e-4\u001b[0m\u001b[0;34m)\u001b[0m\u001b[0;34m]\u001b[0m\u001b[0;34m,\u001b[0m \u001b[0mtemp\u001b[0m\u001b[0;34m[\u001b[0m\u001b[0;36m0\u001b[0m\u001b[0;34m]\u001b[0m\u001b[0;34m,\u001b[0m \u001b[0mgrain_size\u001b[0m\u001b[0;34m,\u001b[0m \u001b[0mNtot\u001b[0m\u001b[0;34m[\u001b[0m\u001b[0;36m0\u001b[0m\u001b[0;34m]\u001b[0m\u001b[0;34m,\u001b[0m \u001b[0mgrain_type\u001b[0m\u001b[0;34m,\u001b[0m \u001b[0mQabs\u001b[0m\u001b[0;34m,\u001b[0m \u001b[0mzeta\u001b[0m\u001b[0;34m,\u001b[0m \u001b[0mzeq\u001b[0m\u001b[0;34m=\u001b[0m\u001b[0mzeq\u001b[0m\u001b[0;34m,\u001b[0m \u001b[0mG0\u001b[0m\u001b[0;34m=\u001b[0m\u001b[0mG0\u001b[0m\u001b[0;34m,\u001b[0m \u001b[0mincludeCR\u001b[0m\u001b[0;34m=\u001b[0m\u001b[0mTrue\u001b[0m\u001b[0;34m)\u001b[0m\u001b[0;34m\u001b[0m\u001b[0m\n\u001b[1;32m     30\u001b[0m \u001b[0;34m\u001b[0m\u001b[0m\n\u001b[0;32m---> 31\u001b[0;31m     \u001b[0mffzCR\u001b[0m\u001b[0;34m,\u001b[0m \u001b[0mZZfz\u001b[0m            \u001b[0;34m=\u001b[0m \u001b[0mfz\u001b[0m\u001b[0;34m.\u001b[0m\u001b[0mvector_fz\u001b[0m        \u001b[0;34m(\u001b[0m\u001b[0mJpe\u001b[0m\u001b[0;34m,\u001b[0m \u001b[0mJe\u001b[0m\u001b[0;34m,\u001b[0m \u001b[0mJh\u001b[0m\u001b[0;34m,\u001b[0m \u001b[0mJc\u001b[0m\u001b[0;34m,\u001b[0m \u001b[0mJCRe\u001b[0m\u001b[0;34m,\u001b[0m \u001b[0mJCRpe\u001b[0m\u001b[0;34m,\u001b[0m \u001b[0mZZall\u001b[0m\u001b[0;34m,\u001b[0m \u001b[0mnew_zmin\u001b[0m\u001b[0;34m,\u001b[0m \u001b[0mnew_zmax\u001b[0m\u001b[0;34m,\u001b[0m \u001b[0mincludeCR\u001b[0m\u001b[0;34m=\u001b[0m\u001b[0mTrue\u001b[0m\u001b[0;34m)\u001b[0m\u001b[0;34m\u001b[0m\u001b[0m\n\u001b[0m\u001b[1;32m     32\u001b[0m \u001b[0;34m\u001b[0m\u001b[0m\n\u001b[1;32m     33\u001b[0m     \u001b[0;31m# Compute the minimum and maximum allowd charges by this grain\u001b[0m\u001b[0;34m\u001b[0m\u001b[0;34m\u001b[0m\u001b[0m\n",
      "\u001b[0;32m/home/jcibanezm/codes/DustCharge/compute_charge_dist.pyc\u001b[0m in \u001b[0;36mvector_fz\u001b[0;34m(Jpe, Je, Jh, Jc, JCRe, JCRpe, ZZ, zmin, zmax, includeCR)\u001b[0m\n\u001b[1;32m   1935\u001b[0m     \u001b[0;31m#zitts = len(ZZ)\u001b[0m\u001b[0;34m\u001b[0m\u001b[0;34m\u001b[0m\u001b[0m\n\u001b[1;32m   1936\u001b[0m     \u001b[0mzitts\u001b[0m \u001b[0;34m=\u001b[0m \u001b[0mint\u001b[0m\u001b[0;34m(\u001b[0m\u001b[0mzmax\u001b[0m \u001b[0;34m-\u001b[0m \u001b[0mzmin\u001b[0m \u001b[0;34m+\u001b[0m \u001b[0;36m1\u001b[0m \u001b[0;34m)\u001b[0m\u001b[0;34m\u001b[0m\u001b[0m\n\u001b[0;32m-> 1937\u001b[0;31m     \u001b[0mfz\u001b[0m     \u001b[0;34m=\u001b[0m \u001b[0mnp\u001b[0m\u001b[0;34m.\u001b[0m\u001b[0mzeros\u001b[0m\u001b[0;34m(\u001b[0m\u001b[0mzitts\u001b[0m\u001b[0;34m,\u001b[0m \u001b[0mdtype\u001b[0m\u001b[0;34m=\u001b[0m\u001b[0mnp\u001b[0m\u001b[0;34m.\u001b[0m\u001b[0mfloat\u001b[0m\u001b[0;34m)\u001b[0m\u001b[0;34m\u001b[0m\u001b[0m\n\u001b[0m\u001b[1;32m   1938\u001b[0m     \u001b[0mnewZZ\u001b[0m  \u001b[0;34m=\u001b[0m \u001b[0mnp\u001b[0m\u001b[0;34m.\u001b[0m\u001b[0mzeros\u001b[0m\u001b[0;34m(\u001b[0m\u001b[0mzitts\u001b[0m\u001b[0;34m,\u001b[0m \u001b[0mdtype\u001b[0m\u001b[0;34m=\u001b[0m\u001b[0mnp\u001b[0m\u001b[0;34m.\u001b[0m\u001b[0mint\u001b[0m\u001b[0;34m)\u001b[0m\u001b[0;34m\u001b[0m\u001b[0m\n\u001b[1;32m   1939\u001b[0m \u001b[0;34m\u001b[0m\u001b[0m\n",
      "\u001b[0;31mValueError\u001b[0m: negative dimensions are not allowed"
     ]
    }
   ],
   "source": [
    "G0 = 1.7\n",
    "grain_type = \"carbonaceous\"\n",
    "grain_size = 1993.\n",
    "save_output = True\n",
    "phase = \"WNM\"\n",
    "\n",
    "for i in range(1):\n",
    "    \"\"\"\n",
    "    Perform the full calculation of the net heating by a single grain given the ISM ambient parameters.\n",
    "    \"\"\"\n",
    "    import cPickle as pickle\n",
    "    import compute_charge_dist as fz\n",
    "    import numpy as np\n",
    "    import PeHeat_Functions as peh\n",
    "    \n",
    "    #Full calculation of the net heating by a grain at a given cell.\n",
    "    Qabs = fz.get_QabsTable(grain_type, grain_size)\n",
    "\n",
    "    #print(\"Running grain size %i, \"%(grain_size))\n",
    "\n",
    "    zeta = fz.get_zeta(NH2[0])\n",
    "\n",
    "    # Compute the charge distribution.\n",
    "    ############################################################################################\n",
    "    Jpe, Je, Jh, Jc, ZZall = fz.compute_currents ([nH[0], nH[0]*1.0e-4], [xe[0], 1.0e4*min(xe[0], 1.0e-4)], xH2[0], temp[0], zeta, grain_size, Ntot[0], grain_type, Qabs, G0=G0)\n",
    "    JCRe, JCRpe, ZZnew     = fz.compute_CR_currents(nH[0], zeta, grain_size, grain_type, Qabs)\n",
    "\n",
    "    zeq                    = fz.get_zeq_vec      (Jpe, Je, Jh, Jc, ZZall, grain_size, grain_type)\n",
    "    new_zmin, new_zmax     = fz.get_new_zmin_zmax([nH[0], nH[0]*1.0e-4], [xe[0], 1.0e4*min(xe[0], 1.0e-4)], temp[0], grain_size, Ntot[0], grain_type, Qabs, zeta, zeq=zeq, G0=G0, includeCR=True)    \n",
    "    \n",
    "    ffzCR, ZZfz            = fz.vector_fz        (Jpe, Je, Jh, Jc, JCRe, JCRpe, ZZall, new_zmin, new_zmax, includeCR=True)\n",
    "\n",
    "    # Compute the minimum and maximum allowd charges by this grain\n",
    "    Zmin, Zmax = fz.get_Zmin(grain_size, grain_type), fz.get_Zmax(grain_size, grain_type)\n",
    "    Znum       = int(Zmax + abs(Zmin) +1)\n",
    "    ZZ_all     = np.linspace(Zmin, Zmax, num=Znum)\n",
    "\n",
    "    Gamma_dotdot_Z = np.zeros_like(ZZ_all, dtype=np.float)\n",
    "\n",
    "    for i in range(Znum):\n",
    "        Gamma_dotdot_Z[i] = peh.get_Gamma_pe_dotdot(grain_size, ZZ_all[i], grain_type, Ntot[0], Qabs)    \n",
    "\n",
    "    Cooling = peh.Cool_per_Grain(grain_size, grain_type, ZZfz, ffzCR, nH[0], xe[0], temp[0])\n",
    "\n",
    "    Av = Ntot[0]/1.87e21\n",
    "    \n",
    "    Geff = G0*np.exp(-2.5*Av)\n",
    "    G_CR = fz.get_G_CR(NH2[0])\n",
    "    \n",
    "    Gtot = Geff+G_CR\n",
    "    \n",
    "    Heating = peh.Gamma_per_grain(ZZ_all, Gamma_dotdot_Z, ZZfz, ffzCR)\n",
    "\n",
    "    netHeating = Heating - Cooling\n",
    "    \n",
    "    if save_output:\n",
    "        if nH[0] < 1.0:\n",
    "            phase = \"WNM\"\n",
    "        elif nH[0]>1.0 and nH[0]<100:\n",
    "            phase = \"CNM\"\n",
    "        else:\n",
    "            phase = \"CMM\"\n",
    "        \n",
    "        if outdir == \"default\":\n",
    "            outdir = \"/home/jcibanezm/codes/run/PeHeat\"\n",
    "            \n",
    "        filename = \"%s/TotalHeating_ISM%s_%s_%.4iAA.pkl\"%(outdir, phase, grain_type, grain_size)\n",
    "        \n",
    "        dictionary = {\"info\":\"Saving the Heating, Cooling, charge array and charge distribution.\"}\n",
    "        dictionary[\"netHeating\"] = netHeating\n",
    "        dictionary[\"Cooling\"] = Cooling\n",
    "        dictionary[\"grain_size\"] = grain_size\n",
    "        dictionary[\"grain_type\"] = grain_type\n",
    "        dictionary[\"ffz\"] = ffzCR\n",
    "        dictionary[\"ZZ\"] = ZZfz\n",
    "        dictionary[\"nH\"] = nH[0]\n",
    "        dictionary[\"temp\"] = temp[0]\n",
    "        dictionary[\"Geff\"] = Geff\n",
    "        dictionary[\"Gtot\"] = Gtot\n",
    "        dictionary[\"zeta\"] = zeta\n",
    "        dictionary[\"Ntot\"] = Ntot[0]\n",
    "        dictionary[\"NH2\"] = NH2[0]\n",
    "        dictionary[\"ne\"] = ne[0]\n",
    "        dictionary[\"xH2\"] = xH2[0]\n",
    "\n",
    "        outfile = open('%s'%(filename), 'wb')\n",
    "        pickle.dump(dictionary, outfile)\n",
    "        outfile.close()\n",
    "        \n",
    "        #print(\"Saving the heating, cooling, charge array and charge distribution array to file %s\"%filename)\n",
    "    \n",
    "    #return netHeating, Cooling, ZZfz, ffzCR"
   ]
  },
  {
   "cell_type": "code",
   "execution_count": null,
   "metadata": {
    "collapsed": true
   },
   "outputs": [],
   "source": [
    "what?"
   ]
  },
  {
   "cell_type": "code",
   "execution_count": 44,
   "metadata": {},
   "outputs": [
    {
     "name": "stdout",
     "output_type": "stream",
     "text": [
      "400\n"
     ]
    }
   ],
   "source": [
    "print(new_zmax)"
   ]
  }
 ],
 "metadata": {
  "anaconda-cloud": {},
  "kernelspec": {
   "display_name": "Python 2",
   "language": "python",
   "name": "python2"
  },
  "language_info": {
   "codemirror_mode": {
    "name": "ipython",
    "version": 2
   },
   "file_extension": ".py",
   "mimetype": "text/x-python",
   "name": "python",
   "nbconvert_exporter": "python",
   "pygments_lexer": "ipython2",
   "version": "2.7.15"
  }
 },
 "nbformat": 4,
 "nbformat_minor": 2
}
