{
 "cells": [
  {
   "cell_type": "markdown",
   "metadata": {},
   "source": [
    "## Full calculation of photoelectric heating in the WNM, CNM and CMM\n",
    "\n",
    "    - Load the data for each grain in the integration and calculate the total heating rate."
   ]
  },
  {
   "cell_type": "code",
   "execution_count": 25,
   "metadata": {
    "collapsed": false
   },
   "outputs": [],
   "source": [
    "import compute_charge_dist as fz\n",
    "import numpy as np\n",
    "import matplotlib.pyplot as plt\n",
    "import scipy.integrate as integrate\n",
    "\n",
    "import PeHeat_Functions as peh\n",
    "import parametric_fz as fzpar\n",
    "import parametric_PeHeat as PeHpar\n",
    "import dust_size_dist as sizedist\n",
    "\n",
    "from matplotlib.colors import LogNorm\n",
    "\n",
    "import pickle\n",
    "\n",
    "import yt\n",
    "from yt.units import pc, kpc, second, Kelvin, gram, erg, cm\n",
    "\n",
    "import MCMCFit as mcmc\n",
    "\n",
    "%matplotlib inline\n",
    "\n",
    "microntocm    = 1.0e-4\n",
    "cmtomicron    = 1.0e4\n",
    "AAtocm        = 1.0e-8\n",
    "cmtoAA        = 1.0e8\n",
    "microntoAA    = 1.0e4\n",
    "AAtomicron    = 1.0e-4\n",
    "ergtoeV       = 6.242e11\n",
    "eVtoerg       = 1.602e-12\n",
    "\n",
    "hplanck       = 4.135667662e-15 # eV s\n",
    "clight        = 2.99792458e10   # cm s-1"
   ]
  },
  {
   "cell_type": "code",
   "execution_count": 33,
   "metadata": {
    "collapsed": false
   },
   "outputs": [
    {
     "ename": "IOError",
     "evalue": "[Errno 2] No such file or directory: '/home/jcibanezm/Dropbox/codes/run/PeHeat/TotalHeating_ISMCMM_silicate_0007AA.pkl'",
     "output_type": "error",
     "traceback": [
      "\u001b[0;31m---------------------------------------------------------------------------\u001b[0m",
      "\u001b[0;31mIOError\u001b[0m                                   Traceback (most recent call last)",
      "\u001b[0;32m<ipython-input-33-44b738425036>\u001b[0m in \u001b[0;36m<module>\u001b[0;34m()\u001b[0m\n\u001b[1;32m      1\u001b[0m \u001b[0mfilename\u001b[0m \u001b[0;34m=\u001b[0m \u001b[0;34m\"TotalHeating_ISM%s_%s_%.4iAA.pkl\"\u001b[0m\u001b[0;34m%\u001b[0m\u001b[0;34m(\u001b[0m\u001b[0;34m\"CMM\"\u001b[0m\u001b[0;34m,\u001b[0m \u001b[0;34m\"silicate\"\u001b[0m\u001b[0;34m,\u001b[0m \u001b[0;36m7\u001b[0m\u001b[0;34m)\u001b[0m\u001b[0;34m\u001b[0m\u001b[0m\n\u001b[0;32m----> 2\u001b[0;31m \u001b[0mpkl_file\u001b[0m \u001b[0;34m=\u001b[0m \u001b[0mopen\u001b[0m\u001b[0;34m(\u001b[0m\u001b[0;34m\"%s/%s\"\u001b[0m\u001b[0;34m%\u001b[0m\u001b[0;34m(\u001b[0m\u001b[0;34m\"/home/jcibanezm/Dropbox/codes/run/PeHeat\"\u001b[0m\u001b[0;34m,\u001b[0m \u001b[0mfilename\u001b[0m\u001b[0;34m)\u001b[0m\u001b[0;34m,\u001b[0m \u001b[0;34m\"rb\"\u001b[0m\u001b[0;34m)\u001b[0m\u001b[0;34m\u001b[0m\u001b[0m\n\u001b[0m\u001b[1;32m      3\u001b[0m \u001b[0mcdist_sil\u001b[0m\u001b[0;34m=\u001b[0m \u001b[0mpickle\u001b[0m\u001b[0;34m.\u001b[0m\u001b[0mload\u001b[0m\u001b[0;34m(\u001b[0m\u001b[0mpkl_file\u001b[0m\u001b[0;34m)\u001b[0m\u001b[0;34m\u001b[0m\u001b[0m\n\u001b[1;32m      4\u001b[0m \u001b[0mpkl_file\u001b[0m\u001b[0;34m.\u001b[0m\u001b[0mclose\u001b[0m\u001b[0;34m\u001b[0m\u001b[0m\n",
      "\u001b[0;31mIOError\u001b[0m: [Errno 2] No such file or directory: '/home/jcibanezm/Dropbox/codes/run/PeHeat/TotalHeating_ISMCMM_silicate_0007AA.pkl'"
     ]
    }
   ],
   "source": [
    "filename = \"TotalHeating_ISM%s_%s_%.4iAA.pkl\"%(\"CMM\", \"silicate\", 7)\n",
    "pkl_file = open(\"%s/%s\"%(\"/home/jcibanezm/Dropbox/codes/run/PeHeat\", filename), \"rb\")\n",
    "cdist_sil= pickle.load(pkl_file)\n",
    "pkl_file.close"
   ]
  },
  {
   "cell_type": "code",
   "execution_count": 35,
   "metadata": {
    "collapsed": false
   },
   "outputs": [],
   "source": [
    "pp = np.logspace(np.log10(3.5), np.log10(2500), num=100)"
   ]
  },
  {
   "cell_type": "code",
   "execution_count": 48,
   "metadata": {
    "collapsed": false
   },
   "outputs": [],
   "source": [
    "def get_Gamma_tot_Full_loadSavedData(phase=None, G0=1.7):\n",
    "    \"\"\"\n",
    "    Returns GammaTot*1.0e21\n",
    "    \"\"\"\n",
    "    \n",
    "    import dust_size_dist as sizedist\n",
    "    from scipy.integrate import simps\n",
    "    \n",
    "    data_dir = \"/home/jcibanezm/Dropbox/codes/run/PeHeat\"\n",
    "    \n",
    "    amin, amax = 3.5, 2500\n",
    "    numint = 100\n",
    "    x = np.logspace(np.log10(amin), np.log10(amax), num=numint)\n",
    "    yc = sizedist.dnda(x, \"carbonaceous\")\n",
    "    ys = sizedist.dnda(x, \"silicate\")\n",
    "\n",
    "    if phase == None:\n",
    "        print(\"\")\n",
    "        print(\"Need to define a phase ISM: WNM, CNM or CMM\")\n",
    "        print(\"\")\n",
    "    \n",
    "    y_Gpe_s = np.zeros_like(x)\n",
    "    y_Gpe_c = np.zeros_like(x)\n",
    "    \n",
    "    for i in range(len(x)):\n",
    "        filename = \"TotalHeating_ISM%s_%s_%.4iAA.pkl\"%(phase, \"silicate\", x[i])\n",
    "        pkl_file = open(\"%s/%s\"%(data_dir, filename), \"rb\")\n",
    "        cdist_sil= pickle.load(pkl_file)\n",
    "        pkl_file.close\n",
    "\n",
    "        y_Gpe_s[i] = cdist_sil[\"netHeating\"][0]*ys[i]*1.0e21\n",
    "        #print(y_Gpe_s[i])\n",
    "\n",
    "        filename = \"TotalHeating_ISM%s_%s_%.4iAA.pkl\"%(phase, \"carbonaceous\", x[i])\n",
    "        pkl_file = open(\"%s/%s\"%(data_dir, filename), \"rb\")\n",
    "        cdist_carb= pickle.load(pkl_file)\n",
    "        pkl_file.close\n",
    "\n",
    "        #print(cdist_carb)\n",
    "        y_Gpe_c[i] = cdist_carb[\"netHeating\"][0]*yc[i]*1.0e21\n",
    "\n",
    "    Gamma_pe_sil_fix  = simps(y_Gpe_s, x)\n",
    "    Gamma_pe_carb_fix = simps(y_Gpe_c, x)\n",
    "    \n",
    "    Gamma_tot= Gamma_pe_sil_fix + Gamma_pe_carb_fix\n",
    "\n",
    "    print(\"G = \", cdist_sil[\"Gtot\"], \"T=\", cdist_sil[\"temp\"], \"ne=\", cdist_sil[\"ne\"])\n",
    "    \n",
    "    return Gamma_tot/1.0e21"
   ]
  },
  {
   "cell_type": "code",
   "execution_count": 51,
   "metadata": {
    "collapsed": false
   },
   "outputs": [
    {
     "ename": "IOError",
     "evalue": "[Errno 2] No such file or directory: '/home/jcibanezm/Dropbox/codes/run/PeHeat/TotalHeating_ISMWNM_silicate_0007AA.pkl'",
     "output_type": "error",
     "traceback": [
      "\u001b[0;31m---------------------------------------------------------------------------\u001b[0m",
      "\u001b[0;31mIOError\u001b[0m                                   Traceback (most recent call last)",
      "\u001b[0;32m<ipython-input-51-8ea85e8bb0bc>\u001b[0m in \u001b[0;36m<module>\u001b[0;34m()\u001b[0m\n\u001b[0;32m----> 1\u001b[0;31m \u001b[0mHeatingCMM\u001b[0m \u001b[0;34m=\u001b[0m \u001b[0mget_Gamma_tot_Full_loadSavedData\u001b[0m\u001b[0;34m(\u001b[0m\u001b[0;34m\"WNM\"\u001b[0m\u001b[0;34m)\u001b[0m\u001b[0;34m\u001b[0m\u001b[0m\n\u001b[0m\u001b[1;32m      2\u001b[0m \u001b[0;31m#HeatingCNM = get_Gamma_tot_Full_loadSavedData(\"CNM\")\u001b[0m\u001b[0;34m\u001b[0m\u001b[0;34m\u001b[0m\u001b[0m\n",
      "\u001b[0;32m<ipython-input-48-cd98ea2ca9f6>\u001b[0m in \u001b[0;36mget_Gamma_tot_Full_loadSavedData\u001b[0;34m(phase, G0)\u001b[0m\n\u001b[1;32m     25\u001b[0m     \u001b[0;32mfor\u001b[0m \u001b[0mi\u001b[0m \u001b[0;32min\u001b[0m \u001b[0mrange\u001b[0m\u001b[0;34m(\u001b[0m\u001b[0mlen\u001b[0m\u001b[0;34m(\u001b[0m\u001b[0mx\u001b[0m\u001b[0;34m)\u001b[0m\u001b[0;34m)\u001b[0m\u001b[0;34m:\u001b[0m\u001b[0;34m\u001b[0m\u001b[0m\n\u001b[1;32m     26\u001b[0m         \u001b[0mfilename\u001b[0m \u001b[0;34m=\u001b[0m \u001b[0;34m\"TotalHeating_ISM%s_%s_%.4iAA.pkl\"\u001b[0m\u001b[0;34m%\u001b[0m\u001b[0;34m(\u001b[0m\u001b[0mphase\u001b[0m\u001b[0;34m,\u001b[0m \u001b[0;34m\"silicate\"\u001b[0m\u001b[0;34m,\u001b[0m \u001b[0mx\u001b[0m\u001b[0;34m[\u001b[0m\u001b[0mi\u001b[0m\u001b[0;34m]\u001b[0m\u001b[0;34m)\u001b[0m\u001b[0;34m\u001b[0m\u001b[0m\n\u001b[0;32m---> 27\u001b[0;31m         \u001b[0mpkl_file\u001b[0m \u001b[0;34m=\u001b[0m \u001b[0mopen\u001b[0m\u001b[0;34m(\u001b[0m\u001b[0;34m\"%s/%s\"\u001b[0m\u001b[0;34m%\u001b[0m\u001b[0;34m(\u001b[0m\u001b[0mdata_dir\u001b[0m\u001b[0;34m,\u001b[0m \u001b[0mfilename\u001b[0m\u001b[0;34m)\u001b[0m\u001b[0;34m,\u001b[0m \u001b[0;34m\"rb\"\u001b[0m\u001b[0;34m)\u001b[0m\u001b[0;34m\u001b[0m\u001b[0m\n\u001b[0m\u001b[1;32m     28\u001b[0m         \u001b[0mcdist_sil\u001b[0m\u001b[0;34m=\u001b[0m \u001b[0mpickle\u001b[0m\u001b[0;34m.\u001b[0m\u001b[0mload\u001b[0m\u001b[0;34m(\u001b[0m\u001b[0mpkl_file\u001b[0m\u001b[0;34m)\u001b[0m\u001b[0;34m\u001b[0m\u001b[0m\n\u001b[1;32m     29\u001b[0m         \u001b[0mpkl_file\u001b[0m\u001b[0;34m.\u001b[0m\u001b[0mclose\u001b[0m\u001b[0;34m\u001b[0m\u001b[0m\n",
      "\u001b[0;31mIOError\u001b[0m: [Errno 2] No such file or directory: '/home/jcibanezm/Dropbox/codes/run/PeHeat/TotalHeating_ISMWNM_silicate_0007AA.pkl'"
     ]
    }
   ],
   "source": [
    "HeatingCMM = get_Gamma_tot_Full_loadSavedData(\"WNM\")\n",
    "#HeatingCNM = get_Gamma_tot_Full_loadSavedData(\"CNM\")"
   ]
  },
  {
   "cell_type": "code",
   "execution_count": 3,
   "metadata": {
    "collapsed": false
   },
   "outputs": [
    {
     "name": "stdout",
     "output_type": "stream",
     "text": [
      "('G = ', array([ 1.70079372]), 'T=', array([ 14.43397851]), 'ne=', array([[ 0.01077157],\n",
      "       [ 0.00630768],\n",
      "       [ 0.0105461 ]]))\n",
      "('G = ', array([ 1.70561815]), 'T=', array([ 69.64352587]), 'ne=', array([[ 0.01077157],\n",
      "       [ 0.00630768],\n",
      "       [ 0.0105461 ]]))\n"
     ]
    }
   ],
   "source": [
    "HeatingCMM = get_Gamma_tot_Full_loadSavedData(\"CMM\")\n",
    "HeatingCNM = get_Gamma_tot_Full_loadSavedData(\"CNM\")"
   ]
  },
  {
   "cell_type": "code",
   "execution_count": 14,
   "metadata": {
    "collapsed": false
   },
   "outputs": [
    {
     "name": "stdout",
     "output_type": "stream",
     "text": [
      "1.06221359521e-21\n",
      "1.02355863112e-24\n"
     ]
    }
   ],
   "source": [
    "print(HeatingCMM*3.0e4)\n",
    "print(HeatingCNM*36.)"
   ]
  },
  {
   "cell_type": "code",
   "execution_count": 23,
   "metadata": {
    "collapsed": true
   },
   "outputs": [],
   "source": [
    "amin, amax, numint = 3.5, 1287.27137889, 90\n",
    "x = np.logspace(np.log10(amin), np.log10(amax), num=numint)"
   ]
  },
  {
   "cell_type": "code",
   "execution_count": 24,
   "metadata": {
    "collapsed": false
   },
   "outputs": [
    {
     "name": "stdout",
     "output_type": "stream",
     "text": [
      "[    3.5            3.74020179     3.99688841     4.2711912      4.56431914\n",
      "     4.87756417     5.21230693     5.57002278     5.95228833     6.36078843\n",
      "     6.7973235      7.26381758     7.76232673     8.29504809     8.86432964\n",
      "     9.47268046    10.12278183    10.81749907    11.55989411    12.35323905\n",
      "    13.20103052    14.10700514    15.07515597    16.10975011    17.21534749\n",
      "    18.396821      19.65937796    21.00858305    22.45038285    23.99113204\n",
      "    25.63762144    27.39710789    29.27734629    31.28662373    33.43379603\n",
      "    35.7283268     38.18032912    40.8006101     43.60071857    46.59299592\n",
      "    49.79063051    53.20771584    56.8593126     60.7615151     64.93152217\n",
      "    69.38771301    74.14972815    79.23855601    84.67662547    90.48790465\n",
      "    96.69800659   103.33430213   110.42604056   118.00447849   126.10301767\n",
      "   134.75735216   144.0056257    153.88859978   164.4498333    175.7358746\n",
      "   187.79646657   200.68476591   214.45757741   229.17560435   244.90371598\n",
      "   261.71123349   279.67223552   298.86588465   319.37677633   341.2953117\n",
      "   364.71809606   389.74836464   416.4964376    445.08020629   475.62565282\n",
      "   508.26740534   543.14933142   580.4251721    620.25921955   662.82704117\n",
      "   708.31625336   756.92734847   808.87457848   864.38689927   923.70897974\n",
      "   987.10228021  1054.84620477  1127.23933277  1204.60073478  1287.27137889]\n"
     ]
    }
   ],
   "source": [
    "print(x)"
   ]
  },
  {
   "cell_type": "code",
   "execution_count": 16,
   "metadata": {
    "collapsed": false
   },
   "outputs": [
    {
     "name": "stdout",
     "output_type": "stream",
     "text": [
      "[    3.5            3.74020179     3.99688841     4.2711912      4.56431914\n",
      "     4.87756417     5.21230693     5.57002278     5.95228833     6.36078843\n",
      "     6.7973235      7.26381758     7.76232673     8.29504809     8.86432964\n",
      "     9.47268046    10.12278183    10.81749907    11.55989411    12.35323905\n",
      "    13.20103052    14.10700514    15.07515597    16.10975011    17.21534749\n",
      "    18.396821      19.65937796    21.00858305    22.45038285    23.99113204\n",
      "    25.63762144    27.39710789    29.27734629    31.28662373    33.43379603\n",
      "    35.7283268     38.18032912    40.8006101     43.60071857    46.59299592\n",
      "    49.79063051    53.20771584    56.8593126     60.7615151     64.93152217\n",
      "    69.38771301    74.14972815    79.23855601    84.67662547    90.48790465\n",
      "    96.69800659   103.33430213   110.42604056   118.00447849   126.10301767\n",
      "   134.75735216   144.0056257    153.88859978   164.4498333    175.7358746\n",
      "   187.79646657   200.68476591   214.45757742   229.17560435   244.90371598\n",
      "   261.71123349   279.67223552   298.86588465   319.37677633   341.2953117\n",
      "   364.71809606   389.74836464   416.4964376    445.08020629   475.62565282\n",
      "   508.26740534   543.14933142   580.4251721    620.25921956   662.82704117\n",
      "   708.31625336   756.92734848   808.87457849   864.38689927   923.70897974\n",
      "   987.10228021  1054.84620477  1127.23933278  1204.60073479  1287.2713789\n",
      "  1375.61563352  1470.02287335  1570.90919551  1678.71925346  1793.92821686\n",
      "  1917.0438658   2048.60882885  2189.20297471  2339.44596791  2500.        ]\n"
     ]
    }
   ],
   "source": [
    "print(x)"
   ]
  },
  {
   "cell_type": "code",
   "execution_count": 5,
   "metadata": {
    "collapsed": true
   },
   "outputs": [],
   "source": [
    "# Parametric calculation "
   ]
  },
  {
   "cell_type": "code",
   "execution_count": 6,
   "metadata": {
    "collapsed": false
   },
   "outputs": [
    {
     "data": {
      "text/plain": [
       "<function close>"
      ]
     },
     "execution_count": 6,
     "metadata": {},
     "output_type": "execute_result"
    }
   ],
   "source": [
    "phase = \"CMM\"\n",
    "size = 1588\n",
    "data_dir = \"/home/jcibanezm/codes/run/PeHeat\"\n",
    "filename = \"TotalHeating_ISM%s_%s_%.4iAA.pkl\"%(phase, \"carbonaceous\", size)\n",
    "pkl_file = open(\"%s/%s\"%(data_dir, filename), \"rb\")\n",
    "cdist    = pickle.load(pkl_file)\n",
    "pkl_file.close"
   ]
  },
  {
   "cell_type": "code",
   "execution_count": 7,
   "metadata": {
    "collapsed": false
   },
   "outputs": [
    {
     "data": {
      "text/plain": [
       "{'Cooling': array([  1.85946892e-20]),\n",
       " 'Geff': array([  1.15281812e-07]),\n",
       " 'Gtot': array([ 0.00079384]),\n",
       " 'NH2': array([  9.57334913e+21]),\n",
       " 'Ntot': array([  1.23468728e+22]),\n",
       " 'ZZ': array([-6, -5, -4, -3, -2, -1,  0,  1,  2,  3,  4,  5,  6,  7,  8,  9, 10,\n",
       "        11, 12, 13, 14, 15, 16, 17, 18, 19, 20, 21, 22, 23, 24, 25]),\n",
       " 'ffz': array([  1.92944865e-33,   4.95455079e-22,   3.65948940e-13,\n",
       "          9.01618687e-07,   9.13115949e-03,   5.27268882e-01,\n",
       "          3.87815790e-01,   6.81516883e-02,   7.05996665e-03,\n",
       "          5.37324667e-04,   3.25661530e-05,   1.64628313e-06,\n",
       "          7.15543131e-08,   2.73208867e-09,   9.31211188e-11,\n",
       "          2.86879944e-12,   8.06804574e-14,   2.08825410e-15,\n",
       "          5.00826531e-17,   1.11936208e-18,   2.34298104e-20,\n",
       "          4.61247430e-22,   8.57211321e-24,   1.50890762e-25,\n",
       "          2.52308663e-27,   4.01825212e-29,   6.10949314e-31,\n",
       "          8.88723125e-33,   1.23927432e-34,   1.65951584e-36,\n",
       "          2.13755689e-38,   2.65234066e-40]),\n",
       " 'grain_size': 1588.9903235973027,\n",
       " 'grain_type': 'carbonaceous',\n",
       " 'info': 'Saving the Heating, Cooling, charge array and charge distribution.',\n",
       " 'nH': array([ 29946.98659367]),\n",
       " 'ne': array([[ 0.01077157],\n",
       "        [ 0.00630768],\n",
       "        [ 0.00270674]]),\n",
       " 'netHeating': array([ -1.81819210e-20]),\n",
       " 'temp': array([ 14.43397851]),\n",
       " 'xH2': array([ 0.9941006]),\n",
       " 'xe': array([  9.03842291e-08]),\n",
       " 'zeta': array([  1.86497575e-16])}"
      ]
     },
     "execution_count": 7,
     "metadata": {},
     "output_type": "execute_result"
    }
   ],
   "source": [
    "cdist"
   ]
  },
  {
   "cell_type": "code",
   "execution_count": 10,
   "metadata": {
    "collapsed": false
   },
   "outputs": [],
   "source": [
    "ParHeat_WNM = PeHpar.get_Gamma_tot_par(1.52, 7000., 0.9*0.012)*0.9\n",
    "ParHeat_CNM = PeHpar.get_Gamma_tot_par(0.60, 70., 36.*1.8e-4)*36.\n",
    "ParHeat_CMM = PeHpar.get_Gamma_tot_par(7.9e-4, 14.4, 3.0e4*9.0e-8)*3.0e4"
   ]
  },
  {
   "cell_type": "code",
   "execution_count": 11,
   "metadata": {
    "collapsed": false
   },
   "outputs": [
    {
     "name": "stdout",
     "output_type": "stream",
     "text": [
      "1.0626625824e-26\n",
      "3.67994777476e-25\n",
      "5.5997638738e-25\n"
     ]
    }
   ],
   "source": [
    "print(ParHeat_WNM)\n",
    "print(ParHeat_CNM)\n",
    "print(ParHeat_CMM)"
   ]
  }
 ],
 "metadata": {
  "anaconda-cloud": {},
  "kernelspec": {
   "display_name": "Python [default]",
   "language": "python",
   "name": "python2"
  },
  "language_info": {
   "codemirror_mode": {
    "name": "ipython",
    "version": 2
   },
   "file_extension": ".py",
   "mimetype": "text/x-python",
   "name": "python",
   "nbconvert_exporter": "python",
   "pygments_lexer": "ipython2",
   "version": "2.7.15"
  }
 },
 "nbformat": 4,
 "nbformat_minor": 2
}
