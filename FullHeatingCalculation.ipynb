{
 "cells": [
  {
   "cell_type": "markdown",
   "metadata": {},
   "source": [
    "## Full calculation of photoelectric heating in the WNM, CNM and CMM\n",
    "\n",
    "    - Check how many integration points I need.\n",
    "    - Make the function that takes in the ISM properties, and computes the local charge distribution and photoelectric heating rates and does the integration.\n",
    "    - Save all the properties I can during the integration."
   ]
  },
  {
   "cell_type": "code",
   "execution_count": null,
   "metadata": {
    "collapsed": true
   },
   "outputs": [],
   "source": [
    "import compute_charge_dist as fz\n",
    "import numpy as np\n",
    "import matplotlib.pyplot as plt\n",
    "import scipy.integrate as integrate\n",
    "\n",
    "import PeHeat_Functions as peh\n",
    "import parametric_fz as fzpar\n",
    "import dust_size_dist as sizedist\n",
    "\n",
    "from matplotlib.colors import LogNorm\n",
    "\n",
    "import yt\n",
    "from yt.units import pc, kpc, second, Kelvin, gram, erg, cm\n",
    "\n",
    "import MCMCFit as mcmc\n",
    "\n",
    "%matplotlib inline\n",
    "\n",
    "microntocm    = 1.0e-4\n",
    "cmtomicron    = 1.0e4\n",
    "AAtocm        = 1.0e-8\n",
    "cmtoAA        = 1.0e8\n",
    "microntoAA    = 1.0e4\n",
    "AAtomicron    = 1.0e-4\n",
    "ergtoeV       = 6.242e11\n",
    "eVtoerg       = 1.602e-12\n",
    "\n",
    "hplanck       = 4.135667662e-15 # eV s\n",
    "clight        = 2.99792458e10   # cm s-1"
   ]
  },
  {
   "cell_type": "code",
   "execution_count": null,
   "metadata": {
    "collapsed": true
   },
   "outputs": [],
   "source": [
    "# Define some constant parameters to be used.\n",
    "mp      = 1.6726e-24  * gram # g\n",
    "mH      = 1.6733e-24  * gram\n",
    "mC      = 12.011*mH\n",
    "#mu      = 1.2924\n",
    "kb      = 1.3806e-16  *erg / Kelvin # erg K-1\n",
    "GNewton = 6.6743e-8   * cm**3 / (gram * second**2 )# cm3 g-1 s-2\n",
    "Msun    = 1.9884e33   * gram\n",
    "#mm      = mu*mp\n",
    "\n",
    "ppc = 3.0856776e18\n",
    "\n",
    "# -------------------------------------------------------------\n",
    "#              Create a lot of new derived fields\n",
    "# -------------------------------------------------------------\n",
    "\n",
    "# Create a derived field.\n",
    "# Hydrogen number density\n",
    "def numdensH(field, data): \n",
    "    nH = data[\"dens\"]*(data[\"ihp \"]+data[\"iha \"]+data[\"ih2 \"])/(1.4*mH)\n",
    "    return nH\n",
    "\n",
    "# Molecular Hydrogen number density\n",
    "def numdensH2(field, data): \n",
    "    nH2 = data[\"dens\"]*(data[\"ih2 \"])/(1.4*mH)\n",
    "    return nH2\n",
    "\n",
    "# Carbon number density\n",
    "def numdensC(field, data): \n",
    "    nC = data[\"dens\"]*(data[\"icp \"]+data[\"ico \"])/(1.4*mC)\n",
    "    return nC\n",
    "\n",
    "# electron number density\n",
    "def numdense(field, data): \n",
    "    ne = data[\"dens\"]*(data[\"ihp \"]/(1.4*mH) + data[\"icp \"]/(1.4*mC))\n",
    "    return ne\n",
    "\n",
    "# Ionized hydrogen fraction\n",
    "def xHp(field, data): \n",
    "    nH  = data[\"dens\"]*(data[\"ihp \"]+data[\"iha \"]+data[\"ih2 \"])/(1.4*mH)\n",
    "    xHp = data[\"dens\"]*data[\"ihp \"]/(1.4*mH)\n",
    "    xHp = xHp / nH\n",
    "    return xHp\n",
    "\n",
    "# Molecular hydrogen fraction\n",
    "def xH2(field, data): \n",
    "    nH  = data[\"dens\"]*(data[\"ihp \"]+data[\"iha \"]+data[\"ih2 \"])/(1.4*mH)\n",
    "    xH2 = data[\"dens\"]*data[\"ih2 \"]/(1.4*mH)\n",
    "    xH2 = xH2 / nH\n",
    "    return xH2\n",
    "\n",
    "# Ionized carbon fraction\n",
    "def xCp(field, data): \n",
    "    nC  = data[\"dens\"]*(data[\"icp \"]+data[\"ico \"])/(1.4*mC)\n",
    "    xCp = data[\"dens\"]*data[\"icp \"]/(1.4*mC) / nC\n",
    "    return xCp\n",
    "\n",
    "# electron fraction\n",
    "def xe(field, data): \n",
    "    nH = data[\"dens\"]*(data[\"ihp \"]+data[\"iha \"]+data[\"ih2 \"])/(1.4*mH)\n",
    "    nC = data[\"dens\"]*(data[\"icp \"]+data[\"ico \"])/(1.4*mC)\n",
    "    ne = data[\"dens\"]*(data[\"ihp \"]/(1.4*mH) + data[\"icp \"]/(1.4*mC))\n",
    "    xe = ne / (nH + nC)\n",
    "    return xe\n",
    "\n",
    "# electron fraction\n",
    "#def GG(field, data): \n",
    "#    G = fz.get_G(data[\"cdto\"], 1.68)\n",
    "#    return G\n",
    "\n",
    "\n",
    "yt.add_field('nH', function=numdensH,  units=\"1/cm**3\", force_override=True)\n",
    "yt.add_field('nH2',function=numdensH2, units=\"1/cm**3\", force_override=True)\n",
    "yt.add_field('nC', function=numdensC,  units=\"1/cm**3\", force_override=True)\n",
    "yt.add_field('ne', function=numdense,  units=\"1/cm**3\", force_override=True)\n",
    "yt.add_field('xHp', function=xHp,      units=\"dimensionless\", force_override=True)\n",
    "yt.add_field('xH2', function=xH2,      units=\"dimensionless\", force_override=True)\n",
    "yt.add_field('xCp', function=xCp,      units=\"dimensionless\", force_override=True)\n",
    "yt.add_field('xe', function=xe,        units=\"dimensionless\", force_override=True)\n",
    "#yt.add_field('G',  function=GG,        units=\"dimensionless\", force_override=True)"
   ]
  },
  {
   "cell_type": "code",
   "execution_count": null,
   "metadata": {
    "collapsed": true
   },
   "outputs": [],
   "source": [
    "# Input variables.\n",
    "data_dir   = \"/home/jcibanezm/codes/run/Silcc/CF_Prabesh\"\n",
    "#data_dir   = \"/Users/juan/codes/run/Silcc/CF_Prabesh\"\n",
    "filename   = data_dir + \"/NL99_R8_cf_hdf5_chk_0028\"\n",
    "\n",
    "pf = yt.load(\"%s\"%(filename))\n",
    "\n",
    "c  = [0,0,0]\n",
    "le = [-4.93696000e+19, -4.93696000e+19, -4.93696000e+19]\n",
    "re = [ 4.93696000e+19,  4.93696000e+19,  4.93696000e+19]\n",
    "\n",
    "box = pf.box(le, re)\n",
    "\n",
    "Geff = 1.7 * np.exp(-2.5*box[\"cdto\"])"
   ]
  },
  {
   "cell_type": "code",
   "execution_count": null,
   "metadata": {
    "collapsed": true
   },
   "outputs": [],
   "source": []
  }
 ],
 "metadata": {
  "kernelspec": {
   "display_name": "Python [default]",
   "language": "python",
   "name": "python2"
  },
  "language_info": {
   "codemirror_mode": {
    "name": "ipython",
    "version": 2
   },
   "file_extension": ".py",
   "mimetype": "text/x-python",
   "name": "python",
   "nbconvert_exporter": "python",
   "pygments_lexer": "ipython2",
   "version": "2.7.13"
  }
 },
 "nbformat": 4,
 "nbformat_minor": 2
}
