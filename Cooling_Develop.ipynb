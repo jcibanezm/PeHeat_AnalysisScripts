{
 "cells": [
  {
   "cell_type": "code",
   "execution_count": 1,
   "metadata": {
    "collapsed": false
   },
   "outputs": [
    {
     "name": "stdout",
     "output_type": "stream",
     "text": [
      "Loading the library to compute the charge distribution of dust grains.\n"
     ]
    }
   ],
   "source": [
    "import compute_charge_dist as fz\n",
    "import numpy as np\n",
    "import matplotlib.pyplot as plt\n",
    "import scipy.integrate as integrate\n",
    "\n",
    "import PeHeat_Functions as peh\n",
    "import parametric_fz as fzpar\n",
    "\n",
    "import MCMCFit as mcmc\n",
    "\n",
    "%matplotlib inline\n",
    "\n",
    "microntocm    = 1.0e-4\n",
    "cmtomicron    = 1.0e4\n",
    "AAtocm        = 1.0e-8\n",
    "cmtoAA        = 1.0e8\n",
    "microntoAA    = 1.0e4\n",
    "AAtomicron    = 1.0e-4\n",
    "ergtoeV       = 6.242e11\n",
    "eVtoerg       = 1.602e-12\n",
    "\n",
    "hplanck       = 4.135667662e-15 # eV s\n",
    "clight        = 2.99792458e10   # cm s-1"
   ]
  },
  {
   "cell_type": "code",
   "execution_count": 2,
   "metadata": {
    "collapsed": true
   },
   "outputs": [],
   "source": [
    "def Cool_Grain(grain_size, grain_type, ZZ, fdist, ntot, xe, temp):\n",
    "    \"\"\"\n",
    "    Compute the cooling per grain.\n",
    "    \"\"\"\n",
    "    import numpy as np\n",
    "    import math\n",
    "    import compute_charge_dist as fz\n",
    "\n",
    "    tau = grain_size * fz.AAtocm * fz.kb * temp / fz.echarge**2\n",
    "    \n",
    "    # Loop over species!\n",
    "    Cool_spec = 0\n",
    "    for partner in [\"electron\", \"hydrogen\", \"carbon\"]:\n",
    "    \n",
    "        Cool_Zall = 0\n",
    "        # Loop over charge\n",
    "        for zi in range(len(ZZ)):\n",
    "\n",
    "            if partner == \"electron\":\n",
    "                nu          = -1*ZZ[zi]\n",
    "                stick_coef  = fz.get_stickCoef(ZZ[zi], grain_size, grain_type)\n",
    "                charge_frac = xe\n",
    "                mass        = fz.me\n",
    "                \n",
    "            elif partner == \"hydrogen\":\n",
    "                nu         = ZZ[zi]\n",
    "                stick_coef = 1.0\n",
    "                charge_frac = xe\n",
    "                mass        = fz.mH\n",
    "                \n",
    "            elif partner == \"carbon\":\n",
    "                nu         = ZZ[zi]\n",
    "                stick_coef = 1.0\n",
    "                # Maximum fraction of ionized Carbon is 1e-4*ntot.\n",
    "                charge_frac = min(1.0e-4, xe)\n",
    "                mass        = fz.mC\n",
    "\n",
    "            Cooltilde = 1.0\n",
    "\n",
    "            if nu < 0:\n",
    "                Cooltilde = fz.Jtilde_neg(tau, nu)\n",
    "            elif nu == 0:\n",
    "                Cooltilde = fz.Jtilde_0(tau, nu)\n",
    "            else:\n",
    "                Cooltilde = fz.Jtilde_pos(tau, nu)\n",
    "\n",
    "            Cool_Zhere = fdist[zi]*Cooltilde*fz.kb*temp\n",
    "            Cool_Zall += Cool_Zhere\n",
    "            \n",
    "        #print(\"Collisional Partner = \", partner)\n",
    "        Cool_spec += ntot*charge_frac*stick_coef*np.sqrt(8.0*fz.kb*temp/(np.pi*mass))*Cool_Zall\n",
    "        \n",
    "    Cool_tot = math.pi * (grain_size*AAtocm)**2 * Cool_spec\n",
    "    \n",
    "    return Cool_tot"
   ]
  },
  {
   "cell_type": "code",
   "execution_count": 6,
   "metadata": {
    "collapsed": true
   },
   "outputs": [
    {
     "name": "stdout",
     "output_type": "stream",
     "text": [
      "I'm looking for a grain size smaller than 10 Angstrom. Outside the tabulated data!!!\n",
      "Using the absorption efficiency for a 10 AA grain\n",
      "I'm looking for a grain size smaller than 10 Angstrom. Outside the tabulated data!!!\n",
      "Using the absorption efficiency for a 10 AA grain\n"
     ]
    },
    {
     "ename": "IOError",
     "evalue": "[Errno 2] No such file or directory: '/home/jcibanezm/Dropbox/codes/run/ChargeStatisticsAnalysis/Daikaiju/fz_01000AA_silicate_CR_True_0_pcent.pkl'",
     "output_type": "error",
     "traceback": [
      "\u001b[0;31m---------------------------------------------------------------------------\u001b[0m",
      "\u001b[0;31mIOError\u001b[0m                                   Traceback (most recent call last)",
      "\u001b[0;32m<ipython-input-6-10dffd7a705d>\u001b[0m in \u001b[0;36m<module>\u001b[0;34m()\u001b[0m\n\u001b[1;32m    132\u001b[0m \u001b[0mfilename\u001b[0m \u001b[0;34m=\u001b[0m \u001b[0;34m\"fz_0%.3iAA_silicate_CR_True_0_pcent.pkl\"\u001b[0m\u001b[0;34m%\u001b[0m\u001b[0;34m(\u001b[0m\u001b[0mgrain_size\u001b[0m\u001b[0;34m)\u001b[0m\u001b[0;34m\u001b[0m\u001b[0m\n\u001b[1;32m    133\u001b[0m \u001b[0;34m\u001b[0m\u001b[0m\n\u001b[0;32m--> 134\u001b[0;31m \u001b[0mpkl_file\u001b[0m    \u001b[0;34m=\u001b[0m \u001b[0mopen\u001b[0m\u001b[0;34m(\u001b[0m\u001b[0;34m\"%s/%s\"\u001b[0m\u001b[0;34m%\u001b[0m\u001b[0;34m(\u001b[0m\u001b[0msave_dir\u001b[0m\u001b[0;34m,\u001b[0m \u001b[0mfilename\u001b[0m\u001b[0;34m)\u001b[0m\u001b[0;34m,\u001b[0m \u001b[0;34m\"rb\"\u001b[0m\u001b[0;34m)\u001b[0m\u001b[0;34m\u001b[0m\u001b[0m\n\u001b[0m\u001b[1;32m    135\u001b[0m \u001b[0mcdist1000\u001b[0m \u001b[0;34m=\u001b[0m \u001b[0mpickle\u001b[0m\u001b[0;34m.\u001b[0m\u001b[0mload\u001b[0m\u001b[0;34m(\u001b[0m\u001b[0mpkl_file\u001b[0m\u001b[0;34m)\u001b[0m\u001b[0;34m\u001b[0m\u001b[0m\n\u001b[1;32m    136\u001b[0m \u001b[0mpkl_file\u001b[0m\u001b[0;34m.\u001b[0m\u001b[0mclose\u001b[0m\u001b[0;34m\u001b[0m\u001b[0m\n",
      "\u001b[0;31mIOError\u001b[0m: [Errno 2] No such file or directory: '/home/jcibanezm/Dropbox/codes/run/ChargeStatisticsAnalysis/Daikaiju/fz_01000AA_silicate_CR_True_0_pcent.pkl'"
     ]
    }
   ],
   "source": [
    "import pickle\n",
    "import numpy as np\n",
    "import matplotlib.pyplot as plt\n",
    "from   matplotlib.colors import LogNorm\n",
    "\n",
    "from scipy.optimize import curve_fit\n",
    "\n",
    "import time\n",
    "\n",
    "%matplotlib inline\n",
    "\n",
    "\n",
    "grain_type = \"silicate\"\n",
    "pcent      = 1\n",
    "\n",
    "########################################################################################\n",
    "\n",
    "grain_size = 3\n",
    "\n",
    "save_dir = \"/home/jcibanezm/Dropbox/codes/run/ChargeStatisticsAnalysis/Daikaiju\"\n",
    "#save_dir = \"/Users/juan/Dropbox/codes/run/ChargeStatisticsAnalysis/Daikaiju/Old_BeforeSept2018\"\n",
    "\n",
    "#filename = \"fz_%.4iAA_%s_CR_True_%i_pcent.pkl\"%(grain_size, grain_type, pcent) \n",
    "filename = \"fz_00%.2iAA_silicate_CR_True_1_pcent.pkl\"%(grain_size)\n",
    "\n",
    "pkl_file    = open(\"%s/%s\"%(save_dir, filename), \"rb\")\n",
    "cdist3 = pickle.load(pkl_file)\n",
    "pkl_file.close\n",
    "\n",
    "# Load Qabs.\n",
    "#Qabs3 = fz.get_QabsTable(grain_type, grain_size, dirtables=\"/Users/juan/codes/dustanalysis/Charge/Tables\")\n",
    "Qabs3 = fz.get_QabsTable(grain_type, grain_size)\n",
    "\n",
    "########################################################################################\n",
    "\n",
    "grain_size = 5\n",
    "\n",
    "save_dir = \"/home/jcibanezm/Dropbox/codes/run/ChargeStatisticsAnalysis/Daikaiju\"\n",
    "#save_dir = \"/Users/juan/Dropbox/codes/run/ChargeStatisticsAnalysis/Daikaiju/Old_BeforeSept2018\"\n",
    "\n",
    "#filename = \"fz_%.4iAA_%s_CR_True_%i_pcent.pkl\"%(grain_size, grain_type, pcent) \n",
    "filename = \"fz_00%.2iAA_silicate_CR_True_1_pcent.pkl\"%(grain_size)\n",
    "\n",
    "pkl_file    = open(\"%s/%s\"%(save_dir, filename), \"rb\")\n",
    "cdist5 = pickle.load(pkl_file)\n",
    "pkl_file.close\n",
    "\n",
    "# Load Qabs.\n",
    "#Qabs5 = fz.get_QabsTable(grain_type, grain_size, dirtables=\"/Users/juan/codes/dustanalysis/Charge/Tables\")\n",
    "Qabs5 = fz.get_QabsTable(grain_type, grain_size)\n",
    "\n",
    "########################################################################################\n",
    "\n",
    "grain_size =10\n",
    "\n",
    "#save_dir = \"/Users/juan/Dropbox/codes/run/ChargeStatisticsAnalysis/Daikaiju\"\n",
    "save_dir = \"/home/jcibanezm/Dropbox/codes/run/ChargeStatisticsAnalysis/Daikaiju\"\n",
    "\n",
    "#filename = \"fz_%.4iAA_%s_CR_True_%i_pcent.pkl\"%(grain_size, grain_type, pcent) \n",
    "filename = \"fz_00%.2iAA_silicate_CR_True_1_pcent.pkl\"%(grain_size)\n",
    "\n",
    "pkl_file    = open(\"%s/%s\"%(save_dir, filename), \"rb\")\n",
    "cdist10 = pickle.load(pkl_file)\n",
    "pkl_file.close\n",
    "\n",
    "# Load Qabs.\n",
    "#Qabs10 = fz.get_QabsTable(grain_type, grain_size, dirtables=\"/Users/juan/codes/dustanalysis/Charge/Tables\")\n",
    "Qabs10 = fz.get_QabsTable(grain_type, grain_size)\n",
    "\n",
    "########################################################################################\n",
    "\n",
    "grain_size =50\n",
    "\n",
    "#save_dir = \"/Users/juan/Dropbox/codes/run/ChargeStatisticsAnalysis/Daikaiju\"\n",
    "save_dir = \"/home/jcibanezm/Dropbox/codes/run/ChargeStatisticsAnalysis/Daikaiju\"\n",
    "\n",
    "#filename = \"fz_%.4iAA_%s_CR_True_%i_pcent.pkl\"%(grain_size, grain_type, pcent) \n",
    "filename = \"fz_00%.2iAA_silicate_CR_True_1_pcent.pkl\"%(grain_size)\n",
    "\n",
    "pkl_file    = open(\"%s/%s\"%(save_dir, filename), \"rb\")\n",
    "cdist50 = pickle.load(pkl_file)\n",
    "pkl_file.close\n",
    "\n",
    "# Load Qabs.\n",
    "#Qabs50 = fz.get_QabsTable(grain_type, grain_size, dirtables=\"/Users/juan/codes/dustanalysis/Charge/Tables\")\n",
    "Qabs50 = fz.get_QabsTable(grain_type, grain_size)\n",
    "\n",
    "########################################################################################\n",
    "\n",
    "grain_size =100\n",
    "\n",
    "#save_dir = \"/Users/juan/Dropbox/codes/run/ChargeStatisticsAnalysis/Daikaiju\"\n",
    "save_dir = \"/home/jcibanezm/Dropbox/codes/run/ChargeStatisticsAnalysis/Daikaiju\"\n",
    "\n",
    "#filename = \"fz_%.4iAA_%s_CR_True_%i_pcent.pkl\"%(grain_size, grain_type, pcent) \n",
    "filename = \"fz_0%.3iAA_silicate_CR_True_1_pcent.pkl\"%(grain_size)\n",
    "\n",
    "pkl_file    = open(\"%s/%s\"%(save_dir, filename), \"rb\")\n",
    "cdist100 = pickle.load(pkl_file)\n",
    "pkl_file.close\n",
    "\n",
    "# Load Qabs.\n",
    "#Qabs100 = fz.get_QabsTable(grain_type, grain_size, dirtables=\"/Users/juan/codes/dustanalysis/Charge/Tables\")\n",
    "Qabs100 = fz.get_QabsTable(grain_type, grain_size)\n",
    "\n",
    "########################################################################################\n",
    "\n",
    "grain_size =500\n",
    "\n",
    "#save_dir = \"/Users/juan/Dropbox/codes/run/ChargeStatisticsAnalysis/Daikaiju\"\n",
    "save_dir = \"/home/jcibanezm/Dropbox/codes/run/ChargeStatisticsAnalysis/Daikaiju\"\n",
    "\n",
    "#filename = \"fz_%.4iAA_%s_CR_True_%i_pcent.pkl\"%(grain_size, grain_type, pcent) \n",
    "filename = \"fz_0%.3iAA_silicate_CR_True_0_pcent.pkl\"%(grain_size)\n",
    "\n",
    "pkl_file    = open(\"%s/%s\"%(save_dir, filename), \"rb\")\n",
    "cdist500 = pickle.load(pkl_file)\n",
    "pkl_file.close\n",
    "\n",
    "# Load Qabs.\n",
    "#Qabs100 = fz.get_QabsTable(grain_type, grain_size, dirtables=\"/Users/juan/codes/dustanalysis/Charge/Tables\")\n",
    "Qabs500 = fz.get_QabsTable(grain_type, grain_size)\n",
    "\n",
    "########################################################################################\n",
    "\n",
    "grain_size =1000\n",
    "\n",
    "#save_dir = \"/Users/juan/Dropbox/codes/run/ChargeStatisticsAnalysis/Daikaiju\"\n",
    "save_dir = \"/home/jcibanezm/Dropbox/codes/run/ChargeStatisticsAnalysis/Daikaiju\"\n",
    "\n",
    "#filename = \"fz_%.4iAA_%s_CR_True_%i_pcent.pkl\"%(grain_size, grain_type, pcent) \n",
    "filename = \"fz_%.4iAA_silicate_CR_True_0_pcent.pkl\"%(grain_size)\n",
    "\n",
    "pkl_file    = open(\"%s/%s\"%(save_dir, filename), \"rb\")\n",
    "cdist1000 = pickle.load(pkl_file)\n",
    "pkl_file.close\n",
    "\n",
    "# Load Qabs.\n",
    "#Qabs100 = fz.get_QabsTable(grain_type, grain_size, dirtables=\"/Users/juan/codes/dustanalysis/Charge/Tables\")\n",
    "Qabs1000 = fz.get_QabsTable(grain_type, grain_size)"
   ]
  },
  {
   "cell_type": "markdown",
   "metadata": {},
   "source": [
    "---"
   ]
  },
  {
   "cell_type": "code",
   "execution_count": 10,
   "metadata": {
    "collapsed": true
   },
   "outputs": [],
   "source": [
    "Cooling3AA = np.zeros_like(cdist3[\"nH\"], dtype=np.float)\n",
    "\n",
    "cum = 0\n",
    "for index in range(len(cdist3[\"nH\"])):\n",
    "\n",
    "    zmin = cdist3[\"zminmax\"][index*2]\n",
    "    zmax = cdist3[\"zminmax\"][index*2+1]\n",
    "    znum = int(abs(zmin) + zmax + 1)\n",
    "\n",
    "    Gtot = cdist3[\"G\"][index] + cdist3[\"G_CR\"][index]\n",
    "\n",
    "    ntot = cdist3[\"nH\"][index]\n",
    "    xe   = cdist3[\"new_xe\"][index]\n",
    "    temp = cdist3[\"temp\"][index]\n",
    "\n",
    "    ZZfz = np.arange(zmin, zmax+1, 1)\n",
    "\n",
    "    ffz = cdist3[\"fdist\"][cum:cum+znum]\n",
    "    cum +=znum\n",
    "    \n",
    "    Cooling3AA[index] = Cool_Grain(3.5, grain_type, ZZfz, ffz, ntot, xe, temp)"
   ]
  },
  {
   "cell_type": "code",
   "execution_count": 11,
   "metadata": {
    "collapsed": true
   },
   "outputs": [],
   "source": [
    "Cooling5AA = np.zeros_like(cdist5[\"nH\"], dtype=np.float)\n",
    "\n",
    "cum = 0\n",
    "for index in range(len(cdist5[\"nH\"])):\n",
    "\n",
    "    zmin = cdist5[\"zminmax\"][index*2]\n",
    "    zmax = cdist5[\"zminmax\"][index*2+1]\n",
    "    znum = int(abs(zmin) + zmax + 1)\n",
    "\n",
    "    Gtot = cdist5[\"G\"][index] + cdist5[\"G_CR\"][index]\n",
    "\n",
    "    ntot = cdist5[\"nH\"][index]\n",
    "    xe   = cdist5[\"new_xe\"][index]\n",
    "    temp = cdist5[\"temp\"][index]\n",
    "\n",
    "    ZZfz = np.arange(zmin, zmax+1, 1)\n",
    "\n",
    "    ffz = cdist5[\"fdist\"][cum:cum+znum]\n",
    "    cum +=znum\n",
    "    \n",
    "    Cooling5AA[index] = Cool_Grain(5.0, grain_type, ZZfz, ffz, ntot, xe, temp)"
   ]
  },
  {
   "cell_type": "code",
   "execution_count": 13,
   "metadata": {
    "collapsed": true
   },
   "outputs": [],
   "source": [
    "Cooling10AA = np.zeros_like(cdist10[\"nH\"], dtype=np.float)\n",
    "\n",
    "cum = 0\n",
    "for index in range(len(cdist10[\"nH\"])):\n",
    "\n",
    "    zmin = cdist10[\"zminmax\"][index*2]\n",
    "    zmax = cdist10[\"zminmax\"][index*2+1]\n",
    "    znum = int(abs(zmin) + zmax + 1)\n",
    "\n",
    "    Gtot = cdist10[\"G\"][index] + cdist10[\"G_CR\"][index]\n",
    "\n",
    "    ntot = cdist10[\"nH\"][index]\n",
    "    xe   = cdist10[\"new_xe\"][index]\n",
    "    temp = cdist10[\"temp\"][index]\n",
    "\n",
    "    ZZfz = np.arange(zmin, zmax+1, 1)\n",
    "\n",
    "    ffz = cdist10[\"fdist\"][cum:cum+znum]\n",
    "    cum +=znum\n",
    "    \n",
    "    Cooling10AA[index] = Cool_Grain(10.0, grain_type, ZZfz, ffz, ntot, xe, temp)"
   ]
  },
  {
   "cell_type": "code",
   "execution_count": 15,
   "metadata": {
    "collapsed": true
   },
   "outputs": [],
   "source": [
    "Cooling50AA = np.zeros_like(cdist50[\"nH\"], dtype=np.float)\n",
    "\n",
    "cum = 0\n",
    "for index in range(len(cdist50[\"nH\"])):\n",
    "\n",
    "    zmin = cdist50[\"zminmax\"][index*2]\n",
    "    zmax = cdist50[\"zminmax\"][index*2+1]\n",
    "    znum = int(abs(zmin) + zmax + 1)\n",
    "\n",
    "    Gtot = cdist50[\"G\"][index] + cdist50[\"G_CR\"][index]\n",
    "\n",
    "    ntot = cdist50[\"nH\"][index]\n",
    "    xe   = cdist50[\"new_xe\"][index]\n",
    "    temp = cdist50[\"temp\"][index]\n",
    "\n",
    "    ZZfz = np.arange(zmin, zmax+1, 1)\n",
    "\n",
    "    ffz = cdist50[\"fdist\"][index]\n",
    "    cum +=znum\n",
    "    \n",
    "    #print(\"Running cell\", index)\n",
    "    \n",
    "    #print(\"Input parameters:\", grain_size, grain_type, ZZfz, ffz, ntot, xe, temp, Gtot)\n",
    "    Cooling50AA[index] = Cool_Grain(50.0, grain_type, ZZfz, ffz, ntot, xe, temp)"
   ]
  },
  {
   "cell_type": "code",
   "execution_count": 16,
   "metadata": {
    "collapsed": true
   },
   "outputs": [],
   "source": [
    "Cooling100AA = np.zeros_like(cdist100[\"nH\"], dtype=np.float)\n",
    "\n",
    "cum = 0\n",
    "for index in range(len(cdist100[\"nH\"])):\n",
    "#for index in range(10):\n",
    "\n",
    "    zmin = cdist100[\"zminmax\"][index*2]\n",
    "    zmax = cdist100[\"zminmax\"][index*2+1]\n",
    "    znum = int(abs(zmin) + zmax + 1)\n",
    "\n",
    "    Gtot = cdist100[\"G\"][index] + cdist100[\"G_CR\"][index]\n",
    "\n",
    "    ntot = cdist100[\"nH\"][index]\n",
    "    xe   = cdist100[\"new_xe\"][index]\n",
    "    temp = cdist100[\"temp\"][index]\n",
    "\n",
    "    ZZfz = np.arange(zmin, zmax+1, 1)\n",
    "\n",
    "    ffz = cdist100[\"fdist\"][index]\n",
    "    cum +=znum\n",
    "    \n",
    "    #print(\"Running cell\", index)\n",
    "    #print(len(ZZfz), len(ffz))\n",
    "    #print(\"Input parameters:\", grain_size, grain_type, ZZfz, ffz, ntot, xe, temp, Gtot)\n",
    "    Cooling100AA[index] = Cool_Grain(100.0, grain_type, ZZfz, ffz, ntot, xe, temp)"
   ]
  },
  {
   "cell_type": "code",
   "execution_count": 18,
   "metadata": {
    "collapsed": true
   },
   "outputs": [],
   "source": [
    "Cooling500AA = np.zeros_like(cdist500[\"nH\"], dtype=np.float)\n",
    "\n",
    "cum = 0\n",
    "for index in range(len(cdist500[\"nH\"])):\n",
    "#for index in range(10):\n",
    "\n",
    "    zmin = cdist500[\"zminmax\"][index*2]\n",
    "    zmax = cdist500[\"zminmax\"][index*2+1]\n",
    "    znum = int(abs(zmin) + zmax + 1)\n",
    "\n",
    "    Gtot = cdist500[\"G\"][index] + cdist500[\"G_CR\"][index]\n",
    "\n",
    "    ntot = cdist500[\"nH\"][index]\n",
    "    xe   = cdist500[\"new_xe\"][index]\n",
    "    temp = cdist500[\"temp\"][index]\n",
    "\n",
    "    ZZfz = np.arange(zmin, zmax+1, 1)\n",
    "\n",
    "    ffz = cdist500[\"fdist\"][index]\n",
    "    cum +=znum\n",
    "    \n",
    "    #print(\"Running cell\", index)\n",
    "    #print(len(ZZfz), len(ffz))\n",
    "    #print(\"Input parameters:\", grain_size, grain_type, ZZfz, ffz, ntot, xe, temp, Gtot)\n",
    "    Cooling500AA[index] = Cool_Grain(500.0, grain_type, ZZfz, ffz, ntot, xe, temp)"
   ]
  },
  {
   "cell_type": "code",
   "execution_count": 19,
   "metadata": {
    "collapsed": true
   },
   "outputs": [],
   "source": [
    "Cooling1000AA = np.zeros_like(cdist1000[\"nH\"], dtype=np.float)\n",
    "\n",
    "cum = 0\n",
    "for index in range(len(cdist1000[\"nH\"])):\n",
    "\n",
    "    zmin = cdist1000[\"zminmax\"][index*2]\n",
    "    zmax = cdist1000[\"zminmax\"][index*2+1]\n",
    "    znum = int(abs(zmin) + zmax + 1)\n",
    "\n",
    "    Gtot = cdist1000[\"G\"][index] + cdist1000[\"G_CR\"][index]\n",
    "\n",
    "    ntot = cdist1000[\"nH\"][index]\n",
    "    xe   = cdist1000[\"new_xe\"][index]\n",
    "    temp = cdist1000[\"temp\"][index]\n",
    "\n",
    "    ZZfz = np.arange(zmin, zmax+1, 1)\n",
    "\n",
    "    ffz = cdist1000[\"fdist\"][index]\n",
    "    cum +=znum\n",
    "    \n",
    "    Cooling1000AA[index] = Cool_Grain(1000.0, grain_type, ZZfz, ffz, ntot, xe, temp)"
   ]
  },
  {
   "cell_type": "markdown",
   "metadata": {},
   "source": [
    " Why is the cooling for a 50A grain not working?????"
   ]
  },
  {
   "cell_type": "markdown",
   "metadata": {},
   "source": [
    "Find the combination of parameters that reduces the scatter!!!"
   ]
  },
  {
   "cell_type": "code",
   "execution_count": null,
   "metadata": {
    "collapsed": true
   },
   "outputs": [],
   "source": [
    "#Something like this:\n",
    "\n",
    "# Take a combination of parameters, bin it with ~ 50 bins, measure the mean of the Cooling in each bin, compute the scatter.\n",
    "# Vary one of the parameters, do the same and compare the scatters, which one is tighter?"
   ]
  },
  {
   "cell_type": "code",
   "execution_count": 136,
   "metadata": {
    "collapsed": false
   },
   "outputs": [
    {
     "data": {
      "image/png": "[encoded data removed]",
      "text/plain": [
       "<matplotlib.figure.Figure at 0x7f8ec0e91b50>"
      ]
     },
     "metadata": {},
     "output_type": "display_data"
    }
   ],
   "source": [
    "fig = plt.figure(figsize=(20,6))\n",
    "ax = fig.add_subplot(131)\n",
    "\n",
    "GTn3 = (cdist3[\"G\"]+cdist3[\"G_CR\"])*np.sqrt(cdist3[\"temp\"])/cdist3[\"new_ne\"]\n",
    "#BTfit3 = cdist3[\"new_ne\"]*cdist3[\"temp\"]**(0.5)*(GTn3)**(0.2)\n",
    "BTfit3 = cdist3[\"new_ne\"]*cdist3[\"temp\"]**(tempexp[0])*(GTn3)**(gtnexp[0])\n",
    "\n",
    "ax.hist2d(np.log10(BTfit3),np.log10(Cooling3AA), bins=50, norm=LogNorm(), cmap=\"inferno\")\n",
    "\n",
    "ax.set_xlabel(\"some combination of GTn$_{e}$\", fontsize=15)\n",
    "ax.set_ylabel(\" $\\Lambda^{'}_{pe}(5 \\\\AA)$ [ergs]\", fontsize=15)\n",
    "\n",
    "ax.tick_params(axis='both', which='major', length=10, width=2,  labelsize=15, direction=\"in\")\n",
    "ax.tick_params(axis='both', which='minor', length=5, width=1.5, labelsize=15, direction=\"in\")\n",
    "\n",
    "ax.set_title(\"3.5 $\\AA$\", fontsize=15)\n",
    "\n",
    "ax = fig.add_subplot(132)\n",
    "\n",
    "GTn5 = (cdist5[\"G\"]+cdist5[\"G_CR\"])*np.sqrt(cdist5[\"temp\"])/cdist5[\"new_ne\"]\n",
    "#BTfit5 = cdist5[\"new_ne\"]*cdist5[\"temp\"]**(0.5)*(GTn5)**(0.25)\n",
    "BTfit5 = cdist5[\"new_ne\"]*cdist5[\"temp\"]**(tempexp[0])*(GTn5)**(gtnexp[1])\n",
    "\n",
    "ax.hist2d(np.log10(BTfit5),np.log10(Cooling5AA), bins=50, norm=LogNorm(), cmap=\"inferno\")\n",
    "\n",
    "ax.set_xlabel(\"some combination of GTn$_{e}$\", fontsize=15)\n",
    "ax.set_ylabel(\" $\\Lambda^{'}_{pe}(5 \\\\AA)$ [ergs]\", fontsize=15)\n",
    "\n",
    "ax.tick_params(axis='both', which='major', length=10, width=2,  labelsize=15, direction=\"in\")\n",
    "ax.tick_params(axis='both', which='minor', length=5, width=1.5, labelsize=15, direction=\"in\")\n",
    "\n",
    "ax.set_title(\"5 $\\AA$\", fontsize=15)\n",
    "\n",
    "ax = fig.add_subplot(133)\n",
    "\n",
    "GTn10 = (cdist10[\"G\"]+cdist10[\"G_CR\"])*np.sqrt(cdist10[\"temp\"])/cdist10[\"new_ne\"]\n",
    "#BTfit10 = cdist10[\"new_ne\"]*cdist10[\"temp\"]**(0.8)*(GTn10)**(0.2)\n",
    "BTfit10 = cdist10[\"new_ne\"]*cdist10[\"temp\"]**(tempexp[2])*(GTn10)**(gtnexp[2])\n",
    "\n",
    "ax.hist2d(np.log10(BTfit10), np.log10(Cooling10AA), bins=50, norm=LogNorm(), cmap=\"inferno\")\n",
    "\n",
    "ax.set_xlabel(\"some combination of GTn$_{e}$\", fontsize=15)\n",
    "ax.set_ylabel(\" $\\Lambda^{'}_{pe}(5 \\\\AA)$ [ergs]\", fontsize=15)\n",
    "\n",
    "ax.tick_params(axis='both', which='major', length=10, width=2,  labelsize=15, direction=\"in\")\n",
    "ax.tick_params(axis='both', which='minor', length=5, width=1.5, labelsize=15, direction=\"in\")\n",
    "\n",
    "ax.set_title(\"10 $\\AA$\", fontsize=15)\n",
    "\n",
    "\n",
    "fig.show()"
   ]
  },
  {
   "cell_type": "code",
   "execution_count": 137,
   "metadata": {
    "collapsed": false
   },
   "outputs": [
    {
     "data": {
      "image/png": "[encoded data removed]",
      "text/plain": [
       "<matplotlib.figure.Figure at 0x7f8ec0ea71d0>"
      ]
     },
     "metadata": {},
     "output_type": "display_data"
    }
   ],
   "source": [
    "fig = plt.figure(figsize=(20,6))\n",
    "ax = fig.add_subplot(131)\n",
    "\n",
    "GTn50 = (cdist50[\"G\"]+cdist50[\"G_CR\"])*np.sqrt(cdist50[\"temp\"])/cdist50[\"new_ne\"]\n",
    "#BTfit50 = cdist50[\"new_ne\"]*cdist50[\"temp\"]**(1.0)*(GTn50)**(0.5)\n",
    "BTfit50 = cdist50[\"new_ne\"]*cdist50[\"temp\"]**(tempexp[3])*(GTn50)**(gtnexp[3])\n",
    "\n",
    "ax.hist2d(np.log10(BTfit50),np.log10(Cooling50AA), bins=50, norm=LogNorm(), cmap=\"inferno\")\n",
    "\n",
    "ax.set_xlabel(\"some combination of GTn$_{e}$\", fontsize=15)\n",
    "ax.set_ylabel(\" $\\Lambda^{'}_{pe}(50 \\\\AA)$ [ergs]\", fontsize=15)\n",
    "\n",
    "ax.tick_params(axis='both', which='major', length=10, width=2,  labelsize=15, direction=\"in\")\n",
    "ax.tick_params(axis='both', which='minor', length=5, width=1.5, labelsize=15, direction=\"in\")\n",
    "\n",
    "ax.set_title(\"50 $\\AA$\", fontsize=15)\n",
    "\n",
    "ax = fig.add_subplot(132)\n",
    "\n",
    "GTn100 = (cdist100[\"G\"]+cdist100[\"G_CR\"])*np.sqrt(cdist100[\"temp\"])/cdist100[\"new_ne\"]\n",
    "#BTfit100 = cdist100[\"new_ne\"]*cdist100[\"temp\"]**(1.0)*(GTn100)**(0.6)\n",
    "BTfit100 = cdist100[\"new_ne\"]*cdist100[\"temp\"]**(tempexp[4])*(GTn100)**(gtnexp[4])\n",
    "\n",
    "ax.hist2d(np.log10(BTfit100),np.log10(Cooling100AA), bins=50, norm=LogNorm(), cmap=\"inferno\")\n",
    "\n",
    "ax.set_xlabel(\"some combination of GTn$_{e}$\", fontsize=15)\n",
    "ax.set_ylabel(\" $\\Lambda^{'}_{pe}(100 \\\\AA)$ [ergs]\", fontsize=15)\n",
    "\n",
    "ax.tick_params(axis='both', which='major', length=10, width=2,  labelsize=15, direction=\"in\")\n",
    "ax.tick_params(axis='both', which='minor', length=5, width=1.5, labelsize=15, direction=\"in\")\n",
    "\n",
    "ax.set_title(\"100 $\\AA$\", fontsize=15)\n",
    "\n",
    "ax = fig.add_subplot(133)\n",
    "\n",
    "GTn500 = (cdist500[\"G\"]+cdist500[\"G_CR\"])*np.sqrt(cdist500[\"temp\"])/cdist500[\"new_ne\"]\n",
    "#BTfit500 = cdist500[\"new_ne\"]*cdist500[\"temp\"]**(0.50)*(GTn500)**(0.7)\n",
    "BTfit500 = cdist500[\"new_ne\"]*cdist500[\"temp\"]**(tempexp[5])*(GTn500)**(gtnexp[5])\n",
    "\n",
    "ax.hist2d(np.log10(BTfit500), np.log10(Cooling500AA), bins=50, norm=LogNorm(), cmap=\"inferno\")\n",
    "\n",
    "ax.set_xlabel(\"some combination of GTn$_{e}$\", fontsize=15)\n",
    "ax.set_ylabel(\" $\\Lambda^{'}_{pe}(5 \\\\AA)$ [ergs]\", fontsize=15)\n",
    "\n",
    "ax.tick_params(axis='both', which='major', length=10, width=2,  labelsize=15, direction=\"in\")\n",
    "ax.tick_params(axis='both', which='minor', length=5, width=1.5, labelsize=15, direction=\"in\")\n",
    "\n",
    "ax.set_title(\"500 $\\AA$\", fontsize=15)\n",
    "\n",
    "fig.show()"
   ]
  },
  {
   "cell_type": "code",
   "execution_count": 165,
   "metadata": {
    "collapsed": false
   },
   "outputs": [
    {
     "data": {
      "text/plain": [
       "array([ 0.20173887,  0.23220072,  0.29139901,  0.4288532 ,  0.48805149,\n",
       "        0.62550567,  0.68470397])"
      ]
     },
     "execution_count": 165,
     "metadata": {},
     "output_type": "execute_result"
    }
   ],
   "source": [
    "gtnexp"
   ]
  },
  {
   "cell_type": "code",
   "execution_count": 167,
   "metadata": {
    "collapsed": false
   },
   "outputs": [
    {
     "data": {
      "text/plain": [
       "[<matplotlib.lines.Line2D at 0x7f8ebeff7710>]"
      ]
     },
     "execution_count": 167,
     "metadata": {},
     "output_type": "execute_result"
    },
    {
     "data": {
      "image/png": "[encoded data removed]",
      "text/plain": [
       "<matplotlib.figure.Figure at 0x7f8eba1b3690>"
      ]
     },
     "metadata": {},
     "output_type": "display_data"
    }
   ],
   "source": [
    "plt.plot(np.log10([3.5, 100, 500, 1000]), [0.2, 0.5, 0.6, 0.7])"
   ]
  },
  {
   "cell_type": "code",
   "execution_count": 178,
   "metadata": {
    "collapsed": true
   },
   "outputs": [],
   "source": [
    "xbb = np.log10([3.5, 5, 10, 50,  100, 500])\n",
    "ybb = np.log10([0.55, 0.58, 0.6, 1.0, 1.05, 1.1])\n",
    "popt_bbb, pcov_bbb    = curve_fit(function, xbb, ybb)"
   ]
  },
  {
   "cell_type": "code",
   "execution_count": 180,
   "metadata": {
    "collapsed": false
   },
   "outputs": [
    {
     "data": {
      "text/plain": [
       "[<matplotlib.lines.Line2D at 0x7f8ec6c2b2d0>]"
      ]
     },
     "execution_count": 180,
     "metadata": {},
     "output_type": "execute_result"
    },
    {
     "data": {
      "image/png": "[encoded data removed]",
      "text/plain": [
       "<matplotlib.figure.Figure at 0x7f8ec6c2b390>"
      ]
     },
     "metadata": {},
     "output_type": "display_data"
    }
   ],
   "source": [
    "plt.plot(xbb, ybb)\n",
    "plt.plot(xbb, function(xbb, *popt_bbb), \"-r\")"
   ]
  },
  {
   "cell_type": "code",
   "execution_count": 197,
   "metadata": {
    "collapsed": true
   },
   "outputs": [],
   "source": [
    "tempexp = 10**(function(np.log10(np.array([3.5, 5., 10., 50., 100., 500., 1000.])), *popt_bbb))"
   ]
  },
  {
   "cell_type": "code",
   "execution_count": 198,
   "metadata": {
    "collapsed": false
   },
   "outputs": [
    {
     "name": "stdout",
     "output_type": "stream",
     "text": [
      "[ 0.1622353  -0.34289129]\n"
     ]
    }
   ],
   "source": [
    "print(popt_bbb)"
   ]
  },
  {
   "cell_type": "code",
   "execution_count": 199,
   "metadata": {
    "collapsed": false
   },
   "outputs": [
    {
     "name": "stdout",
     "output_type": "stream",
     "text": [
      "[ 0.55638544  0.58953056  0.65969624  0.8565281   0.95847173  1.24444845\n",
      "  1.3925622 ]\n"
     ]
    }
   ],
   "source": [
    "print(tempexp)"
   ]
  },
  {
   "cell_type": "code",
   "execution_count": 187,
   "metadata": {
    "collapsed": true
   },
   "outputs": [],
   "source": [
    "def get_beta(asize):\n",
    "    beta = 0.59 * (asize/5.0)**(0.16)\n",
    "    return beta "
   ]
  },
  {
   "cell_type": "code",
   "execution_count": 200,
   "metadata": {
    "collapsed": false
   },
   "outputs": [],
   "source": [
    "gtnexp = 10**(function(np.log10(np.array([3.5, 5., 10., 50., 100., 500., 1000.])), *popt_aaa))"
   ]
  },
  {
   "cell_type": "code",
   "execution_count": 201,
   "metadata": {
    "collapsed": false
   },
   "outputs": [
    {
     "name": "stdout",
     "output_type": "stream",
     "text": [
      "[ 0.22021129 -0.79799019]\n"
     ]
    }
   ],
   "source": [
    "print(popt_aaa)"
   ]
  },
  {
   "cell_type": "code",
   "execution_count": 202,
   "metadata": {
    "collapsed": false
   },
   "outputs": [
    {
     "name": "stdout",
     "output_type": "stream",
     "text": [
      "[ 0.20980689  0.22695037  0.26437544  0.37682715  0.43896752  0.62568174\n",
      "  0.72885927]\n"
     ]
    }
   ],
   "source": [
    "print(gtnexp)"
   ]
  },
  {
   "cell_type": "code",
   "execution_count": 203,
   "metadata": {
    "collapsed": true
   },
   "outputs": [],
   "source": [
    "xaa = np.log10([3.5, 100, 500, 1000])\n",
    "yaa = np.log10([0.20, 0.5, 0.6, 0.7])\n",
    "popt_aaa, pcov_aaa    = curve_fit(function, xaa, yaa)"
   ]
  },
  {
   "cell_type": "code",
   "execution_count": 205,
   "metadata": {
    "collapsed": false
   },
   "outputs": [
    {
     "data": {
      "text/plain": [
       "[<matplotlib.lines.Line2D at 0x7f8ec1ab9a90>]"
      ]
     },
     "execution_count": 205,
     "metadata": {},
     "output_type": "execute_result"
    },
    {
     "data": {
      "image/png": "[encoded data removed]",
      "text/plain": [
       "<matplotlib.figure.Figure at 0x7f8ec1ab9090>"
      ]
     },
     "metadata": {},
     "output_type": "display_data"
    }
   ],
   "source": [
    "plt.plot(xaa, 10**(yaa))\n",
    "plt.plot(xaa, 10**(function(xaa, *popt_aaa)), \"-r\")"
   ]
  },
  {
   "cell_type": "code",
   "execution_count": 196,
   "metadata": {
    "collapsed": false
   },
   "outputs": [
    {
     "data": {
      "text/plain": [
       "0.2268732074334571"
      ]
     },
     "execution_count": 196,
     "metadata": {},
     "output_type": "execute_result"
    }
   ],
   "source": [
    "5.0**(0.22)*10**(-0.79799019)"
   ]
  },
  {
   "cell_type": "code",
   "execution_count": null,
   "metadata": {
    "collapsed": false
   },
   "outputs": [],
   "source": [
    "fig = plt.figure(figsize=(20,6))\n",
    "ax = fig.add_subplot(131)\n",
    "\n",
    "GTn3 = (cdist3[\"G\"]+cdist3[\"G_CR\"])*np.sqrt(cdist3[\"temp\"])/cdist3[\"new_ne\"]\n",
    "BTfit3 = cdist3[\"new_ne\"]*cdist3[\"temp\"]**(0.5)*(GTn3)**(0.2)\n",
    "\n",
    "ax.hist2d(np.log10(BTfit3),np.log10(Cooling3AA), bins=50, norm=LogNorm(), cmap=\"inferno\")\n",
    "\n",
    "ax.set_xlabel(\"some combination of GTn$_{e}$\", fontsize=15)\n",
    "ax.set_ylabel(\" $\\Lambda^{'}_{pe}(5 \\\\AA)$ [ergs]\", fontsize=15)\n",
    "\n",
    "ax.tick_params(axis='both', which='major', length=10, width=2,  labelsize=15, direction=\"in\")\n",
    "ax.tick_params(axis='both', which='minor', length=5, width=1.5, labelsize=15, direction=\"in\")\n",
    "\n",
    "ax.set_title(\"3.5 $\\AA$\", fontsize=15)\n",
    "\n",
    "\n",
    "ax = fig.add_subplot(132)\n",
    "\n",
    "\n",
    "GTn3 = (cdist3[\"G\"]+cdist3[\"G_CR\"])*np.sqrt(cdist3[\"temp\"])/cdist3[\"new_ne\"]\n",
    "BTfit3 = cdist3[\"new_ne\"]*cdist3[\"temp\"]**(0.5)*(GTn3)**(0.2)\n",
    "\n",
    "ax.hist2d(np.log10(BTfit3),np.log10(Cooling3AA), bins=50, norm=LogNorm(), cmap=\"inferno\")\n",
    "\n",
    "ax.set_xlabel(\"some combination of GTn$_{e}$\", fontsize=15)\n",
    "ax.set_ylabel(\" $\\Lambda^{'}_{pe}(5 \\\\AA)$ [ergs]\", fontsize=15)\n",
    "\n",
    "ax.tick_params(axis='both', which='major', length=10, width=2,  labelsize=15, direction=\"in\")\n",
    "ax.tick_params(axis='both', which='minor', length=5, width=1.5, labelsize=15, direction=\"in\")\n",
    "\n",
    "ax.set_title(\"3.5 $\\AA$\", fontsize=15)\n",
    "\n",
    "ax = fig.add_subplot(133)\n",
    "\n",
    "\n",
    "GTn3 = (cdist3[\"G\"]+cdist3[\"G_CR\"])*np.sqrt(cdist3[\"temp\"])/cdist3[\"new_ne\"]\n",
    "BTfit3 = cdist3[\"new_ne\"]*cdist3[\"temp\"]**(0.5)*(GTn3)**(0.2)\n",
    "\n",
    "ax.hist2d(np.log10(BTfit3),np.log10(Cooling3AA), bins=50, norm=LogNorm(), cmap=\"inferno\")\n",
    "\n",
    "ax.set_xlabel(\"some combination of GTn$_{e}$\", fontsize=15)\n",
    "ax.set_ylabel(\" $\\Lambda^{'}_{pe}(5 \\\\AA)$ [ergs]\", fontsize=15)\n",
    "\n",
    "ax.tick_params(axis='both', which='major', length=10, width=2,  labelsize=15, direction=\"in\")\n",
    "ax.tick_params(axis='both', which='minor', length=5, width=1.5, labelsize=15, direction=\"in\")\n",
    "\n",
    "ax.set_title(\"3.5 $\\AA$\", fontsize=15)\n",
    "\n",
    "fig.show()"
   ]
  },
  {
   "cell_type": "code",
   "execution_count": 60,
   "metadata": {
    "collapsed": true
   },
   "outputs": [],
   "source": [
    "import MCMCFit as mcmc"
   ]
  },
  {
   "cell_type": "code",
   "execution_count": null,
   "metadata": {
    "collapsed": true
   },
   "outputs": [],
   "source": [
    "GTn3 = (cdist3[\"G\"]+cdist3[\"G_CR\"])*np.sqrt(cdist3[\"temp\"])/cdist3[\"new_ne\"]\n",
    "BTfit3 = cdist3[\"new_ne\"]*cdist3[\"temp\"]**(tempexp[0])*(GTn3)**(gtnexp[0])\n",
    "\n",
    "GTn5 = (cdist5[\"G\"]+cdist5[\"G_CR\"])*np.sqrt(cdist5[\"temp\"])/cdist5[\"new_ne\"]\n",
    "BTfit5 = cdist5[\"new_ne\"]*cdist5[\"temp\"]**(tempexp[1])*(GTn5)**(gtnexp[1])\n",
    "\n",
    "GTn10 = (cdist10[\"G\"]+cdist10[\"G_CR\"])*np.sqrt(cdist10[\"temp\"])/cdist10[\"new_ne\"]\n",
    "BTfit10 = cdist10[\"new_ne\"]*cdist10[\"temp\"]**(tempexp[2])*(GTn10)**(gtnexp[0])\n",
    "\n",
    "GTn50 = (cdist50[\"G\"]+cdist50[\"G_CR\"])*np.sqrt(cdist50[\"temp\"])/cdist50[\"new_ne\"]\n",
    "BTfit50 = cdist50[\"new_ne\"]*cdist50[\"temp\"]**(tempexp[3])*(GTn50)**(0.2)\n",
    "\n",
    "GTn100 = (cdist100[\"G\"]+cdist100[\"G_CR\"])*np.sqrt(cdist100[\"temp\"])/cdist100[\"new_ne\"]\n",
    "BTfit100 = cdist100[\"new_ne\"]*cdist100[\"temp\"]**(tempexp[4])*(GTn100)**(0.2)\n",
    "\n",
    "GTn500 = (cdist500[\"G\"]+cdist500[\"G_CR\"])*np.sqrt(cdist500[\"temp\"])/cdist500[\"new_ne\"]\n",
    "BTfit500 = cdist500[\"new_ne\"]*cdist500[\"temp\"]**(tempexp[5])*(GTn500)**(0.2)\n",
    "\n",
    "GTn1000 = (cdist1000[\"G\"]+cdist1000[\"G_CR\"])*np.sqrt(cdist1000[\"temp\"])/cdist1000[\"new_ne\"]\n",
    "BTfit1000 = cdist1000[\"new_ne\"]*cdist1000[\"temp\"]**(tempexp[6])*(GTn1000)**(0.2)"
   ]
  },
  {
   "cell_type": "code",
   "execution_count": 206,
   "metadata": {
    "collapsed": true
   },
   "outputs": [],
   "source": [
    "GTn3 = (cdist3[\"G\"]+cdist3[\"G_CR\"])*np.sqrt(cdist3[\"temp\"])/cdist3[\"new_ne\"]\n",
    "BTfit3 = cdist3[\"new_ne\"]*cdist3[\"temp\"]**(tempexp[0])*(GTn3)**(gtnexp[0])\n",
    "\n",
    "GTn5 = (cdist5[\"G\"]+cdist5[\"G_CR\"])*np.sqrt(cdist5[\"temp\"])/cdist5[\"new_ne\"]\n",
    "BTfit5 = cdist5[\"new_ne\"]*cdist5[\"temp\"]**(tempexp[1])*(GTn5)**(gtnexp[1])\n",
    "\n",
    "GTn10 = (cdist10[\"G\"]+cdist10[\"G_CR\"])*np.sqrt(cdist10[\"temp\"])/cdist10[\"new_ne\"]\n",
    "BTfit10 = cdist10[\"new_ne\"]*cdist10[\"temp\"]**(tempexp[2])*(GTn10)**(gtnexp[2])\n",
    "\n",
    "GTn50 = (cdist50[\"G\"]+cdist50[\"G_CR\"])*np.sqrt(cdist50[\"temp\"])/cdist50[\"new_ne\"]\n",
    "BTfit50 = cdist50[\"new_ne\"]*cdist50[\"temp\"]**(tempexp[3])*(GTn50)**(gtnexp[3])\n",
    "\n",
    "GTn100 = (cdist100[\"G\"]+cdist100[\"G_CR\"])*np.sqrt(cdist100[\"temp\"])/cdist100[\"new_ne\"]\n",
    "BTfit100 = cdist100[\"new_ne\"]*cdist100[\"temp\"]**(tempexp[4])*(GTn100)**(gtnexp[4])\n",
    "\n",
    "GTn500 = (cdist500[\"G\"]+cdist500[\"G_CR\"])*np.sqrt(cdist500[\"temp\"])/cdist500[\"new_ne\"]\n",
    "BTfit500 = cdist500[\"new_ne\"]*cdist500[\"temp\"]**(tempexp[5])*(GTn500)**(gtnexp[5])\n",
    "\n",
    "GTn1000 = (cdist1000[\"G\"]+cdist1000[\"G_CR\"])*np.sqrt(cdist1000[\"temp\"])/cdist1000[\"new_ne\"]\n",
    "BTfit1000 = cdist1000[\"new_ne\"]*cdist1000[\"temp\"]**(tempexp[6])*(GTn1000)**(gtnexp[6])"
   ]
  },
  {
   "cell_type": "code",
   "execution_count": 207,
   "metadata": {
    "collapsed": true
   },
   "outputs": [],
   "source": [
    "x3 = np.log10(BTfit3)\n",
    "y3 = np.log10(Cooling3AA)\n",
    "\n",
    "x5 = np.log10(BTfit5)\n",
    "y5 = np.log10(Cooling5AA)\n",
    "\n",
    "x10 = np.log10(BTfit10)\n",
    "y10 = np.log10(Cooling10AA)\n",
    "\n",
    "x50 = np.log10(BTfit50)\n",
    "y50 = np.log10(Cooling50AA)\n",
    "\n",
    "x100 = np.log10(BTfit100)\n",
    "y100 = np.log10(Cooling100AA)\n",
    "\n",
    "x500 = np.log10(BTfit500)\n",
    "y500 = np.log10(Cooling500AA)\n",
    "\n",
    "x1000 = np.log10(BTfit1000)\n",
    "y1000 = np.log10(Cooling1000AA)"
   ]
  },
  {
   "cell_type": "code",
   "execution_count": 208,
   "metadata": {
    "collapsed": true
   },
   "outputs": [],
   "source": [
    "from scipy.optimize import curve_fit"
   ]
  },
  {
   "cell_type": "code",
   "execution_count": 209,
   "metadata": {
    "collapsed": true
   },
   "outputs": [],
   "source": [
    "def function(x, m, b):\n",
    "\n",
    "    y = m*x[:] + b\n",
    "    \n",
    "    return y"
   ]
  },
  {
   "cell_type": "code",
   "execution_count": 210,
   "metadata": {
    "collapsed": true
   },
   "outputs": [],
   "source": [
    "popt_3AA, pcov_3AA    = curve_fit(function, x3, y3)\n",
    "popt_5AA, pcov_5AA    = curve_fit(function, x5, y5)\n",
    "popt_10AA, pcov_10AA  = curve_fit(function, x10, y10)\n",
    "popt_50AA, pcov_50AA  = curve_fit(function, x50, y50)\n",
    "popt_100AA, pcov_100AA  = curve_fit(function, x100, y100)\n",
    "popt_500AA, pcov_500AA  = curve_fit(function, x500, y500)\n",
    "popt_1000AA, pcov_1000AA  = curve_fit(function, x1000, y1000)"
   ]
  },
  {
   "cell_type": "code",
   "execution_count": 211,
   "metadata": {
    "collapsed": false
   },
   "outputs": [
    {
     "name": "stdout",
     "output_type": "stream",
     "text": [
      "[  1.36975576 -22.01095726]\n",
      "[  1.24629792 -21.71694715]\n",
      "[  1.14232708 -21.35325854]\n",
      "[  0.89857054 -20.39738067]\n",
      "[  0.77267035 -19.92053248]\n",
      "[  0.57837715 -19.03103158]\n",
      "[  0.52553836 -18.72124287]\n"
     ]
    }
   ],
   "source": [
    "print(popt_3AA)\n",
    "print(popt_5AA)\n",
    "print(popt_10AA)\n",
    "print(popt_50AA)\n",
    "print(popt_100AA)\n",
    "print(popt_500AA)\n",
    "print(popt_1000AA)"
   ]
  },
  {
   "cell_type": "code",
   "execution_count": 212,
   "metadata": {
    "collapsed": true
   },
   "outputs": [],
   "source": [
    "mm = [popt_3AA[0], popt_5AA[0], popt_10AA[0],  popt_50AA[0],  popt_100AA[0], popt_500AA[0], popt_1000AA[0]]\n",
    "bb = [popt_3AA[1], popt_5AA[1], popt_10AA[1], popt_50AA[1], popt_100AA[1], popt_500AA[1], popt_1000AA[1]]\n",
    "aa = [3.5, 5., 10., 50., 100., 500., 1000.]"
   ]
  },
  {
   "cell_type": "code",
   "execution_count": 213,
   "metadata": {
    "collapsed": false
   },
   "outputs": [
    {
     "name": "stdout",
     "output_type": "stream",
     "text": [
      "0.933362451401\n"
     ]
    }
   ],
   "source": [
    "print(np.average(mm))"
   ]
  },
  {
   "cell_type": "code",
   "execution_count": 214,
   "metadata": {
    "collapsed": false
   },
   "outputs": [
    {
     "data": {
      "image/png": "[encoded data removed]",
      "text/plain": [
       "<matplotlib.figure.Figure at 0x7f8eb77917d0>"
      ]
     },
     "metadata": {},
     "output_type": "display_data"
    }
   ],
   "source": [
    "fig = plt.figure(figsize=(14,6))\n",
    "ax = fig.add_subplot(121)\n",
    "\n",
    "ax.plot(aa, mm)\n",
    "#ax.set_ylim(0, 2)\n",
    "\n",
    "ax.set_xscale(\"log\")\n",
    "ax.set_yscale(\"log\")\n",
    "\n",
    "ax.set_title(\"m\", fontsize=15)\n",
    "\n",
    "ax = fig.add_subplot(122)\n",
    "\n",
    "ax.plot(aa, bb)\n",
    "ax.set_title(\"b\", fontsize=15)\n",
    "\n",
    "ax.set_xscale(\"log\")\n",
    "\n",
    "fig.show()"
   ]
  },
  {
   "cell_type": "markdown",
   "metadata": {},
   "source": [
    "# Silicate grains"
   ]
  },
  {
   "cell_type": "code",
   "execution_count": 215,
   "metadata": {
    "collapsed": true
   },
   "outputs": [],
   "source": [
    "xsize = np.log10(aa)"
   ]
  },
  {
   "cell_type": "code",
   "execution_count": 216,
   "metadata": {
    "collapsed": true
   },
   "outputs": [],
   "source": [
    "popt_allb, pcov_all    = curve_fit(function, xsize, bb)\n",
    "popt_allm, pcov_all    = curve_fit(function, xsize, np.log10(mm))"
   ]
  },
  {
   "cell_type": "code",
   "execution_count": 217,
   "metadata": {
    "collapsed": false
   },
   "outputs": [
    {
     "name": "stdout",
     "output_type": "stream",
     "text": [
      "[-0.1684423   0.22503579]\n",
      "[  1.34519609 -22.68724981]\n"
     ]
    }
   ],
   "source": [
    "print(popt_allm)\n",
    "print(popt_allb)"
   ]
  },
  {
   "cell_type": "code",
   "execution_count": 218,
   "metadata": {
    "collapsed": false
   },
   "outputs": [
    {
     "name": "stdout",
     "output_type": "stream",
     "text": [
      "1.67894237326\n"
     ]
    }
   ],
   "source": [
    "print(10**(0.22503579))"
   ]
  },
  {
   "cell_type": "code",
   "execution_count": 159,
   "metadata": {
    "collapsed": false
   },
   "outputs": [
    {
     "name": "stdout",
     "output_type": "stream",
     "text": [
      "1.83976746142e-23\n"
     ]
    }
   ],
   "source": [
    "newb = 10**(popt_all[1])\n",
    "print(newb)"
   ]
  },
  {
   "cell_type": "markdown",
   "metadata": {},
   "source": [
    "y = mx + b\n",
    "\n",
    "log10(Cool0) = m*(log10 (a)) + b\n",
    "\n",
    "cool0 = a^(m)*10^(b)"
   ]
  },
  {
   "cell_type": "code",
   "execution_count": 160,
   "metadata": {
    "collapsed": false
   },
   "outputs": [
    {
     "name": "stdout",
     "output_type": "stream",
     "text": [
      "1.6193906392e-22\n"
     ]
    }
   ],
   "source": [
    "cool5 = 5**(popt_all[0])*10**(popt_all[1])\n",
    "print(cool5)"
   ]
  },
  {
   "cell_type": "markdown",
   "metadata": {},
   "source": [
    "## Cooling:\n",
    "\n",
    "$$ \\Lambda(a) = \\Lambda_{0}(a)*(BT94)^{1.17747369697}$$\n",
    "\n",
    "where:\n",
    " \n",
    "$$ \\Lambda_{0}(a) = 4.455\\times 10^{-22} \\left( \\frac{a}{5 AA} \\right)^{2.25} $$\n",
    " \n",
    "Where BT94 is:\n",
    "\n",
    "$$ BT94 = n_{e}*T^{1/2}*(G_{tot}T^{1/2}n_{e}^{-1})^{0.2}$$\n",
    "\n"
   ]
  },
  {
   "cell_type": "code",
   "execution_count": 226,
   "metadata": {
    "collapsed": true
   },
   "outputs": [],
   "source": [
    "# This is going to change quite a lot.\n",
    "\n",
    "def Cooling_par(asize, Gtot, T, ne):\n",
    "    \"\"\"\n",
    "    Parametric cooling function.\n",
    "    \n",
    "    returns cooling rate in:\n",
    "        erg s-1\n",
    "    \"\"\"\n",
    "    import numpy as np\n",
    "    \n",
    "    Lambda0 = 4.455e-22 * (asize/5.0)**(2.24973538)\n",
    "    psi     = ne * np.sqrt(T) * (Gtot*np.sqrt(T)/ne)**(0.2)\n",
    "    \n",
    "    coolhere = Lambda0 * psi**(1.17747369697)\n",
    "    \n",
    "    return coolhere"
   ]
  },
  {
   "cell_type": "code",
   "execution_count": 227,
   "metadata": {
    "collapsed": true
   },
   "outputs": [],
   "source": [
    "# This is going to change quite a lot.\n",
    "\n",
    "def Cooling_par_new(asize, Gtot, T, ne):\n",
    "    \"\"\"\n",
    "    Parametric cooling function.\n",
    "    \n",
    "    returns cooling rate in:\n",
    "        erg s-1\n",
    "    \"\"\"\n",
    "    import numpy as np\n",
    "    \n",
    "    #Lambda0 = 4.455e-22 * (asize/5.0)**(2.24973538)\n",
    "    psi     = (Gtot*np.sqrt(T)/ne)\n",
    "    \n",
    "    Lambda0 = 10.**(-22.7+asize*1.34)\n",
    "    beta    = 0.3*np.log10(asize)+0.38 \n",
    "    alpha   = 0.2*np.log10(asize)+0.09\n",
    "    BT94    = ne * T**(beta)*psi**(alpha)\n",
    "    \n",
    "    coolhere = Lambda0 * BT94 **(1.68*asize**(-0.17))\n",
    "    \n",
    "    return coolhere"
   ]
  },
  {
   "cell_type": "code",
   "execution_count": 228,
   "metadata": {
    "collapsed": true
   },
   "outputs": [],
   "source": [
    "def Cooling_par_BTin(asize, BT94):\n",
    "    \"\"\"\n",
    "    Parametric cooling function.\n",
    "    \n",
    "    returns cooling rate in:\n",
    "        erg s-1\n",
    "    \"\"\"\n",
    "    import numpy as np\n",
    "    \n",
    "    Lambda0 = 4.4552e-22 * (asize/5.0)**(2.24973538)\n",
    "    \n",
    "    #BT94 = ne * np.sqrt(T) * (Gtot*np.sqrt(T)/ne)**(0.2)\n",
    "    \n",
    "    coolhere = Lambda0 * BT94**(1.17747369697)\n",
    "    \n",
    "    return coolhere"
   ]
  },
  {
   "cell_type": "code",
   "execution_count": 230,
   "metadata": {
    "collapsed": false
   },
   "outputs": [],
   "source": [
    "Gtot3 = cdist3[\"G\"] + cdist3[\"G_CR\"]\n",
    "temp3 = cdist3[\"temp\"]\n",
    "ne3   = cdist3[\"new_ne\"]\n",
    "\n",
    "GTn3 = (cdist3[\"G\"]+cdist3[\"G_CR\"])*np.sqrt(cdist3[\"temp\"])/cdist3[\"new_ne\"]\n",
    "BTfit3 = cdist3[\"new_ne\"]*cdist3[\"temp\"]**(0.5)*(GTn3)**(0.2)\n",
    "\n",
    "\n",
    "parCool3 = Cooling_par(3.5, Gtot3, temp3, ne3)\n",
    "parCoolBT = Cooling_par_BTin(3.5,  BTfit3)\n",
    "parCool3new = Cooling_par_new(3.5, Gtot3, temp3, ne3)"
   ]
  },
  {
   "cell_type": "code",
   "execution_count": 240,
   "metadata": {
    "collapsed": false
   },
   "outputs": [
    {
     "data": {
      "text/plain": [
       "-20.236513818243569"
      ]
     },
     "execution_count": 240,
     "metadata": {},
     "output_type": "execute_result"
    }
   ],
   "source": [
    "np.max(np.log10(Cooling3AA))"
   ]
  },
  {
   "cell_type": "code",
   "execution_count": 242,
   "metadata": {
    "collapsed": false
   },
   "outputs": [
    {
     "data": {
      "image/png": "[encoded data removed]",
      "text/plain": [
       "<matplotlib.figure.Figure at 0x7f8ec9b99750>"
      ]
     },
     "metadata": {},
     "output_type": "display_data"
    }
   ],
   "source": [
    "fig = plt.figure(figsize=(8,6))\n",
    "ax = fig.add_subplot(111)\n",
    "\n",
    "ax.hist2d(np.log10(Cooling3AA),np.log10(parCool3), bins=50, norm=LogNorm(), cmap=\"inferno\", normed=True, weights=GTn3)\n",
    "ax.plot([np.min(np.log10(Cooling3AA)), np.max(np.log10(Cooling3AA))], [np.min(np.log10(Cooling3AA)), np.max(np.log10(Cooling3AA))], \"-b\", linewidth=2)\n",
    "\n",
    "ax.set_xlabel(\"$\\Lambda^{\\mathrm{'}}_{\\mathrm{full}}(5 \\\\AA)$ [ergs]\", fontsize=15)\n",
    "ax.set_ylabel(\" $\\Lambda^{\\mathrm{'}}_{\\mathrm{par}}(5 \\\\AA)$ [ergs]\", fontsize=15)\n",
    "\n",
    "ax.tick_params(axis='both', which='major', length=10, width=2,  labelsize=15, direction=\"in\")\n",
    "ax.tick_params(axis='both', which='minor', length=5, width=1.5, labelsize=15, direction=\"in\")\n",
    "\n",
    "ax.set_title(\"3.5 $\\AA$\", fontsize=15)\n",
    "\n",
    "fig.show()"
   ]
  },
  {
   "cell_type": "code",
   "execution_count": 243,
   "metadata": {
    "collapsed": true
   },
   "outputs": [],
   "source": [
    "Gtot10 = cdist10[\"G\"] + cdist10[\"G_CR\"]\n",
    "temp10 = cdist10[\"temp\"]\n",
    "ne10   = cdist10[\"new_ne\"]\n",
    "\n",
    "GTn10 = (Gtot10)*np.sqrt(temp10)/ne10\n",
    "\n",
    "parCool10 = Cooling_par(10,  Gtot10, temp10, ne10)"
   ]
  },
  {
   "cell_type": "code",
   "execution_count": 244,
   "metadata": {
    "collapsed": false,
    "scrolled": false
   },
   "outputs": [
    {
     "data": {
      "image/png": "[encoded data removed]",
      "text/plain": [
       "<matplotlib.figure.Figure at 0x7f8ed09f9a10>"
      ]
     },
     "metadata": {},
     "output_type": "display_data"
    }
   ],
   "source": [
    "fig = plt.figure(figsize=(10,6))\n",
    "ax = fig.add_subplot(111)\n",
    "\n",
    "\n",
    "ax.hist2d(np.log10(Cooling10AA),np.log10(parCool10), bins=50, norm=LogNorm(), cmap=\"inferno\", normed=True, weights=GTn3)\n",
    "ax.plot([np.min(np.log10(Cooling10AA)), np.max(np.log10(Cooling10AA))], [np.min(np.log10(Cooling10AA)), np.max(np.log10(Cooling10AA))], \"-b\", linewidth=2)\n",
    "\n",
    "ax.set_xlabel(\"$\\Lambda^{\\mathrm{'}}_{\\mathrm{full}}(5 \\\\AA)$ [ergs]\", fontsize=15)\n",
    "ax.set_ylabel(\" $\\Lambda^{\\mathrm{'}}_{\\mathrm{par}}(5 \\\\AA)$ [ergs]\", fontsize=15)\n",
    "\n",
    "\n",
    "ax.set_xlabel(\"some combination of GTn$_{e}$\", fontsize=15)\n",
    "ax.set_ylabel(\" $\\Lambda^{'}_{pe}(10 \\\\AA)$ [ergs]\", fontsize=15)\n",
    "\n",
    "ax.tick_params(axis='both', which='major', length=10, width=2,  labelsize=15, direction=\"in\")\n",
    "ax.tick_params(axis='both', which='minor', length=5, width=1.5, labelsize=15, direction=\"in\")\n",
    "\n",
    "ax.set_title(\"10 $\\AA$\", fontsize=15)\n",
    "\n",
    "fig.show()"
   ]
  },
  {
   "cell_type": "code",
   "execution_count": 245,
   "metadata": {
    "collapsed": true
   },
   "outputs": [],
   "source": [
    "Gtot100 = cdist100[\"G\"] + cdist100[\"G_CR\"]\n",
    "temp100 = cdist100[\"temp\"]\n",
    "ne100   = cdist100[\"new_ne\"]\n",
    "\n",
    "GTn100 = (Gtot100)*np.sqrt(temp100)/ne100\n",
    "BTfit100 = ne100*temp100**(0.5)*(GTn100)**(0.5)\n",
    "\n",
    "\n",
    "parCool100 = Cooling_par(100,  Gtot100, temp100, ne100)\n",
    "#parCoolBT100 = Cooling_par_BTin(100,  BTfit100)"
   ]
  },
  {
   "cell_type": "code",
   "execution_count": 246,
   "metadata": {
    "collapsed": false
   },
   "outputs": [
    {
     "data": {
      "image/png": "[encoded data removed]",
      "text/plain": [
       "<matplotlib.figure.Figure at 0x7f8ec5119f90>"
      ]
     },
     "metadata": {},
     "output_type": "display_data"
    }
   ],
   "source": [
    "fig = plt.figure(figsize=(10,6))\n",
    "ax = fig.add_subplot(111)\n",
    "\n",
    "\n",
    "ax.hist2d(np.log10(Cooling100AA),np.log10(parCool100), bins=50, norm=LogNorm(), cmap=\"inferno\", normed=True, weights=GTn3)\n",
    "ax.plot([np.min(np.log10(Cooling100AA)), np.max(np.log10(Cooling100AA))], [np.min(np.log10(Cooling100AA)), np.max(np.log10(Cooling100AA))], \"-b\", linewidth=2)\n",
    "\n",
    "ax.set_xlabel(\"$\\Lambda^{\\mathrm{'}}_{\\mathrm{full}}(5 \\\\AA)$ [ergs]\", fontsize=15)\n",
    "ax.set_ylabel(\" $\\Lambda^{\\mathrm{'}}_{\\mathrm{par}}(5 \\\\AA)$ [ergs]\", fontsize=15)\n",
    "\n",
    "\n",
    "ax.tick_params(axis='both', which='major', length=10, width=2,  labelsize=15, direction=\"in\")\n",
    "ax.tick_params(axis='both', which='minor', length=5, width=1.5, labelsize=15, direction=\"in\")\n",
    "\n",
    "ax.set_title(\"100 $\\AA$\", fontsize=15)\n",
    "\n",
    "fig.show()"
   ]
  },
  {
   "cell_type": "markdown",
   "metadata": {},
   "source": [
    "---\n",
    "\n",
    "I need to check if this is still valid for carbonaceous grains. I think it should, they use the same equations and there was no distinction between grains in Draine & Sutin 1987."
   ]
  },
  {
   "cell_type": "code",
   "execution_count": null,
   "metadata": {
    "collapsed": true
   },
   "outputs": [],
   "source": [
    "Gtot = Gtot10\n",
    "ne = ne10\n",
    "T = temp10"
   ]
  },
  {
   "cell_type": "code",
   "execution_count": null,
   "metadata": {
    "collapsed": true
   },
   "outputs": [],
   "source": []
  },
  {
   "cell_type": "code",
   "execution_count": null,
   "metadata": {
    "collapsed": true
   },
   "outputs": [],
   "source": []
  },
  {
   "cell_type": "code",
   "execution_count": null,
   "metadata": {
    "collapsed": true
   },
   "outputs": [],
   "source": [
    "bestfit = True\n",
    "\n",
    "# Initial guess\n",
    "alpha = 0.2\n",
    "beta = 0.8\n",
    "gamma = 0.7\n",
    "\n",
    "GTn_comb = Gtot**(alpha)*ne**(beta)*T**(gamma)\n",
    "\n",
    "logarr = np.logspace(np.log10(np.min(GTn_comb)), np.log10(np.max(GTn_comb)), num=10)\n",
    "\n",
    "mean = np.zeros_like(logarr, dtype=np.float)\n",
    "std  = np.zeros_like(logarr, dtype=np.float)\n",
    "\n",
    "for i in range(len(logarr)-1):\n",
    "#for i in range(2):\n",
    "    mask = np.where((GTn_comb >= logarr[i]) & (GTn_comb < logarr[i+1]))\n",
    "    GTnhere = GTn_comb[mask]\n",
    "    #print(logarr[i], logarr[i+1])\n",
    "    #print(len(GTnhere), np.min(GTnhere), np.max(GTnhere))\n",
    "    mean[i] = np.average(GTnhere)\n",
    "    std[i] = np.std(GTnhere)\n",
    "    \n",
    "mean[-1] = mean[-2]\n",
    "std[-1] = std[-2]\n",
    "\n",
    "if bestfit:\n",
    "    alphabest = alpha\n",
    "    betabest=beta\n",
    "    gammabest=gamma\n",
    "    bestfit = False"
   ]
  },
  {
   "cell_type": "code",
   "execution_count": null,
   "metadata": {
    "collapsed": false
   },
   "outputs": [],
   "source": [
    "plt.plot(np.log10(logarr), np.log10(mean))\n",
    "plt.plot(np.log10(logarr), np.log10(std))"
   ]
  },
  {
   "cell_type": "code",
   "execution_count": null,
   "metadata": {
    "collapsed": true
   },
   "outputs": [],
   "source": [
    "bestfit = True\n",
    "\n",
    "# Initial guess\n",
    "alpha = 1.0974368543429029 # 0.2\n",
    "beta = 0.8\n",
    "gamma = 0.7\n",
    "\n",
    "counter = 0\n",
    "\n",
    "while counter < 500:\n",
    "\n",
    "    GTn_comb = Gtot**(alpha)*ne**(beta)*T**(gamma)\n",
    "\n",
    "    logarr = np.logspace(np.log10(np.min(GTn_comb)), np.log10(np.max(GTn_comb)), num=10)\n",
    "\n",
    "    mean = np.zeros_like(logarr, dtype=np.float)\n",
    "    std  = np.zeros_like(logarr, dtype=np.float)\n",
    "\n",
    "    for i in range(len(logarr)-1):\n",
    "        mask = np.where((GTn_comb >= logarr[i]) & (GTn_comb < logarr[i+1]))\n",
    "        GTnhere = GTn_comb[mask]\n",
    "        mean[i] = np.average(GTnhere)\n",
    "        std[i] = np.std(GTnhere)\n",
    "\n",
    "    mean[-1] = mean[-2]\n",
    "    std[-1] = std[-2]\n",
    "\n",
    "    if bestfit == False:\n",
    "        if np.average(std) < np.average(beststd):\n",
    "            bestfit = True\n",
    "            print(\"Found a better combination of parameters that minimizes the scatter:\")\n",
    "            print(\"alpha=\", alpha, \"beta=\", beta, \"gamma=\", gamma)\n",
    "        \n",
    "    if bestfit:\n",
    "        alphabest = alpha\n",
    "        betabest=beta\n",
    "        gammabest=gamma\n",
    "        \n",
    "        bestmean= mean\n",
    "        beststd = std\n",
    "        \n",
    "        bestfit = False\n",
    "        \n",
    "    # SHould test both positie and negative!!\n",
    "    #alpha = alpha - 0.1*np.random.rand(1)[0]\n",
    "    #beta = beta + 0.1*np.random.rand(1)[0]\n",
    "    gamma = gamma - 0.1*np.random.rand(1)[0]\n",
    "    \n",
    "    counter+=1"
   ]
  }
 ],
 "metadata": {
  "kernelspec": {
   "display_name": "Python [default]",
   "language": "python",
   "name": "python2"
  },
  "language_info": {
   "codemirror_mode": {
    "name": "ipython",
    "version": 2
   },
   "file_extension": ".py",
   "mimetype": "text/x-python",
   "name": "python",
   "nbconvert_exporter": "python",
   "pygments_lexer": "ipython2",
   "version": "2.7.15"
  }
 },
 "nbformat": 4,
 "nbformat_minor": 2
}
