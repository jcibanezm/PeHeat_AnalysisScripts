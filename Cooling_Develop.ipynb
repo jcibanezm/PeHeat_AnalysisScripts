{
 "cells": [
  {
   "cell_type": "code",
   "execution_count": 1,
   "metadata": {
    "collapsed": false
   },
   "outputs": [
    {
     "name": "stdout",
     "output_type": "stream",
     "text": [
      "Loading the library to compute the charge distribution of dust grains.\n"
     ]
    }
   ],
   "source": [
    "import compute_charge_dist as fz\n",
    "import numpy as np\n",
    "import matplotlib.pyplot as plt\n",
    "import scipy.integrate as integrate\n",
    "\n",
    "import PeHeat_Functions as peh\n",
    "import parametric_fz as fzpar\n",
    "\n",
    "import MCMCFit as mcmc\n",
    "\n",
    "%matplotlib inline\n",
    "\n",
    "microntocm    = 1.0e-4\n",
    "cmtomicron    = 1.0e4\n",
    "AAtocm        = 1.0e-8\n",
    "cmtoAA        = 1.0e8\n",
    "microntoAA    = 1.0e4\n",
    "AAtomicron    = 1.0e-4\n",
    "ergtoeV       = 6.242e11\n",
    "eVtoerg       = 1.602e-12\n",
    "\n",
    "hplanck       = 4.135667662e-15 # eV s\n",
    "clight        = 2.99792458e10   # cm s-1"
   ]
  },
  {
   "cell_type": "code",
   "execution_count": 2,
   "metadata": {
    "collapsed": true
   },
   "outputs": [],
   "source": [
    "def Cool_Grain(grain_size, grain_type, ZZ, fdist, ntot, xe, temp):\n",
    "    \"\"\"\n",
    "    Compute the cooling per grain.\n",
    "    \"\"\"\n",
    "    import numpy as np\n",
    "    import math\n",
    "    import compute_charge_dist as fz\n",
    "\n",
    "    tau = grain_size * fz.AAtocm * fz.kb * temp / fz.echarge**2\n",
    "    \n",
    "    # Loop over species!\n",
    "    Cool_spec = 0\n",
    "    for partner in [\"electron\", \"hydrogen\", \"carbon\"]:\n",
    "    \n",
    "        Cool_Zall = 0\n",
    "        # Loop over charge\n",
    "        for zi in range(len(ZZ)):\n",
    "\n",
    "            if partner == \"electron\":\n",
    "                nu          = -1*ZZ[zi]\n",
    "                stick_coef  = fz.get_stickCoef(ZZ[zi], grain_size, grain_type)\n",
    "                charge_frac = xe\n",
    "                mass        = fz.me\n",
    "                \n",
    "            elif partner == \"hydrogen\":\n",
    "                nu         = ZZ[zi]\n",
    "                stick_coef = 1.0\n",
    "                charge_frac = xe\n",
    "                mass        = fz.mH\n",
    "                \n",
    "            elif partner == \"carbon\":\n",
    "                nu         = ZZ[zi]\n",
    "                stick_coef = 1.0\n",
    "                # Maximum fraction of ionized Carbon is 1e-4*ntot.\n",
    "                charge_frac = min(1.0e-4, xe)\n",
    "                mass        = fz.mC\n",
    "\n",
    "            Cooltilde = 1.0\n",
    "\n",
    "            if nu < 0:\n",
    "                Cooltilde = fz.Jtilde_neg(tau, nu)\n",
    "            elif nu == 0:\n",
    "                Cooltilde = fz.Jtilde_0(tau, nu)\n",
    "            else:\n",
    "                Cooltilde = fz.Jtilde_pos(tau, nu)\n",
    "\n",
    "            Cool_Zhere = fdist[zi]*Cooltilde*fz.kb*temp\n",
    "            Cool_Zall += Cool_Zhere\n",
    "            \n",
    "        #print(\"Collisional Partner = \", partner)\n",
    "        Cool_spec += ntot*charge_frac*stick_coef*np.sqrt(8.0*fz.kb*temp/(np.pi*mass))*Cool_Zall\n",
    "        \n",
    "    Cool_tot = math.pi * (grain_size*AAtocm)**2 * Cool_spec\n",
    "    \n",
    "    return Cool_tot"
   ]
  },
  {
   "cell_type": "code",
   "execution_count": 3,
   "metadata": {
    "collapsed": false
   },
   "outputs": [
    {
     "ename": "IOError",
     "evalue": "[Errno 2] No such file or directory: '/Users/juan/Dropbox/codes/run/ChargeStatisticsAnalysis/Daikaiju/fz_0003AA_silicate_CR_True_1_pcent.pkl'",
     "output_type": "error",
     "traceback": [
      "\u001b[0;31m---------------------------------------------------------------------------\u001b[0m",
      "\u001b[0;31mIOError\u001b[0m                                   Traceback (most recent call last)",
      "\u001b[0;32m<ipython-input-3-a2bde8739331>\u001b[0m in \u001b[0;36m<module>\u001b[0;34m()\u001b[0m\n\u001b[1;32m     24\u001b[0m \u001b[0mfilename\u001b[0m \u001b[0;34m=\u001b[0m \u001b[0;34m\"fz_00%.2iAA_silicate_CR_True_1_pcent.pkl\"\u001b[0m\u001b[0;34m%\u001b[0m\u001b[0;34m(\u001b[0m\u001b[0mgrain_size\u001b[0m\u001b[0;34m)\u001b[0m\u001b[0;34m\u001b[0m\u001b[0m\n\u001b[1;32m     25\u001b[0m \u001b[0;34m\u001b[0m\u001b[0m\n\u001b[0;32m---> 26\u001b[0;31m \u001b[0mpkl_file\u001b[0m    \u001b[0;34m=\u001b[0m \u001b[0mopen\u001b[0m\u001b[0;34m(\u001b[0m\u001b[0;34m\"%s/%s\"\u001b[0m\u001b[0;34m%\u001b[0m\u001b[0;34m(\u001b[0m\u001b[0msave_dir\u001b[0m\u001b[0;34m,\u001b[0m \u001b[0mfilename\u001b[0m\u001b[0;34m)\u001b[0m\u001b[0;34m,\u001b[0m \u001b[0;34m\"rb\"\u001b[0m\u001b[0;34m)\u001b[0m\u001b[0;34m\u001b[0m\u001b[0m\n\u001b[0m\u001b[1;32m     27\u001b[0m \u001b[0mcdist3\u001b[0m \u001b[0;34m=\u001b[0m \u001b[0mpickle\u001b[0m\u001b[0;34m.\u001b[0m\u001b[0mload\u001b[0m\u001b[0;34m(\u001b[0m\u001b[0mpkl_file\u001b[0m\u001b[0;34m)\u001b[0m\u001b[0;34m\u001b[0m\u001b[0m\n\u001b[1;32m     28\u001b[0m \u001b[0mpkl_file\u001b[0m\u001b[0;34m.\u001b[0m\u001b[0mclose\u001b[0m\u001b[0;34m\u001b[0m\u001b[0m\n",
      "\u001b[0;31mIOError\u001b[0m: [Errno 2] No such file or directory: '/Users/juan/Dropbox/codes/run/ChargeStatisticsAnalysis/Daikaiju/fz_0003AA_silicate_CR_True_1_pcent.pkl'"
     ]
    }
   ],
   "source": [
    "import pickle\n",
    "import numpy as np\n",
    "import matplotlib.pyplot as plt\n",
    "from   matplotlib.colors import LogNorm\n",
    "\n",
    "from scipy.optimize import curve_fit\n",
    "\n",
    "import time\n",
    "\n",
    "%matplotlib inline\n",
    "\n",
    "\n",
    "grain_type = \"silicate\"\n",
    "pcent      = 1\n",
    "\n",
    "########################################################################################\n",
    "\n",
    "grain_size = 3\n",
    "\n",
    "save_dir = \"/Users/juan/Dropbox/codes/run/ChargeStatisticsAnalysis/Daikaiju\"\n",
    "#save_dir = \"/Users/juan/Dropbox/codes/run/ChargeStatisticsAnalysis/Daikaiju/Old_BeforeSept2018\"\n",
    "\n",
    "#filename = \"fz_%.4iAA_%s_CR_True_%i_pcent.pkl\"%(grain_size, grain_type, pcent) \n",
    "filename = \"fz_00%.2iAA_silicate_CR_True_1_pcent.pkl\"%(grain_size)\n",
    "\n",
    "pkl_file    = open(\"%s/%s\"%(save_dir, filename), \"rb\")\n",
    "cdist3 = pickle.load(pkl_file)\n",
    "pkl_file.close\n",
    "\n",
    "# Load Qabs.\n",
    "Qabs3 = fz.get_QabsTable(grain_type, grain_size, dirtables=\"/Users/juan/codes/dustanalysis/Charge/Tables\")\n",
    "\n",
    "########################################################################################\n",
    "\n",
    "grain_size = 5\n",
    "\n",
    "save_dir = \"/Users/juan/Dropbox/codes/run/ChargeStatisticsAnalysis/Daikaiju\"\n",
    "#save_dir = \"/Users/juan/Dropbox/codes/run/ChargeStatisticsAnalysis/Daikaiju/Old_BeforeSept2018\"\n",
    "\n",
    "#filename = \"fz_%.4iAA_%s_CR_True_%i_pcent.pkl\"%(grain_size, grain_type, pcent) \n",
    "filename = \"fz_00%.2iAA_silicate_CR_True_1_pcent.pkl\"%(grain_size)\n",
    "\n",
    "pkl_file    = open(\"%s/%s\"%(save_dir, filename), \"rb\")\n",
    "cdist5 = pickle.load(pkl_file)\n",
    "pkl_file.close\n",
    "\n",
    "# Load Qabs.\n",
    "Qabs5 = fz.get_QabsTable(grain_type, grain_size, dirtables=\"/Users/juan/codes/dustanalysis/Charge/Tables\")\n",
    "\n",
    "########################################################################################\n",
    "\n",
    "grain_size =10\n",
    "\n",
    "#save_dir = \"/Users/juan/Dropbox/codes/run/ChargeStatisticsAnalysis/Daikaiju\"\n",
    "save_dir = \"/Users/juan/Dropbox/codes/run/ChargeStatisticsAnalysis/Daikaiju\"\n",
    "\n",
    "#filename = \"fz_%.4iAA_%s_CR_True_%i_pcent.pkl\"%(grain_size, grain_type, pcent) \n",
    "filename = \"fz_00%.2iAA_silicate_CR_True_1_pcent.pkl\"%(grain_size)\n",
    "\n",
    "pkl_file    = open(\"%s/%s\"%(save_dir, filename), \"rb\")\n",
    "cdist10 = pickle.load(pkl_file)\n",
    "pkl_file.close\n",
    "\n",
    "# Load Qabs.\n",
    "Qabs10 = fz.get_QabsTable(grain_type, grain_size, dirtables=\"/Users/juan/codes/dustanalysis/Charge/Tables\")\n",
    "\n",
    "########################################################################################\n",
    "\n",
    "grain_size =50\n",
    "\n",
    "#save_dir = \"/Users/juan/Dropbox/codes/run/ChargeStatisticsAnalysis/Daikaiju\"\n",
    "save_dir = \"/Users/juan/Dropbox/codes/run/ChargeStatisticsAnalysis/Daikaiju\"\n",
    "\n",
    "#filename = \"fz_%.4iAA_%s_CR_True_%i_pcent.pkl\"%(grain_size, grain_type, pcent) \n",
    "filename = \"fz_00%.2iAA_silicate_CR_True_1_pcent.pkl\"%(grain_size)\n",
    "\n",
    "pkl_file    = open(\"%s/%s\"%(save_dir, filename), \"rb\")\n",
    "cdist50 = pickle.load(pkl_file)\n",
    "pkl_file.close\n",
    "\n",
    "# Load Qabs.\n",
    "Qabs50 = fz.get_QabsTable(grain_type, grain_size, dirtables=\"/Users/juan/codes/dustanalysis/Charge/Tables\")\n",
    "\n",
    "\n",
    "########################################################################################\n",
    "\n",
    "grain_size =100\n",
    "\n",
    "#save_dir = \"/Users/juan/Dropbox/codes/run/ChargeStatisticsAnalysis/Daikaiju\"\n",
    "save_dir = \"/Users/juan/Dropbox/codes/run/ChargeStatisticsAnalysis/Daikaiju\"\n",
    "\n",
    "#filename = \"fz_%.4iAA_%s_CR_True_%i_pcent.pkl\"%(grain_size, grain_type, pcent) \n",
    "filename = \"fz_0%.3iAA_silicate_CR_True_1_pcent.pkl\"%(grain_size)\n",
    "\n",
    "pkl_file    = open(\"%s/%s\"%(save_dir, filename), \"rb\")\n",
    "cdist100 = pickle.load(pkl_file)\n",
    "pkl_file.close\n",
    "\n",
    "# Load Qabs.\n",
    "Qabs100 = fz.get_QabsTable(grain_type, grain_size, dirtables=\"/Users/juan/codes/dustanalysis/Charge/Tables\")"
   ]
  },
  {
   "cell_type": "code",
   "execution_count": null,
   "metadata": {
    "collapsed": true
   },
   "outputs": [],
   "source": [
    "########################################################################################\n",
    "\n",
    "grain_size =100\n",
    "\n",
    "#save_dir = \"/Users/juan/Dropbox/codes/run/ChargeStatisticsAnalysis/Daikaiju\"\n",
    "save_dir = \"/Users/juan/Dropbox/codes/run/ChargeStatisticsAnalysis/Daikaiju\"\n",
    "\n",
    "#filename = \"fz_%.4iAA_%s_CR_True_%i_pcent.pkl\"%(grain_size, grain_type, pcent) \n",
    "filename = \"fz_0%.2iAA_silicate_CR_True_1_pcent.pkl\"%(grain_size)\n",
    "\n",
    "pkl_file    = open(\"%s/%s\"%(save_dir, filename), \"rb\")\n",
    "cdist100 = pickle.load(pkl_file)\n",
    "pkl_file.close\n",
    "\n",
    "# Load Qabs.\n",
    "Qabs100 = fz.get_QabsTable(grain_type, grain_size, dirtables=\"/Users/juan/codes/dustanalysis/Charge/Tables\")"
   ]
  },
  {
   "cell_type": "markdown",
   "metadata": {},
   "source": [
    "---"
   ]
  },
  {
   "cell_type": "code",
   "execution_count": null,
   "metadata": {
    "collapsed": false
   },
   "outputs": [],
   "source": [
    "print(cdist100[\"grain_size\"])"
   ]
  },
  {
   "cell_type": "code",
   "execution_count": null,
   "metadata": {
    "collapsed": true
   },
   "outputs": [],
   "source": [
    "Cooling3AA = np.zeros_like(cdist3[\"nH\"], dtype=np.float)\n",
    "\n",
    "cum = 0\n",
    "for index in range(len(cdist3[\"nH\"])):\n",
    "\n",
    "    zmin = cdist3[\"zminmax\"][index*2]\n",
    "    zmax = cdist3[\"zminmax\"][index*2+1]\n",
    "    znum = int(abs(zmin) + zmax + 1)\n",
    "\n",
    "    Gtot = cdist3[\"G\"][index] + cdist3[\"G_CR\"][index]\n",
    "\n",
    "    ntot = cdist3[\"nH\"][index]\n",
    "    xe   = cdist3[\"new_xe\"][index]\n",
    "    temp = cdist3[\"temp\"][index]\n",
    "\n",
    "    ZZfz = np.arange(zmin, zmax+1, 1)\n",
    "\n",
    "    ffz = cdist3[\"fdist\"][cum:cum+znum]\n",
    "    cum +=znum\n",
    "    \n",
    "    Cooling3AA[index] = Cool_Grain(3.5, grain_type, ZZfz, ffz, ntot, xe, temp)"
   ]
  },
  {
   "cell_type": "code",
   "execution_count": null,
   "metadata": {
    "collapsed": true
   },
   "outputs": [],
   "source": [
    "Cooling5AA = np.zeros_like(cdist5[\"nH\"], dtype=np.float)\n",
    "\n",
    "cum = 0\n",
    "for index in range(len(cdist5[\"nH\"])):\n",
    "\n",
    "    zmin = cdist5[\"zminmax\"][index*2]\n",
    "    zmax = cdist5[\"zminmax\"][index*2+1]\n",
    "    znum = int(abs(zmin) + zmax + 1)\n",
    "\n",
    "    Gtot = cdist5[\"G\"][index] + cdist5[\"G_CR\"][index]\n",
    "\n",
    "    ntot = cdist5[\"nH\"][index]\n",
    "    xe   = cdist5[\"new_xe\"][index]\n",
    "    temp = cdist5[\"temp\"][index]\n",
    "\n",
    "    ZZfz = np.arange(zmin, zmax+1, 1)\n",
    "\n",
    "    ffz = cdist5[\"fdist\"][cum:cum+znum]\n",
    "    cum +=znum\n",
    "    \n",
    "    Cooling5AA[index] = Cool_Grain(5.0, grain_type, ZZfz, ffz, ntot, xe, temp)"
   ]
  },
  {
   "cell_type": "code",
   "execution_count": null,
   "metadata": {
    "collapsed": true
   },
   "outputs": [],
   "source": [
    "Cooling10AA = np.zeros_like(cdist10[\"nH\"], dtype=np.float)\n",
    "\n",
    "cum = 0\n",
    "for index in range(len(cdist10[\"nH\"])):\n",
    "\n",
    "    zmin = cdist10[\"zminmax\"][index*2]\n",
    "    zmax = cdist10[\"zminmax\"][index*2+1]\n",
    "    znum = int(abs(zmin) + zmax + 1)\n",
    "\n",
    "    Gtot = cdist10[\"G\"][index] + cdist10[\"G_CR\"][index]\n",
    "\n",
    "    ntot = cdist10[\"nH\"][index]\n",
    "    xe   = cdist10[\"new_xe\"][index]\n",
    "    temp = cdist10[\"temp\"][index]\n",
    "\n",
    "    ZZfz = np.arange(zmin, zmax+1, 1)\n",
    "\n",
    "    ffz = cdist10[\"fdist\"][cum:cum+znum]\n",
    "    cum +=znum\n",
    "    \n",
    "    Cooling10AA[index] = Cool_Grain(10.0, grain_type, ZZfz, ffz, ntot, xe, temp)"
   ]
  },
  {
   "cell_type": "code",
   "execution_count": null,
   "metadata": {
    "collapsed": true
   },
   "outputs": [],
   "source": [
    "Cooling50AA = np.zeros_like(cdist50[\"nH\"], dtype=np.float)\n",
    "\n",
    "cum = 0\n",
    "for index in range(len(cdist50[\"nH\"])):\n",
    "\n",
    "    zmin = cdist50[\"zminmax\"][index*2]\n",
    "    zmax = cdist50[\"zminmax\"][index*2+1]\n",
    "    znum = int(abs(zmin) + zmax + 1)\n",
    "\n",
    "    Gtot = cdist50[\"G\"][index] + cdist50[\"G_CR\"][index]\n",
    "\n",
    "    ntot = cdist50[\"nH\"][index]\n",
    "    xe   = cdist50[\"new_xe\"][index]\n",
    "    temp = cdist50[\"temp\"][index]\n",
    "\n",
    "    ZZfz = np.arange(zmin, zmax+1, 1)\n",
    "\n",
    "    ffz = cdist50[\"fdist\"][index]\n",
    "    cum +=znum\n",
    "    \n",
    "    #print(\"Running cell\", index)\n",
    "    \n",
    "    #print(\"Input parameters:\", grain_size, grain_type, ZZfz, ffz, ntot, xe, temp, Gtot)\n",
    "    Cooling50AA[index] = Cool_Grain(50.0, grain_type, ZZfz, ffz, ntot, xe, temp)"
   ]
  },
  {
   "cell_type": "code",
   "execution_count": null,
   "metadata": {
    "collapsed": true
   },
   "outputs": [],
   "source": [
    "Cooling100AA = np.zeros_like(cdist100[\"nH\"], dtype=np.float)\n",
    "\n",
    "cum = 0\n",
    "for index in range(len(cdist100[\"nH\"])):\n",
    "#for index in range(10):\n",
    "\n",
    "    zmin = cdist100[\"zminmax\"][index*2]\n",
    "    zmax = cdist100[\"zminmax\"][index*2+1]\n",
    "    znum = int(abs(zmin) + zmax + 1)\n",
    "\n",
    "    Gtot = cdist100[\"G\"][index] + cdist100[\"G_CR\"][index]\n",
    "\n",
    "    ntot = cdist100[\"nH\"][index]\n",
    "    xe   = cdist100[\"new_xe\"][index]\n",
    "    temp = cdist100[\"temp\"][index]\n",
    "\n",
    "    ZZfz = np.arange(zmin, zmax+1, 1)\n",
    "\n",
    "    ffz = cdist100[\"fdist\"][index]\n",
    "    cum +=znum\n",
    "    \n",
    "    #print(\"Running cell\", index)\n",
    "    #print(len(ZZfz), len(ffz))\n",
    "    #print(\"Input parameters:\", grain_size, grain_type, ZZfz, ffz, ntot, xe, temp, Gtot)\n",
    "    Cooling100AA[index] = Cool_Grain(100.0, grain_type, ZZfz, ffz, ntot, xe, temp)"
   ]
  },
  {
   "cell_type": "markdown",
   "metadata": {},
   "source": [
    " Why is the cooling for a 50A grain not working?????"
   ]
  },
  {
   "cell_type": "markdown",
   "metadata": {},
   "source": [
    "Find the combination of parameters that reduces the scatter!!!"
   ]
  },
  {
   "cell_type": "code",
   "execution_count": null,
   "metadata": {
    "collapsed": true
   },
   "outputs": [],
   "source": [
    "#Something like this:\n",
    "\n",
    "# Take a combination of parameters, bin it with ~ 50 bins, measure the mean of the Cooling in each bin, compute the scatter.\n",
    "# Vary one of the parameters, do the same and compare the scatters, which one is tighter?"
   ]
  },
  {
   "cell_type": "code",
   "execution_count": null,
   "metadata": {
    "collapsed": true
   },
   "outputs": [],
   "source": []
  },
  {
   "cell_type": "code",
   "execution_count": null,
   "metadata": {
    "collapsed": false
   },
   "outputs": [],
   "source": [
    "fig = plt.figure(figsize=(20,6))\n",
    "ax = fig.add_subplot(131)\n",
    "\n",
    "GTn3 = (cdist3[\"G\"]+cdist3[\"G_CR\"])*np.sqrt(cdist3[\"temp\"])/cdist3[\"new_ne\"]\n",
    "BTfit3 = cdist3[\"new_ne\"]*cdist3[\"temp\"]**(0.5)*(GTn3)**(0.2)\n",
    "\n",
    "ax.hist2d(np.log10(BTfit3),np.log10(Cooling3AA), bins=50, norm=LogNorm(), cmap=\"inferno\")\n",
    "\n",
    "ax.set_xlabel(\"some combination of GTn$_{e}$\", fontsize=15)\n",
    "ax.set_ylabel(\" $\\Lambda^{'}_{pe}(5 \\\\AA)$ [ergs]\", fontsize=15)\n",
    "\n",
    "ax.tick_params(axis='both', which='major', length=10, width=2,  labelsize=15, direction=\"in\")\n",
    "ax.tick_params(axis='both', which='minor', length=5, width=1.5, labelsize=15, direction=\"in\")\n",
    "\n",
    "ax.set_title(\"3.5 $\\AA$\", fontsize=15)\n",
    "\n",
    "ax = fig.add_subplot(132)\n",
    "\n",
    "GTn5 = (cdist5[\"G\"]+cdist5[\"G_CR\"])*np.sqrt(cdist5[\"temp\"])/cdist5[\"new_ne\"]\n",
    "BTfit5 = cdist5[\"new_ne\"]*cdist5[\"temp\"]**(0.5)*(GTn5)**(0.2)\n",
    "\n",
    "ax.hist2d(np.log10(BTfit5),np.log10(Cooling5AA), bins=50, norm=LogNorm(), cmap=\"inferno\")\n",
    "\n",
    "ax.set_xlabel(\"some combination of GTn$_{e}$\", fontsize=15)\n",
    "ax.set_ylabel(\" $\\Lambda^{'}_{pe}(5 \\\\AA)$ [ergs]\", fontsize=15)\n",
    "\n",
    "ax.tick_params(axis='both', which='major', length=10, width=2,  labelsize=15, direction=\"in\")\n",
    "ax.tick_params(axis='both', which='minor', length=5, width=1.5, labelsize=15, direction=\"in\")\n",
    "\n",
    "ax.set_title(\"5 $\\AA$\", fontsize=15)\n",
    "\n",
    "ax = fig.add_subplot(133)\n",
    "\n",
    "GTn10 = (cdist10[\"G\"]+cdist10[\"G_CR\"])*np.sqrt(cdist10[\"temp\"])/cdist10[\"new_ne\"]\n",
    "BTfit10 = cdist10[\"new_ne\"]*cdist10[\"temp\"]**(0.4)*(GTn10)**(0.2)\n",
    "\n",
    "ax.hist2d(np.log10(BTfit10), np.log10(Cooling10AA), bins=50, norm=LogNorm(), cmap=\"inferno\")\n",
    "\n",
    "ax.set_xlabel(\"some combination of GTn$_{e}$\", fontsize=15)\n",
    "ax.set_ylabel(\" $\\Lambda^{'}_{pe}(5 \\\\AA)$ [ergs]\", fontsize=15)\n",
    "\n",
    "ax.tick_params(axis='both', which='major', length=10, width=2,  labelsize=15, direction=\"in\")\n",
    "ax.tick_params(axis='both', which='minor', length=5, width=1.5, labelsize=15, direction=\"in\")\n",
    "\n",
    "ax.set_title(\"10 $\\AA$\", fontsize=15)\n",
    "\n",
    "\n",
    "fig.show()"
   ]
  },
  {
   "cell_type": "code",
   "execution_count": null,
   "metadata": {
    "collapsed": false
   },
   "outputs": [],
   "source": [
    "fig = plt.figure(figsize=(20,6))\n",
    "ax = fig.add_subplot(131)\n",
    "\n",
    "GTn3 = (cdist3[\"G\"]+cdist3[\"G_CR\"])*np.sqrt(cdist3[\"temp\"])/cdist3[\"new_ne\"]\n",
    "BTfit3 = cdist3[\"new_ne\"]*cdist3[\"temp\"]**(0.5)*(GTn3)**(0.2)\n",
    "\n",
    "ax.hist2d(np.log10(BTfit3),np.log10(Cooling3AA), bins=50, norm=LogNorm(), cmap=\"inferno\")\n",
    "\n",
    "ax.set_xlabel(\"some combination of GTn$_{e}$\", fontsize=15)\n",
    "ax.set_ylabel(\" $\\Lambda^{'}_{pe}(5 \\\\AA)$ [ergs]\", fontsize=15)\n",
    "\n",
    "ax.tick_params(axis='both', which='major', length=10, width=2,  labelsize=15, direction=\"in\")\n",
    "ax.tick_params(axis='both', which='minor', length=5, width=1.5, labelsize=15, direction=\"in\")\n",
    "\n",
    "ax.set_title(\"3.5 $\\AA$\", fontsize=15)\n",
    "\n",
    "\n",
    "ax = fig.add_subplot(132)\n",
    "\n",
    "\n",
    "GTn3 = (cdist3[\"G\"]+cdist3[\"G_CR\"])*np.sqrt(cdist3[\"temp\"])/cdist3[\"new_ne\"]\n",
    "BTfit3 = cdist3[\"new_ne\"]*cdist3[\"temp\"]**(0.5)*(GTn3)**(0.2)\n",
    "\n",
    "ax.hist2d(np.log10(BTfit3),np.log10(Cooling3AA), bins=50, norm=LogNorm(), cmap=\"inferno\")\n",
    "\n",
    "ax.set_xlabel(\"some combination of GTn$_{e}$\", fontsize=15)\n",
    "ax.set_ylabel(\" $\\Lambda^{'}_{pe}(5 \\\\AA)$ [ergs]\", fontsize=15)\n",
    "\n",
    "ax.tick_params(axis='both', which='major', length=10, width=2,  labelsize=15, direction=\"in\")\n",
    "ax.tick_params(axis='both', which='minor', length=5, width=1.5, labelsize=15, direction=\"in\")\n",
    "\n",
    "ax.set_title(\"3.5 $\\AA$\", fontsize=15)\n",
    "\n",
    "ax = fig.add_subplot(133)\n",
    "\n",
    "\n",
    "GTn3 = (cdist3[\"G\"]+cdist3[\"G_CR\"])*np.sqrt(cdist3[\"temp\"])/cdist3[\"new_ne\"]\n",
    "BTfit3 = cdist3[\"new_ne\"]*cdist3[\"temp\"]**(0.5)*(GTn3)**(0.2)\n",
    "\n",
    "ax.hist2d(np.log10(BTfit3),np.log10(Cooling3AA), bins=50, norm=LogNorm(), cmap=\"inferno\")\n",
    "\n",
    "ax.set_xlabel(\"some combination of GTn$_{e}$\", fontsize=15)\n",
    "ax.set_ylabel(\" $\\Lambda^{'}_{pe}(5 \\\\AA)$ [ergs]\", fontsize=15)\n",
    "\n",
    "ax.tick_params(axis='both', which='major', length=10, width=2,  labelsize=15, direction=\"in\")\n",
    "ax.tick_params(axis='both', which='minor', length=5, width=1.5, labelsize=15, direction=\"in\")\n",
    "\n",
    "ax.set_title(\"3.5 $\\AA$\", fontsize=15)\n",
    "\n",
    "fig.show()"
   ]
  },
  {
   "cell_type": "code",
   "execution_count": null,
   "metadata": {
    "collapsed": true
   },
   "outputs": [],
   "source": [
    "import MCMCFit as mcmc"
   ]
  },
  {
   "cell_type": "code",
   "execution_count": null,
   "metadata": {
    "collapsed": true
   },
   "outputs": [],
   "source": [
    "GTn3 = (cdist3[\"G\"]+cdist3[\"G_CR\"])*np.sqrt(cdist3[\"temp\"])/cdist3[\"new_ne\"]\n",
    "BTfit3 = cdist3[\"new_ne\"]*cdist3[\"temp\"]**(0.5)*(GTn3)**(0.2)\n",
    "\n",
    "GTn5 = (cdist5[\"G\"]+cdist5[\"G_CR\"])*np.sqrt(cdist5[\"temp\"])/cdist5[\"new_ne\"]\n",
    "BTfit5 = cdist5[\"new_ne\"]*cdist5[\"temp\"]**(0.5)*(GTn5)**(0.2)\n",
    "\n",
    "GTn10 = (cdist10[\"G\"]+cdist10[\"G_CR\"])*np.sqrt(cdist10[\"temp\"])/cdist10[\"new_ne\"]\n",
    "BTfit10 = cdist10[\"new_ne\"]*cdist10[\"temp\"]**(0.5)*(GTn10)**(0.2)\n",
    "\n",
    "GTn50 = (cdist50[\"G\"]+cdist50[\"G_CR\"])*np.sqrt(cdist50[\"temp\"])/cdist50[\"new_ne\"]\n",
    "BTfit50 = cdist50[\"new_ne\"]*cdist50[\"temp\"]**(0.5)*(GTn50)**(0.2)\n",
    "\n",
    "GTn100 = (cdist100[\"G\"]+cdist100[\"G_CR\"])*np.sqrt(cdist100[\"temp\"])/cdist100[\"new_ne\"]\n",
    "BTfit100 = cdist100[\"new_ne\"]*cdist100[\"temp\"]**(0.5)*(GTn100)**(0.2)"
   ]
  },
  {
   "cell_type": "code",
   "execution_count": null,
   "metadata": {
    "collapsed": true
   },
   "outputs": [],
   "source": [
    "x3 = np.log10(BTfit3)\n",
    "y3 = np.log10(Cooling3AA)\n",
    "\n",
    "x5 = np.log10(BTfit5)\n",
    "y5 = np.log10(Cooling5AA)\n",
    "\n",
    "x10 = np.log10(BTfit10)\n",
    "y10 = np.log10(Cooling10AA)\n",
    "\n",
    "x50 = np.log10(BTfit50)\n",
    "y50 = np.log10(Cooling50AA)\n",
    "\n",
    "x100 = np.log10(BTfit100)\n",
    "y100 = np.log10(Cooling100AA)"
   ]
  },
  {
   "cell_type": "code",
   "execution_count": null,
   "metadata": {
    "collapsed": true
   },
   "outputs": [],
   "source": [
    "from scipy.optimize import curve_fit"
   ]
  },
  {
   "cell_type": "code",
   "execution_count": null,
   "metadata": {
    "collapsed": true
   },
   "outputs": [],
   "source": [
    "def function(x, m, b):\n",
    "\n",
    "    y = m*x[:] + b\n",
    "    \n",
    "    return y"
   ]
  },
  {
   "cell_type": "code",
   "execution_count": null,
   "metadata": {
    "collapsed": true
   },
   "outputs": [],
   "source": [
    "popt_3AA, pcov_3AA    = curve_fit(function, x3, y3)\n",
    "popt_5AA, pcov_5AA    = curve_fit(function, x5, y5)\n",
    "popt_10AA, pcov_10AA  = curve_fit(function, x10, y10)\n",
    "popt_50AA, pcov_50AA  = curve_fit(function, x50, y50)\n",
    "popt_100AA, pcov_100AA  = curve_fit(function, x100, y100)"
   ]
  },
  {
   "cell_type": "code",
   "execution_count": null,
   "metadata": {
    "collapsed": false
   },
   "outputs": [],
   "source": [
    "print(popt_3AA)\n",
    "print(popt_5AA)\n",
    "print(popt_10AA)\n",
    "print(popt_50AA)\n",
    "print(popt_100AA)"
   ]
  },
  {
   "cell_type": "code",
   "execution_count": null,
   "metadata": {
    "collapsed": true
   },
   "outputs": [],
   "source": [
    "mm = [popt_3AA[0], popt_5AA[0], popt_10AA[0],  popt_50AA[0],  popt_100AA[0]]\n",
    "bb = [popt_3AA[1], popt_5AA[1], popt_10AA[1], popt_50AA[1], popt_100AA[1]]\n",
    "aa = [3.5, 5., 10., 50., 100.]"
   ]
  },
  {
   "cell_type": "code",
   "execution_count": null,
   "metadata": {
    "collapsed": false
   },
   "outputs": [],
   "source": [
    "print(np.average(mm))"
   ]
  },
  {
   "cell_type": "code",
   "execution_count": null,
   "metadata": {
    "collapsed": false
   },
   "outputs": [],
   "source": [
    "fig = plt.figure(figsize=(14,6))\n",
    "ax = fig.add_subplot(121)\n",
    "\n",
    "ax.plot(aa, mm)\n",
    "ax.set_ylim(0, 2)\n",
    "\n",
    "ax.set_title(\"m\", fontsize=15)\n",
    "\n",
    "ax = fig.add_subplot(122)\n",
    "\n",
    "ax.plot(aa, bb)\n",
    "ax.set_title(\"b\", fontsize=15)\n",
    "\n",
    "ax.set_xscale(\"log\")\n",
    "\n",
    "fig.show()"
   ]
  },
  {
   "cell_type": "code",
   "execution_count": null,
   "metadata": {
    "collapsed": true
   },
   "outputs": [],
   "source": [
    "xsize = np.log10(aa)"
   ]
  },
  {
   "cell_type": "code",
   "execution_count": null,
   "metadata": {
    "collapsed": true
   },
   "outputs": [],
   "source": [
    "popt_all, pcov_all    = curve_fit(function, xsize, bb)"
   ]
  },
  {
   "cell_type": "code",
   "execution_count": null,
   "metadata": {
    "collapsed": false
   },
   "outputs": [],
   "source": [
    "print(popt_all)"
   ]
  },
  {
   "cell_type": "code",
   "execution_count": null,
   "metadata": {
    "collapsed": false
   },
   "outputs": [],
   "source": [
    "newb = 10**(popt_all[1])\n",
    "print(newb)"
   ]
  },
  {
   "cell_type": "markdown",
   "metadata": {},
   "source": [
    "y = mx + b\n",
    "\n",
    "log10(Cool0) = m*(log10 (a)) + b\n",
    "\n",
    "cool0 = a^(m)*10^(b)"
   ]
  },
  {
   "cell_type": "code",
   "execution_count": null,
   "metadata": {
    "collapsed": false
   },
   "outputs": [],
   "source": [
    "cool5 = 5**(popt_all[0])*10**(popt_all[1])\n",
    "print(cool5)"
   ]
  },
  {
   "cell_type": "markdown",
   "metadata": {},
   "source": [
    "## Cooling:\n",
    "\n",
    "$$ \\Lambda(a) = \\Lambda_{0}(a)*(BT94)^{1.17747369697}$$\n",
    "\n",
    "where:\n",
    " \n",
    "$$ \\Lambda_{0}(a) = 4.455\\times 10^{-22} \\left( \\frac{a}{5 AA} \\right)^{2.25} $$\n",
    " \n",
    "Where BT94 is:\n",
    "\n",
    "$$ BT94 = n_{e}*T^{1/2}*(G_{tot}T^{1/2}n_{e}^{-1})^{0.2}$$\n",
    "\n"
   ]
  },
  {
   "cell_type": "code",
   "execution_count": null,
   "metadata": {
    "collapsed": true
   },
   "outputs": [],
   "source": [
    "def Cooling_par(asize, Gtot, T, ne):\n",
    "    \"\"\"\n",
    "    Parametric cooling function.\n",
    "    \n",
    "    returns cooling rate in:\n",
    "        erg s-1\n",
    "    \"\"\"\n",
    "    import numpy as np\n",
    "    \n",
    "    Lambda0 = 4.455e-22 * (asize/5.0)**(2.24973538)\n",
    "    psi     = ne * np.sqrt(T) * (Gtot*np.sqrt(T)/ne)**(0.2)\n",
    "    \n",
    "    coolhere = Lambda0 * psi**(1.17747369697)\n",
    "    \n",
    "    return coolhere"
   ]
  },
  {
   "cell_type": "code",
   "execution_count": null,
   "metadata": {
    "collapsed": true
   },
   "outputs": [],
   "source": [
    "def Cooling_par_BTin(asize, BT94):\n",
    "    \"\"\"\n",
    "    Parametric cooling function.\n",
    "    \n",
    "    returns cooling rate in:\n",
    "        erg s-1\n",
    "    \"\"\"\n",
    "    import numpy as np\n",
    "    \n",
    "    Lambda0 = 4.4552e-22 * (asize/5.0)**(2.24973538)\n",
    "    \n",
    "    #BT94 = ne * np.sqrt(T) * (Gtot*np.sqrt(T)/ne)**(0.2)\n",
    "    \n",
    "    coolhere = Lambda0 * BT94**(1.17747369697)\n",
    "    \n",
    "    return coolhere"
   ]
  },
  {
   "cell_type": "code",
   "execution_count": null,
   "metadata": {
    "collapsed": true
   },
   "outputs": [],
   "source": [
    "Gtot3 = cdist3[\"G\"] + cdist3[\"G_CR\"]\n",
    "temp3 = cdist3[\"temp\"]\n",
    "ne3   = cdist3[\"new_ne\"]\n",
    "\n",
    "GTn3 = (cdist3[\"G\"]+cdist3[\"G_CR\"])*np.sqrt(cdist3[\"temp\"])/cdist3[\"new_ne\"]\n",
    "BTfit3 = cdist3[\"new_ne\"]*cdist3[\"temp\"]**(0.5)*(GTn3)**(0.2)\n",
    "\n",
    "\n",
    "parCool3 = Cooling_par(3.5, Gtot3, temp3, ne3)\n",
    "parCoolBT = Cooling_par_BTin(3.5,  BTfit3)"
   ]
  },
  {
   "cell_type": "code",
   "execution_count": null,
   "metadata": {
    "collapsed": false
   },
   "outputs": [],
   "source": [
    "fig = plt.figure(figsize=(10,6))\n",
    "ax = fig.add_subplot(111)\n",
    "\n",
    "\n",
    "ax.hist2d(np.log10(BTfit3),np.log10(Cooling3AA), bins=50, norm=LogNorm(), cmap=\"inferno\", normed=True, weights=GTn3)\n",
    "ax.plot(np.log10(BTfit3), np.log10(parCoolBT), \"-r\", linewidth=2)\n",
    "\n",
    "#ax.hist2d((BTfit3),np.log10(Cooling3AA), bins=50, norm=LogNorm(), cmap=\"inferno\", normed=True, weights=GTn3)\n",
    "#ax.scatter(BTfit3, np.log10(parCoolBT))\n",
    "\n",
    "\n",
    "ax.set_xlabel(\"some combination of GTn$_{e}$\", fontsize=15)\n",
    "ax.set_ylabel(\" $\\Lambda^{'}_{pe}(5 \\\\AA)$ [ergs]\", fontsize=15)\n",
    "\n",
    "ax.tick_params(axis='both', which='major', length=10, width=2,  labelsize=15, direction=\"in\")\n",
    "ax.tick_params(axis='both', which='minor', length=5, width=1.5, labelsize=15, direction=\"in\")\n",
    "\n",
    "ax.set_title(\"3.5 $\\AA$\", fontsize=15)\n",
    "\n",
    "fig.show()"
   ]
  },
  {
   "cell_type": "code",
   "execution_count": null,
   "metadata": {
    "collapsed": true
   },
   "outputs": [],
   "source": [
    "Gtot10 = cdist10[\"G\"] + cdist10[\"G_CR\"]\n",
    "temp10 = cdist10[\"temp\"]\n",
    "ne10   = cdist10[\"new_ne\"]\n",
    "\n",
    "GTn10 = (Gtot10)*np.sqrt(temp10)/ne10\n",
    "BTfit10 = ne10*temp10**(0.5)*(GTn10)**(0.2)\n",
    "\n",
    "\n",
    "parCool10 = Cooling_par(10,  Gtot10, temp10, ne10)\n",
    "parCoolBT10 = Cooling_par_BTin(10,  BTfit10)"
   ]
  },
  {
   "cell_type": "code",
   "execution_count": null,
   "metadata": {
    "collapsed": false,
    "scrolled": false
   },
   "outputs": [],
   "source": [
    "fig = plt.figure(figsize=(10,6))\n",
    "ax = fig.add_subplot(111)\n",
    "\n",
    "\n",
    "ax.hist2d(np.log10(BTfit10),np.log10(Cooling10AA), bins=50, norm=LogNorm(), cmap=\"inferno\", normed=True)\n",
    "ax.plot(np.log10(BTfit10), np.log10(parCoolBT10), \"-r\", linewidth=2)\n",
    "\n",
    "#ax.hist2d((BTfit10),np.log10(Cooling10AA), bins=50, norm=LogNorm(), cmap=\"inferno\", normed=True, weights=GTn10)\n",
    "#ax.scatter(BTfit10, np.log10(parCoolBT10))\n",
    "\n",
    "\n",
    "ax.set_xlabel(\"some combination of GTn$_{e}$\", fontsize=15)\n",
    "ax.set_ylabel(\" $\\Lambda^{'}_{pe}(10 \\\\AA)$ [ergs]\", fontsize=15)\n",
    "\n",
    "ax.tick_params(axis='both', which='major', length=10, width=2,  labelsize=15, direction=\"in\")\n",
    "ax.tick_params(axis='both', which='minor', length=5, width=1.5, labelsize=15, direction=\"in\")\n",
    "\n",
    "ax.set_title(\"10 $\\AA$\", fontsize=15)\n",
    "\n",
    "fig.show()"
   ]
  },
  {
   "cell_type": "code",
   "execution_count": null,
   "metadata": {
    "collapsed": true
   },
   "outputs": [],
   "source": [
    "Gtot100 = cdist100[\"G\"] + cdist100[\"G_CR\"]\n",
    "temp100 = cdist100[\"temp\"]\n",
    "ne100   = cdist100[\"new_ne\"]\n",
    "\n",
    "GTn100 = (Gtot100)*np.sqrt(temp100)/ne100\n",
    "BTfit100 = ne100*temp100**(0.5)*(GTn100)**(0.5)\n",
    "\n",
    "\n",
    "#parCool100 = Cooling_par(100,  Gtot100, temp100, ne100)\n",
    "#parCoolBT100 = Cooling_par_BTin(100,  BTfit100)"
   ]
  },
  {
   "cell_type": "code",
   "execution_count": null,
   "metadata": {
    "collapsed": false
   },
   "outputs": [],
   "source": [
    "fig = plt.figure(figsize=(10,6))\n",
    "ax = fig.add_subplot(111)\n",
    "\n",
    "\n",
    "ax.hist2d(np.log10(BTfit100),np.log10(Cooling100AA), bins=50, norm=LogNorm(), cmap=\"inferno\", normed=True)\n",
    "#ax.plot(np.log10(BTfit100), np.log10(parCoolBT100), \"-r\", linewidth=2)\n",
    "\n",
    "#ax.hist2d((BTfit10),np.log10(Cooling10AA), bins=50, norm=LogNorm(), cmap=\"inferno\", normed=True, weights=GTn10)\n",
    "#ax.scatter(BTfit10, np.log10(parCoolBT10))\n",
    "\n",
    "\n",
    "ax.set_xlabel(\"some combination of GTn$_{e}$\", fontsize=15)\n",
    "ax.set_ylabel(\" $\\Lambda^{'}_{pe}(100 \\\\AA)$ [ergs]\", fontsize=15)\n",
    "\n",
    "ax.tick_params(axis='both', which='major', length=10, width=2,  labelsize=15, direction=\"in\")\n",
    "ax.tick_params(axis='both', which='minor', length=5, width=1.5, labelsize=15, direction=\"in\")\n",
    "\n",
    "ax.set_title(\"100 $\\AA$\", fontsize=15)\n",
    "\n",
    "fig.show()"
   ]
  },
  {
   "cell_type": "markdown",
   "metadata": {},
   "source": [
    "---\n",
    "\n",
    "I need to check if this is still valid for carbonaceous grains. I think it should, they use the same equations and there was no distinction between grains in Draine & Sutin 1987."
   ]
  },
  {
   "cell_type": "code",
   "execution_count": null,
   "metadata": {
    "collapsed": true
   },
   "outputs": [],
   "source": [
    "Gtot = Gtot10\n",
    "ne = ne10\n",
    "T = temp10"
   ]
  },
  {
   "cell_type": "code",
   "execution_count": null,
   "metadata": {
    "collapsed": true
   },
   "outputs": [],
   "source": []
  },
  {
   "cell_type": "code",
   "execution_count": null,
   "metadata": {
    "collapsed": true
   },
   "outputs": [],
   "source": []
  },
  {
   "cell_type": "code",
   "execution_count": null,
   "metadata": {
    "collapsed": true
   },
   "outputs": [],
   "source": [
    "bestfit = True\n",
    "\n",
    "# Initial guess\n",
    "alpha = 0.2\n",
    "beta = 0.8\n",
    "gamma = 0.7\n",
    "\n",
    "GTn_comb = Gtot**(alpha)*ne**(beta)*T**(gamma)\n",
    "\n",
    "logarr = np.logspace(np.log10(np.min(GTn_comb)), np.log10(np.max(GTn_comb)), num=10)\n",
    "\n",
    "mean = np.zeros_like(logarr, dtype=np.float)\n",
    "std  = np.zeros_like(logarr, dtype=np.float)\n",
    "\n",
    "for i in range(len(logarr)-1):\n",
    "#for i in range(2):\n",
    "    mask = np.where((GTn_comb >= logarr[i]) & (GTn_comb < logarr[i+1]))\n",
    "    GTnhere = GTn_comb[mask]\n",
    "    #print(logarr[i], logarr[i+1])\n",
    "    #print(len(GTnhere), np.min(GTnhere), np.max(GTnhere))\n",
    "    mean[i] = np.average(GTnhere)\n",
    "    std[i] = np.std(GTnhere)\n",
    "    \n",
    "mean[-1] = mean[-2]\n",
    "std[-1] = std[-2]\n",
    "\n",
    "if bestfit:\n",
    "    alphabest = alpha\n",
    "    betabest=beta\n",
    "    gammabest=gamma\n",
    "    bestfit = False"
   ]
  },
  {
   "cell_type": "code",
   "execution_count": null,
   "metadata": {
    "collapsed": false
   },
   "outputs": [],
   "source": [
    "plt.plot(np.log10(logarr), np.log10(mean))\n",
    "plt.plot(np.log10(logarr), np.log10(std))"
   ]
  },
  {
   "cell_type": "code",
   "execution_count": null,
   "metadata": {
    "collapsed": true
   },
   "outputs": [],
   "source": [
    "bestfit = True\n",
    "\n",
    "# Initial guess\n",
    "alpha = 1.0974368543429029 # 0.2\n",
    "beta = 0.8\n",
    "gamma = 0.7\n",
    "\n",
    "counter = 0\n",
    "\n",
    "while counter < 500:\n",
    "\n",
    "    GTn_comb = Gtot**(alpha)*ne**(beta)*T**(gamma)\n",
    "\n",
    "    logarr = np.logspace(np.log10(np.min(GTn_comb)), np.log10(np.max(GTn_comb)), num=10)\n",
    "\n",
    "    mean = np.zeros_like(logarr, dtype=np.float)\n",
    "    std  = np.zeros_like(logarr, dtype=np.float)\n",
    "\n",
    "    for i in range(len(logarr)-1):\n",
    "        mask = np.where((GTn_comb >= logarr[i]) & (GTn_comb < logarr[i+1]))\n",
    "        GTnhere = GTn_comb[mask]\n",
    "        mean[i] = np.average(GTnhere)\n",
    "        std[i] = np.std(GTnhere)\n",
    "\n",
    "    mean[-1] = mean[-2]\n",
    "    std[-1] = std[-2]\n",
    "\n",
    "    if bestfit == False:\n",
    "        if np.average(std) < np.average(beststd):\n",
    "            bestfit = True\n",
    "            print(\"Found a better combination of parameters that minimizes the scatter:\")\n",
    "            print(\"alpha=\", alpha, \"beta=\", beta, \"gamma=\", gamma)\n",
    "        \n",
    "    if bestfit:\n",
    "        alphabest = alpha\n",
    "        betabest=beta\n",
    "        gammabest=gamma\n",
    "        \n",
    "        bestmean= mean\n",
    "        beststd = std\n",
    "        \n",
    "        bestfit = False\n",
    "        \n",
    "    # SHould test both positie and negative!!\n",
    "    #alpha = alpha - 0.1*np.random.rand(1)[0]\n",
    "    #beta = beta + 0.1*np.random.rand(1)[0]\n",
    "    gamma = gamma - 0.1*np.random.rand(1)[0]\n",
    "    \n",
    "    counter+=1"
   ]
  }
 ],
 "metadata": {
  "kernelspec": {
   "display_name": "Python [default]",
   "language": "python",
   "name": "python2"
  },
  "language_info": {
   "codemirror_mode": {
    "name": "ipython",
    "version": 2
   },
   "file_extension": ".py",
   "mimetype": "text/x-python",
   "name": "python",
   "nbconvert_exporter": "python",
   "pygments_lexer": "ipython2",
   "version": "2.7.13"
  }
 },
 "nbformat": 4,
 "nbformat_minor": 2
}
